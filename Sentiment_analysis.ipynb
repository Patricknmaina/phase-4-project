{
 "cells": [
  {
   "cell_type": "markdown",
   "metadata": {},
   "source": [
    "# Sentiment Analysis for Product Stocking: NLP Insights "
   ]
  },
  {
   "cell_type": "markdown",
   "metadata": {},
   "source": [
    "## Overview"
   ]
  },
  {
   "cell_type": "markdown",
   "metadata": {},
   "source": [
    "Two big tech gints;iPhone and Google, seek to understand their user sentiments towards their products. This data science project focuses on leveraging Twitter sentiment analysis to gain insights into customer opinions and preferences regarding iPhone and Google products. By analyzing user sentiments, we aim to make informed stocking decisions that align with customer demand and enhance overall customer satisfaction. The project involves collecting Twitter data related to discussions, reviews, and mentions of iPhone and Google products, followed by preprocessing and sentiment analysis. The insights derived from this analysis will guide Best Buy in optimizing its product assortment and ensuring a strategic alignment with customer preferences."
   ]
  },
  {
   "cell_type": "markdown",
   "metadata": {},
   "source": [
    "# Problem Statement \n",
    "\n",
    "Apple and Google, two of the world's leading tech companies, heavily depend on public perception to maintain their market positions and customer trust. As consumers increasingly voice their opinions on platforms like Twitter, understanding these sentiments has become very paramount for brand management, product development, and customer engagement strategies. This has therefore led to the need to develop algorithms that can provide sentiments for various opinions from users."
   ]
  },
  {
   "cell_type": "markdown",
   "metadata": {},
   "source": [
    "## Objectives\n",
    "The main objectives of this project are:\n",
    "\n",
    "To apply text preprocessing and vectorization techniques to prepare the Twitter data for effective model training.\n",
    "\n",
    "To develop a binary sentiment classifier to distinguish between positive and negative tweets, as a baseline.\n",
    "\n",
    "To extend the model to a multiclass classifier, that includes the neutral class.\n",
    "\n",
    "To evaluate classifier performance using appropriate metrics such as F1-score, precision and recall, particularly for imbalanced classes.\n",
    "\n",
    "To provide actionable data-driven insights and recommendations."
   ]
  },
  {
   "cell_type": "markdown",
   "metadata": {},
   "source": [
    "## Data Understanding\n",
    "In this step, we will explore the dataset to understand the kind of information it contains, the different features and their data types, as well as checking for things like missing values or unusual patterns. This will help us get a clear picture of the data before moving on to cleaning, preprocessing and vectorization.\n",
    "\n",
    "The dataset contains the following features:\n",
    "\n",
    "tweet_text: This is the actual content of the tweet. It is the main text input used for sentiment classification.\n",
    "\n",
    "emotion_in_tweet_is_directed_at: This specifies the tatget of the emotion expressed in the tweet (e.g., Apple, Google)\n",
    "\n",
    "is_there_an_emotion_directed_at_a_brand_or_product: This indicates whether the tweet expresses an emotion directed at a brand or product. It serves as the label for classification."
   ]
  },
  {
   "cell_type": "code",
   "execution_count": 1,
   "metadata": {},
   "outputs": [],
   "source": [
    "#Import libraries\n",
    "import pandas as pd\n",
    "import numpy as np\n",
    "import matplotlib.pyplot as plt\n",
    "plt.style.use('ggplot')\n",
    "%matplotlib inline\n",
    "\n",
    "import re\n",
    "from string import punctuation\n",
    "\n",
    "#scipy\n",
    "from scipy.sparse import csr_matrix\n",
    "\n",
    "#sklearn\n",
    "from sklearn.feature_extraction.text import TfidfVectorizer\n",
    "from sklearn.model_selection import train_test_split, cross_validate\n",
    "from sklearn.metrics import classification_report, f1_score, accuracy_score, precision_score, recall_score\n",
    "from sklearn.pipeline import Pipeline\n",
    "from sklearn.model_selection import GridSearchCV\n",
    "from sklearn.compose import ColumnTransformer\n",
    "from imblearn.over_sampling import SMOTE\n",
    "from sklearn.naive_bayes import MultinomialNB\n",
    "from sklearn.tree import DecisionTreeClassifier\n",
    "from sklearn.ensemble import RandomForestClassifier\n",
    "from sklearn.preprocessing import OrdinalEncoder, LabelEncoder, OneHotEncoder, StandardScaler\n",
    "from sklearn.preprocessing import StandardScaler, MinMaxScaler\n",
    "from sklearn.svm import SVC\n",
    "\n",
    "#xgboost\n",
    "import xgboost as xgb\n",
    "\n",
    "#nlkt\n",
    "from nltk import FreqDist\n",
    "from nltk.stem import PorterStemmer\n",
    "from nltk.stem import WordNetLemmatizer\n",
    "from nltk.tokenize import word_tokenize, RegexpTokenizer\n",
    "from nltk.corpus import stopwords\n",
    "import joblib"
   ]
  },
  {
   "cell_type": "code",
   "execution_count": 2,
   "metadata": {},
   "outputs": [],
   "source": [
    "# Define color map for plots\n",
    "# Import color map\n",
    "import matplotlib.cm as cm\n",
    "# Choose a predefined colormap\n",
    "colormap = cm.coolwarm  # Choose a diverging colormap like 'coolwarm', 'RdBu', 'seismic', etc.\n",
    "\n",
    "# Create a color array with a range of colors from the chosen colormap\n",
    "color_array = [colormap(i) for i in range(20)]  # Choose 20 colors from the palette\n",
    "\n",
    "# Set the default color cycle to the color array\n",
    "plt.rcParams['axes.prop_cycle'] = plt.cycler(color=color_array)"
   ]
  },
  {
   "cell_type": "code",
   "execution_count": 3,
   "metadata": {},
   "outputs": [
    {
     "data": {
      "text/html": [
       "<div>\n",
       "<style scoped>\n",
       "    .dataframe tbody tr th:only-of-type {\n",
       "        vertical-align: middle;\n",
       "    }\n",
       "\n",
       "    .dataframe tbody tr th {\n",
       "        vertical-align: top;\n",
       "    }\n",
       "\n",
       "    .dataframe thead th {\n",
       "        text-align: right;\n",
       "    }\n",
       "</style>\n",
       "<table border=\"1\" class=\"dataframe\">\n",
       "  <thead>\n",
       "    <tr style=\"text-align: right;\">\n",
       "      <th></th>\n",
       "      <th>tweet_text</th>\n",
       "      <th>emotion_in_tweet_is_directed_at</th>\n",
       "      <th>is_there_an_emotion_directed_at_a_brand_or_product</th>\n",
       "    </tr>\n",
       "  </thead>\n",
       "  <tbody>\n",
       "    <tr>\n",
       "      <th>0</th>\n",
       "      <td>.@wesley83 I have a 3G iPhone. After 3 hrs twe...</td>\n",
       "      <td>iPhone</td>\n",
       "      <td>Negative emotion</td>\n",
       "    </tr>\n",
       "    <tr>\n",
       "      <th>1</th>\n",
       "      <td>@jessedee Know about @fludapp ? Awesome iPad/i...</td>\n",
       "      <td>iPad or iPhone App</td>\n",
       "      <td>Positive emotion</td>\n",
       "    </tr>\n",
       "    <tr>\n",
       "      <th>2</th>\n",
       "      <td>@swonderlin Can not wait for #iPad 2 also. The...</td>\n",
       "      <td>iPad</td>\n",
       "      <td>Positive emotion</td>\n",
       "    </tr>\n",
       "    <tr>\n",
       "      <th>3</th>\n",
       "      <td>@sxsw I hope this year's festival isn't as cra...</td>\n",
       "      <td>iPad or iPhone App</td>\n",
       "      <td>Negative emotion</td>\n",
       "    </tr>\n",
       "    <tr>\n",
       "      <th>4</th>\n",
       "      <td>@sxtxstate great stuff on Fri #SXSW: Marissa M...</td>\n",
       "      <td>Google</td>\n",
       "      <td>Positive emotion</td>\n",
       "    </tr>\n",
       "    <tr>\n",
       "      <th>...</th>\n",
       "      <td>...</td>\n",
       "      <td>...</td>\n",
       "      <td>...</td>\n",
       "    </tr>\n",
       "    <tr>\n",
       "      <th>8716</th>\n",
       "      <td>Ipad everywhere. #SXSW {link}</td>\n",
       "      <td>iPad</td>\n",
       "      <td>Positive emotion</td>\n",
       "    </tr>\n",
       "    <tr>\n",
       "      <th>8717</th>\n",
       "      <td>Wave, buzz... RT @mention We interrupt your re...</td>\n",
       "      <td>NaN</td>\n",
       "      <td>No emotion toward brand or product</td>\n",
       "    </tr>\n",
       "    <tr>\n",
       "      <th>8718</th>\n",
       "      <td>Google's Zeiger, a physician never reported po...</td>\n",
       "      <td>NaN</td>\n",
       "      <td>No emotion toward brand or product</td>\n",
       "    </tr>\n",
       "    <tr>\n",
       "      <th>8719</th>\n",
       "      <td>Some Verizon iPhone customers complained their...</td>\n",
       "      <td>NaN</td>\n",
       "      <td>No emotion toward brand or product</td>\n",
       "    </tr>\n",
       "    <tr>\n",
       "      <th>8720</th>\n",
       "      <td>�ϡ�����_��ʋ�΋�ҋ�������⋁_��������_���RT @mentio...</td>\n",
       "      <td>NaN</td>\n",
       "      <td>No emotion toward brand or product</td>\n",
       "    </tr>\n",
       "  </tbody>\n",
       "</table>\n",
       "<p>8721 rows × 3 columns</p>\n",
       "</div>"
      ],
      "text/plain": [
       "                                             tweet_text  \\\n",
       "0     .@wesley83 I have a 3G iPhone. After 3 hrs twe...   \n",
       "1     @jessedee Know about @fludapp ? Awesome iPad/i...   \n",
       "2     @swonderlin Can not wait for #iPad 2 also. The...   \n",
       "3     @sxsw I hope this year's festival isn't as cra...   \n",
       "4     @sxtxstate great stuff on Fri #SXSW: Marissa M...   \n",
       "...                                                 ...   \n",
       "8716                      Ipad everywhere. #SXSW {link}   \n",
       "8717  Wave, buzz... RT @mention We interrupt your re...   \n",
       "8718  Google's Zeiger, a physician never reported po...   \n",
       "8719  Some Verizon iPhone customers complained their...   \n",
       "8720  �ϡ�����_��ʋ�΋�ҋ�������⋁_��������_���RT @mentio...   \n",
       "\n",
       "     emotion_in_tweet_is_directed_at  \\\n",
       "0                             iPhone   \n",
       "1                 iPad or iPhone App   \n",
       "2                               iPad   \n",
       "3                 iPad or iPhone App   \n",
       "4                             Google   \n",
       "...                              ...   \n",
       "8716                            iPad   \n",
       "8717                             NaN   \n",
       "8718                             NaN   \n",
       "8719                             NaN   \n",
       "8720                             NaN   \n",
       "\n",
       "     is_there_an_emotion_directed_at_a_brand_or_product  \n",
       "0                                      Negative emotion  \n",
       "1                                      Positive emotion  \n",
       "2                                      Positive emotion  \n",
       "3                                      Negative emotion  \n",
       "4                                      Positive emotion  \n",
       "...                                                 ...  \n",
       "8716                                   Positive emotion  \n",
       "8717                 No emotion toward brand or product  \n",
       "8718                 No emotion toward brand or product  \n",
       "8719                 No emotion toward brand or product  \n",
       "8720                 No emotion toward brand or product  \n",
       "\n",
       "[8721 rows x 3 columns]"
      ]
     },
     "execution_count": 3,
     "metadata": {},
     "output_type": "execute_result"
    }
   ],
   "source": [
    "# Load data and check structure \n",
    "data = pd.read_csv('data/judge_1377884607_tweet_product_company.csv')\n",
    "data"
   ]
  },
  {
   "cell_type": "code",
   "execution_count": 4,
   "metadata": {},
   "outputs": [
    {
     "name": "stdout",
     "output_type": "stream",
     "text": [
      "<class 'pandas.core.frame.DataFrame'>\n",
      "RangeIndex: 8721 entries, 0 to 8720\n",
      "Data columns (total 3 columns):\n",
      " #   Column                                              Non-Null Count  Dtype \n",
      "---  ------                                              --------------  ----- \n",
      " 0   tweet_text                                          8720 non-null   object\n",
      " 1   emotion_in_tweet_is_directed_at                     3169 non-null   object\n",
      " 2   is_there_an_emotion_directed_at_a_brand_or_product  8721 non-null   object\n",
      "dtypes: object(3)\n",
      "memory usage: 204.5+ KB\n"
     ]
    }
   ],
   "source": [
    "# Checking data structure\n",
    "data.info()"
   ]
  },
  {
   "cell_type": "markdown",
   "metadata": {},
   "source": [
    "# Data Cleaning"
   ]
  },
  {
   "cell_type": "code",
   "execution_count": 5,
   "metadata": {},
   "outputs": [
    {
     "data": {
      "text/plain": [
       "tweet_text                                               1\n",
       "emotion_in_tweet_is_directed_at                       5552\n",
       "is_there_an_emotion_directed_at_a_brand_or_product       0\n",
       "dtype: int64"
      ]
     },
     "execution_count": 5,
     "metadata": {},
     "output_type": "execute_result"
    }
   ],
   "source": [
    "# Check missing values\n",
    "data.isna().sum()"
   ]
  },
  {
   "cell_type": "code",
   "execution_count": 6,
   "metadata": {},
   "outputs": [
    {
     "data": {
      "text/plain": [
       "Int64Index([6], dtype='int64')"
      ]
     },
     "execution_count": 6,
     "metadata": {},
     "output_type": "execute_result"
    }
   ],
   "source": [
    "# Checking index of missing value in tweet column\n",
    "data[data['tweet_text'].isna()].index"
   ]
  },
  {
   "cell_type": "code",
   "execution_count": 7,
   "metadata": {},
   "outputs": [],
   "source": [
    "# Dropping the row above with missing value in tweet_text\n",
    "data.drop(index=data[data['tweet_text'].isna()].index, inplace= True)"
   ]
  },
  {
   "cell_type": "code",
   "execution_count": 8,
   "metadata": {},
   "outputs": [],
   "source": [
    "# Shorten column names\n",
    "data.columns = ['tweet', 'brand_product', 'emotion']"
   ]
  },
  {
   "cell_type": "code",
   "execution_count": 9,
   "metadata": {},
   "outputs": [],
   "source": [
    "# Change emotions to 'Positive', 'Negative', and 'Neutral'\n",
    "data.loc[data['emotion'] == 'No emotion toward brand or product', 'emotion'] = 'Neutral'\n",
    "data.loc[data['emotion'] == 'Positive emotion', 'emotion'] = 'Positive'\n",
    "data.loc[data['emotion'] == 'Negative emotion', 'emotion'] = 'Negative'"
   ]
  },
  {
   "cell_type": "code",
   "execution_count": 10,
   "metadata": {},
   "outputs": [
    {
     "data": {
      "text/plain": [
       "iPad                               910\n",
       "Apple                              640\n",
       "iPad or iPhone App                 451\n",
       "Google                             412\n",
       "iPhone                             288\n",
       "Other Google product or service    282\n",
       "Android App                         78\n",
       "Android                             74\n",
       "Other Apple product or service      34\n",
       "Name: brand_product, dtype: int64"
      ]
     },
     "execution_count": 10,
     "metadata": {},
     "output_type": "execute_result"
    }
   ],
   "source": [
    "# Checking value counts for brand_product column\n",
    "data.brand_product.value_counts()"
   ]
  },
  {
   "cell_type": "code",
   "execution_count": 11,
   "metadata": {},
   "outputs": [],
   "source": [
    "# Derive 'brand_product' from tweets to fill missing values in former column\n",
    "categories = np.array(['iPad', 'Apple', 'iPad', 'iPhone', 'Google', 'Android'])\n",
    "def fill_missing_brand_product(df, categories):\n",
    "    for i, row in df.iterrows():\n",
    "        if pd.isnull(row['brand_product']):\n",
    "            for category in np.concatenate((categories, np.char.lower(categories))):\n",
    "                if category in row['tweet']:\n",
    "                    # Use .loc[] to assign values to DataFrame\n",
    "                    data.loc[i, 'brand_product'] = category\n",
    "                    break  # Break out of inner loop once a category is found\n",
    "                    \n",
    "                    \n",
    "# Call the function and pass the DataFrame 'data' and 'categories'\n",
    "fill_missing_brand_product(data, categories)"
   ]
  },
  {
   "cell_type": "code",
   "execution_count": 12,
   "metadata": {},
   "outputs": [
    {
     "data": {
      "text/plain": [
       "tweet              0\n",
       "brand_product    787\n",
       "emotion            0\n",
       "dtype: int64"
      ]
     },
     "execution_count": 12,
     "metadata": {},
     "output_type": "execute_result"
    }
   ],
   "source": [
    "# Check missing values, again\n",
    "data.isna().sum()"
   ]
  },
  {
   "cell_type": "code",
   "execution_count": 13,
   "metadata": {},
   "outputs": [
    {
     "data": {
      "text/plain": [
       "0.09025229357798165"
      ]
     },
     "execution_count": 13,
     "metadata": {},
     "output_type": "execute_result"
    }
   ],
   "source": [
    "# Percentage missing data for brand_product column\n",
    "787/len(data)"
   ]
  },
  {
   "cell_type": "code",
   "execution_count": 14,
   "metadata": {},
   "outputs": [
    {
     "data": {
      "text/html": [
       "<div>\n",
       "<style scoped>\n",
       "    .dataframe tbody tr th:only-of-type {\n",
       "        vertical-align: middle;\n",
       "    }\n",
       "\n",
       "    .dataframe tbody tr th {\n",
       "        vertical-align: top;\n",
       "    }\n",
       "\n",
       "    .dataframe thead th {\n",
       "        text-align: right;\n",
       "    }\n",
       "</style>\n",
       "<table border=\"1\" class=\"dataframe\">\n",
       "  <thead>\n",
       "    <tr style=\"text-align: right;\">\n",
       "      <th></th>\n",
       "      <th>tweet</th>\n",
       "      <th>brand_product</th>\n",
       "      <th>emotion</th>\n",
       "    </tr>\n",
       "  </thead>\n",
       "  <tbody>\n",
       "    <tr>\n",
       "      <th>0</th>\n",
       "      <td>.@wesley83 I have a 3G iPhone. After 3 hrs twe...</td>\n",
       "      <td>iPhone</td>\n",
       "      <td>Negative</td>\n",
       "    </tr>\n",
       "    <tr>\n",
       "      <th>1</th>\n",
       "      <td>@jessedee Know about @fludapp ? Awesome iPad/i...</td>\n",
       "      <td>iPad or iPhone App</td>\n",
       "      <td>Positive</td>\n",
       "    </tr>\n",
       "    <tr>\n",
       "      <th>2</th>\n",
       "      <td>@swonderlin Can not wait for #iPad 2 also. The...</td>\n",
       "      <td>iPad</td>\n",
       "      <td>Positive</td>\n",
       "    </tr>\n",
       "    <tr>\n",
       "      <th>3</th>\n",
       "      <td>@sxsw I hope this year's festival isn't as cra...</td>\n",
       "      <td>iPad or iPhone App</td>\n",
       "      <td>Negative</td>\n",
       "    </tr>\n",
       "    <tr>\n",
       "      <th>4</th>\n",
       "      <td>@sxtxstate great stuff on Fri #SXSW: Marissa M...</td>\n",
       "      <td>Google</td>\n",
       "      <td>Positive</td>\n",
       "    </tr>\n",
       "    <tr>\n",
       "      <th>...</th>\n",
       "      <td>...</td>\n",
       "      <td>...</td>\n",
       "      <td>...</td>\n",
       "    </tr>\n",
       "    <tr>\n",
       "      <th>8716</th>\n",
       "      <td>Ipad everywhere. #SXSW {link}</td>\n",
       "      <td>iPad</td>\n",
       "      <td>Positive</td>\n",
       "    </tr>\n",
       "    <tr>\n",
       "      <th>8717</th>\n",
       "      <td>Wave, buzz... RT @mention We interrupt your re...</td>\n",
       "      <td>google</td>\n",
       "      <td>Neutral</td>\n",
       "    </tr>\n",
       "    <tr>\n",
       "      <th>8718</th>\n",
       "      <td>Google's Zeiger, a physician never reported po...</td>\n",
       "      <td>Google</td>\n",
       "      <td>Neutral</td>\n",
       "    </tr>\n",
       "    <tr>\n",
       "      <th>8719</th>\n",
       "      <td>Some Verizon iPhone customers complained their...</td>\n",
       "      <td>iPhone</td>\n",
       "      <td>Neutral</td>\n",
       "    </tr>\n",
       "    <tr>\n",
       "      <th>8720</th>\n",
       "      <td>�ϡ�����_��ʋ�΋�ҋ�������⋁_��������_���RT @mentio...</td>\n",
       "      <td>Google</td>\n",
       "      <td>Neutral</td>\n",
       "    </tr>\n",
       "  </tbody>\n",
       "</table>\n",
       "<p>7933 rows × 3 columns</p>\n",
       "</div>"
      ],
      "text/plain": [
       "                                                  tweet       brand_product  \\\n",
       "0     .@wesley83 I have a 3G iPhone. After 3 hrs twe...              iPhone   \n",
       "1     @jessedee Know about @fludapp ? Awesome iPad/i...  iPad or iPhone App   \n",
       "2     @swonderlin Can not wait for #iPad 2 also. The...                iPad   \n",
       "3     @sxsw I hope this year's festival isn't as cra...  iPad or iPhone App   \n",
       "4     @sxtxstate great stuff on Fri #SXSW: Marissa M...              Google   \n",
       "...                                                 ...                 ...   \n",
       "8716                      Ipad everywhere. #SXSW {link}                iPad   \n",
       "8717  Wave, buzz... RT @mention We interrupt your re...              google   \n",
       "8718  Google's Zeiger, a physician never reported po...              Google   \n",
       "8719  Some Verizon iPhone customers complained their...              iPhone   \n",
       "8720  �ϡ�����_��ʋ�΋�ҋ�������⋁_��������_���RT @mentio...              Google   \n",
       "\n",
       "       emotion  \n",
       "0     Negative  \n",
       "1     Positive  \n",
       "2     Positive  \n",
       "3     Negative  \n",
       "4     Positive  \n",
       "...        ...  \n",
       "8716  Positive  \n",
       "8717   Neutral  \n",
       "8718   Neutral  \n",
       "8719   Neutral  \n",
       "8720   Neutral  \n",
       "\n",
       "[7933 rows x 3 columns]"
      ]
     },
     "execution_count": 14,
     "metadata": {},
     "output_type": "execute_result"
    }
   ],
   "source": [
    "# Drop rows with missing data\n",
    "data.dropna(inplace= True)\n",
    "data"
   ]
  },
  {
   "cell_type": "code",
   "execution_count": 15,
   "metadata": {},
   "outputs": [
    {
     "data": {
      "text/plain": [
       "20"
      ]
     },
     "execution_count": 15,
     "metadata": {},
     "output_type": "execute_result"
    }
   ],
   "source": [
    "# Check for duplicate entries\n",
    "data.duplicated().sum()"
   ]
  },
  {
   "cell_type": "code",
   "execution_count": 16,
   "metadata": {},
   "outputs": [],
   "source": [
    "#Remove duplicates\n",
    "data.drop_duplicates(inplace=True)"
   ]
  },
  {
   "cell_type": "code",
   "execution_count": 17,
   "metadata": {},
   "outputs": [
    {
     "name": "stdout",
     "output_type": "stream",
     "text": [
      "Neutral         4381\n",
      "Positive        2845\n",
      "Negative         543\n",
      "I can't tell     144\n",
      "Name: emotion, dtype: int64\n"
     ]
    },
    {
     "data": {
      "image/png": "[encoded data removed]",
      "text/plain": [
       "<Figure size 432x288 with 1 Axes>"
      ]
     },
     "metadata": {
      "needs_background": "light"
     },
     "output_type": "display_data"
    }
   ],
   "source": [
    "# Check classes for target feature\n",
    "print(data.emotion.value_counts())\n",
    "plt.bar(data.emotion.value_counts().index, data.emotion.value_counts(), width=.5);"
   ]
  },
  {
   "cell_type": "markdown",
   "metadata": {},
   "source": [
    "The presence of \"I can't tell\" entries introduces ambiguity into the dataset, as they do not provide clear sentiment information. This ambiguity can impact the accuracy of sentiment analysis models, as it is uncertain whether these entries represent positive, negative, or neutral sentiments. Considering the relatively low proportion of such data, it was preferred to remove these entries to maintain the clarity and reliability of the dataset for more accurate sentiment analysis."
   ]
  },
  {
   "cell_type": "code",
   "execution_count": 18,
   "metadata": {},
   "outputs": [
    {
     "data": {
      "text/html": [
       "<div>\n",
       "<style scoped>\n",
       "    .dataframe tbody tr th:only-of-type {\n",
       "        vertical-align: middle;\n",
       "    }\n",
       "\n",
       "    .dataframe tbody tr th {\n",
       "        vertical-align: top;\n",
       "    }\n",
       "\n",
       "    .dataframe thead th {\n",
       "        text-align: right;\n",
       "    }\n",
       "</style>\n",
       "<table border=\"1\" class=\"dataframe\">\n",
       "  <thead>\n",
       "    <tr style=\"text-align: right;\">\n",
       "      <th></th>\n",
       "      <th>tweet</th>\n",
       "      <th>brand_product</th>\n",
       "      <th>emotion</th>\n",
       "    </tr>\n",
       "  </thead>\n",
       "  <tbody>\n",
       "    <tr>\n",
       "      <th>0</th>\n",
       "      <td>.@wesley83 I have a 3G iPhone. After 3 hrs twe...</td>\n",
       "      <td>iPhone</td>\n",
       "      <td>Negative</td>\n",
       "    </tr>\n",
       "    <tr>\n",
       "      <th>1</th>\n",
       "      <td>@jessedee Know about @fludapp ? Awesome iPad/i...</td>\n",
       "      <td>iPad or iPhone App</td>\n",
       "      <td>Positive</td>\n",
       "    </tr>\n",
       "    <tr>\n",
       "      <th>2</th>\n",
       "      <td>@swonderlin Can not wait for #iPad 2 also. The...</td>\n",
       "      <td>iPad</td>\n",
       "      <td>Positive</td>\n",
       "    </tr>\n",
       "    <tr>\n",
       "      <th>3</th>\n",
       "      <td>@sxsw I hope this year's festival isn't as cra...</td>\n",
       "      <td>iPad or iPhone App</td>\n",
       "      <td>Negative</td>\n",
       "    </tr>\n",
       "    <tr>\n",
       "      <th>4</th>\n",
       "      <td>@sxtxstate great stuff on Fri #SXSW: Marissa M...</td>\n",
       "      <td>Google</td>\n",
       "      <td>Positive</td>\n",
       "    </tr>\n",
       "    <tr>\n",
       "      <th>...</th>\n",
       "      <td>...</td>\n",
       "      <td>...</td>\n",
       "      <td>...</td>\n",
       "    </tr>\n",
       "    <tr>\n",
       "      <th>7764</th>\n",
       "      <td>Ipad everywhere. #SXSW {link}</td>\n",
       "      <td>iPad</td>\n",
       "      <td>Positive</td>\n",
       "    </tr>\n",
       "    <tr>\n",
       "      <th>7765</th>\n",
       "      <td>Wave, buzz... RT @mention We interrupt your re...</td>\n",
       "      <td>google</td>\n",
       "      <td>Neutral</td>\n",
       "    </tr>\n",
       "    <tr>\n",
       "      <th>7766</th>\n",
       "      <td>Google's Zeiger, a physician never reported po...</td>\n",
       "      <td>Google</td>\n",
       "      <td>Neutral</td>\n",
       "    </tr>\n",
       "    <tr>\n",
       "      <th>7767</th>\n",
       "      <td>Some Verizon iPhone customers complained their...</td>\n",
       "      <td>iPhone</td>\n",
       "      <td>Neutral</td>\n",
       "    </tr>\n",
       "    <tr>\n",
       "      <th>7768</th>\n",
       "      <td>�ϡ�����_��ʋ�΋�ҋ�������⋁_��������_���RT @mentio...</td>\n",
       "      <td>Google</td>\n",
       "      <td>Neutral</td>\n",
       "    </tr>\n",
       "  </tbody>\n",
       "</table>\n",
       "<p>7769 rows × 3 columns</p>\n",
       "</div>"
      ],
      "text/plain": [
       "                                                  tweet       brand_product  \\\n",
       "0     .@wesley83 I have a 3G iPhone. After 3 hrs twe...              iPhone   \n",
       "1     @jessedee Know about @fludapp ? Awesome iPad/i...  iPad or iPhone App   \n",
       "2     @swonderlin Can not wait for #iPad 2 also. The...                iPad   \n",
       "3     @sxsw I hope this year's festival isn't as cra...  iPad or iPhone App   \n",
       "4     @sxtxstate great stuff on Fri #SXSW: Marissa M...              Google   \n",
       "...                                                 ...                 ...   \n",
       "7764                      Ipad everywhere. #SXSW {link}                iPad   \n",
       "7765  Wave, buzz... RT @mention We interrupt your re...              google   \n",
       "7766  Google's Zeiger, a physician never reported po...              Google   \n",
       "7767  Some Verizon iPhone customers complained their...              iPhone   \n",
       "7768  �ϡ�����_��ʋ�΋�ҋ�������⋁_��������_���RT @mentio...              Google   \n",
       "\n",
       "       emotion  \n",
       "0     Negative  \n",
       "1     Positive  \n",
       "2     Positive  \n",
       "3     Negative  \n",
       "4     Positive  \n",
       "...        ...  \n",
       "7764  Positive  \n",
       "7765   Neutral  \n",
       "7766   Neutral  \n",
       "7767   Neutral  \n",
       "7768   Neutral  \n",
       "\n",
       "[7769 rows x 3 columns]"
      ]
     },
     "execution_count": 18,
     "metadata": {},
     "output_type": "execute_result"
    }
   ],
   "source": [
    "# Drop rows where emotion is 'I can't tell'\n",
    "data.drop(index=data[data['emotion'] == 'I can\\'t tell'].index, inplace= True)\n",
    "data.reset_index(drop=True, inplace=True)\n",
    "data"
   ]
  },
  {
   "cell_type": "code",
   "execution_count": 19,
   "metadata": {},
   "outputs": [],
   "source": [
    "# drop index 7768 with wierd characters since they cannot be decoded\n",
    "data.drop(index=7768, inplace= True)"
   ]
  },
  {
   "cell_type": "code",
   "execution_count": 20,
   "metadata": {},
   "outputs": [
    {
     "data": {
      "text/html": [
       "<style  type=\"text/css\" >\n",
       "#T_c19bd3bb_626c_11f0_8c6e_4c1d96b264bfrow0_col0,#T_c19bd3bb_626c_11f0_8c6e_4c1d96b264bfrow1_col0,#T_c19bd3bb_626c_11f0_8c6e_4c1d96b264bfrow2_col0,#T_c19bd3bb_626c_11f0_8c6e_4c1d96b264bfrow3_col0,#T_c19bd3bb_626c_11f0_8c6e_4c1d96b264bfrow4_col0,#T_c19bd3bb_626c_11f0_8c6e_4c1d96b264bfrow5_col0,#T_c19bd3bb_626c_11f0_8c6e_4c1d96b264bfrow6_col0,#T_c19bd3bb_626c_11f0_8c6e_4c1d96b264bfrow7_col0,#T_c19bd3bb_626c_11f0_8c6e_4c1d96b264bfrow8_col0,#T_c19bd3bb_626c_11f0_8c6e_4c1d96b264bfrow9_col0{\n",
       "            text-align:  left;\n",
       "        }</style><table id=\"T_c19bd3bb_626c_11f0_8c6e_4c1d96b264bf\" ><thead>    <tr>        <th class=\"blank level0\" ></th>        <th class=\"col_heading level0 col0\" >tweet</th>    </tr></thead><tbody>\n",
       "                <tr>\n",
       "                        <th id=\"T_c19bd3bb_626c_11f0_8c6e_4c1d96b264bflevel0_row0\" class=\"row_heading level0 row0\" >2740</th>\n",
       "                        <td id=\"T_c19bd3bb_626c_11f0_8c6e_4c1d96b264bfrow0_col0\" class=\"data row0 col0\" >Now lining up to get an iPad 2 at the Apple pop up store, not much of a long line up #sxsw</td>\n",
       "            </tr>\n",
       "            <tr>\n",
       "                        <th id=\"T_c19bd3bb_626c_11f0_8c6e_4c1d96b264bflevel0_row1\" class=\"row_heading level0 row1\" >6717</th>\n",
       "                        <td id=\"T_c19bd3bb_626c_11f0_8c6e_4c1d96b264bfrow1_col0\" class=\"data row1 col0\" >Apple'd :s &gt; #sxsw #ipad2 @mention @mention @mention and Austin from Austin's pop up Apple store :))) {link}</td>\n",
       "            </tr>\n",
       "            <tr>\n",
       "                        <th id=\"T_c19bd3bb_626c_11f0_8c6e_4c1d96b264bflevel0_row2\" class=\"row_heading level0 row2\" >364</th>\n",
       "                        <td id=\"T_c19bd3bb_626c_11f0_8c6e_4c1d96b264bfrow2_col0\" class=\"data row2 col0\" >Shipments daily - follow @mention #AppleATXdt 4 updates RT @mention Pop-up Apple Store seems to be out of pop-up iPad2s. #SXSW</td>\n",
       "            </tr>\n",
       "            <tr>\n",
       "                        <th id=\"T_c19bd3bb_626c_11f0_8c6e_4c1d96b264bflevel0_row3\" class=\"row_heading level0 row3\" >2002</th>\n",
       "                        <td id=\"T_c19bd3bb_626c_11f0_8c6e_4c1d96b264bfrow3_col0\" class=\"data row3 col0\" >@mention check the photo feed from Apple store #SXSW  {link} thanks to @mention @mention @mention.</td>\n",
       "            </tr>\n",
       "            <tr>\n",
       "                        <th id=\"T_c19bd3bb_626c_11f0_8c6e_4c1d96b264bflevel0_row4\" class=\"row_heading level0 row4\" >3156</th>\n",
       "                        <td id=\"T_c19bd3bb_626c_11f0_8c6e_4c1d96b264bfrow4_col0\" class=\"data row4 col0\" >nice! having fun? RT @mention At #SXSW with a thirsty gadget? Using @mention Charge Anywhere for my iPhone, happy to share some juice.</td>\n",
       "            </tr>\n",
       "            <tr>\n",
       "                        <th id=\"T_c19bd3bb_626c_11f0_8c6e_4c1d96b264bflevel0_row5\" class=\"row_heading level0 row5\" >3195</th>\n",
       "                        <td id=\"T_c19bd3bb_626c_11f0_8c6e_4c1d96b264bfrow5_col0\" class=\"data row5 col0\" >New @mention for iPhone+Android.. No more service fees! Booyah #SXSW #GitChoCocktailOn</td>\n",
       "            </tr>\n",
       "            <tr>\n",
       "                        <th id=\"T_c19bd3bb_626c_11f0_8c6e_4c1d96b264bflevel0_row6\" class=\"row_heading level0 row6\" >2722</th>\n",
       "                        <td id=\"T_c19bd3bb_626c_11f0_8c6e_4c1d96b264bfrow6_col0\" class=\"data row6 col0\" >Navigating a crowded party sucks. But its way worse when everyone walks around with their face in their iPhone. #sxsw #adpeopleproblems</td>\n",
       "            </tr>\n",
       "            <tr>\n",
       "                        <th id=\"T_c19bd3bb_626c_11f0_8c6e_4c1d96b264bflevel0_row7\" class=\"row_heading level0 row7\" >4087</th>\n",
       "                        <td id=\"T_c19bd3bb_626c_11f0_8c6e_4c1d96b264bfrow7_col0\" class=\"data row7 col0\" >Loved @mention Hangover Breakfast. Awesome swag, yummy food &amp; rockin tunes! Stoked about my Griffin cordless iphone charger! #SXSW</td>\n",
       "            </tr>\n",
       "            <tr>\n",
       "                        <th id=\"T_c19bd3bb_626c_11f0_8c6e_4c1d96b264bflevel0_row8\" class=\"row_heading level0 row8\" >633</th>\n",
       "                        <td id=\"T_c19bd3bb_626c_11f0_8c6e_4c1d96b264bfrow8_col0\" class=\"data row8 col0\" >more that just location, PixieEngine! RT @mention Google says the future is location, location, location: {link} #SXSW #CNN</td>\n",
       "            </tr>\n",
       "            <tr>\n",
       "                        <th id=\"T_c19bd3bb_626c_11f0_8c6e_4c1d96b264bflevel0_row9\" class=\"row_heading level0 row9\" >7511</th>\n",
       "                        <td id=\"T_c19bd3bb_626c_11f0_8c6e_4c1d96b264bfrow9_col0\" class=\"data row9 col0\" >Our interview w Marissa Mayer from #SXSW on Google 3.0, how working for Larry will be different than working for Eric {link}</td>\n",
       "            </tr>\n",
       "    </tbody></table>"
      ],
      "text/plain": [
       "<pandas.io.formats.style.Styler at 0x11d7b7f4fa0>"
      ]
     },
     "execution_count": 20,
     "metadata": {},
     "output_type": "execute_result"
    }
   ],
   "source": [
    "# View full text on sample tweets\n",
    "data[['tweet']].sample(10).style.set_properties(**{'text-align': 'left'})"
   ]
  },
  {
   "cell_type": "markdown",
   "metadata": {},
   "source": [
    "# Train test split"
   ]
  },
  {
   "cell_type": "code",
   "execution_count": 21,
   "metadata": {},
   "outputs": [
    {
     "data": {
      "text/html": [
       "<div>\n",
       "<style scoped>\n",
       "    .dataframe tbody tr th:only-of-type {\n",
       "        vertical-align: middle;\n",
       "    }\n",
       "\n",
       "    .dataframe tbody tr th {\n",
       "        vertical-align: top;\n",
       "    }\n",
       "\n",
       "    .dataframe thead th {\n",
       "        text-align: right;\n",
       "    }\n",
       "</style>\n",
       "<table border=\"1\" class=\"dataframe\">\n",
       "  <thead>\n",
       "    <tr style=\"text-align: right;\">\n",
       "      <th></th>\n",
       "      <th>tweet</th>\n",
       "      <th>brand_product</th>\n",
       "    </tr>\n",
       "  </thead>\n",
       "  <tbody>\n",
       "    <tr>\n",
       "      <th>4226</th>\n",
       "      <td>In the Google keynote, Marissa Meyer and some ...</td>\n",
       "      <td>Google</td>\n",
       "    </tr>\n",
       "    <tr>\n",
       "      <th>5953</th>\n",
       "      <td>RT @mention Who is flying to #SXSW and wants s...</td>\n",
       "      <td>iPhone</td>\n",
       "    </tr>\n",
       "    <tr>\n",
       "      <th>2532</th>\n",
       "      <td>Ha! Another mention for Apple Store: {link} - ...</td>\n",
       "      <td>Apple</td>\n",
       "    </tr>\n",
       "    <tr>\n",
       "      <th>2481</th>\n",
       "      <td>;-) RT @mention @mention The geeks need somewh...</td>\n",
       "      <td>iPad</td>\n",
       "    </tr>\n",
       "    <tr>\n",
       "      <th>2652</th>\n",
       "      <td>This stuff is great. Love seeing how these guy...</td>\n",
       "      <td>Other Google product or service</td>\n",
       "    </tr>\n",
       "    <tr>\n",
       "      <th>...</th>\n",
       "      <td>...</td>\n",
       "      <td>...</td>\n",
       "    </tr>\n",
       "    <tr>\n",
       "      <th>905</th>\n",
       "      <td>Love it . RT @mention From #Apple to Naomi Cam...</td>\n",
       "      <td>Apple</td>\n",
       "    </tr>\n",
       "    <tr>\n",
       "      <th>5192</th>\n",
       "      <td>RT @mention I hope everyone has an awesome wee...</td>\n",
       "      <td>Apple</td>\n",
       "    </tr>\n",
       "    <tr>\n",
       "      <th>3980</th>\n",
       "      <td>Apple Opening Pop-Up Store in Austin (Sixth &amp;a...</td>\n",
       "      <td>iPad</td>\n",
       "    </tr>\n",
       "    <tr>\n",
       "      <th>235</th>\n",
       "      <td>#technews Apple heads to SXSW, sets up tempora...</td>\n",
       "      <td>iPad</td>\n",
       "    </tr>\n",
       "    <tr>\n",
       "      <th>5157</th>\n",
       "      <td>RT @mention Hipster or hobo? Only way to tell ...</td>\n",
       "      <td>iPhone</td>\n",
       "    </tr>\n",
       "  </tbody>\n",
       "</table>\n",
       "<p>5826 rows × 2 columns</p>\n",
       "</div>"
      ],
      "text/plain": [
       "                                                  tweet  \\\n",
       "4226  In the Google keynote, Marissa Meyer and some ...   \n",
       "5953  RT @mention Who is flying to #SXSW and wants s...   \n",
       "2532  Ha! Another mention for Apple Store: {link} - ...   \n",
       "2481  ;-) RT @mention @mention The geeks need somewh...   \n",
       "2652  This stuff is great. Love seeing how these guy...   \n",
       "...                                                 ...   \n",
       "905   Love it . RT @mention From #Apple to Naomi Cam...   \n",
       "5192  RT @mention I hope everyone has an awesome wee...   \n",
       "3980  Apple Opening Pop-Up Store in Austin (Sixth &a...   \n",
       "235   #technews Apple heads to SXSW, sets up tempora...   \n",
       "5157  RT @mention Hipster or hobo? Only way to tell ...   \n",
       "\n",
       "                        brand_product  \n",
       "4226                           Google  \n",
       "5953                           iPhone  \n",
       "2532                            Apple  \n",
       "2481                             iPad  \n",
       "2652  Other Google product or service  \n",
       "...                               ...  \n",
       "905                             Apple  \n",
       "5192                            Apple  \n",
       "3980                             iPad  \n",
       "235                              iPad  \n",
       "5157                           iPhone  \n",
       "\n",
       "[5826 rows x 2 columns]"
      ]
     },
     "execution_count": 21,
     "metadata": {},
     "output_type": "execute_result"
    }
   ],
   "source": [
    "#Perform a train test split on data\n",
    "X = data[['tweet', 'brand_product']]\n",
    "y = data['emotion']\n",
    "\n",
    "X_train, X_test, y_train, y_test = train_test_split(X, y, random_state= 1)\n",
    "X_train"
   ]
  },
  {
   "cell_type": "markdown",
   "metadata": {},
   "source": [
    "# Data preprocessing"
   ]
  },
  {
   "cell_type": "code",
   "execution_count": 22,
   "metadata": {},
   "outputs": [],
   "source": [
    "# Function to remove tweet handles(words that start with @), HTML tags and URLs in tweets\n",
    "def remove_html_urls_mentions(input_text):\n",
    "    # Remove HTML tags\n",
    "    pattern_html = re.compile('<.*?>')\n",
    "    text = pattern_html.sub(r'', input_text)\n",
    "    \n",
    "    # Remove URLs\n",
    "    text = re.sub(r\"http\\S+|www\\S+|https\\S+\", \"\", text)\n",
    "    \n",
    "    # Remove Twitter usernames (mentions)\n",
    "    text = re.sub(r'@\\w+\\s*', '', text)\n",
    "    \n",
    "    # Remove 'RT' (Retweet terms)\n",
    "    text = re.sub(r'\\bRT\\b', '', text)\n",
    "    \n",
    "    # Remove words within curly braces {} and the braces themselves\n",
    "    text = re.sub(r'\\{[^}]*\\}', '', text)\n",
    "    \n",
    "    # Remove words within square brackets [] and the brackets themselves\n",
    "    text = re.sub(r'\\[[^]]*\\]', '', text)\n",
    "    \n",
    "    # Remove words within parentheses () and the parentheses themselves\n",
    "    text = re.sub(r'\\([^)]*\\)', '', text)\n",
    "    \n",
    "    # Define the pattern to match any non-alphanumeric characters\n",
    "    pattern = r'[^a-zA-Z0-9\\s]'  # This pattern matches any character that is not a letter, digit, or whitespace\n",
    "\n",
    "    # Replace all non-alphanumeric characters with an empty string\n",
    "    cleaned_text = re.sub(pattern, '', text)\n",
    "    \n",
    "    return cleaned_text"
   ]
  },
  {
   "cell_type": "code",
   "execution_count": 23,
   "metadata": {},
   "outputs": [],
   "source": [
    "# Function to encode emojis\n",
    "def encode_emojis(text):\n",
    "    \"\"\"\n",
    "    Encode emojis in text using Unicode.\n",
    "\n",
    "    Parameters:\n",
    "    text (str): Input text containing emojis.\n",
    "\n",
    "    Returns:\n",
    "    str: Text with emojis encoded using Unicode.\n",
    "    \"\"\"\n",
    "    # Encode emojis using Unicode escape sequences\n",
    "    emoji_encoded_text = text.encode('unicode-escape').decode('utf-8')\n",
    "    \n",
    "    return emoji_encoded_text"
   ]
  },
  {
   "cell_type": "code",
   "execution_count": 24,
   "metadata": {},
   "outputs": [
    {
     "name": "stderr",
     "output_type": "stream",
     "text": [
      "<ipython-input-24-2508839b6c1a>:2: SettingWithCopyWarning: \n",
      "A value is trying to be set on a copy of a slice from a DataFrame.\n",
      "Try using .loc[row_indexer,col_indexer] = value instead\n",
      "\n",
      "See the caveats in the documentation: https://pandas.pydata.org/pandas-docs/stable/user_guide/indexing.html#returning-a-view-versus-a-copy\n",
      "  X_train['cleaned_tweet'] = X_train['tweet'].apply(lambda text: encode_emojis(remove_html_urls_mentions(text)))\n"
     ]
    },
    {
     "data": {
      "text/html": [
       "<div>\n",
       "<style scoped>\n",
       "    .dataframe tbody tr th:only-of-type {\n",
       "        vertical-align: middle;\n",
       "    }\n",
       "\n",
       "    .dataframe tbody tr th {\n",
       "        vertical-align: top;\n",
       "    }\n",
       "\n",
       "    .dataframe thead th {\n",
       "        text-align: right;\n",
       "    }\n",
       "</style>\n",
       "<table border=\"1\" class=\"dataframe\">\n",
       "  <thead>\n",
       "    <tr style=\"text-align: right;\">\n",
       "      <th></th>\n",
       "      <th>tweet</th>\n",
       "      <th>cleaned_tweet</th>\n",
       "      <th>brand_product</th>\n",
       "    </tr>\n",
       "  </thead>\n",
       "  <tbody>\n",
       "    <tr>\n",
       "      <th>4226</th>\n",
       "      <td>In the Google keynote, Marissa Meyer and some ...</td>\n",
       "      <td>In the Google keynote Marissa Meyer and some o...</td>\n",
       "      <td>Google</td>\n",
       "    </tr>\n",
       "    <tr>\n",
       "      <th>5953</th>\n",
       "      <td>RT @mention Who is flying to #SXSW and wants s...</td>\n",
       "      <td>Who is flying to SXSW and wants some free mil...</td>\n",
       "      <td>iPhone</td>\n",
       "    </tr>\n",
       "    <tr>\n",
       "      <th>2532</th>\n",
       "      <td>Ha! Another mention for Apple Store: {link} - ...</td>\n",
       "      <td>Ha Another mention for Apple Store    Temporar...</td>\n",
       "      <td>Apple</td>\n",
       "    </tr>\n",
       "    <tr>\n",
       "      <th>2481</th>\n",
       "      <td>;-) RT @mention @mention The geeks need somewh...</td>\n",
       "      <td>The geeks need somewhere downtown to line up...</td>\n",
       "      <td>iPad</td>\n",
       "    </tr>\n",
       "    <tr>\n",
       "      <th>2652</th>\n",
       "      <td>This stuff is great. Love seeing how these guy...</td>\n",
       "      <td>This stuff is great Love seeing how these guys...</td>\n",
       "      <td>Other Google product or service</td>\n",
       "    </tr>\n",
       "    <tr>\n",
       "      <th>...</th>\n",
       "      <td>...</td>\n",
       "      <td>...</td>\n",
       "      <td>...</td>\n",
       "    </tr>\n",
       "    <tr>\n",
       "      <th>905</th>\n",
       "      <td>Love it . RT @mention From #Apple to Naomi Cam...</td>\n",
       "      <td>Love it   From Apple to Naomi Campbell popup s...</td>\n",
       "      <td>Apple</td>\n",
       "    </tr>\n",
       "    <tr>\n",
       "      <th>5192</th>\n",
       "      <td>RT @mention I hope everyone has an awesome wee...</td>\n",
       "      <td>I hope everyone has an awesome weekend at SXS...</td>\n",
       "      <td>Apple</td>\n",
       "    </tr>\n",
       "    <tr>\n",
       "      <th>3980</th>\n",
       "      <td>Apple Opening Pop-Up Store in Austin (Sixth &amp;a...</td>\n",
       "      <td>Apple Opening PopUp Store in Austin  for SXSW ...</td>\n",
       "      <td>iPad</td>\n",
       "    </tr>\n",
       "    <tr>\n",
       "      <th>235</th>\n",
       "      <td>#technews Apple heads to SXSW, sets up tempora...</td>\n",
       "      <td>technews Apple heads to SXSW sets up temporary...</td>\n",
       "      <td>iPad</td>\n",
       "    </tr>\n",
       "    <tr>\n",
       "      <th>5157</th>\n",
       "      <td>RT @mention Hipster or hobo? Only way to tell ...</td>\n",
       "      <td>Hipster or hobo Only way to tell is the iPhon...</td>\n",
       "      <td>iPhone</td>\n",
       "    </tr>\n",
       "  </tbody>\n",
       "</table>\n",
       "<p>5826 rows × 3 columns</p>\n",
       "</div>"
      ],
      "text/plain": [
       "                                                  tweet  \\\n",
       "4226  In the Google keynote, Marissa Meyer and some ...   \n",
       "5953  RT @mention Who is flying to #SXSW and wants s...   \n",
       "2532  Ha! Another mention for Apple Store: {link} - ...   \n",
       "2481  ;-) RT @mention @mention The geeks need somewh...   \n",
       "2652  This stuff is great. Love seeing how these guy...   \n",
       "...                                                 ...   \n",
       "905   Love it . RT @mention From #Apple to Naomi Cam...   \n",
       "5192  RT @mention I hope everyone has an awesome wee...   \n",
       "3980  Apple Opening Pop-Up Store in Austin (Sixth &a...   \n",
       "235   #technews Apple heads to SXSW, sets up tempora...   \n",
       "5157  RT @mention Hipster or hobo? Only way to tell ...   \n",
       "\n",
       "                                          cleaned_tweet  \\\n",
       "4226  In the Google keynote Marissa Meyer and some o...   \n",
       "5953   Who is flying to SXSW and wants some free mil...   \n",
       "2532  Ha Another mention for Apple Store    Temporar...   \n",
       "2481    The geeks need somewhere downtown to line up...   \n",
       "2652  This stuff is great Love seeing how these guys...   \n",
       "...                                                 ...   \n",
       "905   Love it   From Apple to Naomi Campbell popup s...   \n",
       "5192   I hope everyone has an awesome weekend at SXS...   \n",
       "3980  Apple Opening PopUp Store in Austin  for SXSW ...   \n",
       "235   technews Apple heads to SXSW sets up temporary...   \n",
       "5157   Hipster or hobo Only way to tell is the iPhon...   \n",
       "\n",
       "                        brand_product  \n",
       "4226                           Google  \n",
       "5953                           iPhone  \n",
       "2532                            Apple  \n",
       "2481                             iPad  \n",
       "2652  Other Google product or service  \n",
       "...                               ...  \n",
       "905                             Apple  \n",
       "5192                            Apple  \n",
       "3980                             iPad  \n",
       "235                              iPad  \n",
       "5157                           iPhone  \n",
       "\n",
       "[5826 rows x 3 columns]"
      ]
     },
     "execution_count": 24,
     "metadata": {},
     "output_type": "execute_result"
    }
   ],
   "source": [
    "# Clean tweets for X_train data\n",
    "X_train['cleaned_tweet'] = X_train['tweet'].apply(lambda text: encode_emojis(remove_html_urls_mentions(text)))\n",
    "X_train = X_train[['tweet', 'cleaned_tweet', 'brand_product']].copy()\n",
    "X_train"
   ]
  },
  {
   "cell_type": "code",
   "execution_count": 25,
   "metadata": {},
   "outputs": [
    {
     "name": "stderr",
     "output_type": "stream",
     "text": [
      "<ipython-input-25-e7728ed4aaf0>:2: SettingWithCopyWarning: \n",
      "A value is trying to be set on a copy of a slice from a DataFrame.\n",
      "Try using .loc[row_indexer,col_indexer] = value instead\n",
      "\n",
      "See the caveats in the documentation: https://pandas.pydata.org/pandas-docs/stable/user_guide/indexing.html#returning-a-view-versus-a-copy\n",
      "  X_test['cleaned_tweet'] = X_test['tweet'].apply(lambda text: encode_emojis(remove_html_urls_mentions(text)))\n"
     ]
    },
    {
     "data": {
      "text/html": [
       "<div>\n",
       "<style scoped>\n",
       "    .dataframe tbody tr th:only-of-type {\n",
       "        vertical-align: middle;\n",
       "    }\n",
       "\n",
       "    .dataframe tbody tr th {\n",
       "        vertical-align: top;\n",
       "    }\n",
       "\n",
       "    .dataframe thead th {\n",
       "        text-align: right;\n",
       "    }\n",
       "</style>\n",
       "<table border=\"1\" class=\"dataframe\">\n",
       "  <thead>\n",
       "    <tr style=\"text-align: right;\">\n",
       "      <th></th>\n",
       "      <th>tweet</th>\n",
       "      <th>cleaned_tweet</th>\n",
       "      <th>brand_product</th>\n",
       "    </tr>\n",
       "  </thead>\n",
       "  <tbody>\n",
       "    <tr>\n",
       "      <th>3192</th>\n",
       "      <td>the @mention booth is up and ready for the #sx...</td>\n",
       "      <td>the booth is up and ready for the sxsw tradesh...</td>\n",
       "      <td>Android</td>\n",
       "    </tr>\n",
       "    <tr>\n",
       "      <th>605</th>\n",
       "      <td>@mention  iPhone. Clearly. Positively. Happily...</td>\n",
       "      <td>iPhone Clearly Positively Happily SXSW</td>\n",
       "      <td>iPhone</td>\n",
       "    </tr>\n",
       "    <tr>\n",
       "      <th>5027</th>\n",
       "      <td>RT @mention Google tested 41 shades of blue fo...</td>\n",
       "      <td>Google tested 41 shades of blue for link colo...</td>\n",
       "      <td>Google</td>\n",
       "    </tr>\n",
       "    <tr>\n",
       "      <th>7414</th>\n",
       "      <td>Google &amp;quot;product gatekeeper&amp;quot; Marissa ...</td>\n",
       "      <td>Google quotproduct gatekeeperquot Marissa Maye...</td>\n",
       "      <td>Google</td>\n",
       "    </tr>\n",
       "    <tr>\n",
       "      <th>311</th>\n",
       "      <td>will this be another google wave? RT @mention ...</td>\n",
       "      <td>will this be another google wave  We interrupt...</td>\n",
       "      <td>google</td>\n",
       "    </tr>\n",
       "    <tr>\n",
       "      <th>...</th>\n",
       "      <td>...</td>\n",
       "      <td>...</td>\n",
       "      <td>...</td>\n",
       "    </tr>\n",
       "    <tr>\n",
       "      <th>2753</th>\n",
       "      <td>@mention getting his new iPad at the #sxsw fla...</td>\n",
       "      <td>getting his new iPad at the sxsw flash apple s...</td>\n",
       "      <td>iPad</td>\n",
       "    </tr>\n",
       "    <tr>\n",
       "      <th>6041</th>\n",
       "      <td>Hotpot #google #marissameyer what is next #Cle...</td>\n",
       "      <td>Hotpot google marissameyer what is next Clevel...</td>\n",
       "      <td>google</td>\n",
       "    </tr>\n",
       "    <tr>\n",
       "      <th>5954</th>\n",
       "      <td>RT @mention Who said IPAD photos? Apple Store,...</td>\n",
       "      <td>Who said IPAD photos Apple Store SXSW</td>\n",
       "      <td>Apple</td>\n",
       "    </tr>\n",
       "    <tr>\n",
       "      <th>5706</th>\n",
       "      <td>RT @mention RT: @mention With 150 million mobi...</td>\n",
       "      <td>With 150 million mobile users on Google maps...</td>\n",
       "      <td>Google</td>\n",
       "    </tr>\n",
       "    <tr>\n",
       "      <th>416</th>\n",
       "      <td>Before It Even Begins, Apple Wins SXSW: {link}...</td>\n",
       "      <td>Before It Even Begins Apple Wins SXSW  Via App...</td>\n",
       "      <td>Apple</td>\n",
       "    </tr>\n",
       "  </tbody>\n",
       "</table>\n",
       "<p>1942 rows × 3 columns</p>\n",
       "</div>"
      ],
      "text/plain": [
       "                                                  tweet  \\\n",
       "3192  the @mention booth is up and ready for the #sx...   \n",
       "605   @mention  iPhone. Clearly. Positively. Happily...   \n",
       "5027  RT @mention Google tested 41 shades of blue fo...   \n",
       "7414  Google &quot;product gatekeeper&quot; Marissa ...   \n",
       "311   will this be another google wave? RT @mention ...   \n",
       "...                                                 ...   \n",
       "2753  @mention getting his new iPad at the #sxsw fla...   \n",
       "6041  Hotpot #google #marissameyer what is next #Cle...   \n",
       "5954  RT @mention Who said IPAD photos? Apple Store,...   \n",
       "5706  RT @mention RT: @mention With 150 million mobi...   \n",
       "416   Before It Even Begins, Apple Wins SXSW: {link}...   \n",
       "\n",
       "                                          cleaned_tweet brand_product  \n",
       "3192  the booth is up and ready for the sxsw tradesh...       Android  \n",
       "605              iPhone Clearly Positively Happily SXSW        iPhone  \n",
       "5027   Google tested 41 shades of blue for link colo...        Google  \n",
       "7414  Google quotproduct gatekeeperquot Marissa Maye...        Google  \n",
       "311   will this be another google wave  We interrupt...        google  \n",
       "...                                                 ...           ...  \n",
       "2753  getting his new iPad at the sxsw flash apple s...          iPad  \n",
       "6041  Hotpot google marissameyer what is next Clevel...        google  \n",
       "5954             Who said IPAD photos Apple Store SXSW          Apple  \n",
       "5706    With 150 million mobile users on Google maps...        Google  \n",
       "416   Before It Even Begins Apple Wins SXSW  Via App...         Apple  \n",
       "\n",
       "[1942 rows x 3 columns]"
      ]
     },
     "execution_count": 25,
     "metadata": {},
     "output_type": "execute_result"
    }
   ],
   "source": [
    "# Clean tweets for X_test data\n",
    "X_test['cleaned_tweet'] = X_test['tweet'].apply(lambda text: encode_emojis(remove_html_urls_mentions(text)))\n",
    "X_test = X_test[['tweet', 'cleaned_tweet', 'brand_product']].copy()\n",
    "X_test"
   ]
  },
  {
   "cell_type": "markdown",
   "metadata": {},
   "source": [
    "## Exploratory Data Analysis"
   ]
  },
  {
   "cell_type": "code",
   "execution_count": 26,
   "metadata": {},
   "outputs": [
    {
     "data": {
      "image/png": "[encoded data removed]",
      "text/plain": [
       "<Figure size 432x288 with 1 Axes>"
      ]
     },
     "metadata": {
      "needs_background": "light"
     },
     "output_type": "display_data"
    }
   ],
   "source": [
    "# EDA\n",
    "X_train['brand_product'].value_counts()\n",
    "plt.bar(X_train['brand_product'].value_counts().index, X_train['brand_product'].value_counts(), width=.5)\n",
    "plt.xticks(rotation=90);"
   ]
  },
  {
   "cell_type": "markdown",
   "metadata": {},
   "source": [
    "The tweets encompass various brands falling under Apple and Google products and services. We will aggregate them under these two main brands for analysis."
   ]
  },
  {
   "cell_type": "code",
   "execution_count": 27,
   "metadata": {},
   "outputs": [],
   "source": [
    "# Merge brand_column into only two categories: apple and google brands\n",
    "Apple = ['iPad', 'Apple', 'iPhone', 'iPad or iPhone App', 'ipad', 'apple', 'iphone', 'Other Apple product or service']\n",
    "Google = ['Google', 'google', 'Other Google product or service', 'Android', 'Android App', 'android']\n",
    "\n",
    "def brand_category(X):\n",
    "    for index, row in X.iterrows():\n",
    "        if row['brand_product'] in Apple:\n",
    "            X.at[index, 'brand_product'] = 'Apple'\n",
    "        elif row['brand_product'] in Google:\n",
    "            X.at[index, 'brand_product'] = 'Google'\n",
    "    \n",
    "    return X\n",
    "\n",
    "# Call function on X_train data\n",
    "X_train = brand_category(X_train)"
   ]
  },
  {
   "cell_type": "code",
   "execution_count": 28,
   "metadata": {},
   "outputs": [],
   "source": [
    "# Call function on X_test data\n",
    "X_test = brand_category(X_test)"
   ]
  },
  {
   "cell_type": "code",
   "execution_count": 29,
   "metadata": {},
   "outputs": [
    {
     "data": {
      "image/png": "[encoded data removed]",
      "text/plain": [
       "<Figure size 432x288 with 1 Axes>"
      ]
     },
     "metadata": {
      "needs_background": "light"
     },
     "output_type": "display_data"
    }
   ],
   "source": [
    "# Re-check brand_product column\n",
    "X_train['brand_product'].value_counts()\n",
    "plt.bar(X_train['brand_product'].value_counts().index, X_train['brand_product'].value_counts(), width=.3)\n",
    "plt.xticks(rotation=90);"
   ]
  },
  {
   "cell_type": "markdown",
   "metadata": {},
   "source": [
    "The number of tweets related to Apple was double that of those concerning Google."
   ]
  },
  {
   "cell_type": "code",
   "execution_count": 30,
   "metadata": {
    "scrolled": true
   },
   "outputs": [],
   "source": [
    "# Function to tokenize and remove stopwords and punctuation\n",
    "def process_tweet(tweet):\n",
    "    tweet = tweet.lower() #convert tweet to lowercase\n",
    "    # Define a regular expression pattern to match words including apostrophes\n",
    "    pattern = r\"\\b\\w+(?:'\\w+)?\\b\"\n",
    "    # Create a RegexpTokenizer with the defined pattern\n",
    "    tokenizer = RegexpTokenizer(pattern)\n",
    "    # Tokenize tweet\n",
    "    tokens = tokenizer.tokenize(tweet)\n",
    "    tokens = [token for token in tokens if token not in stopwords.words('english') \n",
    "              and token not in punctuation]                                    #remove stopwords and punctuations\n",
    "    return tokens\n",
    "\n",
    "# Apply function on X_train and X_test data\n",
    "X_train['tokenized_tweets'] = X_train['cleaned_tweet'].apply(process_tweet)\n",
    "X_test['tokenized_tweets'] = X_test['cleaned_tweet'].apply(process_tweet)"
   ]
  },
  {
   "cell_type": "code",
   "execution_count": 31,
   "metadata": {},
   "outputs": [],
   "source": [
    "# Change columns arrangements\n",
    "X_train = X_train[['tweet', 'cleaned_tweet', 'tokenized_tweets', 'brand_product']]\n",
    "X_test = X_test[['tweet', 'cleaned_tweet', 'tokenized_tweets', 'brand_product']]"
   ]
  },
  {
   "cell_type": "code",
   "execution_count": 32,
   "metadata": {},
   "outputs": [
    {
     "data": {
      "text/plain": [
       "FreqDist({'sxsw': 6053, 'ipad': 1716, 'google': 1565, 'apple': 1423, 'iphone': 1061, 'store': 985, 'new': 752, '2': 739, 'austin': 601, 'app': 544, ...})"
      ]
     },
     "execution_count": 32,
     "metadata": {},
     "output_type": "execute_result"
    }
   ],
   "source": [
    "# Generate Frequency distribution\n",
    "FreqDist(X_train['tokenized_tweets'].explode())"
   ]
  },
  {
   "cell_type": "markdown",
   "metadata": {},
   "source": [
    "##### Top 20 tokens distribution"
   ]
  },
  {
   "cell_type": "code",
   "execution_count": 33,
   "metadata": {},
   "outputs": [
    {
     "data": {
      "image/png": "[encoded data removed]",
      "text/plain": [
       "<Figure size 576x432 with 1 Axes>"
      ]
     },
     "metadata": {
      "needs_background": "light"
     },
     "output_type": "display_data"
    }
   ],
   "source": [
    "# Extract top 20 tokens and their values \n",
    "top_20 = FreqDist(X_train['tokenized_tweets'].explode()).most_common(20)\n",
    "categories, values = zip(*top_20)\n",
    "\n",
    "# Create a bar plot\n",
    "plt.figure(figsize=(8, 6))\n",
    "plt.bar(categories, values)\n",
    "plt.xlabel('Categories')\n",
    "plt.ylabel('Values')\n",
    "plt.title('Bar Plot from Dictionary')\n",
    "plt.xticks(rotation=90)\n",
    "plt.show()"
   ]
  },
  {
   "cell_type": "markdown",
   "metadata": {},
   "source": [
    "Significantly, several tokens within the top 20 are directly associated with prominent brands like Google and Apple, including \"android,\" \"apple,\" \"iPad,\" and \"store.\" Moreover, the token with the highest frequency, \"sxsw,\" pertains to a notable tech event. "
   ]
  },
  {
   "cell_type": "markdown",
   "metadata": {},
   "source": [
    "##### Token distribution by brand [@Top 20]"
   ]
  },
  {
   "cell_type": "code",
   "execution_count": 34,
   "metadata": {},
   "outputs": [
    {
     "data": {
      "image/png": "[encoded data removed]",
      "text/plain": [
       "<Figure size 1440x576 with 2 Axes>"
      ]
     },
     "metadata": {
      "needs_background": "light"
     },
     "output_type": "display_data"
    }
   ],
   "source": [
    "#check distribution by brand category\n",
    "for_eda = pd.concat([X_train,y_train], axis= 1)\n",
    "apple = for_eda[for_eda['brand_product'] == 'Apple']\n",
    "google = for_eda[for_eda['brand_product'] == 'Google']\n",
    "\n",
    "# Extract top 20 tokens and their values for apple brand\n",
    "apple_top_20 = FreqDist(apple['tokenized_tweets'].explode()).most_common(20)\n",
    "apple_categories, apple_values = zip(*apple_top_20)\n",
    "\n",
    "# Extract top 20 tokens and their values for google brand\n",
    "google_top_20 = FreqDist(google['tokenized_tweets'].explode()).most_common(20)\n",
    "google_categories, google_values = zip(*google_top_20)\n",
    "\n",
    "# Create a bar plot\n",
    "fig, axes = plt.subplots(nrows=1, ncols=2, figsize=(20, 8), sharey=True) \n",
    "axes[0].bar(apple_categories, apple_values, label='Apple')\n",
    "axes[1].bar(google_categories, google_values, label='Google')\n",
    "axes[0].set_ylabel('Counts')\n",
    "fig.suptitle('Frequency Distribution by Brand')\n",
    "axes[0].set_xticks(range(len(apple_categories)))\n",
    "axes[0].set_xticklabels(apple_categories, rotation=90) \n",
    "axes[1].set_xticks(range(len(google_categories)))\n",
    "axes[1].set_xticklabels(google_categories, rotation=90)\n",
    "# Set legends on the axes\n",
    "axes[0].legend()\n",
    "axes[1].legend()\n",
    "\n",
    "plt.show()"
   ]
  },
  {
   "cell_type": "markdown",
   "metadata": {},
   "source": [
    "##### Emotions/Sentiments class distribution by brand"
   ]
  },
  {
   "cell_type": "code",
   "execution_count": 35,
   "metadata": {},
   "outputs": [
    {
     "data": {
      "image/png": "[encoded data removed]",
      "text/plain": [
       "<Figure size 720x360 with 2 Axes>"
      ]
     },
     "metadata": {
      "needs_background": "light"
     },
     "output_type": "display_data"
    }
   ],
   "source": [
    "# Sentiments by brand\n",
    "fig, ax = plt.subplots(nrows=1, ncols= 2, figsize= (10, 5), sharey= True)\n",
    "ax[0].bar(apple['emotion'].value_counts().index, apple['emotion'].value_counts(), width= .5, label='apple');\n",
    "ax[1].bar(google['emotion'].value_counts().index, google['emotion'].value_counts(), width= .5, label= 'google')\n",
    "ax[0].legend()\n",
    "ax[1].legend()\n",
    "\n",
    "for axis in ax:\n",
    "    axis.tick_params(axis='x', rotation=45)\n",
    "    \n",
    "plt.show()"
   ]
  },
  {
   "cell_type": "markdown",
   "metadata": {},
   "source": [
    "The prevailing sentiment across both brands was predominantly neutral, followed by positive and then negative sentiments."
   ]
  },
  {
   "cell_type": "markdown",
   "metadata": {},
   "source": [
    "##### Token distribution by Emotions/Sentiments class"
   ]
  },
  {
   "cell_type": "code",
   "execution_count": 36,
   "metadata": {},
   "outputs": [],
   "source": [
    "### Check token distribution based on emotion\n",
    "positive_emotions_data = for_eda[for_eda['emotion'] == 'Positive']\n",
    "negative_emotions_data = for_eda[for_eda['emotion'] == 'Negative']\n",
    "\n",
    "# Extract top 20 tokens and their values for apple brand\n",
    "positive_top_20 = FreqDist(positive_emotions_data['tokenized_tweets'].explode()).most_common(20)\n",
    "positive_categories, positive_values = zip(*positive_top_20)\n",
    "\n",
    "# Extract top 20 tokens and their values for google brand\n",
    "negative_top_20 = FreqDist(negative_emotions_data['tokenized_tweets'].explode()).most_common(20)\n",
    "negative_categories, negative_values = zip(*negative_top_20)"
   ]
  },
  {
   "cell_type": "code",
   "execution_count": 37,
   "metadata": {},
   "outputs": [
    {
     "data": {
      "image/png": "[encoded data removed]",
      "text/plain": [
       "<Figure size 1440x576 with 2 Axes>"
      ]
     },
     "metadata": {
      "needs_background": "light"
     },
     "output_type": "display_data"
    }
   ],
   "source": [
    "# Create a bar plot\n",
    "fig, axes = plt.subplots(nrows=1, ncols=2, figsize=(20, 8), sharey=True) \n",
    "axes[0].bar(positive_categories, positive_values, label='Positive sentiments')\n",
    "axes[1].bar(negative_categories, negative_values, label='Negative sentiments')\n",
    "axes[0].set_ylabel('Counts')\n",
    "fig.suptitle('Frequency Distribution by Sentiments')\n",
    "axes[0].set_xticks(range(len(positive_categories)))\n",
    "axes[0].set_xticklabels(positive_categories, rotation=90) \n",
    "axes[1].set_xticks(range(len(positive_categories)))\n",
    "axes[1].set_xticklabels(positive_categories, rotation=90)\n",
    "# Set legends on the axes\n",
    "axes[0].legend()\n",
    "axes[1].legend()\n",
    "\n",
    "plt.show()"
   ]
  },
  {
   "cell_type": "markdown",
   "metadata": {},
   "source": [
    "## Feature Engineering"
   ]
  }
 ],
 "metadata": {
  "kernelspec": {
   "display_name": "Python 3",
   "language": "python",
   "name": "python3"
  },
  "language_info": {
   "codemirror_mode": {
    "name": "ipython",
    "version": 3
   },
   "file_extension": ".py",
   "mimetype": "text/x-python",
   "name": "python",
   "nbconvert_exporter": "python",
   "pygments_lexer": "ipython3",
   "version": "3.8.5"
  }
 },
 "nbformat": 4,
 "nbformat_minor": 5
}
