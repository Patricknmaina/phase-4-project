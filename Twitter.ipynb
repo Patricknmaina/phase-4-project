{
 "cells": [
  {
   "cell_type": "markdown",
   "id": "97e7ec5f",
   "metadata": {},
   "source": [
    "## 🧠 Business Understanding\n",
    "\n",
    "### 🔹 Introduction\n",
    "\n",
    "In the modern digital world, Twitter has become a powerful platform where users openly express their opinions about products, services, and brands. These real-time conversations present a valuable resource for companies aiming to understand customer perceptions, preferences, and frustrations. Tech companies like Apple and Google, which frequently trend in online discussions, can benefit greatly from analyzing tweet sentiments related to their offerings. This project leverages Natural Language Processing (NLP) to analyze such tweets and uncover meaningful insights from public opinion.\n",
    "\n",
    "### 🔹 Problem Statement\n",
    "\n",
    "While social media platforms generate massive volumes of feedback, the unstructured nature of textual data makes it difficult to extract useful patterns manually. The challenge is not just about reading tweets but identifying how people feel about a brand or product—whether they're praising, criticizing, or expressing confusion. Without automation, this task becomes resource-intensive and inconsistent, limiting a company’s ability to react quickly to user sentiment.\n",
    "\n",
    "### 🔹 Objective\n",
    "\n",
    "The primary goal of this project is to develop a sentiment classification model that accurately determines whether a tweet expresses a positive, negative, neutral, or uncertain sentiment toward a tech product or brand. By training a machine learning algorithm on labeled tweet data, we aim to automate sentiment detection and enable companies to monitor brand perception at scale, identify product issues, and improve strategic decision-making.\n",
    "\n"
   ]
  },
  {
   "cell_type": "markdown",
   "id": "b614c26a",
   "metadata": {},
   "source": [
    "### DATA LOADONG , CLEANING , INSPECTION"
   ]
  },
  {
   "cell_type": "markdown",
   "id": "e575749c",
   "metadata": {},
   "source": [
    "## 1. Data Importation and Initial Cleaning\n",
    "\n",
    "We start by loading the Twitter sentiment dataset into a Pandas DataFrame. This dataset contains tweets related to Apple and Google products, along with sentiment labels.\n",
    "\n",
    "### Key Steps:\n",
    "- **Reading the CSV file** using `pd.read_csv()`.\n",
    "- **Previewing the data** to understand its structure using `.head()`.\n",
    "- **Checking for null values** to ensure data quality.\n",
    "- **Dropping missing or duplicate entries** to avoid inconsistencies in modeling.\n",
    "- **Standardizing text** by removing unwanted characters such as URLs, mentions, hashtags, and punctuation.\n",
    "\n",
    "These cleaning steps ensure the text data is in a usable format for analysis and modeling.\n"
   ]
  },
  {
   "cell_type": "markdown",
   "id": "57f6ee70",
   "metadata": {},
   "source": [
    "## 📊 Data Understanding\n",
    "\n",
    "Understanding the structure and quality of our dataset is crucial before any meaningful analysis or modeling can be performed. This step ensures that we know what we’re working with, what challenges might exist in the data, and how to clean it up for better results.\n",
    "\n",
    "### 🔹 Dataset Overview\n",
    "The dataset consists of over 9,000 tweets, each representing a user’s message potentially directed at a brand or product. These tweets include both the text itself and a label indicating the type of emotion expressed toward a product or brand. Originally, the dataset contained three columns:\n",
    "\n",
    "**tweet_text** – The raw tweet written by a user.\n",
    "\n",
    "**emotion_in_tweet_is_directed_at** – The specific product/brand being targeted (e.g., \"Apple\", \"Google\").\n",
    "\n",
    "**is_there_an_emotion_directed_at_a_brand_or_product** – A sentiment label indicating whether the tweet shows positive, negative, or no emotion toward a brand.\n",
    "\n",
    "### 🔹 Initial Observations & Cleaning\n",
    "Upon inspection, we found that the second column, emotion_in_tweet_is_directed_at, had over 5,800 missing values. Because this field was mostly empty and didn't contribute useful information, we decided to drop it to focus on more complete data.\n",
    "\n",
    "The remaining two columns—tweet_text and is_there_an_emotion_directed_at_a_brand_or_product—were intact with no missing values or duplicates. We also renamed these columns for clarity:\n",
    "\n",
    "**tweet_text → text**\n",
    "\n",
    "**is_there_an_emotion_directed_at_a_brand_or_product → raw_sentiment**\n",
    "\n",
    "This renaming helped simplify code readability and made it easier to refer to the data consistently."
   ]
  },
  {
   "cell_type": "code",
   "execution_count": 1,
   "id": "ed62cf54",
   "metadata": {},
   "outputs": [
    {
     "name": "stderr",
     "output_type": "stream",
     "text": [
      "[nltk_data] Downloading package punkt_tab to\n",
      "[nltk_data]     C:\\Users\\Admin\\AppData\\Roaming\\nltk_data...\n",
      "[nltk_data]   Package punkt_tab is already up-to-date!\n",
      "[nltk_data] Downloading package wordnet to\n",
      "[nltk_data]     C:\\Users\\Admin\\AppData\\Roaming\\nltk_data...\n",
      "[nltk_data]   Package wordnet is already up-to-date!\n"
     ]
    },
    {
     "data": {
      "text/plain": [
       "True"
      ]
     },
     "execution_count": 1,
     "metadata": {},
     "output_type": "execute_result"
    }
   ],
   "source": [
    "# import libraries\n",
    "import nltk\n",
    "import pandas as pd\n",
    "import re\n",
    "from sklearn.feature_extraction.text import TfidfVectorizer\n",
    "from sklearn.model_selection import train_test_split\n",
    "from sklearn.linear_model import LogisticRegression\n",
    "from sklearn.ensemble import RandomForestClassifier\n",
    "from sklearn.metrics import classification_report, confusion_matrix\n",
    "nltk.download('punkt_tab')\n",
    "nltk.download('wordnet')"
   ]
  },
  {
   "cell_type": "code",
   "execution_count": 3,
   "id": "b5bb3d5f",
   "metadata": {},
   "outputs": [
    {
     "data": {
      "text/html": [
       "<div>\n",
       "<style scoped>\n",
       "    .dataframe tbody tr th:only-of-type {\n",
       "        vertical-align: middle;\n",
       "    }\n",
       "\n",
       "    .dataframe tbody tr th {\n",
       "        vertical-align: top;\n",
       "    }\n",
       "\n",
       "    .dataframe thead th {\n",
       "        text-align: right;\n",
       "    }\n",
       "</style>\n",
       "<table border=\"1\" class=\"dataframe\">\n",
       "  <thead>\n",
       "    <tr style=\"text-align: right;\">\n",
       "      <th></th>\n",
       "      <th>tweet_text</th>\n",
       "      <th>emotion_in_tweet_is_directed_at</th>\n",
       "      <th>is_there_an_emotion_directed_at_a_brand_or_product</th>\n",
       "    </tr>\n",
       "  </thead>\n",
       "  <tbody>\n",
       "    <tr>\n",
       "      <th>0</th>\n",
       "      <td>.@wesley83 I have a 3G iPhone. After 3 hrs twe...</td>\n",
       "      <td>iPhone</td>\n",
       "      <td>Negative emotion</td>\n",
       "    </tr>\n",
       "    <tr>\n",
       "      <th>1</th>\n",
       "      <td>@jessedee Know about @fludapp ? Awesome iPad/i...</td>\n",
       "      <td>iPad or iPhone App</td>\n",
       "      <td>Positive emotion</td>\n",
       "    </tr>\n",
       "    <tr>\n",
       "      <th>2</th>\n",
       "      <td>@swonderlin Can not wait for #iPad 2 also. The...</td>\n",
       "      <td>iPad</td>\n",
       "      <td>Positive emotion</td>\n",
       "    </tr>\n",
       "    <tr>\n",
       "      <th>3</th>\n",
       "      <td>@sxsw I hope this year's festival isn't as cra...</td>\n",
       "      <td>iPad or iPhone App</td>\n",
       "      <td>Negative emotion</td>\n",
       "    </tr>\n",
       "    <tr>\n",
       "      <th>4</th>\n",
       "      <td>@sxtxstate great stuff on Fri #SXSW: Marissa M...</td>\n",
       "      <td>Google</td>\n",
       "      <td>Positive emotion</td>\n",
       "    </tr>\n",
       "  </tbody>\n",
       "</table>\n",
       "</div>"
      ],
      "text/plain": [
       "                                          tweet_text  \\\n",
       "0  .@wesley83 I have a 3G iPhone. After 3 hrs twe...   \n",
       "1  @jessedee Know about @fludapp ? Awesome iPad/i...   \n",
       "2  @swonderlin Can not wait for #iPad 2 also. The...   \n",
       "3  @sxsw I hope this year's festival isn't as cra...   \n",
       "4  @sxtxstate great stuff on Fri #SXSW: Marissa M...   \n",
       "\n",
       "  emotion_in_tweet_is_directed_at  \\\n",
       "0                          iPhone   \n",
       "1              iPad or iPhone App   \n",
       "2                            iPad   \n",
       "3              iPad or iPhone App   \n",
       "4                          Google   \n",
       "\n",
       "  is_there_an_emotion_directed_at_a_brand_or_product  \n",
       "0                                   Negative emotion  \n",
       "1                                   Positive emotion  \n",
       "2                                   Positive emotion  \n",
       "3                                   Negative emotion  \n",
       "4                                   Positive emotion  "
      ]
     },
     "execution_count": 3,
     "metadata": {},
     "output_type": "execute_result"
    }
   ],
   "source": [
    "# Load the dataset with appropriate encoding\n",
    "twitter_df = pd.read_csv(\"data/twitter_data.csv\", encoding=\"latin-1\")\n",
    "twitter_df.head()"
   ]
  },
  {
   "cell_type": "markdown",
   "id": "c1857410",
   "metadata": {},
   "source": [
    "## 2. Dataset Overview\n",
    "\n",
    "Before diving into modeling, it’s important to explore the dataset and understand its structure and basic statistics. We use several built-in Pandas functions for this:\n",
    "\n",
    "### Key Methods:\n",
    "\n",
    "- **`.info()`**  \n",
    "  Displays a concise summary of the DataFrame, including the number of non-null entries and data types for each column. Helps identify missing values or incorrect data types.\n",
    "\n",
    "- **`.shape`**  \n",
    "  Returns the dimensions of the dataset in the form `(rows, columns)`. This gives us a quick idea of the dataset size.\n",
    "\n",
    "- **`.describe()`**  \n",
    "  Provides descriptive statistics for numeric columns (or all columns if specified), such as mean, min, max, and standard deviation. Useful for spotting potential outliers or skewed distributions.\n",
    "\n",
    "- **`.columns`**  \n",
    "  Lists all column names in the dataset. Helps us quickly identify which features are available for analysis.\n",
    "\n",
    "These commands give us a quick health check of the dataset and guide how we should proceed with data preparation.\n"
   ]
  },
  {
   "cell_type": "code",
   "execution_count": 4,
   "id": "7bdfaeb1",
   "metadata": {},
   "outputs": [
    {
     "name": "stdout",
     "output_type": "stream",
     "text": [
      "<class 'pandas.core.frame.DataFrame'>\n",
      "RangeIndex: 9093 entries, 0 to 9092\n",
      "Data columns (total 3 columns):\n",
      " #   Column                                              Non-Null Count  Dtype \n",
      "---  ------                                              --------------  ----- \n",
      " 0   tweet_text                                          9092 non-null   object\n",
      " 1   emotion_in_tweet_is_directed_at                     3291 non-null   object\n",
      " 2   is_there_an_emotion_directed_at_a_brand_or_product  9093 non-null   object\n",
      "dtypes: object(3)\n",
      "memory usage: 213.2+ KB\n"
     ]
    }
   ],
   "source": [
    "twitter_df.info()"
   ]
  },
  {
   "cell_type": "code",
   "execution_count": 81,
   "id": "fdd8f280",
   "metadata": {},
   "outputs": [
    {
     "data": {
      "text/plain": [
       "(9011, 5)"
      ]
     },
     "execution_count": 81,
     "metadata": {},
     "output_type": "execute_result"
    }
   ],
   "source": [
    "twitter_df.shape"
   ]
  },
  {
   "cell_type": "code",
   "execution_count": 5,
   "id": "d4b2ff5a",
   "metadata": {},
   "outputs": [
    {
     "data": {
      "text/html": [
       "<div>\n",
       "<style scoped>\n",
       "    .dataframe tbody tr th:only-of-type {\n",
       "        vertical-align: middle;\n",
       "    }\n",
       "\n",
       "    .dataframe tbody tr th {\n",
       "        vertical-align: top;\n",
       "    }\n",
       "\n",
       "    .dataframe thead th {\n",
       "        text-align: right;\n",
       "    }\n",
       "</style>\n",
       "<table border=\"1\" class=\"dataframe\">\n",
       "  <thead>\n",
       "    <tr style=\"text-align: right;\">\n",
       "      <th></th>\n",
       "      <th>tweet_text</th>\n",
       "      <th>emotion_in_tweet_is_directed_at</th>\n",
       "      <th>is_there_an_emotion_directed_at_a_brand_or_product</th>\n",
       "    </tr>\n",
       "  </thead>\n",
       "  <tbody>\n",
       "    <tr>\n",
       "      <th>count</th>\n",
       "      <td>9092</td>\n",
       "      <td>3291</td>\n",
       "      <td>9093</td>\n",
       "    </tr>\n",
       "    <tr>\n",
       "      <th>unique</th>\n",
       "      <td>9065</td>\n",
       "      <td>9</td>\n",
       "      <td>4</td>\n",
       "    </tr>\n",
       "    <tr>\n",
       "      <th>top</th>\n",
       "      <td>RT @mention Marissa Mayer: Google Will Connect...</td>\n",
       "      <td>iPad</td>\n",
       "      <td>No emotion toward brand or product</td>\n",
       "    </tr>\n",
       "    <tr>\n",
       "      <th>freq</th>\n",
       "      <td>5</td>\n",
       "      <td>946</td>\n",
       "      <td>5389</td>\n",
       "    </tr>\n",
       "  </tbody>\n",
       "</table>\n",
       "</div>"
      ],
      "text/plain": [
       "                                               tweet_text  \\\n",
       "count                                                9092   \n",
       "unique                                               9065   \n",
       "top     RT @mention Marissa Mayer: Google Will Connect...   \n",
       "freq                                                    5   \n",
       "\n",
       "       emotion_in_tweet_is_directed_at  \\\n",
       "count                             3291   \n",
       "unique                               9   \n",
       "top                               iPad   \n",
       "freq                               946   \n",
       "\n",
       "       is_there_an_emotion_directed_at_a_brand_or_product  \n",
       "count                                                9093  \n",
       "unique                                                  4  \n",
       "top                    No emotion toward brand or product  \n",
       "freq                                                 5389  "
      ]
     },
     "execution_count": 5,
     "metadata": {},
     "output_type": "execute_result"
    }
   ],
   "source": [
    "twitter_df.describe()"
   ]
  },
  {
   "cell_type": "code",
   "execution_count": 7,
   "id": "c044b14f",
   "metadata": {},
   "outputs": [
    {
     "data": {
      "text/plain": [
       "Index(['tweet_text', 'emotion_in_tweet_is_directed_at',\n",
       "       'is_there_an_emotion_directed_at_a_brand_or_product'],\n",
       "      dtype='object')"
      ]
     },
     "execution_count": 7,
     "metadata": {},
     "output_type": "execute_result"
    }
   ],
   "source": [
    "twitter_df.columns"
   ]
  },
  {
   "cell_type": "markdown",
   "id": "eb05da1a",
   "metadata": {},
   "source": [
    "## 🧹 Data Cleaning Summary\n",
    "\n",
    "In the steps below, we focused on preparing the dataset for analysis by identifying and addressing potential issues. We started by checking the shape, structure, and basic statistics of the data to understand its contents and detect anomalies. Then, we looked for missing values and duplicate rows, which can negatively impact model performance. Rows with missing or duplicated data were removed to maintain data quality. Finally, we dropped irrelevant columns that did not contribute to the sentiment prediction task. These cleaning steps helped ensure our dataset was both accurate and efficient for model training.\n"
   ]
  },
  {
   "cell_type": "code",
   "execution_count": 8,
   "id": "257b88a6",
   "metadata": {},
   "outputs": [
    {
     "data": {
      "text/plain": [
       "tweet_text                                               1\n",
       "emotion_in_tweet_is_directed_at                       5802\n",
       "is_there_an_emotion_directed_at_a_brand_or_product       0\n",
       "dtype: int64"
      ]
     },
     "execution_count": 8,
     "metadata": {},
     "output_type": "execute_result"
    }
   ],
   "source": [
    "twitter_df.isna().sum()"
   ]
  },
  {
   "cell_type": "code",
   "execution_count": 9,
   "id": "061c4ba9",
   "metadata": {},
   "outputs": [
    {
     "data": {
      "text/plain": [
       "22"
      ]
     },
     "execution_count": 9,
     "metadata": {},
     "output_type": "execute_result"
    }
   ],
   "source": [
    "twitter_df.duplicated().sum()"
   ]
  },
  {
   "cell_type": "markdown",
   "id": "e25991b6",
   "metadata": {},
   "source": [
    "### Above  we can see we have 22 duplicted values and 2 columns with missing values.\n",
    "\n",
    "### 📊 Missing Values Summary\n",
    "\n",
    "The table below shows the count of missing values in each column of the dataset:\n",
    "\n",
    "- `tweet_text`: 1 missing value\n",
    "- `emotion_in_tweet_is_directed_at`: 5802 missing values\n",
    "- `is_there_an_emotion_directed_at_a_brand_or_product`: 0 missing values\n",
    "\n",
    "From this, we can observe that the `emotion_in_tweet_is_directed_at` column has a substantial number of missing entries, which may affect its usefulness in the analysis. The `tweet_text` column only has one missing value, which can be safely removed. The third column has no missing values and is fully usable.\n"
   ]
  },
  {
   "cell_type": "code",
   "execution_count": 9,
   "id": "c4dc0188",
   "metadata": {},
   "outputs": [],
   "source": [
    "twitter_df.drop_duplicates(inplace=True)"
   ]
  },
  {
   "cell_type": "markdown",
   "id": "fb90f661",
   "metadata": {},
   "source": [
    "### 🧹 Dropping Column with Too Many Missing Values\n",
    "\n",
    "During data cleaning, we noticed that the column `emotion_in_tweet_is_directed_at` had a large number of missing values — over 5,800 out of 9,093 rows. Keeping such a column would hurt the quality of our analysis and model, so we chose to drop it.\n",
    "\n",
    "After removing it, we were left with two useful columns: `tweet_text`, which contains the actual tweets, and `is_there_an_emotion_directed_at_a_brand_or_product`, which tells us whether the tweet expresses an emotion toward a brand or product. \n",
    "\n",
    "Now, our cleaned dataset has 9,070 entries with **no missing values**, making it ready for the next steps like preprocessing and modeling.\n"
   ]
  },
  {
   "cell_type": "code",
   "execution_count": 11,
   "id": "a08cd969",
   "metadata": {},
   "outputs": [],
   "source": [
    "twitter_df = twitter_df.drop(columns=[\"emotion_in_tweet_is_directed_at\"])\n"
   ]
  },
  {
   "cell_type": "code",
   "execution_count": 12,
   "id": "82ed72df",
   "metadata": {},
   "outputs": [],
   "source": [
    "twitter_df = twitter_df.dropna(subset=[\"tweet_text\"])\n"
   ]
  },
  {
   "cell_type": "code",
   "execution_count": 13,
   "id": "c9d77ca3",
   "metadata": {},
   "outputs": [
    {
     "name": "stdout",
     "output_type": "stream",
     "text": [
      "<class 'pandas.core.frame.DataFrame'>\n",
      "Int64Index: 9070 entries, 0 to 9092\n",
      "Data columns (total 2 columns):\n",
      " #   Column                                              Non-Null Count  Dtype \n",
      "---  ------                                              --------------  ----- \n",
      " 0   tweet_text                                          9070 non-null   object\n",
      " 1   is_there_an_emotion_directed_at_a_brand_or_product  9070 non-null   object\n",
      "dtypes: object(2)\n",
      "memory usage: 212.6+ KB\n"
     ]
    }
   ],
   "source": [
    "twitter_df.info()"
   ]
  },
  {
   "cell_type": "markdown",
   "id": "464319f9",
   "metadata": {},
   "source": [
    "### 🏷️ Renaming Columns for Simplicity\n",
    "\n",
    "To make the dataset easier to work with, we renamed the columns to shorter, more intuitive names. Specifically, we changed:\n",
    "\n",
    "- `\"tweet_text\"` → `\"text\"` to represent the tweet content more simply.\n",
    "- `\"is_there_an_emotion_directed_at_a_brand_or_product\"` → `\"raw_sentiment\"` to clearly reflect the sentiment label column.\n",
    "\n",
    "This makes our code cleaner and improves readability in the rest of the project.\n"
   ]
  },
  {
   "cell_type": "code",
   "execution_count": null,
   "id": "efa39907",
   "metadata": {},
   "outputs": [],
   "source": [
    "#Changing the names of the columns\n",
    "twitter_df = twitter_df.rename(columns={\n",
    "    \"tweet_text\": \"text\", \"is_there_an_emotion_directed_at_a_brand_or_product\": \"raw_sentiment\"\n",
    "})\n"
   ]
  },
  {
   "cell_type": "code",
   "execution_count": 17,
   "id": "d70e8554",
   "metadata": {},
   "outputs": [
    {
     "name": "stdout",
     "output_type": "stream",
     "text": [
      "Index(['text', 'raw_sentiment'], dtype='object')\n"
     ]
    }
   ],
   "source": [
    "print(twitter_df.columns)\n"
   ]
  },
  {
   "cell_type": "markdown",
   "id": "bbec05a4",
   "metadata": {},
   "source": [
    "### 🧭 Exploratory Data Overview\n",
    "\n",
    "This section provides a structured overview of our dataset to assess its readiness for further processing:\n",
    "\n",
    "1. **Dataset Shape**  \n",
    "   We confirmed that the dataset contains **9,070 tweets** across 4 columns, indicating a sizable amount of data for sentiment analysis.\n",
    "\n",
    "2. **Missing Values**  \n",
    "   A quick check showed **no missing values** in any of the columns (`text`, `raw_sentiment`, `char_count`, `word_count`). This suggests our data is clean and complete, which is ideal for modeling.\n",
    "\n",
    "3. **Sentiment Class Distribution**  \n",
    "   The dataset has an imbalanced distribution of sentiment labels:\n",
    "   - **No emotion toward brand or product**: 5,375 tweets  \n",
    "   - **Positive emotion**: 2,970 tweets  \n",
    "   - **Negative emotion**: 569 tweets  \n",
    "   - **I can't tell**: 156 tweets  \n",
    "   This imbalance is important to keep in mind, as it can affect model performance and may require mitigation strategies such as resampling or class weighting.\n",
    "\n",
    "4. **Sentiment Distribution Plot**  \n",
    "   A count plot was generated to visualize how tweets are spread across sentiment classes. This gives a clear picture of the dominance of neutral or emotionless tweets.\n",
    "\n",
    "5. **Tweet Length Analysis**  \n",
    "   For each tweet, we computed:\n",
    "   - `char_count`: Number of characters\n",
    "   - `word_count`: Number of words  \n",
    "   These metrics help us understand how verbose the tweets are and may inform decisions around text normalization or truncation.\n",
    "\n",
    "6. **Basic Statistics by Sentiment**  \n",
    "   We grouped the tweets by sentiment and calculated summary statistics for both character and word counts. This helps identify whether certain sentiments are associated with longer or shorter tweets, which can be relevant for feature engineering.\n",
    "\n",
    "7. **Example Tweets**  \n",
    "   To gain a qualitative understanding, we displayed example tweets labeled as **positive** and **negative**. These help in grasping the tone and language typically used in each sentiment class and validate whether the labels make sense.\n",
    "\n",
    "This exploratory step lays the foundation for cleaning, preprocessing, and ultimately modeling the sentiment in tweets.\n"
   ]
  },
  {
   "cell_type": "code",
   "execution_count": null,
   "id": "e73f9b21",
   "metadata": {},
   "outputs": [
    {
     "name": "stdout",
     "output_type": "stream",
     "text": [
      "Shape of dataset: (9070, 4)\n",
      "\n",
      "Missing values:\n",
      " text             0\n",
      "raw_sentiment    0\n",
      "char_count       0\n",
      "word_count       0\n",
      "dtype: int64\n",
      "\n",
      "Class distribution:\n",
      " No emotion toward brand or product    5375\n",
      "Positive emotion                      2970\n",
      "Negative emotion                       569\n",
      "I can't tell                           156\n",
      "Name: raw_sentiment, dtype: int64\n"
     ]
    },
    {
     "data": {
      "image/png": "[encoded data removed]",
      "text/plain": [
       "<Figure size 432x288 with 1 Axes>"
      ]
     },
     "metadata": {
      "needs_background": "light"
     },
     "output_type": "display_data"
    },
    {
     "name": "stdout",
     "output_type": "stream",
     "text": [
      "\n",
      "Character count stats by sentiment:\n",
      "                                     count        mean        std   min   25%  \\\n",
      "raw_sentiment                                                                   \n",
      "I can't tell                         156.0  103.980769  27.911027  43.0  81.0   \n",
      "Negative emotion                     569.0  109.414763  27.405861  38.0  91.0   \n",
      "No emotion toward brand or product  5375.0  104.189953  27.156314  11.0  85.0   \n",
      "Positive emotion                    2970.0  105.550505  27.127563  25.0  86.0   \n",
      "\n",
      "                                      50%    75%    max  \n",
      "raw_sentiment                                            \n",
      "I can't tell                        105.0  127.0  152.0  \n",
      "Negative emotion                    114.0  132.0  158.0  \n",
      "No emotion toward brand or product  108.0  125.0  178.0  \n",
      "Positive emotion                    110.0  127.0  170.0  \n",
      "\n",
      "Word count stats by sentiment:\n",
      "                                     count       mean       std  min    25%  \\\n",
      "raw_sentiment                                                                 \n",
      "I can't tell                         156.0  17.628205  4.943837  8.0  13.75   \n",
      "Negative emotion                     569.0  18.746924  5.081996  6.0  15.00   \n",
      "No emotion toward brand or product  5375.0  17.439070  4.934363  2.0  14.00   \n",
      "Positive emotion                    2970.0  18.176768  4.937269  4.0  15.00   \n",
      "\n",
      "                                     50%   75%   max  \n",
      "raw_sentiment                                         \n",
      "I can't tell                        18.0  21.0  31.0  \n",
      "Negative emotion                    19.0  23.0  31.0  \n",
      "No emotion toward brand or product  18.0  21.0  32.0  \n",
      "Positive emotion                    19.0  22.0  33.0  \n",
      "\n",
      "Positive Tweet Example:\n",
      " @jessedee Know about @fludapp ? Awesome iPad/iPhone app that you'll likely appreciate for its design. Also, they're giving free Ts at #SXSW\n",
      "\n",
      "Negative Tweet Example:\n",
      " .@wesley83 I have a 3G iPhone. After 3 hrs tweeting at #RISE_Austin, it was dead!  I need to upgrade. Plugin stations at #SXSW.\n"
     ]
    }
   ],
   "source": [
    "import matplotlib.pyplot as plt\n",
    "import seaborn as sns\n",
    "\n",
    "# 1. Dataset shape\n",
    "print(\"Shape of dataset:\", twitter_df.shape)\n",
    "\n",
    "# 2. Check for any remaining missing values\n",
    "print(\"\\nMissing values:\\n\", twitter_df.isnull().sum())\n",
    "\n",
    "# 3. Sentiment class distribution~\n",
    "print(\"\\nClass distribution:\\n\", twitter_df['raw_sentiment'].value_counts())\n",
    "\n",
    "# 4. Plot sentiment distribution\n",
    "sns.countplot(data=twitter_df, x='raw_sentiment', palette='Set2')\n",
    "plt.title(\"Tweet Sentiment Distribution\")\n",
    "plt.xlabel(\"raw_Sentiment\")\n",
    "plt.ylabel(\"Number of Tweets\")\n",
    "plt.show()\n",
    "\n",
    "# 5. Length of tweets\n",
    "twitter_df['char_count'] = twitter_df['text'].apply(len)\n",
    "twitter_df['word_count'] = twitter_df['text'].apply(lambda x: len(x.split()))\n",
    "\n",
    "# 6. Basic statistics by sentiment\n",
    "print(\"\\nCharacter count stats by sentiment:\")\n",
    "print(twitter_df.groupby('raw_sentiment')['char_count'].describe())\n",
    "\n",
    "print(\"\\nWord count stats by sentiment:\")\n",
    "print(twitter_df.groupby('raw_sentiment')['word_count'].describe())\n",
    "\n",
    "# 7. Show example tweets\n",
    "print(\"\\nPositive Tweet Example:\\n\", twitter_df[twitter_df['raw_sentiment'] == 'Positive emotion']['text'].iloc[0])\n",
    "print(\"\\nNegative Tweet Example:\\n\", twitter_df[twitter_df['raw_sentiment'] == 'Negative emotion']['text'].iloc[0])\n"
   ]
  },
  {
   "cell_type": "markdown",
   "id": "a68dc97e",
   "metadata": {},
   "source": [
    "### 🧹 Text Preprocessing with NLTK\n",
    "\n",
    "To prepare our tweet text data for machine learning, we performed several essential preprocessing steps using the Natural Language Toolkit (NLTK). These steps help clean and normalize the text so that our models can learn effectively from it.\n",
    "\n",
    "1. **Lowercasing**  \n",
    "   All characters in the tweets were converted to lowercase to ensure consistency (e.g., “Apple” and “apple” are treated the same).\n",
    "\n",
    "2. **Removing Noise**  \n",
    "   We removed:\n",
    "   - URLs (e.g., `http://...`, `www...`)  \n",
    "   - Twitter mentions (e.g., `@username`) and hashtags (`#topic`)  \n",
    "   - Punctuation and numeric characters  \n",
    "   - Extra white spaces  \n",
    "\n",
    "3. **Tokenization**  \n",
    "   The cleaned string was split into individual words (tokens) using `word_tokenize()` from NLTK.\n",
    "\n",
    "4. **Stopword Removal and Lemmatization**  \n",
    "   Common English stopwords (like “the”, “and”, “is”) were filtered out as they carry little meaning for sentiment analysis.  \n",
    "   Then, we applied lemmatization using `WordNetLemmatizer` to reduce words to their base form (e.g., “running” → “run”), making the vocabulary smaller and more meaningful.\n",
    "\n",
    "5. **New Column – `clean_text`**  \n",
    "   The final cleaned and processed text for each tweet was stored in a new column called `clean_text`. This column will be used for feature extraction in the next steps.\n",
    "\n",
    "Below is a sample of the transformation:\n",
    "\n",
    "| Original Tweet | Cleaned Text |\n",
    "|----------------|---------------|\n",
    "| `.@wesley83 I have a 3G iPhone. After 3 hrs tweeting it's dead.` | `g iphone hr tweeting dead need upgrade plugin` |\n",
    "| `@jessedee Know about @fludapp ? Awesome iPad/iPhone app.` | `know awesome ipadiphone app youll likely appreciate` |\n",
    "| `@swonderlin Can not wait for #iPad 2 also. The sale is coming.` | `wait also sale` |\n",
    "\n",
    "These transformations significantly reduce noise and standardize the input, improving the quality of features we’ll extract for modeling.\n"
   ]
  },
  {
   "cell_type": "code",
   "execution_count": null,
   "id": "53de2995",
   "metadata": {},
   "outputs": [
    {
     "data": {
      "text/html": [
       "<div>\n",
       "<style scoped>\n",
       "    .dataframe tbody tr th:only-of-type {\n",
       "        vertical-align: middle;\n",
       "    }\n",
       "\n",
       "    .dataframe tbody tr th {\n",
       "        vertical-align: top;\n",
       "    }\n",
       "\n",
       "    .dataframe thead th {\n",
       "        text-align: right;\n",
       "    }\n",
       "</style>\n",
       "<table border=\"1\" class=\"dataframe\">\n",
       "  <thead>\n",
       "    <tr style=\"text-align: right;\">\n",
       "      <th></th>\n",
       "      <th>text</th>\n",
       "      <th>clean_text</th>\n",
       "    </tr>\n",
       "  </thead>\n",
       "  <tbody>\n",
       "    <tr>\n",
       "      <th>0</th>\n",
       "      <td>.@wesley83 I have a 3G iPhone. After 3 hrs twe...</td>\n",
       "      <td>g iphone hr tweeting dead need upgrade plugin ...</td>\n",
       "    </tr>\n",
       "    <tr>\n",
       "      <th>1</th>\n",
       "      <td>@jessedee Know about @fludapp ? Awesome iPad/i...</td>\n",
       "      <td>know awesome ipadiphone app youll likely appre...</td>\n",
       "    </tr>\n",
       "    <tr>\n",
       "      <th>2</th>\n",
       "      <td>@swonderlin Can not wait for #iPad 2 also. The...</td>\n",
       "      <td>wait also sale</td>\n",
       "    </tr>\n",
       "    <tr>\n",
       "      <th>3</th>\n",
       "      <td>@sxsw I hope this year's festival isn't as cra...</td>\n",
       "      <td>hope year festival isnt crashy year iphone app</td>\n",
       "    </tr>\n",
       "    <tr>\n",
       "      <th>4</th>\n",
       "      <td>@sxtxstate great stuff on Fri #SXSW: Marissa M...</td>\n",
       "      <td>great stuff fri marissa mayer google tim oreil...</td>\n",
       "    </tr>\n",
       "  </tbody>\n",
       "</table>\n",
       "</div>"
      ],
      "text/plain": [
       "                                                text  \\\n",
       "0  .@wesley83 I have a 3G iPhone. After 3 hrs twe...   \n",
       "1  @jessedee Know about @fludapp ? Awesome iPad/i...   \n",
       "2  @swonderlin Can not wait for #iPad 2 also. The...   \n",
       "3  @sxsw I hope this year's festival isn't as cra...   \n",
       "4  @sxtxstate great stuff on Fri #SXSW: Marissa M...   \n",
       "\n",
       "                                          clean_text  \n",
       "0  g iphone hr tweeting dead need upgrade plugin ...  \n",
       "1  know awesome ipadiphone app youll likely appre...  \n",
       "2                                     wait also sale  \n",
       "3     hope year festival isnt crashy year iphone app  \n",
       "4  great stuff fri marissa mayer google tim oreil...  "
      ]
     },
     "execution_count": 36,
     "metadata": {},
     "output_type": "execute_result"
    }
   ],
   "source": [
    "# Here we are removing stopwords, lemmatizing, and tokenizing the text using NLTK\n",
    "from nltk.corpus import stopwords\n",
    "from nltk.tokenize import word_tokenize\n",
    "from nltk.stem import WordNetLemmatizer\n",
    "\n",
    "# Setup\n",
    "stop_words = set(stopwords.words('english'))\n",
    "lemmatizer = WordNetLemmatizer()\n",
    "\n",
    "def preprocess_text_nltk(text):\n",
    "    text = text.lower()                                     # Lowercase\n",
    "    text = re.sub(r\"http\\S+|www\\S+|https\\S+\", '', text)     # Remove URLs\n",
    "    text = re.sub(r\"\\@\\w+|\\#\\w+\", '', text)                 # Remove mentions and hashtags\n",
    "    text = re.sub(r\"[^a-z\\s]\", '', text)                    # Remove punctuation/digits\n",
    "    text = re.sub(r\"\\s+\", ' ', text).strip()                # Remove extra spaces\n",
    "\n",
    "    # Tokenize\n",
    "    tokens = word_tokenize(text)\n",
    "\n",
    "    # Remove stopwords and lemmatize\n",
    "    tokens = [lemmatizer.lemmatize(word) for word in tokens if word not in stop_words]\n",
    "\n",
    "    return \" \".join(tokens)\n",
    "\n",
    "# Apply to your DataFrame\n",
    "twitter_df['clean_text'] = twitter_df['text'].apply(preprocess_text_nltk)\n",
    "\n",
    "# Preview\n",
    "twitter_df[['text', 'clean_text']].head()\n"
   ]
  },
  {
   "cell_type": "markdown",
   "id": "2f256d70",
   "metadata": {},
   "source": [
    "### 📊 Visualizing Sentiment Distribution\n",
    "\n",
    "The chart below shows the distribution of sentiment classes in our dataset. Using Seaborn's `countplot`, we created a bar chart to visualize how many tweets fall under each sentiment category.\n",
    "\n",
    "This plot helps us quickly assess the balance of our data. For example, a heavily skewed distribution could bias our model toward the dominant class. In our case, we observe that most tweets express **no emotion**, followed by a significant number of **positive emotions**, and fewer **negative emotions** or **ambiguous cases**.\n",
    "\n",
    "Understanding this distribution is important before training any model, as class imbalance can affect performance and may require resampling or weighting techniques.\n"
   ]
  },
  {
   "cell_type": "code",
   "execution_count": 38,
   "id": "9396d0ff",
   "metadata": {},
   "outputs": [
    {
     "data": {
      "image/png": "[encoded data removed]",
      "text/plain": [
       "<Figure size 432x288 with 1 Axes>"
      ]
     },
     "metadata": {
      "needs_background": "light"
     },
     "output_type": "display_data"
    }
   ],
   "source": [
    "sns.countplot(x='raw_sentiment', data=twitter_df)\n",
    "plt.title(\"Sentiment Class Distribution\")\n",
    "plt.xlabel(\"Sentiment\")\n",
    "plt.ylabel(\"Tweet Count\")\n",
    "plt.show()\n"
   ]
  },
  {
   "cell_type": "markdown",
   "id": "7678ccb1",
   "metadata": {},
   "source": [
    "### 🔠 Most Common Words in Positive vs Negative Tweets\n",
    "\n",
    "To gain further insights into what users are saying, we analyzed the most frequently used words in **positive** and **negative** tweets separately using the `Counter` class from Python’s `collections` module.\n",
    "\n",
    "For **positive tweets**, the most common words include _“link”_, _“ipad”_, _“apple”_, and _“google”_. These words suggest excitement or buzz around new tech products, launches, or events (e.g., _SXSW_, _popup_, _party_).\n",
    "\n",
    "On the other hand, **negative tweets** also mention _“ipad”_, _“iphone”_, and _“google”_, but are more likely to include critical or frustrated words like _“need”_, _“design”_, _“people”_, or _“think”_. This contrast gives us a clearer understanding of how product mentions differ in tone and context depending on the sentiment.\n",
    "\n",
    "This kind of word frequency analysis is crucial in natural language processing to identify key drivers behind different emotions expressed in text.\n"
   ]
  },
  {
   "cell_type": "code",
   "execution_count": 43,
   "id": "ae4dd764",
   "metadata": {},
   "outputs": [
    {
     "name": "stdout",
     "output_type": "stream",
     "text": [
      "Top Positive Words:\n",
      "[('link', 1210), ('ipad', 970), ('rt', 933), ('apple', 704), ('google', 623), ('store', 547), ('iphone', 439), ('app', 383), ('new', 358), ('austin', 250), ('popup', 218), ('get', 181), ('amp', 178), ('launch', 173), ('android', 155), ('one', 148), ('sxsw', 144), ('party', 140), ('line', 140), ('great', 135)]\n",
      "\n",
      "Top Negative Words:\n",
      "[('ipad', 167), ('iphone', 142), ('rt', 137), ('google', 128), ('link', 102), ('apple', 92), ('app', 60), ('store', 45), ('new', 43), ('like', 42), ('need', 35), ('people', 29), ('circle', 28), ('design', 28), ('social', 27), ('apps', 26), ('get', 25), ('austin', 23), ('one', 23), ('think', 23)]\n"
     ]
    }
   ],
   "source": [
    "from collections import Counter\n",
    "\n",
    "def get_top_n_words(corpus, n=20):\n",
    "    all_words = ' '.join(corpus).split()\n",
    "    return Counter(all_words).most_common(n)\n",
    "\n",
    "print(\"Top Positive Words:\")\n",
    "print(get_top_n_words(twitter_df[twitter_df['raw_sentiment'] == 'Positive emotion']['clean_text']))\n",
    "\n",
    "print(\"\\nTop Negative Words:\")\n",
    "print(get_top_n_words(twitter_df[twitter_df['raw_sentiment'] == 'Negative emotion']['clean_text']))\n"
   ]
  },
  {
   "cell_type": "code",
   "execution_count": 44,
   "id": "e87dd2c4",
   "metadata": {},
   "outputs": [
    {
     "name": "stdout",
     "output_type": "stream",
     "text": [
      "Empty clean_text count: 2\n",
      "Positive tweets: 2970\n",
      "Negative tweets: 569\n"
     ]
    }
   ],
   "source": [
    "# Are there any clean_text entries that are completely empty?\n",
    "print(\"Empty clean_text count:\", (twitter_df['clean_text'].str.strip() == '').sum())\n",
    "\n",
    "# Are the positive and negative subsets populated?\n",
    "print(\"Positive tweets:\", len(twitter_df[twitter_df['raw_sentiment'] == 'Positive emotion']))\n",
    "print(\"Negative tweets:\", len(twitter_df[twitter_df['raw_sentiment'] == 'Negative emotion']))\n"
   ]
  },
  {
   "cell_type": "code",
   "execution_count": 45,
   "id": "00dafb92",
   "metadata": {},
   "outputs": [],
   "source": [
    "twitter_df['word_count'] = twitter_df['clean_text'].apply(lambda x: len(x.split()))\n",
    "twitter_df = twitter_df[twitter_df['word_count'] > 2]\n"
   ]
  },
  {
   "cell_type": "code",
   "execution_count": 46,
   "id": "baaedbfd",
   "metadata": {},
   "outputs": [
    {
     "name": "stdout",
     "output_type": "stream",
     "text": [
      "                                                   text  \\\n",
      "5111  RT @mention @mention Alive and loving it! Grea...   \n",
      "5700  RT @mention Epic. There's just one guy waiting...   \n",
      "8751  Google dev at the panel indicates that Android...   \n",
      "656   wondering if ppl in #sxsw on friday will queue...   \n",
      "1332               what's up with Google circles? #sxsw   \n",
      "\n",
      "                                             clean_text  \n",
      "5111  rt alive loving great talk jonathan dahl googl...  \n",
      "5700  rt epic there one guy waiting line ipad austin...  \n",
      "8751  google dev panel indicates android screen read...  \n",
      "656   wondering ppl friday queue convention centre a...  \n",
      "1332                                whats google circle  \n"
     ]
    }
   ],
   "source": [
    "print(twitter_df[['text', 'clean_text']].sample(5))\n"
   ]
  },
  {
   "cell_type": "code",
   "execution_count": 49,
   "id": "7660368b",
   "metadata": {},
   "outputs": [],
   "source": [
    "from sklearn.model_selection import train_test_split\n",
    "from sklearn.feature_extraction.text import TfidfVectorizer\n",
    "\n",
    "# Step 1: Use only tweets that are either Positive or Negative\n",
    "binary_df = twitter_df[twitter_df['raw_sentiment'].isin(['Positive emotion', 'Negative emotion'])].copy()\n",
    "\n",
    "# Step 2: Set features and labels\n",
    "X = binary_df['clean_text']\n",
    "y = binary_df['raw_sentiment'].map({'Positive emotion': 1, 'Negative emotion': 0})  # Encode target as binary\n",
    "\n",
    "# Step 3: Split the data\n",
    "X_train, X_test, y_train, y_test = train_test_split(\n",
    "    X, y, test_size=0.2, stratify=y, random_state=42\n",
    ")\n",
    "\n",
    "# Step 4: TF-IDF Vectorization\n",
    "tfidf = TfidfVectorizer(max_features=3000, ngram_range=(1, 2))\n",
    "X_train_tfidf = tfidf.fit_transform(X_train)\n",
    "X_test_tfidf = tfidf.transform(X_test)\n"
   ]
  },
  {
   "cell_type": "code",
   "execution_count": 50,
   "id": "9ab3465e",
   "metadata": {},
   "outputs": [
    {
     "name": "stdout",
     "output_type": "stream",
     "text": [
      "TF-IDF shape (X_train): (2821, 3000)\n",
      "TF-IDF shape (X_test): (706, 3000)\n"
     ]
    }
   ],
   "source": [
    "print(\"TF-IDF shape (X_train):\", X_train_tfidf.shape)\n",
    "print(\"TF-IDF shape (X_test):\", X_test_tfidf.shape)\n"
   ]
  },
  {
   "cell_type": "markdown",
   "id": "bc07c4db",
   "metadata": {},
   "source": [
    "### 🤖 Logistic Regression Model Performance\n",
    "\n",
    "We trained a **Logistic Regression** classifier using the TF-IDF-transformed tweet text to predict whether a tweet expresses **emotion toward a brand or product (1)** or **no emotion (0)**.\n",
    "\n",
    "After training the model and making predictions on the test set, we evaluated its performance using a classification report and confusion matrix:\n",
    "\n",
    "- **Accuracy**: The model achieved an overall accuracy of **85%**, which initially seems promising.\n",
    "- **Class 1 (Emotion)**: Precision (0.85), recall (1.00), and F1-score (0.92) indicate that the model is very good at identifying tweets that express emotion.\n",
    "- **Class 0 (No Emotion)**: Performance is very poor, with only **8% recall**, meaning it struggles to identify neutral or emotionless tweets. Only 9 out of 114 such tweets were correctly classified.\n",
    "\n",
    "The **confusion matrix** confirms this:\n",
    "- 591 true positives and only 9 true negatives.\n",
    "- 105 false positives (neutral tweets misclassified as emotional), and only 1 false negative.\n",
    "\n",
    "Overall, while the model is heavily skewed toward predicting emotional tweets correctly, it does not generalize well for tweets without emotional content. This imbalance likely reflects the skewed nature of the dataset, where tweets expressing emotion dominate the samples.\n"
   ]
  },
  {
   "cell_type": "code",
   "execution_count": 54,
   "id": "3bfea4c4",
   "metadata": {},
   "outputs": [
    {
     "name": "stdout",
     "output_type": "stream",
     "text": [
      "Classification Report:\n",
      "\n",
      "              precision    recall  f1-score   support\n",
      "\n",
      "           0       0.90      0.08      0.15       114\n",
      "           1       0.85      1.00      0.92       592\n",
      "\n",
      "    accuracy                           0.85       706\n",
      "   macro avg       0.87      0.54      0.53       706\n",
      "weighted avg       0.86      0.85      0.79       706\n",
      "\n",
      "Confusion Matrix:\n",
      "\n",
      "[[  9 105]\n",
      " [  1 591]]\n"
     ]
    }
   ],
   "source": [
    "from sklearn.linear_model import LogisticRegression\n",
    "from sklearn.metrics import classification_report, confusion_matrix\n",
    "\n",
    "# Train\n",
    "model = LogisticRegression(max_iter=1000)\n",
    "model.fit(X_train_tfidf, y_train)\n",
    "\n",
    "# Predict\n",
    "y_pred = model.predict(X_test_tfidf)\n",
    "\n",
    "# Evaluate\n",
    "print(\"Classification Report:\\n\")\n",
    "print(classification_report(y_test, y_pred))\n",
    "\n",
    "print(\"Confusion Matrix:\\n\")\n",
    "print(confusion_matrix(y_test, y_pred))\n"
   ]
  },
  {
   "cell_type": "code",
   "execution_count": 55,
   "id": "b255d889",
   "metadata": {},
   "outputs": [
    {
     "name": "stdout",
     "output_type": "stream",
     "text": [
      "Classification Report:\n",
      "\n",
      "              precision    recall  f1-score   support\n",
      "\n",
      "           0       0.50      0.65      0.56       114\n",
      "           1       0.93      0.87      0.90       592\n",
      "\n",
      "    accuracy                           0.84       706\n",
      "   macro avg       0.71      0.76      0.73       706\n",
      "weighted avg       0.86      0.84      0.85       706\n",
      "\n",
      "Confusion Matrix:\n",
      "\n",
      "[[ 74  40]\n",
      " [ 75 517]]\n"
     ]
    }
   ],
   "source": [
    "model = LogisticRegression(max_iter=1000, class_weight='balanced')\n",
    "model.fit(X_train_tfidf, y_train)\n",
    "\n",
    "y_pred = model.predict(X_test_tfidf)\n",
    "\n",
    "print(\"Classification Report:\\n\")\n",
    "print(classification_report(y_test, y_pred))\n",
    "\n",
    "print(\"Confusion Matrix:\\n\")\n",
    "print(confusion_matrix(y_test, y_pred))\n"
   ]
  },
  {
   "cell_type": "code",
   "execution_count": 57,
   "id": "9fc5689e",
   "metadata": {},
   "outputs": [],
   "source": [
    "from sklearn.feature_extraction.text import TfidfVectorizer\n",
    "\n",
    "vectorizer = TfidfVectorizer(max_features=3000)\n",
    "X_train_tfidf = vectorizer.fit_transform(X_train)\n"
   ]
  },
  {
   "cell_type": "markdown",
   "id": "8ff5dcdd",
   "metadata": {},
   "source": [
    "### 📈 Interpreting the Most Influential Words for Sentiment Prediction\n",
    "\n",
    "Based on the logistic regression model's coefficients, we identified the words that had the greatest influence on classifying tweets as emotional (positive class) or non-emotional (negative class).\n",
    "\n",
    "#### ✅ Top Positive Influencing Words\n",
    "These words had the highest positive coefficients, meaning they pushed the model toward predicting the presence of emotion in a tweet. Words like:\n",
    "\n",
    "- **\"quarter\"**, **\"im\"**, and **\"room\"** appeared frequently in emotional tweets, possibly reflecting excitement or discussion about experiences or products.\n",
    "- Words such as **\"instagram\"**, **\"wonderful\"**, and **\"tomorrow\"** likely conveyed positive anticipation or appreciation.\n",
    "\n",
    "These features signal language patterns commonly associated with emotionally expressive content.\n",
    "\n",
    "#### ❌ Top Negative Influencing Words\n",
    "On the other hand, these words had the most negative coefficients, indicating a stronger association with the **absence** of emotion:\n",
    "\n",
    "- Terms like **\"planner\"**, **\"message\"**, **\"run\"**, and **\"research\"** may appear in more factual, neutral, or technical tweets.\n",
    "- Words such as **\"trigger\"**, **\"browser\"**, or **\"war\"** might also reflect topics that are more informational or detached in tone, hence lowering emotional expression.\n",
    "\n",
    "This analysis provides a valuable layer of interpretability, helping us understand **what specific language patterns influence our sentiment predictions** — and giving business stakeholders a better sense of how consumers are talking about their products or experiences.\n"
   ]
  },
  {
   "cell_type": "code",
   "execution_count": 60,
   "id": "f226b187",
   "metadata": {},
   "outputs": [
    {
     "name": "stdout",
     "output_type": "stream",
     "text": [
      "Top Positive Influencing Words:\n",
      "               word      coef\n",
      "1558       quarter  2.734318\n",
      "946             im  2.108326\n",
      "1873          room  2.021936\n",
      "458         dennis  1.838799\n",
      "1176          made  1.836446\n",
      "202           book  1.755317\n",
      "984      instagram  1.627241\n",
      "2914           wot  1.623317\n",
      "2890     wonderful  1.423450\n",
      "1797     reporting  1.339278\n",
      "43        allowing  1.305719\n",
      "251       calendar  1.282710\n",
      "2531      tomorrow  1.197911\n",
      "1609         quoti  1.192205\n",
      "1162         lovin  1.191011\n",
      "1714  realllllllly  1.189564\n",
      "1144          logo  1.178298\n",
      "149           bank  1.175661\n",
      "1959       selling  1.160923\n",
      "2653      unboxing  1.156519\n",
      "\n",
      "Top Negative Influencing Words:\n",
      "                    word      coef\n",
      "1427            planner -2.484856\n",
      "1588  quotcoworkersquot -2.237214\n",
      "2591            trigger -2.214063\n",
      "1889                run -2.072878\n",
      "1225            message -1.957018\n",
      "2983               zagg -1.948947\n",
      "534            drumroll -1.801944\n",
      "1230           midnight -1.713787\n",
      "1724           received -1.686394\n",
      "321            climbing -1.672761\n",
      "1449           popstore -1.632042\n",
      "2199             spring -1.631332\n",
      "525              driven -1.628834\n",
      "2784                war -1.579532\n",
      "231             browser -1.559472\n",
      "2772             walkin -1.542615\n",
      "1433            playing -1.497556\n",
      "1804           research -1.496690\n",
      "1733            recomds -1.491769\n",
      "2939                 xd -1.474748\n"
     ]
    }
   ],
   "source": [
    "# Get feature (word) names from the TF-IDF vectorizer\n",
    "feature_names = vectorizer.get_feature_names()\n",
    "\n",
    "# Get model coefficients\n",
    "coefficients = model.coef_[0]\n",
    "\n",
    "# Pair features with their coefficients\n",
    "coef_df = pd.DataFrame({\n",
    "    'word': feature_names,\n",
    "    'coef': coefficients\n",
    "})\n",
    "\n",
    "# Sort to get top positive and negative contributors\n",
    "top_positive_words = coef_df.sort_values(by='coef', ascending=False).head(20)\n",
    "top_negative_words = coef_df.sort_values(by='coef', ascending=True).head(20)\n",
    "\n",
    "print(\"Top Positive Influencing Words:\\n\", top_positive_words)\n",
    "print(\"\\nTop Negative Influencing Words:\\n\", top_negative_words)\n"
   ]
  },
  {
   "cell_type": "markdown",
   "id": "2d1453d8",
   "metadata": {},
   "source": [
    "## Visualizing Important Words in Logistic Regression\n",
    "\n",
    "This plot shows the top words that positively and negatively influence the sentiment predictions made by the logistic regression model. \n",
    "\n",
    "- The **left chart** shows the most positive words (with the highest positive coefficients).\n",
    "- The **right chart** shows the most negative words (with the lowest coefficients).\n",
    "\n",
    "These words provide insight into which terms are most influential when the model predicts positive or negative sentiment.\n"
   ]
  },
  {
   "cell_type": "code",
   "execution_count": 61,
   "id": "df2db3c3",
   "metadata": {},
   "outputs": [
    {
     "data": {
      "image/png": "[encoded data removed]",
      "text/plain": [
       "<Figure size 1008x432 with 2 Axes>"
      ]
     },
     "metadata": {},
     "output_type": "display_data"
    }
   ],
   "source": [
    "\n",
    "\n",
    "# Set style\n",
    "sns.set(style='whitegrid')\n",
    "plt.figure(figsize=(14, 6))\n",
    "\n",
    "# Plot Top Positive Words\n",
    "plt.subplot(1, 2, 1)\n",
    "sns.barplot(x='coef', y='word', data=top_positive_words, palette='Greens_r')\n",
    "plt.title('Top Positive Influencing Words')\n",
    "plt.xlabel('Coefficient Value')\n",
    "plt.ylabel('Word')\n",
    "\n",
    "# Plot Top Negative Words\n",
    "plt.subplot(1, 2, 2)\n",
    "sns.barplot(x='coef', y='word', data=top_negative_words, palette='Reds_r')\n",
    "plt.title('Top Negative Influencing Words')\n",
    "plt.xlabel('Coefficient Value')\n",
    "plt.ylabel('')\n",
    "\n",
    "plt.tight_layout()\n",
    "plt.show()\n"
   ]
  },
  {
   "cell_type": "markdown",
   "id": "5f7d16d3",
   "metadata": {},
   "source": [
    "## Random Forest Model Evaluation\n",
    "\n",
    "We trained a Random Forest Classifier to predict sentiment. Below is the classification report, which shows how well the model performed:\n",
    "\n",
    "- **Precision**: How many of the predicted positives/negatives were correct.\n",
    "- **Recall**: How many actual positives/negatives were correctly identified.\n",
    "- **F1-score**: Harmonic mean of precision and recall.\n",
    "- **Support**: Number of actual instances for each class.\n",
    "\n",
    "Although overall accuracy is good (82%), the model struggles with the minority (negative) class, achieving only 3% recall, meaning it misses most of the negative tweets.\n"
   ]
  },
  {
   "cell_type": "code",
   "execution_count": 64,
   "id": "fb093fc5",
   "metadata": {},
   "outputs": [
    {
     "name": "stdout",
     "output_type": "stream",
     "text": [
      "Classification Report:\n",
      "\n",
      "              precision    recall  f1-score   support\n",
      "\n",
      "           0       0.17      0.03      0.05       114\n",
      "           1       0.84      0.97      0.90       592\n",
      "\n",
      "    accuracy                           0.82       706\n",
      "   macro avg       0.50      0.50      0.47       706\n",
      "weighted avg       0.73      0.82      0.76       706\n",
      "\n",
      "Confusion Matrix:\n",
      "\n",
      "[[  3 111]\n",
      " [ 15 577]]\n"
     ]
    }
   ],
   "source": [
    "from sklearn.ensemble import RandomForestClassifier\n",
    "from sklearn.metrics import classification_report, confusion_matrix\n",
    "\n",
    "# Train Random Forest\n",
    "rf_model = RandomForestClassifier(n_estimators=100, random_state=42)\n",
    "rf_model.fit(X_train_tfidf, y_train)\n",
    "\n",
    "# Predict\n",
    "y_pred_rf = rf_model.predict(X_test_tfidf)\n",
    "\n",
    "# Evaluate\n",
    "print(\"Classification Report:\\n\")\n",
    "print(classification_report(y_test, y_pred_rf))\n",
    "\n",
    "print(\"Confusion Matrix:\\n\")\n",
    "print(confusion_matrix(y_test, y_pred_rf))\n"
   ]
  },
  {
   "cell_type": "code",
   "execution_count": 70,
   "id": "a659b3d7",
   "metadata": {},
   "outputs": [
    {
     "data": {
      "image/png": "[encoded data removed]",
      "text/plain": [
       "<Figure size 432x288 with 2 Axes>"
      ]
     },
     "metadata": {},
     "output_type": "display_data"
    }
   ],
   "source": [
    "import seaborn as sns\n",
    "import matplotlib.pyplot as plt\n",
    "from sklearn.metrics import confusion_matrix\n",
    "\n",
    "# Get the confusion matrix\n",
    "cm = confusion_matrix(y_test, y_pred_rf)\n",
    "\n",
    "# Plot\n",
    "plt.figure(figsize=(6, 4))\n",
    "sns.heatmap(cm, annot=True, fmt='d', cmap='Blues', xticklabels=['Negative', 'Positive'], yticklabels=['Negative', 'Positive'])\n",
    "\n",
    "plt.title('Confusion Matrix - Random Forest')\n",
    "plt.xlabel('Predicted Label')\n",
    "plt.ylabel('True Label')\n",
    "plt.show()\n"
   ]
  },
  {
   "cell_type": "code",
   "execution_count": 71,
   "id": "683d44d0",
   "metadata": {},
   "outputs": [
    {
     "data": {
      "image/png": "[encoded data removed]",
      "text/plain": [
       "<Figure size 432x288 with 2 Axes>"
      ]
     },
     "metadata": {},
     "output_type": "display_data"
    }
   ],
   "source": [
    "from sklearn.linear_model import LogisticRegression\n",
    "from sklearn.metrics import confusion_matrix\n",
    "import seaborn as sns\n",
    "import matplotlib.pyplot as plt\n",
    "\n",
    "# Re-train Logistic Regression (balanced)\n",
    "model_lr = LogisticRegression(max_iter=1000, class_weight='balanced')\n",
    "model_lr.fit(X_train_tfidf, y_train)\n",
    "\n",
    "# Predict\n",
    "y_pred_lr = model_lr.predict(X_test_tfidf)\n",
    "\n",
    "# Confusion Matrix\n",
    "cm_lr = confusion_matrix(y_test, y_pred_lr)\n",
    "\n",
    "# Plot\n",
    "plt.figure(figsize=(6, 4))\n",
    "sns.heatmap(cm_lr, annot=True, fmt='d', cmap='Greens',\n",
    "            xticklabels=['Negative', 'Positive'],\n",
    "            yticklabels=['Negative', 'Positive'])\n",
    "\n",
    "plt.title('Confusion Matrix - Logistic Regression (Balanced)')\n",
    "plt.xlabel('Predicted Label')\n",
    "plt.ylabel('True Label')\n",
    "plt.show()\n"
   ]
  },
  {
   "cell_type": "code",
   "execution_count": null,
   "id": "7356a357",
   "metadata": {},
   "outputs": [],
   "source": [
    "def predict_sentiment(text):\n",
    "    cleaned = preprocess_text_nltk(text)\n",
    "    vector = vectorizer.transform([cleaned])\n",
    "    prediction = model_lr.predict(vector)[0]\n",
    "    return \"Positive\" if prediction == 1 else \"Negative\"\n"
   ]
  }
 ],
 "metadata": {
  "kernelspec": {
   "display_name": "Python(learn-env)",
   "language": "python",
   "name": "learn-env"
  },
  "language_info": {
   "codemirror_mode": {
    "name": "ipython",
    "version": 3
   },
   "file_extension": ".py",
   "mimetype": "text/x-python",
   "name": "python",
   "nbconvert_exporter": "python",
   "pygments_lexer": "ipython3",
   "version": "3.8.5"
  }
 },
 "nbformat": 4,
 "nbformat_minor": 5
}
