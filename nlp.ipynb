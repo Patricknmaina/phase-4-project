{
 "cells": [
  {
   "cell_type": "markdown",
   "id": "f4654b4e",
   "metadata": {},
   "source": [
    "# 💬 **Twitter Sentiment Analysis (Natural Language Processing)**\n",
    "\n",
    "Authors:\n",
    "1. Patrick Maina (Team Leader)\n",
    "\n",
    "2. Christine Ndungu\n",
    "\n",
    "3. George Nyandusi\n",
    "\n",
    "4. Teresia Njoki\n",
    "\n",
    "## **1. 💼 Business Understanding**\n",
    "### **1.1. Introduction**\n",
    "Customer sentiment plays a significant role in shaping public perception and guiding product development for tech giants like Apple and Google. By analyzing public opinions through tweets on Twitter, entities can identify trends, gauge satisfaction, and respond to customer needs more effectively. In light of this, this project aims to build a sentiment analysis model that classifies Tweets about Apple and Google products into sentiment categories (positive, negative and neutral sentiments).\n",
    "\n",
    "### **1.2. Problem Statement**\n",
    "Apple and Google, two of the world's leading tech companies, heavily depend on public perception to maintain their market positions and customer trust. As consumers increasingly voice their opinions on platforms like Twitter, understanding these sentiments has become very paramount for brand management, product development, and customer engagement strategies. This has therefore led to the need to develop algorithms that can provide sentiments for various opinions from users.\n",
    "\n",
    "### **1.3. Objectives**\n",
    "The main objectives of this project are:\n",
    "- To apply **text preprocessing and vectorization** techniques to prepare the Twitter data for effective model training.\n",
    "\n",
    "- To develop a **binary sentiment** classifier to distinguish between positive and negative tweets, as a baseline.\n",
    "\n",
    "- To extend the model to a **multiclass classifier**, that includes the neutral class.\n",
    "\n",
    "- To evaluate classifier performance using appropriate metrics such as F1-score, precision and recall, particularly for imbalanced classes.\n",
    "- To provide actionable data-driven insights and recommendations.\n",
    "\n",
    "## **2. 📊 Data Understanding**\n",
    "In this step, we will explore the dataset to understand the kind of information it contains, the different features and their data types, as well as checking for things like missing values or unusual patterns. This will help us get a clear picture of the data before moving on to cleaning, preprocessing and vectorization.\n",
    "\n",
    "The dataset contains the following features:\n",
    "- `tweet_text`: This is the actual content of the tweet. It is the main text input used for sentiment classification.\n",
    "\n",
    "- `emotion_in_tweet_is_directed_at`: This specifies the tatget of the emotion expressed in the tweet (e.g., Apple, Google)\n",
    "\n",
    "- `is_there_an_emotion_directed_at_a_brand_or_product`: This indicates whether the tweet expresses an emotion directed at a brand or product. It serves as the label for classification.\n",
    "\n",
    "### **2.1. Import Libraries**\n",
    "For this project, we will implement the following tools and libraries:\n",
    "- `Numpy`: for numerical computations\n",
    "\n",
    "- `Pandas`: for data loading, cleaning and manipulation\n",
    "\n",
    "- `Seaborn`: for data visualization and EDA\n",
    "\n",
    "- `Matplotlib`: for data visualization and EDA\n",
    "\n",
    "- `Plotly`: for interactive visualizations\n",
    "\n",
    "- `Scikit-Learn`: for data preprocessing, predictive modeling and model evaluation\n",
    "\n",
    "- `Imblearn`: for handling class imbalance\n",
    "\n",
    "- `NLTK`: the Natural Language Toolkit for Natural Language Processing tasks\n",
    "\n",
    "- `Re`: The Regex library for text cleaning and manipulation."
   ]
  },
  {
   "cell_type": "code",
   "execution_count": 1,
   "id": "15465a32",
   "metadata": {},
   "outputs": [
    {
     "name": "stderr",
     "output_type": "stream",
     "text": [
      "[nltk_data] Downloading package stopwords to\n",
      "[nltk_data]     /home/patrick/nltk_data...\n",
      "[nltk_data]   Package stopwords is already up-to-date!\n",
      "[nltk_data] Downloading package wordnet to /home/patrick/nltk_data...\n",
      "[nltk_data]   Package wordnet is already up-to-date!\n",
      "[nltk_data] Downloading package punkt to /home/patrick/nltk_data...\n",
      "[nltk_data]   Package punkt is already up-to-date!\n",
      "[nltk_data] Downloading package punkt_tab to\n",
      "[nltk_data]     /home/patrick/nltk_data...\n",
      "[nltk_data]   Package punkt_tab is already up-to-date!\n"
     ]
    }
   ],
   "source": [
    "# import required libraries\n",
    "import pandas as pd\n",
    "from sklearn.feature_extraction.text import TfidfVectorizer, CountVectorizer\n",
    "# from sklearn.pipeline import Pipeline\n",
    "from sklearn.model_selection import train_test_split, GridSearchCV, RandomizedSearchCV\n",
    "from sklearn.impute import SimpleImputer\n",
    "from sklearn.base import BaseEstimator, TransformerMixin\n",
    "from sklearn.linear_model import LogisticRegression, SGDClassifier\n",
    "from sklearn.ensemble import RandomForestClassifier, GradientBoostingClassifier\n",
    "from sklearn.svm import SVC\n",
    "from sklearn.naive_bayes import MultinomialNB\n",
    "from sklearn.neighbors import KNeighborsClassifier\n",
    "from sklearn.tree import DecisionTreeClassifier\n",
    "from sklearn.metrics import accuracy_score, f1_score, precision_score, recall_score, classification_report, confusion_matrix\n",
    "from xgboost import XGBClassifier\n",
    "from imblearn.over_sampling import SMOTE\n",
    "from imblearn.pipeline import Pipeline\n",
    "from catboost import CatBoostClassifier\n",
    "\n",
    "# visualization libraries\n",
    "import plotly.graph_objects as go\n",
    "import plotly.express as px\n",
    "from plotly.subplots import make_subplots\n",
    "import plotly.figure_factory as ff\n",
    "import plotly.colors as pc\n",
    "import matplotlib.pyplot as plt\n",
    "import seaborn as sns\n",
    "\n",
    "# set visualization style\n",
    "sns.set(style=\"whitegrid\")\n",
    "\n",
    "# nltk imports\n",
    "import nltk\n",
    "import re\n",
    "nltk.download('stopwords')\n",
    "from nltk.corpus import stopwords\n",
    "from nltk.stem import WordNetLemmatizer\n",
    "nltk.download('wordnet')\n",
    "nltk.download('punkt')\n",
    "nltk.download('punkt_tab')\n",
    "from nltk.tokenize import word_tokenize\n",
    "\n",
    "# suppress warnings\n",
    "import warnings\n",
    "warnings.filterwarnings('ignore')"
   ]
  },
  {
   "cell_type": "markdown",
   "id": "53cebc37",
   "metadata": {},
   "source": [
    "### **2.2. Data Loading and Inspection**\n",
    "In this section, we will load the dataset, and check the info, as well as the summary statistics."
   ]
  },
  {
   "cell_type": "code",
   "execution_count": 2,
   "id": "0bc37d52",
   "metadata": {},
   "outputs": [
    {
     "data": {
      "text/html": [
       "<div>\n",
       "<style scoped>\n",
       "    .dataframe tbody tr th:only-of-type {\n",
       "        vertical-align: middle;\n",
       "    }\n",
       "\n",
       "    .dataframe tbody tr th {\n",
       "        vertical-align: top;\n",
       "    }\n",
       "\n",
       "    .dataframe thead th {\n",
       "        text-align: right;\n",
       "    }\n",
       "</style>\n",
       "<table border=\"1\" class=\"dataframe\">\n",
       "  <thead>\n",
       "    <tr style=\"text-align: right;\">\n",
       "      <th></th>\n",
       "      <th>tweet_text</th>\n",
       "      <th>emotion_in_tweet_is_directed_at</th>\n",
       "      <th>is_there_an_emotion_directed_at_a_brand_or_product</th>\n",
       "    </tr>\n",
       "  </thead>\n",
       "  <tbody>\n",
       "    <tr>\n",
       "      <th>0</th>\n",
       "      <td>.@wesley83 I have a 3G iPhone. After 3 hrs twe...</td>\n",
       "      <td>iPhone</td>\n",
       "      <td>Negative emotion</td>\n",
       "    </tr>\n",
       "    <tr>\n",
       "      <th>1</th>\n",
       "      <td>@jessedee Know about @fludapp ? Awesome iPad/i...</td>\n",
       "      <td>iPad or iPhone App</td>\n",
       "      <td>Positive emotion</td>\n",
       "    </tr>\n",
       "    <tr>\n",
       "      <th>2</th>\n",
       "      <td>@swonderlin Can not wait for #iPad 2 also. The...</td>\n",
       "      <td>iPad</td>\n",
       "      <td>Positive emotion</td>\n",
       "    </tr>\n",
       "    <tr>\n",
       "      <th>3</th>\n",
       "      <td>@sxsw I hope this year's festival isn't as cra...</td>\n",
       "      <td>iPad or iPhone App</td>\n",
       "      <td>Negative emotion</td>\n",
       "    </tr>\n",
       "    <tr>\n",
       "      <th>4</th>\n",
       "      <td>@sxtxstate great stuff on Fri #SXSW: Marissa M...</td>\n",
       "      <td>Google</td>\n",
       "      <td>Positive emotion</td>\n",
       "    </tr>\n",
       "  </tbody>\n",
       "</table>\n",
       "</div>"
      ],
      "text/plain": [
       "                                          tweet_text  \\\n",
       "0  .@wesley83 I have a 3G iPhone. After 3 hrs twe...   \n",
       "1  @jessedee Know about @fludapp ? Awesome iPad/i...   \n",
       "2  @swonderlin Can not wait for #iPad 2 also. The...   \n",
       "3  @sxsw I hope this year's festival isn't as cra...   \n",
       "4  @sxtxstate great stuff on Fri #SXSW: Marissa M...   \n",
       "\n",
       "  emotion_in_tweet_is_directed_at  \\\n",
       "0                          iPhone   \n",
       "1              iPad or iPhone App   \n",
       "2                            iPad   \n",
       "3              iPad or iPhone App   \n",
       "4                          Google   \n",
       "\n",
       "  is_there_an_emotion_directed_at_a_brand_or_product  \n",
       "0                                   Negative emotion  \n",
       "1                                   Positive emotion  \n",
       "2                                   Positive emotion  \n",
       "3                                   Negative emotion  \n",
       "4                                   Positive emotion  "
      ]
     },
     "execution_count": 2,
     "metadata": {},
     "output_type": "execute_result"
    }
   ],
   "source": [
    "# load the dataset\n",
    "tweet_df = pd.read_csv('data/twitter_data.csv', encoding='latin-1')\n",
    "\n",
    "# display the first few rows of the dataset\n",
    "tweet_df.head()"
   ]
  },
  {
   "cell_type": "code",
   "execution_count": 3,
   "id": "7aca9b55",
   "metadata": {},
   "outputs": [
    {
     "name": "stdout",
     "output_type": "stream",
     "text": [
      "<class 'pandas.core.frame.DataFrame'>\n",
      "RangeIndex: 9093 entries, 0 to 9092\n",
      "Data columns (total 3 columns):\n",
      " #   Column                                              Non-Null Count  Dtype \n",
      "---  ------                                              --------------  ----- \n",
      " 0   tweet_text                                          9092 non-null   object\n",
      " 1   emotion_in_tweet_is_directed_at                     3291 non-null   object\n",
      " 2   is_there_an_emotion_directed_at_a_brand_or_product  9093 non-null   object\n",
      "dtypes: object(3)\n",
      "memory usage: 213.2+ KB\n"
     ]
    }
   ],
   "source": [
    "# check the dataset info\n",
    "tweet_df.info()"
   ]
  },
  {
   "cell_type": "markdown",
   "id": "b49d8812",
   "metadata": {},
   "source": [
    "From the `info()` function, we can note the following:\n",
    "- The dataset contains a total of `9093` records, and 3 columns/features.\n",
    "\n",
    "- All the columns are of the `object` data type"
   ]
  },
  {
   "cell_type": "markdown",
   "id": "dd6a641d",
   "metadata": {},
   "source": [
    "In order to understand the columns better, and for ease of readability, we will rename the columns to give the data more meaning."
   ]
  },
  {
   "cell_type": "code",
   "execution_count": 4,
   "id": "fe6fbd63",
   "metadata": {},
   "outputs": [
    {
     "data": {
      "text/html": [
       "<div>\n",
       "<style scoped>\n",
       "    .dataframe tbody tr th:only-of-type {\n",
       "        vertical-align: middle;\n",
       "    }\n",
       "\n",
       "    .dataframe tbody tr th {\n",
       "        vertical-align: top;\n",
       "    }\n",
       "\n",
       "    .dataframe thead th {\n",
       "        text-align: right;\n",
       "    }\n",
       "</style>\n",
       "<table border=\"1\" class=\"dataframe\">\n",
       "  <thead>\n",
       "    <tr style=\"text-align: right;\">\n",
       "      <th></th>\n",
       "      <th>tweet</th>\n",
       "      <th>tweet_directed_at</th>\n",
       "      <th>sentiment</th>\n",
       "    </tr>\n",
       "  </thead>\n",
       "  <tbody>\n",
       "    <tr>\n",
       "      <th>0</th>\n",
       "      <td>.@wesley83 I have a 3G iPhone. After 3 hrs twe...</td>\n",
       "      <td>iPhone</td>\n",
       "      <td>Negative emotion</td>\n",
       "    </tr>\n",
       "    <tr>\n",
       "      <th>1</th>\n",
       "      <td>@jessedee Know about @fludapp ? Awesome iPad/i...</td>\n",
       "      <td>iPad or iPhone App</td>\n",
       "      <td>Positive emotion</td>\n",
       "    </tr>\n",
       "    <tr>\n",
       "      <th>2</th>\n",
       "      <td>@swonderlin Can not wait for #iPad 2 also. The...</td>\n",
       "      <td>iPad</td>\n",
       "      <td>Positive emotion</td>\n",
       "    </tr>\n",
       "    <tr>\n",
       "      <th>3</th>\n",
       "      <td>@sxsw I hope this year's festival isn't as cra...</td>\n",
       "      <td>iPad or iPhone App</td>\n",
       "      <td>Negative emotion</td>\n",
       "    </tr>\n",
       "    <tr>\n",
       "      <th>4</th>\n",
       "      <td>@sxtxstate great stuff on Fri #SXSW: Marissa M...</td>\n",
       "      <td>Google</td>\n",
       "      <td>Positive emotion</td>\n",
       "    </tr>\n",
       "  </tbody>\n",
       "</table>\n",
       "</div>"
      ],
      "text/plain": [
       "                                               tweet   tweet_directed_at  \\\n",
       "0  .@wesley83 I have a 3G iPhone. After 3 hrs twe...              iPhone   \n",
       "1  @jessedee Know about @fludapp ? Awesome iPad/i...  iPad or iPhone App   \n",
       "2  @swonderlin Can not wait for #iPad 2 also. The...                iPad   \n",
       "3  @sxsw I hope this year's festival isn't as cra...  iPad or iPhone App   \n",
       "4  @sxtxstate great stuff on Fri #SXSW: Marissa M...              Google   \n",
       "\n",
       "          sentiment  \n",
       "0  Negative emotion  \n",
       "1  Positive emotion  \n",
       "2  Positive emotion  \n",
       "3  Negative emotion  \n",
       "4  Positive emotion  "
      ]
     },
     "execution_count": 4,
     "metadata": {},
     "output_type": "execute_result"
    }
   ],
   "source": [
    "# rename the columns in the dataset\n",
    "def rename_columns(df):\n",
    "    df.columns = ['tweet', 'tweet_directed_at', 'sentiment']\n",
    "    return df\n",
    "\n",
    "tweet_df = rename_columns(tweet_df)\n",
    "tweet_df.head()"
   ]
  },
  {
   "cell_type": "markdown",
   "id": "0feb8b8e",
   "metadata": {},
   "source": [
    "In the sentiment column, we can check the different classes (sentiments), as well as their respective counts."
   ]
  },
  {
   "cell_type": "code",
   "execution_count": 5,
   "id": "95006a34",
   "metadata": {},
   "outputs": [
    {
     "data": {
      "text/plain": [
       "sentiment\n",
       "No emotion toward brand or product    5389\n",
       "Positive emotion                      2978\n",
       "Negative emotion                       570\n",
       "I can't tell                           156\n",
       "Name: count, dtype: int64"
      ]
     },
     "execution_count": 5,
     "metadata": {},
     "output_type": "execute_result"
    }
   ],
   "source": [
    "# check the unique values in 'sentiment'\n",
    "tweet_df['sentiment'].value_counts()"
   ]
  },
  {
   "cell_type": "markdown",
   "id": "46353df3",
   "metadata": {},
   "source": [
    "From the above cell, we have four distinct classes namely:\n",
    "- `Positive emotion`\n",
    "\n",
    "- `Negative emotion`\n",
    "\n",
    "- `No emotion toward the brand or product`\n",
    "\n",
    "- `I can't tell`\n",
    "\n",
    "The last two classes are not distict classes per se, so we can combine the two classes to create one single class (`Neutral emotion`), making the number of classes 3 in total."
   ]
  },
  {
   "cell_type": "code",
   "execution_count": 6,
   "id": "429a9022",
   "metadata": {},
   "outputs": [
    {
     "name": "stdout",
     "output_type": "stream",
     "text": [
      "Unique Sentiments:\n",
      "['Negative emotion' 'Positive emotion' 'Neutral emotion']\n"
     ]
    }
   ],
   "source": [
    "# combine the 'No emotion toward brand or product' and 'No emotion toward brand or product' into a single category\n",
    "tweet_df['sentiment'] = tweet_df['sentiment'].replace(\n",
    "    {\n",
    "        \"No emotion toward brand or product\": \"Neutral emotion\",\n",
    "        \"I can't tell\": \"Neutral emotion\",\n",
    "    }\n",
    ")\n",
    "\n",
    "# check the unique values in the sentiment column\n",
    "print(\"Unique Sentiments:\")\n",
    "print(tweet_df['sentiment'].unique())"
   ]
  },
  {
   "cell_type": "markdown",
   "id": "02024e8c",
   "metadata": {},
   "source": [
    "Next, we will check for missing values and duplicate values in our dataset."
   ]
  },
  {
   "cell_type": "code",
   "execution_count": 7,
   "id": "49bec51b",
   "metadata": {},
   "outputs": [
    {
     "name": "stdout",
     "output_type": "stream",
     "text": [
      "Missing Values (%):\n",
      "tweet                 0.010997\n",
      "tweet_directed_at    63.807324\n",
      "sentiment             0.000000\n",
      "dtype: float64\n"
     ]
    }
   ],
   "source": [
    "# check for missing values, and express as a percentage\n",
    "missing_values = tweet_df.isna().sum() / len(tweet_df) * 100\n",
    "print(\"Missing Values (%):\")\n",
    "print(missing_values)\n",
    "# tweet_df.isna().sum()"
   ]
  },
  {
   "cell_type": "markdown",
   "id": "ee2eb74a",
   "metadata": {},
   "source": [
    "We have a very huge number of missing values in the `tweet_directed_at` column. Since this column is not very significant in the modeling process, we will drop it entirely."
   ]
  },
  {
   "cell_type": "code",
   "execution_count": 8,
   "id": "5dfa1ade",
   "metadata": {},
   "outputs": [
    {
     "data": {
      "text/plain": [
       "tweet                0\n",
       "tweet_directed_at    0\n",
       "sentiment            0\n",
       "dtype: int64"
      ]
     },
     "execution_count": 8,
     "metadata": {},
     "output_type": "execute_result"
    }
   ],
   "source": [
    "# fill the missing values in 'tweet_directed_at' column with 'Not directed'\n",
    "tweet_df['tweet_directed_at'].fillna('Not directed', inplace=True)\n",
    "# tweet_df.drop(columns=['tweet_directed_at'], inplace=True)\n",
    "\n",
    "# drop the missing value in 'tweet' column\n",
    "tweet_df.dropna(subset=['tweet'], inplace=True, axis=0)\n",
    "\n",
    "# check again for missing values\n",
    "tweet_df.isna().sum()"
   ]
  },
  {
   "cell_type": "markdown",
   "id": "31ed7a2b",
   "metadata": {},
   "source": [
    "In this section, we check for duplicate rows in the dataset"
   ]
  },
  {
   "cell_type": "code",
   "execution_count": 9,
   "id": "5749db9d",
   "metadata": {},
   "outputs": [
    {
     "data": {
      "text/plain": [
       "np.int64(22)"
      ]
     },
     "execution_count": 9,
     "metadata": {},
     "output_type": "execute_result"
    }
   ],
   "source": [
    "# check for duplicate values\n",
    "tweet_df.duplicated().sum()"
   ]
  },
  {
   "cell_type": "markdown",
   "id": "9c3b0663",
   "metadata": {},
   "source": [
    "We have 22 duplicate rows in the data. We will drop the duplicate rows entirely."
   ]
  },
  {
   "cell_type": "code",
   "execution_count": 10,
   "id": "46ac95cd",
   "metadata": {},
   "outputs": [
    {
     "data": {
      "text/plain": [
       "np.int64(0)"
      ]
     },
     "execution_count": 10,
     "metadata": {},
     "output_type": "execute_result"
    }
   ],
   "source": [
    "# drop the duplicate rows\n",
    "tweet_df.drop_duplicates(inplace=True)\n",
    "tweet_df.duplicated().sum()"
   ]
  },
  {
   "cell_type": "markdown",
   "id": "59a6e176",
   "metadata": {},
   "source": [
    "Next, we will check the summary statistics of the data."
   ]
  },
  {
   "cell_type": "code",
   "execution_count": 11,
   "id": "4eb38290",
   "metadata": {},
   "outputs": [
    {
     "data": {
      "text/html": [
       "<div>\n",
       "<style scoped>\n",
       "    .dataframe tbody tr th:only-of-type {\n",
       "        vertical-align: middle;\n",
       "    }\n",
       "\n",
       "    .dataframe tbody tr th {\n",
       "        vertical-align: top;\n",
       "    }\n",
       "\n",
       "    .dataframe thead th {\n",
       "        text-align: right;\n",
       "    }\n",
       "</style>\n",
       "<table border=\"1\" class=\"dataframe\">\n",
       "  <thead>\n",
       "    <tr style=\"text-align: right;\">\n",
       "      <th></th>\n",
       "      <th>tweet</th>\n",
       "      <th>tweet_directed_at</th>\n",
       "      <th>sentiment</th>\n",
       "    </tr>\n",
       "  </thead>\n",
       "  <tbody>\n",
       "    <tr>\n",
       "      <th>count</th>\n",
       "      <td>9070</td>\n",
       "      <td>9070</td>\n",
       "      <td>9070</td>\n",
       "    </tr>\n",
       "    <tr>\n",
       "      <th>unique</th>\n",
       "      <td>9065</td>\n",
       "      <td>10</td>\n",
       "      <td>3</td>\n",
       "    </tr>\n",
       "    <tr>\n",
       "      <th>top</th>\n",
       "      <td>RT @mention RT @mention It's not a rumor: Appl...</td>\n",
       "      <td>Not directed</td>\n",
       "      <td>Neutral emotion</td>\n",
       "    </tr>\n",
       "    <tr>\n",
       "      <th>freq</th>\n",
       "      <td>2</td>\n",
       "      <td>5788</td>\n",
       "      <td>5531</td>\n",
       "    </tr>\n",
       "  </tbody>\n",
       "</table>\n",
       "</div>"
      ],
      "text/plain": [
       "                                                    tweet tweet_directed_at  \\\n",
       "count                                                9070              9070   \n",
       "unique                                               9065                10   \n",
       "top     RT @mention RT @mention It's not a rumor: Appl...      Not directed   \n",
       "freq                                                    2              5788   \n",
       "\n",
       "              sentiment  \n",
       "count              9070  \n",
       "unique                3  \n",
       "top     Neutral emotion  \n",
       "freq               5531  "
      ]
     },
     "execution_count": 11,
     "metadata": {},
     "output_type": "execute_result"
    }
   ],
   "source": [
    "tweet_df.describe()"
   ]
  },
  {
   "cell_type": "markdown",
   "id": "883c23da",
   "metadata": {},
   "source": [
    "### **2.3. Exploratory Data Analysis**\n",
    "In this section, we will perform a systematic investigation of the dataset to extract insights, evaluate feature distributions, assess the relationship between the feature and target variables, and identify anomalies, outliers or data quality issues. This will guide the selection of appropriate modeling techniques."
   ]
  },
  {
   "cell_type": "markdown",
   "id": "0adb3645",
   "metadata": {},
   "source": [
    "### **2.3.1. Dataset Overview**\n",
    "In this section, we get a general overview of the dataset, including the shape, number of tweets, number of features and column info."
   ]
  },
  {
   "cell_type": "code",
   "execution_count": 12,
   "id": "6285e580",
   "metadata": {},
   "outputs": [
    {
     "name": "stdout",
     "output_type": "stream",
     "text": [
      "Dataset Overview\n",
      "==================================================\n",
      "Dataset shape: (9070, 3)\n",
      "Number of tweets: 9070\n",
      "Number of features: 3\n",
      "Memory usage: 2.54 MB\n",
      "\n",
      "Column Information:\n",
      "------------------------------\n",
      "• tweet: object\n",
      "• tweet_directed_at: object\n",
      "• sentiment: object\n",
      "\n",
      "Dataset Info:\n",
      "<class 'pandas.core.frame.DataFrame'>\n",
      "Index: 9070 entries, 0 to 9092\n",
      "Data columns (total 3 columns):\n",
      " #   Column             Non-Null Count  Dtype \n",
      "---  ------             --------------  ----- \n",
      " 0   tweet              9070 non-null   object\n",
      " 1   tweet_directed_at  9070 non-null   object\n",
      " 2   sentiment          9070 non-null   object\n",
      "dtypes: object(3)\n",
      "memory usage: 283.4+ KB\n",
      "\n",
      "First few rows:\n"
     ]
    },
    {
     "data": {
      "text/html": [
       "<div>\n",
       "<style scoped>\n",
       "    .dataframe tbody tr th:only-of-type {\n",
       "        vertical-align: middle;\n",
       "    }\n",
       "\n",
       "    .dataframe tbody tr th {\n",
       "        vertical-align: top;\n",
       "    }\n",
       "\n",
       "    .dataframe thead th {\n",
       "        text-align: right;\n",
       "    }\n",
       "</style>\n",
       "<table border=\"1\" class=\"dataframe\">\n",
       "  <thead>\n",
       "    <tr style=\"text-align: right;\">\n",
       "      <th></th>\n",
       "      <th>tweet</th>\n",
       "      <th>tweet_directed_at</th>\n",
       "      <th>sentiment</th>\n",
       "    </tr>\n",
       "  </thead>\n",
       "  <tbody>\n",
       "    <tr>\n",
       "      <th>0</th>\n",
       "      <td>.@wesley83 I have a 3G iPhone. After 3 hrs twe...</td>\n",
       "      <td>iPhone</td>\n",
       "      <td>Negative emotion</td>\n",
       "    </tr>\n",
       "    <tr>\n",
       "      <th>1</th>\n",
       "      <td>@jessedee Know about @fludapp ? Awesome iPad/i...</td>\n",
       "      <td>iPad or iPhone App</td>\n",
       "      <td>Positive emotion</td>\n",
       "    </tr>\n",
       "    <tr>\n",
       "      <th>2</th>\n",
       "      <td>@swonderlin Can not wait for #iPad 2 also. The...</td>\n",
       "      <td>iPad</td>\n",
       "      <td>Positive emotion</td>\n",
       "    </tr>\n",
       "    <tr>\n",
       "      <th>3</th>\n",
       "      <td>@sxsw I hope this year's festival isn't as cra...</td>\n",
       "      <td>iPad or iPhone App</td>\n",
       "      <td>Negative emotion</td>\n",
       "    </tr>\n",
       "    <tr>\n",
       "      <th>4</th>\n",
       "      <td>@sxtxstate great stuff on Fri #SXSW: Marissa M...</td>\n",
       "      <td>Google</td>\n",
       "      <td>Positive emotion</td>\n",
       "    </tr>\n",
       "    <tr>\n",
       "      <th>5</th>\n",
       "      <td>@teachntech00 New iPad Apps For #SpeechTherapy...</td>\n",
       "      <td>Not directed</td>\n",
       "      <td>Neutral emotion</td>\n",
       "    </tr>\n",
       "    <tr>\n",
       "      <th>7</th>\n",
       "      <td>#SXSW is just starting, #CTIA is around the co...</td>\n",
       "      <td>Android</td>\n",
       "      <td>Positive emotion</td>\n",
       "    </tr>\n",
       "    <tr>\n",
       "      <th>8</th>\n",
       "      <td>Beautifully smart and simple idea RT @madebyma...</td>\n",
       "      <td>iPad or iPhone App</td>\n",
       "      <td>Positive emotion</td>\n",
       "    </tr>\n",
       "    <tr>\n",
       "      <th>9</th>\n",
       "      <td>Counting down the days to #sxsw plus strong Ca...</td>\n",
       "      <td>Apple</td>\n",
       "      <td>Positive emotion</td>\n",
       "    </tr>\n",
       "    <tr>\n",
       "      <th>10</th>\n",
       "      <td>Excited to meet the @samsungmobileus at #sxsw ...</td>\n",
       "      <td>Android</td>\n",
       "      <td>Positive emotion</td>\n",
       "    </tr>\n",
       "  </tbody>\n",
       "</table>\n",
       "</div>"
      ],
      "text/plain": [
       "                                                tweet   tweet_directed_at  \\\n",
       "0   .@wesley83 I have a 3G iPhone. After 3 hrs twe...              iPhone   \n",
       "1   @jessedee Know about @fludapp ? Awesome iPad/i...  iPad or iPhone App   \n",
       "2   @swonderlin Can not wait for #iPad 2 also. The...                iPad   \n",
       "3   @sxsw I hope this year's festival isn't as cra...  iPad or iPhone App   \n",
       "4   @sxtxstate great stuff on Fri #SXSW: Marissa M...              Google   \n",
       "5   @teachntech00 New iPad Apps For #SpeechTherapy...        Not directed   \n",
       "7   #SXSW is just starting, #CTIA is around the co...             Android   \n",
       "8   Beautifully smart and simple idea RT @madebyma...  iPad or iPhone App   \n",
       "9   Counting down the days to #sxsw plus strong Ca...               Apple   \n",
       "10  Excited to meet the @samsungmobileus at #sxsw ...             Android   \n",
       "\n",
       "           sentiment  \n",
       "0   Negative emotion  \n",
       "1   Positive emotion  \n",
       "2   Positive emotion  \n",
       "3   Negative emotion  \n",
       "4   Positive emotion  \n",
       "5    Neutral emotion  \n",
       "7   Positive emotion  \n",
       "8   Positive emotion  \n",
       "9   Positive emotion  \n",
       "10  Positive emotion  "
      ]
     },
     "execution_count": 12,
     "metadata": {},
     "output_type": "execute_result"
    }
   ],
   "source": [
    "# Basic dataset overview\n",
    "print(\"Dataset Overview\")\n",
    "print(\"=\" * 50)\n",
    "print(f\"Dataset shape: {tweet_df.shape}\")\n",
    "print(f\"Number of tweets: {len(tweet_df)}\")\n",
    "print(f\"Number of features: {len(tweet_df.columns)}\")\n",
    "print(f\"Memory usage: {tweet_df.memory_usage(deep=True).sum() / 1024**2:.2f} MB\")\n",
    "\n",
    "print(\"\\nColumn Information:\")\n",
    "print(\"-\" * 30)\n",
    "for col in tweet_df.columns:\n",
    "    print(f\"• {col}: {tweet_df[col].dtype}\")\n",
    "\n",
    "print(\"\\nDataset Info:\")\n",
    "tweet_df.info()\n",
    "\n",
    "print(\"\\nFirst few rows:\")\n",
    "tweet_df.head(10)"
   ]
  },
  {
   "cell_type": "markdown",
   "id": "34c00836",
   "metadata": {},
   "source": [
    "### **2.3.2. Sentiment Distribution Analysis**\n",
    "In this section, we will look at the distribution of the unique values in the `sentiment` column."
   ]
  },
  {
   "cell_type": "code",
   "execution_count": 13,
   "id": "a7ac1edc",
   "metadata": {},
   "outputs": [
    {
     "name": "stdout",
     "output_type": "stream",
     "text": [
      "Sentiment Distribution Analysis\n",
      "========================================\n",
      "Sentiment Categories:\n",
      "sentiment\n",
      "Neutral emotion     5531\n",
      "Positive emotion    2970\n",
      "Negative emotion     569\n",
      "Name: count, dtype: int64\n",
      "\n",
      "Sentiment Distribution (%):\n",
      "sentiment\n",
      "Neutral emotion     60.98\n",
      "Positive emotion    32.75\n",
      "Negative emotion     6.27\n",
      "Name: proportion, dtype: float64\n"
     ]
    }
   ],
   "source": [
    "# Sentiment Distribution Analysis\n",
    "print(\"Sentiment Distribution Analysis\")\n",
    "print(\"=\" * 40)\n",
    "\n",
    "# Count unique sentiment values\n",
    "sentiment_counts = tweet_df['sentiment'].value_counts()\n",
    "print(\"Sentiment Categories:\")\n",
    "print(sentiment_counts)\n",
    "\n",
    "# Calculate percentages\n",
    "sentiment_percentages = tweet_df['sentiment'].value_counts(normalize=True) * 100\n",
    "print(\"\\nSentiment Distribution (%):\")\n",
    "print(sentiment_percentages.round(2))"
   ]
  },
  {
   "cell_type": "code",
   "execution_count": 14,
   "id": "47cbe5bf",
   "metadata": {},
   "outputs": [
    {
     "data": {
      "image/png": "[encoded data removed]",
      "text/plain": [
       "<Figure size 1300x700 with 1 Axes>"
      ]
     },
     "metadata": {},
     "output_type": "display_data"
    }
   ],
   "source": [
    "# Visualize sentiment distribution\n",
    "plt.figure(figsize=(13, 7))\n",
    "\n",
    "# Plot 1: Count plot\n",
    "# plt.subplot(2, 3, 1)\n",
    "ax = sns.countplot(data=tweet_df, y='sentiment', order=sentiment_counts.index, palette='viridis')\n",
    "plt.title('Sentiment Distribution (Count)', fontsize=12, fontweight='bold')\n",
    "plt.xlabel('Count')\n",
    "for i, v in enumerate(sentiment_counts.values):\n",
    "    ax.text(v + 50, i, str(v), va='center', fontweight='bold')"
   ]
  },
  {
   "cell_type": "markdown",
   "id": "ce3a78a3",
   "metadata": {},
   "source": [
    "From the plot, out of the 9070 tweets in the dataset, `5531` tweets express a neutral emotion, which is about `60.98%` of the total tweets, `2970` tweets express a positive emotion, which is about `32.75%` of the total tweets, and `569` tweets express a negative emotion, which is about `6.27%` of the total tweets. This indicates that the sentiment(target) column is **highly imbalanced**. This imbalance can negatively impact the performance of the prediction model by influencing the model to make false predictions. Therefore, the class imbalance will be handles before modeling."
   ]
  },
  {
   "cell_type": "markdown",
   "id": "f79643fc",
   "metadata": {},
   "source": [
    "### **2.3.3. Tweet Destination distribution**\n",
    "In this section, we will look at the distribution of the various entities in which these tweets are directed to. This will aid in knowing how the tweets are distributed across different brands and products, helping us understand:\n",
    "\n",
    "- **Brand focus and market share** - Which entities (Apple, Google, iPhone, etc.) receive the most social media attention\n",
    "\n",
    "- **Sentiment patterns by destination** - How different brands/products are perceived by users\n",
    "\n",
    "- **Data balance assessment** - Whether we have sufficient data for meaningful analysis across different entities\n",
    "\n",
    "- **Competitive insights** - Relative discussion volume between Apple and Google products\n",
    "\n",
    "- **Targeted analysis opportunities** - Identifying which brands/products warrant deeper sentiment investigation\n",
    "\n",
    "This analysis will guide our modeling approach and help generate actionable business insights for brand management and product development strategies."
   ]
  },
  {
   "cell_type": "code",
   "execution_count": 17,
   "id": "33ef0444",
   "metadata": {},
   "outputs": [
    {
     "data": {
      "image/png": "[encoded data removed]",
      "text/plain": [
       "<Figure size 1300x700 with 1 Axes>"
      ]
     },
     "metadata": {},
     "output_type": "display_data"
    }
   ],
   "source": [
    "# Plot 2: Tweet destination distribution\n",
    "plt.figure(figsize=(13, 7))\n",
    "tweet_dest_counts = tweet_df['tweet_directed_at'].value_counts().head(10)\n",
    "ax = sns.barplot(x=tweet_dest_counts.values, y=tweet_dest_counts.index, palette='coolwarm')\n",
    "plt.title('Top 10 Tweet Destinations', fontsize=12, fontweight='bold')\n",
    "plt.xlabel('Count')\n",
    "for i, v in enumerate(tweet_dest_counts.values):\n",
    "    ax.text(v + 10, i, str(v), va='center', fontweight='bold')"
   ]
  },
  {
   "cell_type": "markdown",
   "id": "3b592795",
   "metadata": {},
   "source": [
    "From the plot above, we observe that the majority of tweets are not directed at any specific brand or product, with \"Not directed\" being the most frequent category. Among the directed tweets, \"iPad,\" \"Apple,\" and \"iPad or iPhone App\" receive the highest number of mentions, followed by \"Google\" and \"iPhone.\" This indicates that Apple-related products and services dominate the conversation in the dataset, while Google and its products receive comparatively fewer mentions. Overall, the data shows a strong focus on Apple within the top tweet destinations."
   ]
  },
  {
   "cell_type": "markdown",
   "id": "608aafef",
   "metadata": {},
   "source": [
    "### **2.3.4. Sentiment by Tweet destination**\n",
    "The sentiment by tweet destination plot helps us understand how people feel about different brands or products. It shows the proportion of positive, negative, and neutral tweets for each major destination (like Apple, Google, iPhone, etc.). This allows us to:\n",
    "\n",
    "- Compare public perception of different brands/products.\n",
    "\n",
    "- Identify which brands/products receive more positive or negative feedback.\n",
    "\n",
    "- Spot areas where a brand or product may need improvement or is performing well.\n",
    "\n",
    "- Guide business and marketing strategies based on how sentiment varies across destinations."
   ]
  },
  {
   "cell_type": "code",
   "execution_count": null,
   "id": "bcbb6d40",
   "metadata": {},
   "outputs": [
    {
     "data": {
      "application/vnd.plotly.v1+json": {
       "config": {
        "plotlyServerURL": "https://plot.ly"
       },
       "data": [
        {
         "name": "Negative emotion",
         "text": {
          "bdata": "AAAAAADAV0AAAAAAAABRQAAAAAAAgElAAAAAAABAX0AAAAAAAIBPQA==",
          "dtype": "f8"
         },
         "textposition": "auto",
         "type": "bar",
         "x": [
          "Apple",
          "Google",
          "Not directed",
          "iPad",
          "iPad or iPhone App"
         ],
         "y": {
          "bdata": "X0QzfT8=",
          "dtype": "i1"
         }
        },
        {
         "name": "Neutral emotion",
         "text": {
          "bdata": "AAAAAAAAN0AAAAAAAAAwQAAAAAAAN7VAAAAAAAAAPEAAAAAAAAAkQA==",
          "dtype": "f8"
         },
         "textposition": "auto",
         "type": "bar",
         "x": [
          "Apple",
          "Google",
          "Not directed",
          "iPad",
          "iPad or iPhone App"
         ],
         "y": {
          "bdata": "FwAQADcVHAAKAA==",
          "dtype": "i2"
         }
        },
        {
         "name": "Positive emotion",
         "text": {
          "bdata": "AAAAAADogEAAAAAAAIB1QAAAAAAAIHNAAAAAAADAiEAAAAAAAMB4QA==",
          "dtype": "f8"
         },
         "textposition": "auto",
         "type": "bar",
         "x": [
          "Apple",
          "Google",
          "Not directed",
          "iPad",
          "iPad or iPhone App"
         ],
         "y": {
          "bdata": "HQJYATIBGAOMAQ==",
          "dtype": "i2"
         }
        }
       ],
       "layout": {
        "barmode": "stack",
        "height": 800,
        "legend": {
         "title": {
          "text": "Sentiment"
         }
        },
        "template": {
         "data": {
          "bar": [
           {
            "error_x": {
             "color": "#2a3f5f"
            },
            "error_y": {
             "color": "#2a3f5f"
            },
            "marker": {
             "line": {
              "color": "white",
              "width": 0.5
             },
             "pattern": {
              "fillmode": "overlay",
              "size": 10,
              "solidity": 0.2
             }
            },
            "type": "bar"
           }
          ],
          "barpolar": [
           {
            "marker": {
             "line": {
              "color": "white",
              "width": 0.5
             },
             "pattern": {
              "fillmode": "overlay",
              "size": 10,
              "solidity": 0.2
             }
            },
            "type": "barpolar"
           }
          ],
          "carpet": [
           {
            "aaxis": {
             "endlinecolor": "#2a3f5f",
             "gridcolor": "#C8D4E3",
             "linecolor": "#C8D4E3",
             "minorgridcolor": "#C8D4E3",
             "startlinecolor": "#2a3f5f"
            },
            "baxis": {
             "endlinecolor": "#2a3f5f",
             "gridcolor": "#C8D4E3",
             "linecolor": "#C8D4E3",
             "minorgridcolor": "#C8D4E3",
             "startlinecolor": "#2a3f5f"
            },
            "type": "carpet"
           }
          ],
          "choropleth": [
           {
            "colorbar": {
             "outlinewidth": 0,
             "ticks": ""
            },
            "type": "choropleth"
           }
          ],
          "contour": [
           {
            "colorbar": {
             "outlinewidth": 0,
             "ticks": ""
            },
            "colorscale": [
             [
              0,
              "#0d0887"
             ],
             [
              0.1111111111111111,
              "#46039f"
             ],
             [
              0.2222222222222222,
              "#7201a8"
             ],
             [
              0.3333333333333333,
              "#9c179e"
             ],
             [
              0.4444444444444444,
              "#bd3786"
             ],
             [
              0.5555555555555556,
              "#d8576b"
             ],
             [
              0.6666666666666666,
              "#ed7953"
             ],
             [
              0.7777777777777778,
              "#fb9f3a"
             ],
             [
              0.8888888888888888,
              "#fdca26"
             ],
             [
              1,
              "#f0f921"
             ]
            ],
            "type": "contour"
           }
          ],
          "contourcarpet": [
           {
            "colorbar": {
             "outlinewidth": 0,
             "ticks": ""
            },
            "type": "contourcarpet"
           }
          ],
          "heatmap": [
           {
            "colorbar": {
             "outlinewidth": 0,
             "ticks": ""
            },
            "colorscale": [
             [
              0,
              "#0d0887"
             ],
             [
              0.1111111111111111,
              "#46039f"
             ],
             [
              0.2222222222222222,
              "#7201a8"
             ],
             [
              0.3333333333333333,
              "#9c179e"
             ],
             [
              0.4444444444444444,
              "#bd3786"
             ],
             [
              0.5555555555555556,
              "#d8576b"
             ],
             [
              0.6666666666666666,
              "#ed7953"
             ],
             [
              0.7777777777777778,
              "#fb9f3a"
             ],
             [
              0.8888888888888888,
              "#fdca26"
             ],
             [
              1,
              "#f0f921"
             ]
            ],
            "type": "heatmap"
           }
          ],
          "histogram": [
           {
            "marker": {
             "pattern": {
              "fillmode": "overlay",
              "size": 10,
              "solidity": 0.2
             }
            },
            "type": "histogram"
           }
          ],
          "histogram2d": [
           {
            "colorbar": {
             "outlinewidth": 0,
             "ticks": ""
            },
            "colorscale": [
             [
              0,
              "#0d0887"
             ],
             [
              0.1111111111111111,
              "#46039f"
             ],
             [
              0.2222222222222222,
              "#7201a8"
             ],
             [
              0.3333333333333333,
              "#9c179e"
             ],
             [
              0.4444444444444444,
              "#bd3786"
             ],
             [
              0.5555555555555556,
              "#d8576b"
             ],
             [
              0.6666666666666666,
              "#ed7953"
             ],
             [
              0.7777777777777778,
              "#fb9f3a"
             ],
             [
              0.8888888888888888,
              "#fdca26"
             ],
             [
              1,
              "#f0f921"
             ]
            ],
            "type": "histogram2d"
           }
          ],
          "histogram2dcontour": [
           {
            "colorbar": {
             "outlinewidth": 0,
             "ticks": ""
            },
            "colorscale": [
             [
              0,
              "#0d0887"
             ],
             [
              0.1111111111111111,
              "#46039f"
             ],
             [
              0.2222222222222222,
              "#7201a8"
             ],
             [
              0.3333333333333333,
              "#9c179e"
             ],
             [
              0.4444444444444444,
              "#bd3786"
             ],
             [
              0.5555555555555556,
              "#d8576b"
             ],
             [
              0.6666666666666666,
              "#ed7953"
             ],
             [
              0.7777777777777778,
              "#fb9f3a"
             ],
             [
              0.8888888888888888,
              "#fdca26"
             ],
             [
              1,
              "#f0f921"
             ]
            ],
            "type": "histogram2dcontour"
           }
          ],
          "mesh3d": [
           {
            "colorbar": {
             "outlinewidth": 0,
             "ticks": ""
            },
            "type": "mesh3d"
           }
          ],
          "parcoords": [
           {
            "line": {
             "colorbar": {
              "outlinewidth": 0,
              "ticks": ""
             }
            },
            "type": "parcoords"
           }
          ],
          "pie": [
           {
            "automargin": true,
            "type": "pie"
           }
          ],
          "scatter": [
           {
            "fillpattern": {
             "fillmode": "overlay",
             "size": 10,
             "solidity": 0.2
            },
            "type": "scatter"
           }
          ],
          "scatter3d": [
           {
            "line": {
             "colorbar": {
              "outlinewidth": 0,
              "ticks": ""
             }
            },
            "marker": {
             "colorbar": {
              "outlinewidth": 0,
              "ticks": ""
             }
            },
            "type": "scatter3d"
           }
          ],
          "scattercarpet": [
           {
            "marker": {
             "colorbar": {
              "outlinewidth": 0,
              "ticks": ""
             }
            },
            "type": "scattercarpet"
           }
          ],
          "scattergeo": [
           {
            "marker": {
             "colorbar": {
              "outlinewidth": 0,
              "ticks": ""
             }
            },
            "type": "scattergeo"
           }
          ],
          "scattergl": [
           {
            "marker": {
             "colorbar": {
              "outlinewidth": 0,
              "ticks": ""
             }
            },
            "type": "scattergl"
           }
          ],
          "scattermap": [
           {
            "marker": {
             "colorbar": {
              "outlinewidth": 0,
              "ticks": ""
             }
            },
            "type": "scattermap"
           }
          ],
          "scattermapbox": [
           {
            "marker": {
             "colorbar": {
              "outlinewidth": 0,
              "ticks": ""
             }
            },
            "type": "scattermapbox"
           }
          ],
          "scatterpolar": [
           {
            "marker": {
             "colorbar": {
              "outlinewidth": 0,
              "ticks": ""
             }
            },
            "type": "scatterpolar"
           }
          ],
          "scatterpolargl": [
           {
            "marker": {
             "colorbar": {
              "outlinewidth": 0,
              "ticks": ""
             }
            },
            "type": "scatterpolargl"
           }
          ],
          "scatterternary": [
           {
            "marker": {
             "colorbar": {
              "outlinewidth": 0,
              "ticks": ""
             }
            },
            "type": "scatterternary"
           }
          ],
          "surface": [
           {
            "colorbar": {
             "outlinewidth": 0,
             "ticks": ""
            },
            "colorscale": [
             [
              0,
              "#0d0887"
             ],
             [
              0.1111111111111111,
              "#46039f"
             ],
             [
              0.2222222222222222,
              "#7201a8"
             ],
             [
              0.3333333333333333,
              "#9c179e"
             ],
             [
              0.4444444444444444,
              "#bd3786"
             ],
             [
              0.5555555555555556,
              "#d8576b"
             ],
             [
              0.6666666666666666,
              "#ed7953"
             ],
             [
              0.7777777777777778,
              "#fb9f3a"
             ],
             [
              0.8888888888888888,
              "#fdca26"
             ],
             [
              1,
              "#f0f921"
             ]
            ],
            "type": "surface"
           }
          ],
          "table": [
           {
            "cells": {
             "fill": {
              "color": "#EBF0F8"
             },
             "line": {
              "color": "white"
             }
            },
            "header": {
             "fill": {
              "color": "#C8D4E3"
             },
             "line": {
              "color": "white"
             }
            },
            "type": "table"
           }
          ]
         },
         "layout": {
          "annotationdefaults": {
           "arrowcolor": "#2a3f5f",
           "arrowhead": 0,
           "arrowwidth": 1
          },
          "autotypenumbers": "strict",
          "coloraxis": {
           "colorbar": {
            "outlinewidth": 0,
            "ticks": ""
           }
          },
          "colorscale": {
           "diverging": [
            [
             0,
             "#8e0152"
            ],
            [
             0.1,
             "#c51b7d"
            ],
            [
             0.2,
             "#de77ae"
            ],
            [
             0.3,
             "#f1b6da"
            ],
            [
             0.4,
             "#fde0ef"
            ],
            [
             0.5,
             "#f7f7f7"
            ],
            [
             0.6,
             "#e6f5d0"
            ],
            [
             0.7,
             "#b8e186"
            ],
            [
             0.8,
             "#7fbc41"
            ],
            [
             0.9,
             "#4d9221"
            ],
            [
             1,
             "#276419"
            ]
           ],
           "sequential": [
            [
             0,
             "#0d0887"
            ],
            [
             0.1111111111111111,
             "#46039f"
            ],
            [
             0.2222222222222222,
             "#7201a8"
            ],
            [
             0.3333333333333333,
             "#9c179e"
            ],
            [
             0.4444444444444444,
             "#bd3786"
            ],
            [
             0.5555555555555556,
             "#d8576b"
            ],
            [
             0.6666666666666666,
             "#ed7953"
            ],
            [
             0.7777777777777778,
             "#fb9f3a"
            ],
            [
             0.8888888888888888,
             "#fdca26"
            ],
            [
             1,
             "#f0f921"
            ]
           ],
           "sequentialminus": [
            [
             0,
             "#0d0887"
            ],
            [
             0.1111111111111111,
             "#46039f"
            ],
            [
             0.2222222222222222,
             "#7201a8"
            ],
            [
             0.3333333333333333,
             "#9c179e"
            ],
            [
             0.4444444444444444,
             "#bd3786"
            ],
            [
             0.5555555555555556,
             "#d8576b"
            ],
            [
             0.6666666666666666,
             "#ed7953"
            ],
            [
             0.7777777777777778,
             "#fb9f3a"
            ],
            [
             0.8888888888888888,
             "#fdca26"
            ],
            [
             1,
             "#f0f921"
            ]
           ]
          },
          "colorway": [
           "#636efa",
           "#EF553B",
           "#00cc96",
           "#ab63fa",
           "#FFA15A",
           "#19d3f3",
           "#FF6692",
           "#B6E880",
           "#FF97FF",
           "#FECB52"
          ],
          "font": {
           "color": "#2a3f5f"
          },
          "geo": {
           "bgcolor": "white",
           "lakecolor": "white",
           "landcolor": "white",
           "showlakes": true,
           "showland": true,
           "subunitcolor": "#C8D4E3"
          },
          "hoverlabel": {
           "align": "left"
          },
          "hovermode": "closest",
          "mapbox": {
           "style": "light"
          },
          "paper_bgcolor": "white",
          "plot_bgcolor": "white",
          "polar": {
           "angularaxis": {
            "gridcolor": "#EBF0F8",
            "linecolor": "#EBF0F8",
            "ticks": ""
           },
           "bgcolor": "white",
           "radialaxis": {
            "gridcolor": "#EBF0F8",
            "linecolor": "#EBF0F8",
            "ticks": ""
           }
          },
          "scene": {
           "xaxis": {
            "backgroundcolor": "white",
            "gridcolor": "#DFE8F3",
            "gridwidth": 2,
            "linecolor": "#EBF0F8",
            "showbackground": true,
            "ticks": "",
            "zerolinecolor": "#EBF0F8"
           },
           "yaxis": {
            "backgroundcolor": "white",
            "gridcolor": "#DFE8F3",
            "gridwidth": 2,
            "linecolor": "#EBF0F8",
            "showbackground": true,
            "ticks": "",
            "zerolinecolor": "#EBF0F8"
           },
           "zaxis": {
            "backgroundcolor": "white",
            "gridcolor": "#DFE8F3",
            "gridwidth": 2,
            "linecolor": "#EBF0F8",
            "showbackground": true,
            "ticks": "",
            "zerolinecolor": "#EBF0F8"
           }
          },
          "shapedefaults": {
           "line": {
            "color": "#2a3f5f"
           }
          },
          "ternary": {
           "aaxis": {
            "gridcolor": "#DFE8F3",
            "linecolor": "#A2B1C6",
            "ticks": ""
           },
           "baxis": {
            "gridcolor": "#DFE8F3",
            "linecolor": "#A2B1C6",
            "ticks": ""
           },
           "bgcolor": "white",
           "caxis": {
            "gridcolor": "#DFE8F3",
            "linecolor": "#A2B1C6",
            "ticks": ""
           }
          },
          "title": {
           "x": 0.05
          },
          "xaxis": {
           "automargin": true,
           "gridcolor": "#EBF0F8",
           "linecolor": "#EBF0F8",
           "ticks": "",
           "title": {
            "standoff": 15
           },
           "zerolinecolor": "#EBF0F8",
           "zerolinewidth": 2
          },
          "yaxis": {
           "automargin": true,
           "gridcolor": "#EBF0F8",
           "linecolor": "#EBF0F8",
           "ticks": "",
           "title": {
            "standoff": 15
           },
           "zerolinecolor": "#EBF0F8",
           "zerolinewidth": 2
          }
         }
        },
        "title": {
         "text": "Sentiment by Top 5 Destinations"
        },
        "width": 1200,
        "xaxis": {
         "tickangle": -45,
         "title": {
          "text": "Tweet Destination"
         }
        },
        "yaxis": {
         "title": {
          "text": "Count"
         }
        }
       }
      }
     },
     "metadata": {},
     "output_type": "display_data"
    }
   ],
   "source": [
    "# Plot 4: Sentiment by tweet destination using Plotly\n",
    "\n",
    "# Prepare data\n",
    "top_destinations = tweet_df['tweet_directed_at'].value_counts().head(5).index\n",
    "filtered_df = tweet_df[tweet_df['tweet_directed_at'].isin(top_destinations)]\n",
    "sentiment_dest = pd.crosstab(filtered_df['tweet_directed_at'], filtered_df['sentiment'])\n",
    "\n",
    "# Create stacked bar chart\n",
    "fig = go.Figure()\n",
    "\n",
    "for sentiment in sentiment_dest.columns:\n",
    "    fig.add_trace(go.Bar(\n",
    "        x=sentiment_dest.index,\n",
    "        y=sentiment_dest[sentiment],\n",
    "        name=sentiment,\n",
    "        text=sentiment_dest[sentiment],\n",
    "        textposition='auto'\n",
    "    ))\n",
    "\n",
    "fig.update_layout(\n",
    "    barmode='stack',\n",
    "    title='Sentiment by Top 5 Destinations',\n",
    "    xaxis_title='Tweet Destination',\n",
    "    yaxis_title='Count',\n",
    "    legend_title='Sentiment',\n",
    "    xaxis_tickangle=-45,\n",
    "    template='plotly_white',\n",
    "    width=1200,\n",
    "    height=800\n",
    ")\n",
    "\n",
    "fig.show()"
   ]
  },
  {
   "cell_type": "code",
   "execution_count": 26,
   "id": "42de1408",
   "metadata": {},
   "outputs": [
    {
     "data": {
      "application/vnd.plotly.v1+json": {
       "config": {
        "plotlyServerURL": "https://plot.ly"
       },
       "data": [
        {
         "marker": {
          "color": "#e74c3c"
         },
         "name": "Negative emotion",
         "text": [
          "14.4%",
          "15.9%",
          "0.9%",
          "13.2%",
          "13.4%"
         ],
         "textposition": "auto",
         "type": "bar",
         "x": [
          "Apple",
          "Google",
          "Not directed",
          "iPad",
          "iPad or iPhone App"
         ],
         "y": {
          "bdata": "kcSiT+HULEDNfiFWlMYvQPbC/qA+Muw/RycfnXx0KkAykR6onN0qQA==",
          "dtype": "f8"
         }
        },
        {
         "marker": {
          "color": "#f1c40f"
         },
         "name": "Neutral emotion",
         "text": [
          "3.5%",
          "3.7%",
          "93.8%",
          "3.0%",
          "2.1%"
         ],
         "textposition": "auto",
         "type": "bar",
         "x": [
          "Apple",
          "Google",
          "Not directed",
          "iPad",
          "iPad or iPhone App"
         ],
         "y": {
          "bdata": "lxTpuMzrC0AqSuMjE+gNQFcRMpNAdVdAQ3sJ7SW0B0B9L4XcvA4BQA==",
          "dtype": "f8"
         }
        },
        {
         "marker": {
          "color": "#2ecc71"
         },
         "name": "Positive emotion",
         "text": [
          "82.1%",
          "80.4%",
          "5.3%",
          "83.8%",
          "84.4%"
         ],
         "textposition": "auto",
         "type": "bar",
         "x": [
          "Apple",
          "Google",
          "Not directed",
          "iPad",
          "iPad or iPhone App"
         ],
         "y": {
          "bdata": "yV5EcAWGVEDVtRzc7BdUQDkSv/iuJRVAPc/zPM/zVEBeBBiE1htVQA==",
          "dtype": "f8"
         }
        }
       ],
       "layout": {
        "barmode": "stack",
        "height": 800,
        "legend": {
         "title": {
          "text": "Sentiment"
         }
        },
        "template": {
         "data": {
          "bar": [
           {
            "error_x": {
             "color": "#2a3f5f"
            },
            "error_y": {
             "color": "#2a3f5f"
            },
            "marker": {
             "line": {
              "color": "white",
              "width": 0.5
             },
             "pattern": {
              "fillmode": "overlay",
              "size": 10,
              "solidity": 0.2
             }
            },
            "type": "bar"
           }
          ],
          "barpolar": [
           {
            "marker": {
             "line": {
              "color": "white",
              "width": 0.5
             },
             "pattern": {
              "fillmode": "overlay",
              "size": 10,
              "solidity": 0.2
             }
            },
            "type": "barpolar"
           }
          ],
          "carpet": [
           {
            "aaxis": {
             "endlinecolor": "#2a3f5f",
             "gridcolor": "#C8D4E3",
             "linecolor": "#C8D4E3",
             "minorgridcolor": "#C8D4E3",
             "startlinecolor": "#2a3f5f"
            },
            "baxis": {
             "endlinecolor": "#2a3f5f",
             "gridcolor": "#C8D4E3",
             "linecolor": "#C8D4E3",
             "minorgridcolor": "#C8D4E3",
             "startlinecolor": "#2a3f5f"
            },
            "type": "carpet"
           }
          ],
          "choropleth": [
           {
            "colorbar": {
             "outlinewidth": 0,
             "ticks": ""
            },
            "type": "choropleth"
           }
          ],
          "contour": [
           {
            "colorbar": {
             "outlinewidth": 0,
             "ticks": ""
            },
            "colorscale": [
             [
              0,
              "#0d0887"
             ],
             [
              0.1111111111111111,
              "#46039f"
             ],
             [
              0.2222222222222222,
              "#7201a8"
             ],
             [
              0.3333333333333333,
              "#9c179e"
             ],
             [
              0.4444444444444444,
              "#bd3786"
             ],
             [
              0.5555555555555556,
              "#d8576b"
             ],
             [
              0.6666666666666666,
              "#ed7953"
             ],
             [
              0.7777777777777778,
              "#fb9f3a"
             ],
             [
              0.8888888888888888,
              "#fdca26"
             ],
             [
              1,
              "#f0f921"
             ]
            ],
            "type": "contour"
           }
          ],
          "contourcarpet": [
           {
            "colorbar": {
             "outlinewidth": 0,
             "ticks": ""
            },
            "type": "contourcarpet"
           }
          ],
          "heatmap": [
           {
            "colorbar": {
             "outlinewidth": 0,
             "ticks": ""
            },
            "colorscale": [
             [
              0,
              "#0d0887"
             ],
             [
              0.1111111111111111,
              "#46039f"
             ],
             [
              0.2222222222222222,
              "#7201a8"
             ],
             [
              0.3333333333333333,
              "#9c179e"
             ],
             [
              0.4444444444444444,
              "#bd3786"
             ],
             [
              0.5555555555555556,
              "#d8576b"
             ],
             [
              0.6666666666666666,
              "#ed7953"
             ],
             [
              0.7777777777777778,
              "#fb9f3a"
             ],
             [
              0.8888888888888888,
              "#fdca26"
             ],
             [
              1,
              "#f0f921"
             ]
            ],
            "type": "heatmap"
           }
          ],
          "histogram": [
           {
            "marker": {
             "pattern": {
              "fillmode": "overlay",
              "size": 10,
              "solidity": 0.2
             }
            },
            "type": "histogram"
           }
          ],
          "histogram2d": [
           {
            "colorbar": {
             "outlinewidth": 0,
             "ticks": ""
            },
            "colorscale": [
             [
              0,
              "#0d0887"
             ],
             [
              0.1111111111111111,
              "#46039f"
             ],
             [
              0.2222222222222222,
              "#7201a8"
             ],
             [
              0.3333333333333333,
              "#9c179e"
             ],
             [
              0.4444444444444444,
              "#bd3786"
             ],
             [
              0.5555555555555556,
              "#d8576b"
             ],
             [
              0.6666666666666666,
              "#ed7953"
             ],
             [
              0.7777777777777778,
              "#fb9f3a"
             ],
             [
              0.8888888888888888,
              "#fdca26"
             ],
             [
              1,
              "#f0f921"
             ]
            ],
            "type": "histogram2d"
           }
          ],
          "histogram2dcontour": [
           {
            "colorbar": {
             "outlinewidth": 0,
             "ticks": ""
            },
            "colorscale": [
             [
              0,
              "#0d0887"
             ],
             [
              0.1111111111111111,
              "#46039f"
             ],
             [
              0.2222222222222222,
              "#7201a8"
             ],
             [
              0.3333333333333333,
              "#9c179e"
             ],
             [
              0.4444444444444444,
              "#bd3786"
             ],
             [
              0.5555555555555556,
              "#d8576b"
             ],
             [
              0.6666666666666666,
              "#ed7953"
             ],
             [
              0.7777777777777778,
              "#fb9f3a"
             ],
             [
              0.8888888888888888,
              "#fdca26"
             ],
             [
              1,
              "#f0f921"
             ]
            ],
            "type": "histogram2dcontour"
           }
          ],
          "mesh3d": [
           {
            "colorbar": {
             "outlinewidth": 0,
             "ticks": ""
            },
            "type": "mesh3d"
           }
          ],
          "parcoords": [
           {
            "line": {
             "colorbar": {
              "outlinewidth": 0,
              "ticks": ""
             }
            },
            "type": "parcoords"
           }
          ],
          "pie": [
           {
            "automargin": true,
            "type": "pie"
           }
          ],
          "scatter": [
           {
            "fillpattern": {
             "fillmode": "overlay",
             "size": 10,
             "solidity": 0.2
            },
            "type": "scatter"
           }
          ],
          "scatter3d": [
           {
            "line": {
             "colorbar": {
              "outlinewidth": 0,
              "ticks": ""
             }
            },
            "marker": {
             "colorbar": {
              "outlinewidth": 0,
              "ticks": ""
             }
            },
            "type": "scatter3d"
           }
          ],
          "scattercarpet": [
           {
            "marker": {
             "colorbar": {
              "outlinewidth": 0,
              "ticks": ""
             }
            },
            "type": "scattercarpet"
           }
          ],
          "scattergeo": [
           {
            "marker": {
             "colorbar": {
              "outlinewidth": 0,
              "ticks": ""
             }
            },
            "type": "scattergeo"
           }
          ],
          "scattergl": [
           {
            "marker": {
             "colorbar": {
              "outlinewidth": 0,
              "ticks": ""
             }
            },
            "type": "scattergl"
           }
          ],
          "scattermap": [
           {
            "marker": {
             "colorbar": {
              "outlinewidth": 0,
              "ticks": ""
             }
            },
            "type": "scattermap"
           }
          ],
          "scattermapbox": [
           {
            "marker": {
             "colorbar": {
              "outlinewidth": 0,
              "ticks": ""
             }
            },
            "type": "scattermapbox"
           }
          ],
          "scatterpolar": [
           {
            "marker": {
             "colorbar": {
              "outlinewidth": 0,
              "ticks": ""
             }
            },
            "type": "scatterpolar"
           }
          ],
          "scatterpolargl": [
           {
            "marker": {
             "colorbar": {
              "outlinewidth": 0,
              "ticks": ""
             }
            },
            "type": "scatterpolargl"
           }
          ],
          "scatterternary": [
           {
            "marker": {
             "colorbar": {
              "outlinewidth": 0,
              "ticks": ""
             }
            },
            "type": "scatterternary"
           }
          ],
          "surface": [
           {
            "colorbar": {
             "outlinewidth": 0,
             "ticks": ""
            },
            "colorscale": [
             [
              0,
              "#0d0887"
             ],
             [
              0.1111111111111111,
              "#46039f"
             ],
             [
              0.2222222222222222,
              "#7201a8"
             ],
             [
              0.3333333333333333,
              "#9c179e"
             ],
             [
              0.4444444444444444,
              "#bd3786"
             ],
             [
              0.5555555555555556,
              "#d8576b"
             ],
             [
              0.6666666666666666,
              "#ed7953"
             ],
             [
              0.7777777777777778,
              "#fb9f3a"
             ],
             [
              0.8888888888888888,
              "#fdca26"
             ],
             [
              1,
              "#f0f921"
             ]
            ],
            "type": "surface"
           }
          ],
          "table": [
           {
            "cells": {
             "fill": {
              "color": "#EBF0F8"
             },
             "line": {
              "color": "white"
             }
            },
            "header": {
             "fill": {
              "color": "#C8D4E3"
             },
             "line": {
              "color": "white"
             }
            },
            "type": "table"
           }
          ]
         },
         "layout": {
          "annotationdefaults": {
           "arrowcolor": "#2a3f5f",
           "arrowhead": 0,
           "arrowwidth": 1
          },
          "autotypenumbers": "strict",
          "coloraxis": {
           "colorbar": {
            "outlinewidth": 0,
            "ticks": ""
           }
          },
          "colorscale": {
           "diverging": [
            [
             0,
             "#8e0152"
            ],
            [
             0.1,
             "#c51b7d"
            ],
            [
             0.2,
             "#de77ae"
            ],
            [
             0.3,
             "#f1b6da"
            ],
            [
             0.4,
             "#fde0ef"
            ],
            [
             0.5,
             "#f7f7f7"
            ],
            [
             0.6,
             "#e6f5d0"
            ],
            [
             0.7,
             "#b8e186"
            ],
            [
             0.8,
             "#7fbc41"
            ],
            [
             0.9,
             "#4d9221"
            ],
            [
             1,
             "#276419"
            ]
           ],
           "sequential": [
            [
             0,
             "#0d0887"
            ],
            [
             0.1111111111111111,
             "#46039f"
            ],
            [
             0.2222222222222222,
             "#7201a8"
            ],
            [
             0.3333333333333333,
             "#9c179e"
            ],
            [
             0.4444444444444444,
             "#bd3786"
            ],
            [
             0.5555555555555556,
             "#d8576b"
            ],
            [
             0.6666666666666666,
             "#ed7953"
            ],
            [
             0.7777777777777778,
             "#fb9f3a"
            ],
            [
             0.8888888888888888,
             "#fdca26"
            ],
            [
             1,
             "#f0f921"
            ]
           ],
           "sequentialminus": [
            [
             0,
             "#0d0887"
            ],
            [
             0.1111111111111111,
             "#46039f"
            ],
            [
             0.2222222222222222,
             "#7201a8"
            ],
            [
             0.3333333333333333,
             "#9c179e"
            ],
            [
             0.4444444444444444,
             "#bd3786"
            ],
            [
             0.5555555555555556,
             "#d8576b"
            ],
            [
             0.6666666666666666,
             "#ed7953"
            ],
            [
             0.7777777777777778,
             "#fb9f3a"
            ],
            [
             0.8888888888888888,
             "#fdca26"
            ],
            [
             1,
             "#f0f921"
            ]
           ]
          },
          "colorway": [
           "#636efa",
           "#EF553B",
           "#00cc96",
           "#ab63fa",
           "#FFA15A",
           "#19d3f3",
           "#FF6692",
           "#B6E880",
           "#FF97FF",
           "#FECB52"
          ],
          "font": {
           "color": "#2a3f5f"
          },
          "geo": {
           "bgcolor": "white",
           "lakecolor": "white",
           "landcolor": "white",
           "showlakes": true,
           "showland": true,
           "subunitcolor": "#C8D4E3"
          },
          "hoverlabel": {
           "align": "left"
          },
          "hovermode": "closest",
          "mapbox": {
           "style": "light"
          },
          "paper_bgcolor": "white",
          "plot_bgcolor": "white",
          "polar": {
           "angularaxis": {
            "gridcolor": "#EBF0F8",
            "linecolor": "#EBF0F8",
            "ticks": ""
           },
           "bgcolor": "white",
           "radialaxis": {
            "gridcolor": "#EBF0F8",
            "linecolor": "#EBF0F8",
            "ticks": ""
           }
          },
          "scene": {
           "xaxis": {
            "backgroundcolor": "white",
            "gridcolor": "#DFE8F3",
            "gridwidth": 2,
            "linecolor": "#EBF0F8",
            "showbackground": true,
            "ticks": "",
            "zerolinecolor": "#EBF0F8"
           },
           "yaxis": {
            "backgroundcolor": "white",
            "gridcolor": "#DFE8F3",
            "gridwidth": 2,
            "linecolor": "#EBF0F8",
            "showbackground": true,
            "ticks": "",
            "zerolinecolor": "#EBF0F8"
           },
           "zaxis": {
            "backgroundcolor": "white",
            "gridcolor": "#DFE8F3",
            "gridwidth": 2,
            "linecolor": "#EBF0F8",
            "showbackground": true,
            "ticks": "",
            "zerolinecolor": "#EBF0F8"
           }
          },
          "shapedefaults": {
           "line": {
            "color": "#2a3f5f"
           }
          },
          "ternary": {
           "aaxis": {
            "gridcolor": "#DFE8F3",
            "linecolor": "#A2B1C6",
            "ticks": ""
           },
           "baxis": {
            "gridcolor": "#DFE8F3",
            "linecolor": "#A2B1C6",
            "ticks": ""
           },
           "bgcolor": "white",
           "caxis": {
            "gridcolor": "#DFE8F3",
            "linecolor": "#A2B1C6",
            "ticks": ""
           }
          },
          "title": {
           "x": 0.05
          },
          "xaxis": {
           "automargin": true,
           "gridcolor": "#EBF0F8",
           "linecolor": "#EBF0F8",
           "ticks": "",
           "title": {
            "standoff": 15
           },
           "zerolinecolor": "#EBF0F8",
           "zerolinewidth": 2
          },
          "yaxis": {
           "automargin": true,
           "gridcolor": "#EBF0F8",
           "linecolor": "#EBF0F8",
           "ticks": "",
           "title": {
            "standoff": 15
           },
           "zerolinecolor": "#EBF0F8",
           "zerolinewidth": 2
          }
         }
        },
        "title": {
         "text": "Sentiment Proportions by Destination"
        },
        "width": 1200,
        "xaxis": {
         "tickangle": -45,
         "title": {
          "text": "Tweet Destination"
         }
        },
        "yaxis": {
         "title": {
          "text": "Percentage"
         }
        }
       }
      }
     },
     "metadata": {},
     "output_type": "display_data"
    }
   ],
   "source": [
    "# Plot 5: Sentiment proportions by destination\n",
    "# plt.figure(figsize=(13, 7))\n",
    "# sentiment_dest_pct = pd.crosstab(filtered_df['tweet_destination'], \n",
    "#                                 filtered_df['sentiment'], normalize='index') * 100\n",
    "# sentiment_dest_pct.plot(kind='bar', stacked=True, ax=plt.gca(), colormap='plasma')\n",
    "# plt.title('Sentiment Proportions by Destination', fontsize=12, fontweight='bold')\n",
    "# plt.xlabel('Tweet Destination')\n",
    "# plt.ylabel('Percentage')\n",
    "# plt.xticks(rotation=45)\n",
    "# plt.legend(title='Sentiment', bbox_to_anchor=(1.05, 1), loc='upper left')\n",
    "\n",
    "# Calculate sentiment proportions by destination\n",
    "# sentiment_dest_pct = pd.crosstab(\n",
    "#     filtered_df['tweet_directed_at'],\n",
    "#     filtered_df['sentiment'],\n",
    "#     normalize='index'\n",
    "# ) * 100\n",
    "\n",
    "# # Create interactive stacked bar chart\n",
    "# fig = go.Figure()\n",
    "\n",
    "# for sentiment in sentiment_dest_pct.columns:\n",
    "#     fig.add_trace(go.Bar(\n",
    "#         x=sentiment_dest_pct.index,\n",
    "#         y=sentiment_dest_pct[sentiment],\n",
    "#         name=sentiment,\n",
    "#         text=sentiment_dest_pct[sentiment].round(1).astype(str) + '%',\n",
    "#         textposition='auto'\n",
    "#     ))\n",
    "\n",
    "# fig.update_layout(\n",
    "#     barmode='stack',\n",
    "#     title='Sentiment Proportions by Destination',\n",
    "#     xaxis_title='Tweet Destination',\n",
    "#     yaxis_title='Percentage',\n",
    "#     legend_title='Sentiment',\n",
    "#     xaxis_tickangle=-45,\n",
    "#     template='plotly_white',\n",
    "#     width=1200,\n",
    "#     height=800\n",
    "# )\n",
    "\n",
    "# fig.show()\n",
    "\n",
    "# Create interactive stacked bar chart with custom colors\n",
    "\n",
    "# Define custom colors for each sentiment\n",
    "sentiment_colors = {\n",
    "    'Positive emotion': '#2ecc71',   # green\n",
    "    'Negative emotion': '#e74c3c',   # red\n",
    "    'Neutral emotion':  '#f1c40f'    # yellow\n",
    "}\n",
    "\n",
    "fig = go.Figure()\n",
    "\n",
    "for sentiment in sentiment_dest_pct.columns:\n",
    "    fig.add_trace(go.Bar(\n",
    "        x=sentiment_dest_pct.index,\n",
    "        y=sentiment_dest_pct[sentiment],\n",
    "        name=sentiment,\n",
    "        text=sentiment_dest_pct[sentiment].round(1).astype(str) + '%',\n",
    "        textposition='auto',\n",
    "        marker_color=sentiment_colors.get(sentiment, None)\n",
    "    ))\n",
    "\n",
    "fig.update_layout(\n",
    "    barmode='stack',\n",
    "    title='Sentiment Proportions by Destination',\n",
    "    xaxis_title='Tweet Destination',\n",
    "    yaxis_title='Percentage',\n",
    "    legend_title='Sentiment',\n",
    "    xaxis_tickangle=-45,\n",
    "    template='plotly_white',\n",
    "    width=1200,\n",
    "    height=800\n",
    ")\n",
    "\n",
    "fig.show()"
   ]
  },
  {
   "cell_type": "markdown",
   "id": "54eb6388",
   "metadata": {},
   "source": [
    "The `Sentiment Proportions by Destination` plot shows the percentage distribution of negative, neutral, and positive sentiments for the top 5 tweet destinations: `Apple`, `Google`, `Not directed`, `iPad`, and `iPad or iPhone App.`\n",
    "\n",
    "- Apple, iPad, and iPad or iPhone App** have a high proportion of positive sentiment (over 80%), with relatively low negative and neutral sentiments.\n",
    "\n",
    "- Google also has a strong positive sentiment (about 80%), but slightly higher negative and neutral proportions compared to Apple-related products.\n",
    "\n",
    "- Not directed tweets are overwhelmingly neutral (over 93%), with very few positive or negative sentiments.\n",
    "\n",
    "This indicates that tweets directed at specific Apple and Google products are mostly positive, while tweets not directed at any brand are predominantly neutral."
   ]
  },
  {
   "cell_type": "code",
   "execution_count": 16,
   "id": "937122e4",
   "metadata": {},
   "outputs": [
    {
     "data": {
      "text/plain": [
       "([0, 1, 2],\n",
       " [Text(0, 0, 'Negative emotion'),\n",
       "  Text(1, 0, 'Positive emotion'),\n",
       "  Text(2, 0, 'Neutral')])"
      ]
     },
     "execution_count": 16,
     "metadata": {},
     "output_type": "execute_result"
    },
    {
     "data": {
      "image/png": "[encoded data removed]",
      "text/plain": [
       "<Figure size 1300x700 with 1 Axes>"
      ]
     },
     "metadata": {},
     "output_type": "display_data"
    }
   ],
   "source": [
    "# Plot 6: Tweet length distribution by sentiment\n",
    "plt.figure(figsize=(13, 7))\n",
    "tweet_df['tweet_length'] = tweet_df['tweet'].str.len()\n",
    "sns.boxplot(data=tweet_df, x='sentiment', y='tweet_length', palette='Set2')\n",
    "plt.title('Tweet Length by Sentiment', fontsize=12, fontweight='bold')\n",
    "plt.xlabel('Sentiment')\n",
    "plt.ylabel('Tweet Length (characters)')\n",
    "plt.xticks(rotation=45)"
   ]
  },
  {
   "cell_type": "code",
   "execution_count": 17,
   "id": "83d3a54e",
   "metadata": {},
   "outputs": [
    {
     "data": {
      "text/html": [
       "<div>\n",
       "<style scoped>\n",
       "    .dataframe tbody tr th:only-of-type {\n",
       "        vertical-align: middle;\n",
       "    }\n",
       "\n",
       "    .dataframe tbody tr th {\n",
       "        vertical-align: top;\n",
       "    }\n",
       "\n",
       "    .dataframe thead th {\n",
       "        text-align: right;\n",
       "    }\n",
       "</style>\n",
       "<table border=\"1\" class=\"dataframe\">\n",
       "  <thead>\n",
       "    <tr style=\"text-align: right;\">\n",
       "      <th></th>\n",
       "      <th>tweet</th>\n",
       "      <th>tweet_destination</th>\n",
       "      <th>sentiment</th>\n",
       "      <th>tweet_length</th>\n",
       "      <th>chars</th>\n",
       "      <th>words</th>\n",
       "      <th>sentences</th>\n",
       "    </tr>\n",
       "  </thead>\n",
       "  <tbody>\n",
       "    <tr>\n",
       "      <th>0</th>\n",
       "      <td>.@wesley83 I have a 3G iPhone. After 3 hrs twe...</td>\n",
       "      <td>iPhone</td>\n",
       "      <td>Negative emotion</td>\n",
       "      <td>127</td>\n",
       "      <td>127</td>\n",
       "      <td>32</td>\n",
       "      <td>5</td>\n",
       "    </tr>\n",
       "    <tr>\n",
       "      <th>1</th>\n",
       "      <td>@jessedee Know about @fludapp ? Awesome iPad/i...</td>\n",
       "      <td>iPad or iPhone App</td>\n",
       "      <td>Positive emotion</td>\n",
       "      <td>139</td>\n",
       "      <td>139</td>\n",
       "      <td>29</td>\n",
       "      <td>3</td>\n",
       "    </tr>\n",
       "    <tr>\n",
       "      <th>2</th>\n",
       "      <td>@swonderlin Can not wait for #iPad 2 also. The...</td>\n",
       "      <td>iPad</td>\n",
       "      <td>Positive emotion</td>\n",
       "      <td>79</td>\n",
       "      <td>79</td>\n",
       "      <td>20</td>\n",
       "      <td>2</td>\n",
       "    </tr>\n",
       "    <tr>\n",
       "      <th>3</th>\n",
       "      <td>@sxsw I hope this year's festival isn't as cra...</td>\n",
       "      <td>iPad or iPhone App</td>\n",
       "      <td>Negative emotion</td>\n",
       "      <td>82</td>\n",
       "      <td>82</td>\n",
       "      <td>21</td>\n",
       "      <td>2</td>\n",
       "    </tr>\n",
       "    <tr>\n",
       "      <th>4</th>\n",
       "      <td>@sxtxstate great stuff on Fri #SXSW: Marissa M...</td>\n",
       "      <td>Google</td>\n",
       "      <td>Positive emotion</td>\n",
       "      <td>131</td>\n",
       "      <td>131</td>\n",
       "      <td>29</td>\n",
       "      <td>1</td>\n",
       "    </tr>\n",
       "  </tbody>\n",
       "</table>\n",
       "</div>"
      ],
      "text/plain": [
       "                                               tweet   tweet_destination  \\\n",
       "0  .@wesley83 I have a 3G iPhone. After 3 hrs twe...              iPhone   \n",
       "1  @jessedee Know about @fludapp ? Awesome iPad/i...  iPad or iPhone App   \n",
       "2  @swonderlin Can not wait for #iPad 2 also. The...                iPad   \n",
       "3  @sxsw I hope this year's festival isn't as cra...  iPad or iPhone App   \n",
       "4  @sxtxstate great stuff on Fri #SXSW: Marissa M...              Google   \n",
       "\n",
       "          sentiment  tweet_length  chars  words  sentences  \n",
       "0  Negative emotion           127    127     32          5  \n",
       "1  Positive emotion           139    139     29          3  \n",
       "2  Positive emotion            79     79     20          2  \n",
       "3  Negative emotion            82     82     21          2  \n",
       "4  Positive emotion           131    131     29          1  "
      ]
     },
     "execution_count": 17,
     "metadata": {},
     "output_type": "execute_result"
    }
   ],
   "source": [
    "# Basic text statistics\n",
    "def generate_columns(df):\n",
    "    df['chars'] = df['tweet'].apply(len)\n",
    "    df['words'] = df['tweet'].apply(lambda x: nltk.word_tokenize(x)).apply(len)\n",
    "    df['sentences'] = df['tweet'].apply(lambda x: nltk.sent_tokenize(x)).apply(len)\n",
    "    return df\n",
    "tweet_df = generate_columns(tweet_df)\n",
    "tweet_df.head()"
   ]
  },
  {
   "cell_type": "code",
   "execution_count": 18,
   "id": "40f313d9",
   "metadata": {},
   "outputs": [
    {
     "data": {
      "text/plain": [
       "Text(0, 0.5, 'Frequency')"
      ]
     },
     "execution_count": 18,
     "metadata": {},
     "output_type": "execute_result"
    },
    {
     "data": {
      "image/png": "[encoded data removed]",
      "text/plain": [
       "<Figure size 1300x700 with 1 Axes>"
      ]
     },
     "metadata": {},
     "output_type": "display_data"
    }
   ],
   "source": [
    "# Plot 1: Word count distribution\n",
    "plt.figure(figsize=(13, 7))\n",
    "sns.histplot(data=tweet_df, x='words', bins=30, kde=True, color='blue')\n",
    "plt.title('Distribution of Word Count', fontweight='bold')\n",
    "plt.xlabel('Words per Tweet')\n",
    "plt.ylabel('Frequency')"
   ]
  },
  {
   "cell_type": "code",
   "execution_count": 19,
   "id": "14a2daae",
   "metadata": {},
   "outputs": [
    {
     "data": {
      "text/plain": [
       "([0, 1, 2],\n",
       " [Text(0, 0, 'Negative emotion'),\n",
       "  Text(1, 0, 'Positive emotion'),\n",
       "  Text(2, 0, 'Neutral')])"
      ]
     },
     "execution_count": 19,
     "metadata": {},
     "output_type": "execute_result"
    },
    {
     "data": {
      "image/png": "[encoded data removed]",
      "text/plain": [
       "<Figure size 1300x700 with 1 Axes>"
      ]
     },
     "metadata": {},
     "output_type": "display_data"
    }
   ],
   "source": [
    "# Plot 2: Word count by sentiment\n",
    "plt.figure(figsize=(13, 7))\n",
    "sns.boxplot(data=tweet_df, x='sentiment', y='words', palette='Set1')\n",
    "plt.title('Word Count by Sentiment', fontweight='bold')\n",
    "plt.xlabel('Sentiment')\n",
    "plt.ylabel('Word Count')\n",
    "plt.xticks(rotation=45)"
   ]
  },
  {
   "cell_type": "code",
   "execution_count": 20,
   "id": "4ddc8ed9",
   "metadata": {},
   "outputs": [
    {
     "data": {
      "text/plain": [
       "Text(0, 0.5, 'Frequency')"
      ]
     },
     "execution_count": 20,
     "metadata": {},
     "output_type": "execute_result"
    },
    {
     "data": {
      "image/png": "[encoded data removed]",
      "text/plain": [
       "<Figure size 1300x700 with 1 Axes>"
      ]
     },
     "metadata": {},
     "output_type": "display_data"
    }
   ],
   "source": [
    "# Plot 3: Character count distribution\n",
    "plt.figure(figsize=(13, 7))\n",
    "sns.histplot(data=tweet_df, x='chars', bins=30, kde=True, color='lightcoral')\n",
    "plt.title('Distribution of Character Count', fontweight='bold')\n",
    "plt.xlabel('Characters per Tweet')\n",
    "plt.ylabel('Frequency')"
   ]
  },
  {
   "cell_type": "code",
   "execution_count": 21,
   "id": "0c477d72",
   "metadata": {},
   "outputs": [
    {
     "data": {
      "text/plain": [
       "Text(0, 0.5, 'Frequency')"
      ]
     },
     "execution_count": 21,
     "metadata": {},
     "output_type": "execute_result"
    },
    {
     "data": {
      "image/png": "[encoded data removed]",
      "text/plain": [
       "<Figure size 1300x700 with 1 Axes>"
      ]
     },
     "metadata": {},
     "output_type": "display_data"
    }
   ],
   "source": [
    "# sentence count distribution\n",
    "plt.figure(figsize=(13, 7))\n",
    "sns.histplot(data=tweet_df, x='sentences', bins=30, kde=True, color='green')\n",
    "plt.title('Distribution of Sentence Count', fontweight='bold')\n",
    "plt.xlabel('Sentences per Tweet')\n",
    "plt.ylabel('Frequency')"
   ]
  },
  {
   "cell_type": "code",
   "execution_count": 22,
   "id": "52d5a9a8",
   "metadata": {},
   "outputs": [
    {
     "data": {
      "text/plain": [
       "Text(0, 0.5, 'Sentence Count')"
      ]
     },
     "execution_count": 22,
     "metadata": {},
     "output_type": "execute_result"
    },
    {
     "data": {
      "image/png": "[encoded data removed]",
      "text/plain": [
       "<Figure size 1300x700 with 1 Axes>"
      ]
     },
     "metadata": {},
     "output_type": "display_data"
    }
   ],
   "source": [
    "# sentence count by sentiment\n",
    "plt.figure(figsize=(13, 7))\n",
    "sns.boxplot(data=tweet_df, x='sentiment', y='sentences', palette='Set3')\n",
    "plt.title('Sentence Count by Sentiment', fontweight='bold')\n",
    "plt.xlabel('Sentiment')\n",
    "plt.ylabel('Sentence Count')"
   ]
  },
  {
   "cell_type": "markdown",
   "id": "4ca64ac2",
   "metadata": {},
   "source": [
    "## Data Cleaning and Preprocessing"
   ]
  },
  {
   "cell_type": "code",
   "execution_count": 23,
   "id": "0354c992",
   "metadata": {},
   "outputs": [],
   "source": [
    "class TweetPreprocessor(BaseEstimator, TransformerMixin):\n",
    "    \"\"\"\n",
    "    A preprocessing class for Twitter Sentiment Analysis.\n",
    "\n",
    "    This class handles:\n",
    "    - Data cleaning (removing URLs, mentions, hashtags, special characters)\n",
    "    - Text preprocessing (tokenization, lemmatization, stop words removal)\n",
    "    - Feature extraction using TF-IDF or Count Vectorization\n",
    "\n",
    "    This class can be implemented directly in a scikit-learn pipeline\n",
    "    \"\"\"\n",
    "\n",
    "    def __init__(self,\n",
    "                 remove_urls=True,\n",
    "                 remove_mentions=True,\n",
    "                 remove_hashtags=True,\n",
    "                 remove_stopwords=True,\n",
    "                 lemmatize=True,\n",
    "                 lowercase=True,\n",
    "                 min_length=2,\n",
    "                 expand_contractions=True,  # New feature\n",
    "                 remove_repeated_chars=True,  # New feature\n",
    "                 tfidf_max_features=15000,\n",
    "                 tfidf_ngram_range=(1, 3),\n",
    "                 tfidf_min_df=3,\n",
    "                 tfidf_max_df=0.85,\n",
    "                 use_tfidf=True):\n",
    "        \"\"\"\n",
    "        Initialize the TweetPreprocessor.\n",
    "\n",
    "        Parameters:\n",
    "        -----------\n",
    "        remove_urls : bool, default=True\n",
    "            Whether to remove URLs from tweets\n",
    "        remove_mentions : bool, default=True\n",
    "            Whether to remove @mentions from tweets\n",
    "        remove_hashtags : bool, default=True\n",
    "            Whether to remove #hashtags from tweets (often contain sentiment info)\n",
    "        remove_stopwords : bool, default=True\n",
    "            Whether to remove stop words\n",
    "        lemmatize : bool, default=True\n",
    "            Whether to lemmatize words\n",
    "        lowercase : bool, default=True\n",
    "            Whether to convert text to lowercase\n",
    "        min_length : int, default=2\n",
    "            Minimum word length to keep\n",
    "        tfidf_max_features : int, default=10000\n",
    "            Maximum number of features for TF-IDF\n",
    "        tfidf_ngram_range : tuple, default=(1, 2)\n",
    "            N-gram range for TF-IDF\n",
    "        tfidf_min_df : int, default=2\n",
    "            Minimum document frequency for TF-IDF\n",
    "        tfidf_max_df : float, default=0.95\n",
    "            Maximum document frequency for TF-IDF\n",
    "        \"\"\"\n",
    "        self.remove_urls = remove_urls\n",
    "        self.remove_mentions = remove_mentions\n",
    "        self.remove_hashtags = remove_hashtags\n",
    "        self.remove_stopwords = remove_stopwords\n",
    "        self.lemmatize = lemmatize\n",
    "        self.lowercase = lowercase\n",
    "        self.min_length = min_length\n",
    "        self.expand_contractions = expand_contractions\n",
    "        self.remove_repeated_chars = remove_repeated_chars\n",
    "        self.tfidf_max_features = tfidf_max_features\n",
    "        self.tfidf_ngram_range = tfidf_ngram_range\n",
    "        self.tfidf_min_df = tfidf_min_df\n",
    "        self.tfidf_max_df = tfidf_max_df\n",
    "        self.use_tfidf = use_tfidf\n",
    "\n",
    "        # initialize the components\n",
    "        self.stop_words = set(stopwords.words('english'))\n",
    "        self.lemmatizer = WordNetLemmatizer()\n",
    "        self.vectorizer = None\n",
    "\n",
    "        # Contraction mapping\n",
    "        self.contractions = {\n",
    "            \"won't\": \"will not\", \"can't\": \"cannot\", \"n't\": \" not\",\n",
    "            \"'re\": \" are\", \"'ve\": \" have\", \"'ll\": \" will\",\n",
    "            \"'d\": \" would\", \"'m\": \" am\", \"it's\": \"it is\",\n",
    "            \"that's\": \"that is\", \"what's\": \"what is\",\n",
    "            \"there's\": \"there is\", \"here's\": \"here is\"\n",
    "        }\n",
    "\n",
    "    def expand_contractions_text(self, text):\n",
    "        \"\"\"Expand contractions in text\"\"\"\n",
    "        if not self.expand_contractions:\n",
    "            return text\n",
    "        \n",
    "        for contraction, expansion in self.contractions.items():\n",
    "            text = text.replace(contraction, expansion)\n",
    "        return text\n",
    "    \n",
    "    def remove_repeated_characters(self, text):\n",
    "        \"\"\"Remove repeated characters (e.g., 'goooood' -> 'good')\"\"\"\n",
    "        if not self.remove_repeated_chars:\n",
    "            return text\n",
    "        \n",
    "        # Replace 3+ repeated characters with 2\n",
    "        return re.sub(r'(.)\\1{2,}', r'\\1\\1', text)\n",
    "    \n",
    "    # data cleaning function\n",
    "    def clean_text(self, text):\n",
    "        \"\"\"\n",
    "        Cleans individual tweet text\n",
    "\n",
    "        Parameters:\n",
    "        -----------\n",
    "        text: str\n",
    "            The tweet text to clean\n",
    "        \"\"\"\n",
    "\n",
    "        # return empty string if text is NaN\n",
    "        if pd.isna(text):\n",
    "            return ''\n",
    "        \n",
    "        # convert to string if not already\n",
    "        text = str(text)\n",
    "\n",
    "         # Expand contractions first\n",
    "        text = self.expand_contractions_text(text)\n",
    "        \n",
    "        # Remove repeated characters\n",
    "        text = self.remove_repeated_characters(text)\n",
    "\n",
    "        # remove URLs\n",
    "        if self.remove_urls:\n",
    "            text = re.sub(r'http\\S+|www\\S+|https\\S+', '', text, flags=re.MULTILINE)\n",
    "\n",
    "        # remove mentions\n",
    "        if self.remove_mentions:\n",
    "            text = re.sub(r'@\\w+', '', text)\n",
    "\n",
    "        # remove hashtags (but keep the text)\n",
    "        if self.remove_hashtags:\n",
    "            text = re.sub(r'#', '', text)\n",
    "\n",
    "        # remove special characters and numbers\n",
    "        text = re.sub(r'[^a-zA-Z\\s!?]', '', text)\n",
    "\n",
    "        # Convert multiple exclamation/question marks to single\n",
    "        text = re.sub(r'!+', '!', text)\n",
    "        text = re.sub(r'\\?+', '?', text)\n",
    "\n",
    "        # remove extra whitespace\n",
    "        text = re.sub(r'\\s+', ' ', text).strip()\n",
    "\n",
    "        return text\n",
    "    \n",
    "    # text preprocessing function\n",
    "    def preprocess_text(self, text):\n",
    "        \"\"\"\n",
    "        Preprocesses the cleaned text (tokenization, lemmatization, stop words removal)\n",
    "        \n",
    "        Parameters:\n",
    "        -----------\n",
    "        text: str\n",
    "            The cleaned tweet text to preprocess\n",
    "\n",
    "        Returns:\n",
    "        --------\n",
    "        str\n",
    "            The preprocessed tweet text\n",
    "        \"\"\"\n",
    "\n",
    "        # return an empty string if not text\n",
    "        if not text:\n",
    "            return ''\n",
    "        \n",
    "        # convert text to lowercase\n",
    "        if self.lowercase:\n",
    "            text = text.lower()\n",
    "\n",
    "        # tokenize the text\n",
    "        tokens = word_tokenize(text)\n",
    "\n",
    "        # remove stop words and short words\n",
    "        if self.remove_stopwords:\n",
    "            tokens = [token for token in tokens\n",
    "                      if token not in self.stop_words and len(token) >= self.min_length]\n",
    "        else:\n",
    "            tokens = [token for token in tokens if len(token) >= self.min_length]\n",
    "\n",
    "        # lemmatize the tokens\n",
    "        if self.lemmatize:\n",
    "            tokens = [self.lemmatizer.lemmatize(token) for token in tokens]\n",
    "\n",
    "        return ' '.join(tokens)\n",
    "    \n",
    "    # function to fit the vectorizer\n",
    "    def fit(self, X, y=None):\n",
    "        \"\"\"\n",
    "        Fit the preprocessor to the data\n",
    "\n",
    "        Parameters:\n",
    "        -----------\n",
    "        X: array-like\n",
    "           Input tweets\n",
    "        y: array-like, optional\n",
    "           Target labels\n",
    "\n",
    "        Returns:\n",
    "        --------\n",
    "        self\n",
    "        \"\"\"\n",
    "\n",
    "        # clean and preprocess the tweets\n",
    "        processed_texts = []\n",
    "        for text in X:\n",
    "            cleaned = self.clean_text(text)\n",
    "            preprocessed = self.preprocess_text(cleaned)\n",
    "            processed_texts.append(preprocessed)\n",
    "\n",
    "        # fit the TF-IDF vectorizer\n",
    "        if self.use_tfidf:\n",
    "            self.vectorizer = TfidfVectorizer(\n",
    "                max_features=self.tfidf_max_features,\n",
    "                ngram_range=self.tfidf_ngram_range,\n",
    "                min_df=self.tfidf_min_df,\n",
    "                max_df=self.tfidf_max_df,\n",
    "                stop_words='english',\n",
    "                sublinear_tf=True,\n",
    "                norm='l2',\n",
    "                use_idf=True\n",
    "            )\n",
    "        else:\n",
    "            self.vectorizer = CountVectorizer(\n",
    "                max_features=self.tfidf_max_features,\n",
    "                ngram_range=self.tfidf_ngram_range,\n",
    "                min_df=self.tfidf_min_df,\n",
    "                max_df=self.tfidf_max_df,\n",
    "                stop_words='english'\n",
    "            )\n",
    "        self.vectorizer.fit(processed_texts)\n",
    "\n",
    "        return self\n",
    "    \n",
    "    # function to transform the data\n",
    "    def transform(self, X):\n",
    "        \"\"\"\n",
    "        Transform the input data using the fitted vectorizer\n",
    "\n",
    "        Parameters:\n",
    "        -----------\n",
    "        X: array-like\n",
    "           Input tweets\n",
    "\n",
    "        Returns:\n",
    "        --------\n",
    "        scipy.sparse matrix\n",
    "            TF-IDF transformed features\n",
    "        \"\"\"\n",
    "\n",
    "        # check for fitted vectorizer\n",
    "        if self.vectorizer is None:\n",
    "            raise ValueError(\"Preprocessor has not been fitted yet. Call fit() first.\")\n",
    "\n",
    "        # process all the tweets\n",
    "        processed_texts = []\n",
    "        for text in X:\n",
    "            cleaned = self.clean_text(text)\n",
    "            preprocessed = self.preprocess_text(cleaned)\n",
    "            processed_texts.append(preprocessed)\n",
    "\n",
    "        # transform using the fitted vectorizer\n",
    "        return self.vectorizer.transform(processed_texts)\n",
    "    \n",
    "    # fit_transform function\n",
    "    def fit_transform(self, X, y=None):\n",
    "        \"\"\"\n",
    "        Fit and transform the input data\n",
    "\n",
    "        Parameters:\n",
    "        -----------\n",
    "        X: array-like\n",
    "           Input tweets\n",
    "        y: array-like, optional\n",
    "            Target labels\n",
    "\n",
    "        Returns:\n",
    "        --------\n",
    "        scipy.sparse matrix\n",
    "            TF-IDF transformed features\n",
    "        \"\"\"\n",
    "        return self.fit(X, y).transform(X)\n",
    "    \n",
    "    # function to get feature names\n",
    "    def get_feature_names_out(self, input_features=None):\n",
    "        \"\"\"\n",
    "        Get the feature names of the transformed output\n",
    "        \n",
    "        Returns:\n",
    "        --------\n",
    "        array\n",
    "            Feature names from the fitted vectorizer\n",
    "        \"\"\"\n",
    "        if self.vectorizer is None:\n",
    "            raise ValueError(\"Preprocessor has not been fitted yet. Call fit() first\")\n",
    "        \n",
    "        return self.vectorizer.get_feature_names_out()\n",
    "    \n",
    "    # function to get the vocabulary\n",
    "    def get_vocabulary(self):\n",
    "        \"\"\"\n",
    "        Get the vocabulary dictionary.\n",
    "\n",
    "        Returns:\n",
    "        --------\n",
    "        dict\n",
    "            Vocabulary mapping from words to feature indices\n",
    "        \"\"\"\n",
    "\n",
    "        if self.vectorizer is None:\n",
    "            raise ValueError(\"Preprocessor has not been fitted yet. Call fit() first\")\n",
    "        \n",
    "        return self.vectorizer.vocabulary_"
   ]
  },
  {
   "cell_type": "markdown",
   "id": "0cf64e76",
   "metadata": {},
   "source": [
    "## Modeling"
   ]
  },
  {
   "cell_type": "markdown",
   "id": "79333ad7",
   "metadata": {},
   "source": [
    "First, we prepare our data by encoding the target column"
   ]
  },
  {
   "cell_type": "code",
   "execution_count": 24,
   "id": "e0918561",
   "metadata": {},
   "outputs": [
    {
     "name": "stdout",
     "output_type": "stream",
     "text": [
      "\n",
      "Binary Classification dataset shape: (3539, 8)\n",
      "Sentiment Distribution After Mapping:\n",
      "sentiment_encoded\n",
      "1    2970\n",
      "0     569\n",
      "Name: count, dtype: int64\n"
     ]
    }
   ],
   "source": [
    "# map sentiment labels\n",
    "def map_sentiment(sentiment):\n",
    "    if 'Negative' in sentiment:\n",
    "        return 0\n",
    "    elif 'Positive' in sentiment:\n",
    "        return 1\n",
    "    else:\n",
    "        return 2 # neutral or other sentiment\n",
    "    \n",
    "# apply the mapping function to the sentiment column\n",
    "tweet_df['sentiment_encoded'] = tweet_df['sentiment'].apply(map_sentiment)\n",
    "\n",
    "# create a dataframe for binary classification (filter out the neutral/other cases)\n",
    "binary_df = tweet_df[tweet_df['sentiment_encoded'] != 2].copy()\n",
    "print(f\"\\nBinary Classification dataset shape: {binary_df.shape}\")\n",
    "\n",
    "# check the distribution\n",
    "print(\"Sentiment Distribution After Mapping:\")\n",
    "print(binary_df['sentiment_encoded'].value_counts())"
   ]
  },
  {
   "cell_type": "code",
   "execution_count": 25,
   "id": "0d464879",
   "metadata": {},
   "outputs": [],
   "source": [
    "# define the X and y variables\n",
    "X = binary_df['tweet']\n",
    "y = binary_df['sentiment_encoded']\n",
    "\n",
    "# split the data into training and testing sets\n",
    "X_train, X_test, y_train, y_test = train_test_split(\n",
    "    X,\n",
    "    y,\n",
    "    test_size=0.2,\n",
    "    random_state=42,\n",
    "    stratify=y\n",
    ")"
   ]
  },
  {
   "cell_type": "markdown",
   "id": "9162f639",
   "metadata": {},
   "source": [
    "### Defining the Pipelines"
   ]
  },
  {
   "cell_type": "code",
   "execution_count": 61,
   "id": "45d32924",
   "metadata": {},
   "outputs": [
    {
     "name": "stdout",
     "output_type": "stream",
     "text": [
      "Pipelines created successfully!\n",
      "- Logistic Regression\n",
      "- Random Forest\n",
      "- XGBoost\n",
      "- Naive Bayes\n",
      "- Catboost\n"
     ]
    }
   ],
   "source": [
    "# create different pipelines using our custom preprocessor class\n",
    "\n",
    "# pipeline 1: Logistic regression (base model)\n",
    "logistic_pipe = Pipeline([\n",
    "    ('preprocessor', TweetPreprocessor(use_tfidf=False)), # implements the Countvectorizer() method\n",
    "    ('smote', SMOTE(random_state=42)),\n",
    "    ('lgb_classifier', LogisticRegression(\n",
    "        max_iter=1000, \n",
    "        random_state=42, \n",
    "        class_weight='balanced',\n",
    "    ))\n",
    "])\n",
    "\n",
    "# pipeline 2: Random Forest classifier\n",
    "rf_pipe = Pipeline([\n",
    "    ('preprocessor', TweetPreprocessor(use_tfidf=False)),\n",
    "    ('smote', SMOTE(random_state=42)),\n",
    "    ('rf_classifier', RandomForestClassifier(\n",
    "        n_estimators=100, \n",
    "        random_state=42, \n",
    "        class_weight='balanced',\n",
    "    ))\n",
    "])\n",
    "\n",
    "# pipeline 3: XGBoost classifier\n",
    "xgb_pipe = Pipeline([\n",
    "    ('preprocessor', TweetPreprocessor(use_tfidf=False)),\n",
    "    ('smote', SMOTE(random_state=42)),\n",
    "    ('xgb_classifier', XGBClassifier(\n",
    "        n_estimators=200, \n",
    "        random_state=42,\n",
    "    ))\n",
    "])\n",
    "\n",
    "# pipeline 4: Naive Bayes model\n",
    "nb_pipe = Pipeline([\n",
    "    ('preprocessor', TweetPreprocessor(use_tfidf=False)),\n",
    "    ('smote', SMOTE(random_state=42)),\n",
    "    ('nb_classifier', MultinomialNB())\n",
    "])\n",
    "\n",
    "# pipeline 5: Catboost Classifier\n",
    "cat_pipe = Pipeline([\n",
    "    ('preprocessor', TweetPreprocessor(use_tfidf=False)),\n",
    "    ('smote', SMOTE(random_state=42)),\n",
    "    ('cat_classifier', CatBoostClassifier(\n",
    "        n_estimators=100,\n",
    "        random_state=42,\n",
    "        verbose=0\n",
    "    ))\n",
    "])\n",
    "\n",
    "# pipeline 6: Gradient Boosting Classifier\n",
    "# gb_pipe = Pipeline([\n",
    "#     ('preprocessor', TweetPreprocessor(use_tfidf=False)),\n",
    "#     ('smote', SMOTE(random_state=42)),\n",
    "#     ('gb_classifier', GradientBoostingClassifier(\n",
    "#         n_estimators=100,\n",
    "#         random_state=42\n",
    "#     ))\n",
    "# ])\n",
    "\n",
    "# store all the pipelines\n",
    "pipelines = {\n",
    "    'Logistic Regression': logistic_pipe,\n",
    "    'Random Forest': rf_pipe,\n",
    "    'XGBoost': xgb_pipe,\n",
    "    'Naive Bayes': nb_pipe,\n",
    "    'Catboost': cat_pipe,\n",
    "    # 'Gradient Boosting': gb_pipe\n",
    "}\n",
    "\n",
    "print(\"Pipelines created successfully!\")\n",
    "for name in pipelines:\n",
    "    print(f'- {name}')"
   ]
  },
  {
   "cell_type": "markdown",
   "id": "df983f68",
   "metadata": {},
   "source": [
    "### Model Training and Evaluation"
   ]
  },
  {
   "cell_type": "code",
   "execution_count": 62,
   "id": "372330ed",
   "metadata": {},
   "outputs": [
    {
     "name": "stdout",
     "output_type": "stream",
     "text": [
      "\n",
      "Training Logistic Regression...\n",
      "Accuracy: 0.8277\n",
      "Precision: 0.8427\n",
      "Recall: 0.8277\n",
      "F1 Score: 0.8341\n",
      "\n",
      "Training Random Forest...\n",
      "Accuracy: 0.8079\n",
      "Precision: 0.8424\n",
      "Recall: 0.8079\n",
      "F1 Score: 0.8210\n",
      "\n",
      "Training XGBoost...\n",
      "Accuracy: 0.8715\n",
      "Precision: 0.8577\n",
      "Recall: 0.8715\n",
      "F1 Score: 0.8595\n",
      "\n",
      "Training Naive Bayes...\n",
      "Accuracy: 0.8418\n",
      "Precision: 0.8452\n",
      "Recall: 0.8418\n",
      "F1 Score: 0.8434\n",
      "\n",
      "Training Catboost...\n",
      "Accuracy: 0.8234\n",
      "Precision: 0.8474\n",
      "Recall: 0.8234\n",
      "F1 Score: 0.8329\n",
      "                     accuracy  precision  recall  f1_score\n",
      "Logistic Regression    0.8277     0.8427  0.8277    0.8341\n",
      "Random Forest          0.8079     0.8424  0.8079    0.8210\n",
      "XGBoost                0.8715     0.8577  0.8715    0.8595\n",
      "Naive Bayes            0.8418     0.8452  0.8418    0.8434\n",
      "Catboost               0.8234     0.8474  0.8234    0.8329\n",
      "\n",
      "Best performing model: XGBoost\n",
      "Best f1 score: 0.8595\n"
     ]
    }
   ],
   "source": [
    "# train and evaluate all the pipelines\n",
    "results = {}\n",
    "\n",
    "# loop through each pipeline\n",
    "for name, pipe in pipelines.items():\n",
    "    print(f\"\\nTraining {name}...\")\n",
    "\n",
    "    # fit the pipeline\n",
    "    pipe.fit(X_train, y_train)\n",
    "\n",
    "    # make predictions\n",
    "    y_pred = pipe.predict(X_test)\n",
    "\n",
    "    # compute the evaluation metrics\n",
    "    accuracy = accuracy_score(y_test, y_pred)\n",
    "    precision = precision_score(y_test, y_pred, average='weighted')\n",
    "    recall = recall_score(y_test, y_pred, average='weighted')\n",
    "    f1 = f1_score(y_test, y_pred, average='weighted')\n",
    "\n",
    "    # store the results\n",
    "    results[name] = {\n",
    "        'accuracy': accuracy,\n",
    "        'precision': precision,\n",
    "        'recall': recall,\n",
    "        'f1_score': f1\n",
    "    }\n",
    "\n",
    "    # display the results\n",
    "    print(f\"Accuracy: {accuracy:.4f}\")\n",
    "    print(f\"Precision: {precision:.4f}\")\n",
    "    print(f\"Recall: {recall:.4f}\")\n",
    "    print(f\"F1 Score: {f1:.4f}\")\n",
    "\n",
    "# create a DataFrame to display the results\n",
    "results_df = pd.DataFrame(results).T\n",
    "results_df = results_df.round(4)\n",
    "print(results_df)\n",
    "\n",
    "# determine the best model based on f1 score\n",
    "best_model = results_df['f1_score'].idxmax()\n",
    "print(f\"\\nBest performing model: {best_model}\")\n",
    "print(f\"Best f1 score: {results_df.loc[best_model, 'f1_score']:.4f}\")"
   ]
  },
  {
   "cell_type": "code",
   "execution_count": 50,
   "id": "d1914072",
   "metadata": {},
   "outputs": [],
   "source": [
    "# # Visualize model performance comparison\n",
    "# plt.figure(figsize=(12, 8))\n",
    "\n",
    "# # Plot 1: Model comparison\n",
    "# plt.subplot(2, 2, 1)\n",
    "# metrics = ['accuracy', 'precision', 'recall', 'f1_score']\n",
    "# x_pos = range(len(results_df))\n",
    "# width = 0.2\n",
    "\n",
    "# for i, metric in enumerate(metrics):\n",
    "#     plt.bar([x + i * width for x in x_pos], results_df[metric], \n",
    "#             width, label=metric.replace('_', ' ').title())\n",
    "\n",
    "# plt.xlabel('Models')\n",
    "# plt.ylabel('Score')\n",
    "# plt.title('Model Performance Comparison')\n",
    "# plt.xticks([x + width * 1.5 for x in x_pos], results_df.index, rotation=45)\n",
    "# plt.legend()\n",
    "# plt.grid(True, alpha=0.3)\n",
    "\n",
    "# # Plot 2: F1-Score comparison\n",
    "# plt.subplot(2, 2, 2)\n",
    "# plt.bar(results_df.index, results_df['f1_score'], color='skyblue', edgecolor='navy')\n",
    "# plt.ylabel('F1-Score')\n",
    "# plt.title('F1-Score Comparison')\n",
    "# plt.xticks(rotation=45)\n",
    "# plt.grid(True, alpha=0.3)\n",
    "\n",
    "# # Plot 3: Confusion matrix for best model\n",
    "# plt.subplot(2, 2, 3)\n",
    "# best_pipeline_obj = pipelines[best_model]\n",
    "# y_pred_best = best_pipeline_obj.predict(X_test)\n",
    "# cm = confusion_matrix(y_test, y_pred_best)\n",
    "# sns.heatmap(cm, annot=True, fmt='d', cmap='Blues', \n",
    "#             xticklabels=['Negative', 'Positive'],\n",
    "#             yticklabels=['Negative', 'Positive'])\n",
    "# plt.title(f'Confusion Matrix - {best_model}')\n",
    "# plt.ylabel('True Label')\n",
    "# plt.xlabel('Predicted Label')\n",
    "\n",
    "# # Plot 4: Model training time comparison (simulated)\n",
    "# # plt.subplot(2, 2, 4)\n",
    "# # # Simulate training times (in practice, you'd measure actual times)\n",
    "# # training_times = {\n",
    "# #     'Logistic Regression': 2.3,\n",
    "# #     'Random Forest': 8.7,\n",
    "# #     'Naive Bayes': 1.8,\n",
    "# #     'SVM': 12.4\n",
    "# # }\n",
    "# # models = list(training_times.keys())\n",
    "# # times = list(training_times.values())\n",
    "# # plt.bar(models, times, color='lightcoral', edgecolor='darkred')\n",
    "# # plt.ylabel('Training Time (seconds)')\n",
    "# # plt.title('Estimated Training Time Comparison')\n",
    "# # plt.xticks(rotation=45)\n",
    "# # plt.grid(True, alpha=0.3)\n",
    "\n",
    "# plt.tight_layout()\n",
    "# plt.show()\n",
    "\n",
    "# # Print final summary\n",
    "# print(f\"Dataset size: {len(tweet_df)} tweets\")\n",
    "# print(f\"Training set: {len(X_train)} tweets\")\n",
    "# print(f\"Test set: {len(X_test)} tweets\")\n",
    "# print(f\"Best model: {best_model}\")\n",
    "# print(f\"Best F1-Score: {results_df.loc[best_model, 'f1_score']:.4f}\")\n",
    "# print(f\"Best Accuracy: {results_df.loc[best_model, 'accuracy']:.4f}\")"
   ]
  },
  {
   "cell_type": "markdown",
   "id": "27b41569",
   "metadata": {},
   "source": [
    "### Model Performance Visualization"
   ]
  },
  {
   "cell_type": "code",
   "execution_count": null,
   "id": "4ca196a5",
   "metadata": {},
   "outputs": [
    {
     "data": {
      "application/vnd.plotly.v1+json": {
       "config": {
        "plotlyServerURL": "https://plot.ly"
       },
       "data": [
        {
         "hovertemplate": "Accuracy: %{y:.4f}<br>Model: %{x}<extra></extra>",
         "marker": {
          "color": "#1f77b4"
         },
         "name": "Accuracy",
         "text": {
          "bdata": "5dAi2/l+6j9CYOXQItvpP4GVQ4ts5+s/i2zn+6nx6j+8dJMYBFbqPw==",
          "dtype": "f8"
         },
         "textposition": "outside",
         "type": "bar",
         "x": [
          "Logistic Regression",
          "Random Forest",
          "XGBoost",
          "Naive Bayes",
          "Catboost"
         ],
         "xaxis": "x",
         "y": {
          "bdata": "P8bctYR86j9fB84ZUdrpPxfZzvdT4+s/x7q4jQbw6j9F2PD0SlnqPw==",
          "dtype": "f8"
         },
         "yaxis": "y"
        },
        {
         "hovertemplate": "Precision: %{y:.4f}<br>Model: %{x}<extra></extra>",
         "marker": {
          "color": "#ff7f0e"
         },
         "name": "Precision",
         "text": {
          "bdata": "YOXQItv56j+LbOf7qfHqP9v5fmq8dOs/CtejcD0K6z+0yHa+nxrrPw==",
          "dtype": "f8"
         },
         "textposition": "outside",
         "type": "bar",
         "x": [
          "Logistic Regression",
          "Random Forest",
          "XGBoost",
          "Naive Bayes",
          "Catboost"
         ],
         "xaxis": "x",
         "y": {
          "bdata": "utqK/WX36j8U0ETY8PTqPzXvOEVHcus/zojS3uAL6z89LNSa5h3rPw==",
          "dtype": "f8"
         },
         "yaxis": "y"
        },
        {
         "hovertemplate": "Recall: %{y:.4f}<br>Model: %{x}<extra></extra>",
         "marker": {
          "color": "#2ca02c"
         },
         "name": "Recall",
         "text": {
          "bdata": "5dAi2/l+6j9CYOXQItvpP4GVQ4ts5+s/i2zn+6nx6j+8dJMYBFbqPw==",
          "dtype": "f8"
         },
         "textposition": "outside",
         "type": "bar",
         "x": [
          "Logistic Regression",
          "Random Forest",
          "XGBoost",
          "Naive Bayes",
          "Catboost"
         ],
         "xaxis": "x",
         "y": {
          "bdata": "P8bctYR86j9fB84ZUdrpPxfZzvdT4+s/x7q4jQbw6j9F2PD0SlnqPw==",
          "dtype": "f8"
         },
         "yaxis": "y"
        },
        {
         "hovertemplate": "F1 Score: %{y:.4f}<br>Model: %{x}<extra></extra>",
         "marker": {
          "color": "#d62728"
         },
         "name": "F1 Score",
         "text": {
          "bdata": "46WbxCCw6j8Sg8DKoUXqP4XrUbgehes/YOXQItv56j8OLbKd76fqPw==",
          "dtype": "f8"
         },
         "textposition": "outside",
         "type": "bar",
         "x": [
          "Logistic Regression",
          "Random Forest",
          "XGBoost",
          "Naive Bayes",
          "Catboost"
         ],
         "xaxis": "x",
         "y": {
          "bdata": "xf6ye/Kw6j8Sg8DKoUXqPxsv3SQGges/6Ugu/yH96j8s1JrmHafqPw==",
          "dtype": "f8"
         },
         "yaxis": "y"
        },
        {
         "domain": {
          "x": [
           0.55,
           1
          ],
          "y": [
           0.625,
           1
          ]
         },
         "hovertemplate": "<b>%{label}</b><br>F1-Score: %{value:.4f}<br>Percentage: %{percent}<extra></extra>",
         "labels": [
          "Logistic Regression",
          "Random Forest",
          "XGBoost",
          "Naive Bayes",
          "Catboost"
         ],
         "marker": {
          "colors": [
           "rgb(68, 1, 84)",
           "rgb(59, 81, 138)",
           "rgb(34, 144, 140)",
           "rgb(96, 200, 96)",
           "rgb(253, 231, 37)"
          ],
          "line": {
           "color": "white",
           "width": 2
          }
         },
         "name": "F1-Score",
         "showlegend": false,
         "textinfo": "label+percent+value",
         "texttemplate": "%{label}<br>%{value:.4f}<br>(%{percent})",
         "type": "pie",
         "values": {
          "bdata": "xf6ye/Kw6j8Sg8DKoUXqPxsv3SQGges/6Ugu/yH96j8s1JrmHafqPw==",
          "dtype": "f8"
         }
        },
        {
         "colorscale": [
          [
           0,
           "rgb(247,251,255)"
          ],
          [
           0.125,
           "rgb(222,235,247)"
          ],
          [
           0.25,
           "rgb(198,219,239)"
          ],
          [
           0.375,
           "rgb(158,202,225)"
          ],
          [
           0.5,
           "rgb(107,174,214)"
          ],
          [
           0.625,
           "rgb(66,146,198)"
          ],
          [
           0.75,
           "rgb(33,113,181)"
          ],
          [
           0.875,
           "rgb(8,81,156)"
          ],
          [
           1,
           "rgb(8,48,107)"
          ]
         ],
         "hovertemplate": "True: %{y}<br>Predicted: %{x}<br>Count: %{z}<extra></extra>",
         "showscale": false,
         "text": {
          "bdata": "MABCABkAOQI=",
          "dtype": "i2",
          "shape": "2, 2"
         },
         "textfont": {
          "size": 20
         },
         "texttemplate": "%{text}",
         "type": "heatmap",
         "x": [
          "Negative",
          "Positive"
         ],
         "xaxis": "x2",
         "y": [
          "Negative",
          "Positive"
         ],
         "yaxis": "y2",
         "z": {
          "bdata": "MABCABkAOQI=",
          "dtype": "i2",
          "shape": "2, 2"
         }
        },
        {
         "cells": {
          "align": "center",
          "fill": {
           "color": "white"
          },
          "font": {
           "size": 11
          },
          "values": [
           [
            "Logistic Regression",
            "Random Forest",
            "XGBoost",
            "Naive Bayes",
            "Catboost"
           ],
           [
            0.8277,
            0.8079,
            0.8715,
            0.8418,
            0.8234
           ],
           [
            0.8427,
            0.8424,
            0.8577,
            0.8452,
            0.8474
           ],
           [
            0.8277,
            0.8079,
            0.8715,
            0.8418,
            0.8234
           ],
           [
            0.8341,
            0.821,
            0.8595,
            0.8434,
            0.8329
           ]
          ]
         },
         "domain": {
          "x": [
           0.55,
           1
          ],
          "y": [
           0,
           0.375
          ]
         },
         "header": {
          "align": "center",
          "fill": {
           "color": "lightblue"
          },
          "font": {
           "color": "black",
           "size": 12
          },
          "values": [
           "Model",
           "accuracy",
           "precision",
           "recall",
           "f1_score"
          ]
         },
         "type": "table"
        }
       ],
       "layout": {
        "annotations": [
         {
          "font": {
           "size": 16
          },
          "showarrow": false,
          "text": "Model Performance Comparison",
          "x": 0.225,
          "xanchor": "center",
          "xref": "paper",
          "y": 1,
          "yanchor": "bottom",
          "yref": "paper"
         },
         {
          "font": {
           "size": 16
          },
          "showarrow": false,
          "text": "F1-Score Comparison",
          "x": 0.775,
          "xanchor": "center",
          "xref": "paper",
          "y": 1,
          "yanchor": "bottom",
          "yref": "paper"
         },
         {
          "font": {
           "size": 16
          },
          "showarrow": false,
          "text": "Confusion Matrix - XGBoost",
          "x": 0.225,
          "xanchor": "center",
          "xref": "paper",
          "y": 0.375,
          "yanchor": "bottom",
          "yref": "paper"
         },
         {
          "font": {
           "size": 16
          },
          "showarrow": false,
          "text": "Model Metrics Overview",
          "x": 0.775,
          "xanchor": "center",
          "xref": "paper",
          "y": 0.375,
          "yanchor": "bottom",
          "yref": "paper"
         }
        ],
        "height": 800,
        "legend": {
         "orientation": "h",
         "x": 1,
         "xanchor": "right",
         "y": 1.02,
         "yanchor": "bottom"
        },
        "showlegend": true,
        "template": {
         "data": {
          "bar": [
           {
            "error_x": {
             "color": "#2a3f5f"
            },
            "error_y": {
             "color": "#2a3f5f"
            },
            "marker": {
             "line": {
              "color": "#E5ECF6",
              "width": 0.5
             },
             "pattern": {
              "fillmode": "overlay",
              "size": 10,
              "solidity": 0.2
             }
            },
            "type": "bar"
           }
          ],
          "barpolar": [
           {
            "marker": {
             "line": {
              "color": "#E5ECF6",
              "width": 0.5
             },
             "pattern": {
              "fillmode": "overlay",
              "size": 10,
              "solidity": 0.2
             }
            },
            "type": "barpolar"
           }
          ],
          "carpet": [
           {
            "aaxis": {
             "endlinecolor": "#2a3f5f",
             "gridcolor": "white",
             "linecolor": "white",
             "minorgridcolor": "white",
             "startlinecolor": "#2a3f5f"
            },
            "baxis": {
             "endlinecolor": "#2a3f5f",
             "gridcolor": "white",
             "linecolor": "white",
             "minorgridcolor": "white",
             "startlinecolor": "#2a3f5f"
            },
            "type": "carpet"
           }
          ],
          "choropleth": [
           {
            "colorbar": {
             "outlinewidth": 0,
             "ticks": ""
            },
            "type": "choropleth"
           }
          ],
          "contour": [
           {
            "colorbar": {
             "outlinewidth": 0,
             "ticks": ""
            },
            "colorscale": [
             [
              0,
              "#0d0887"
             ],
             [
              0.1111111111111111,
              "#46039f"
             ],
             [
              0.2222222222222222,
              "#7201a8"
             ],
             [
              0.3333333333333333,
              "#9c179e"
             ],
             [
              0.4444444444444444,
              "#bd3786"
             ],
             [
              0.5555555555555556,
              "#d8576b"
             ],
             [
              0.6666666666666666,
              "#ed7953"
             ],
             [
              0.7777777777777778,
              "#fb9f3a"
             ],
             [
              0.8888888888888888,
              "#fdca26"
             ],
             [
              1,
              "#f0f921"
             ]
            ],
            "type": "contour"
           }
          ],
          "contourcarpet": [
           {
            "colorbar": {
             "outlinewidth": 0,
             "ticks": ""
            },
            "type": "contourcarpet"
           }
          ],
          "heatmap": [
           {
            "colorbar": {
             "outlinewidth": 0,
             "ticks": ""
            },
            "colorscale": [
             [
              0,
              "#0d0887"
             ],
             [
              0.1111111111111111,
              "#46039f"
             ],
             [
              0.2222222222222222,
              "#7201a8"
             ],
             [
              0.3333333333333333,
              "#9c179e"
             ],
             [
              0.4444444444444444,
              "#bd3786"
             ],
             [
              0.5555555555555556,
              "#d8576b"
             ],
             [
              0.6666666666666666,
              "#ed7953"
             ],
             [
              0.7777777777777778,
              "#fb9f3a"
             ],
             [
              0.8888888888888888,
              "#fdca26"
             ],
             [
              1,
              "#f0f921"
             ]
            ],
            "type": "heatmap"
           }
          ],
          "histogram": [
           {
            "marker": {
             "pattern": {
              "fillmode": "overlay",
              "size": 10,
              "solidity": 0.2
             }
            },
            "type": "histogram"
           }
          ],
          "histogram2d": [
           {
            "colorbar": {
             "outlinewidth": 0,
             "ticks": ""
            },
            "colorscale": [
             [
              0,
              "#0d0887"
             ],
             [
              0.1111111111111111,
              "#46039f"
             ],
             [
              0.2222222222222222,
              "#7201a8"
             ],
             [
              0.3333333333333333,
              "#9c179e"
             ],
             [
              0.4444444444444444,
              "#bd3786"
             ],
             [
              0.5555555555555556,
              "#d8576b"
             ],
             [
              0.6666666666666666,
              "#ed7953"
             ],
             [
              0.7777777777777778,
              "#fb9f3a"
             ],
             [
              0.8888888888888888,
              "#fdca26"
             ],
             [
              1,
              "#f0f921"
             ]
            ],
            "type": "histogram2d"
           }
          ],
          "histogram2dcontour": [
           {
            "colorbar": {
             "outlinewidth": 0,
             "ticks": ""
            },
            "colorscale": [
             [
              0,
              "#0d0887"
             ],
             [
              0.1111111111111111,
              "#46039f"
             ],
             [
              0.2222222222222222,
              "#7201a8"
             ],
             [
              0.3333333333333333,
              "#9c179e"
             ],
             [
              0.4444444444444444,
              "#bd3786"
             ],
             [
              0.5555555555555556,
              "#d8576b"
             ],
             [
              0.6666666666666666,
              "#ed7953"
             ],
             [
              0.7777777777777778,
              "#fb9f3a"
             ],
             [
              0.8888888888888888,
              "#fdca26"
             ],
             [
              1,
              "#f0f921"
             ]
            ],
            "type": "histogram2dcontour"
           }
          ],
          "mesh3d": [
           {
            "colorbar": {
             "outlinewidth": 0,
             "ticks": ""
            },
            "type": "mesh3d"
           }
          ],
          "parcoords": [
           {
            "line": {
             "colorbar": {
              "outlinewidth": 0,
              "ticks": ""
             }
            },
            "type": "parcoords"
           }
          ],
          "pie": [
           {
            "automargin": true,
            "type": "pie"
           }
          ],
          "scatter": [
           {
            "fillpattern": {
             "fillmode": "overlay",
             "size": 10,
             "solidity": 0.2
            },
            "type": "scatter"
           }
          ],
          "scatter3d": [
           {
            "line": {
             "colorbar": {
              "outlinewidth": 0,
              "ticks": ""
             }
            },
            "marker": {
             "colorbar": {
              "outlinewidth": 0,
              "ticks": ""
             }
            },
            "type": "scatter3d"
           }
          ],
          "scattercarpet": [
           {
            "marker": {
             "colorbar": {
              "outlinewidth": 0,
              "ticks": ""
             }
            },
            "type": "scattercarpet"
           }
          ],
          "scattergeo": [
           {
            "marker": {
             "colorbar": {
              "outlinewidth": 0,
              "ticks": ""
             }
            },
            "type": "scattergeo"
           }
          ],
          "scattergl": [
           {
            "marker": {
             "colorbar": {
              "outlinewidth": 0,
              "ticks": ""
             }
            },
            "type": "scattergl"
           }
          ],
          "scattermap": [
           {
            "marker": {
             "colorbar": {
              "outlinewidth": 0,
              "ticks": ""
             }
            },
            "type": "scattermap"
           }
          ],
          "scattermapbox": [
           {
            "marker": {
             "colorbar": {
              "outlinewidth": 0,
              "ticks": ""
             }
            },
            "type": "scattermapbox"
           }
          ],
          "scatterpolar": [
           {
            "marker": {
             "colorbar": {
              "outlinewidth": 0,
              "ticks": ""
             }
            },
            "type": "scatterpolar"
           }
          ],
          "scatterpolargl": [
           {
            "marker": {
             "colorbar": {
              "outlinewidth": 0,
              "ticks": ""
             }
            },
            "type": "scatterpolargl"
           }
          ],
          "scatterternary": [
           {
            "marker": {
             "colorbar": {
              "outlinewidth": 0,
              "ticks": ""
             }
            },
            "type": "scatterternary"
           }
          ],
          "surface": [
           {
            "colorbar": {
             "outlinewidth": 0,
             "ticks": ""
            },
            "colorscale": [
             [
              0,
              "#0d0887"
             ],
             [
              0.1111111111111111,
              "#46039f"
             ],
             [
              0.2222222222222222,
              "#7201a8"
             ],
             [
              0.3333333333333333,
              "#9c179e"
             ],
             [
              0.4444444444444444,
              "#bd3786"
             ],
             [
              0.5555555555555556,
              "#d8576b"
             ],
             [
              0.6666666666666666,
              "#ed7953"
             ],
             [
              0.7777777777777778,
              "#fb9f3a"
             ],
             [
              0.8888888888888888,
              "#fdca26"
             ],
             [
              1,
              "#f0f921"
             ]
            ],
            "type": "surface"
           }
          ],
          "table": [
           {
            "cells": {
             "fill": {
              "color": "#EBF0F8"
             },
             "line": {
              "color": "white"
             }
            },
            "header": {
             "fill": {
              "color": "#C8D4E3"
             },
             "line": {
              "color": "white"
             }
            },
            "type": "table"
           }
          ]
         },
         "layout": {
          "annotationdefaults": {
           "arrowcolor": "#2a3f5f",
           "arrowhead": 0,
           "arrowwidth": 1
          },
          "autotypenumbers": "strict",
          "coloraxis": {
           "colorbar": {
            "outlinewidth": 0,
            "ticks": ""
           }
          },
          "colorscale": {
           "diverging": [
            [
             0,
             "#8e0152"
            ],
            [
             0.1,
             "#c51b7d"
            ],
            [
             0.2,
             "#de77ae"
            ],
            [
             0.3,
             "#f1b6da"
            ],
            [
             0.4,
             "#fde0ef"
            ],
            [
             0.5,
             "#f7f7f7"
            ],
            [
             0.6,
             "#e6f5d0"
            ],
            [
             0.7,
             "#b8e186"
            ],
            [
             0.8,
             "#7fbc41"
            ],
            [
             0.9,
             "#4d9221"
            ],
            [
             1,
             "#276419"
            ]
           ],
           "sequential": [
            [
             0,
             "#0d0887"
            ],
            [
             0.1111111111111111,
             "#46039f"
            ],
            [
             0.2222222222222222,
             "#7201a8"
            ],
            [
             0.3333333333333333,
             "#9c179e"
            ],
            [
             0.4444444444444444,
             "#bd3786"
            ],
            [
             0.5555555555555556,
             "#d8576b"
            ],
            [
             0.6666666666666666,
             "#ed7953"
            ],
            [
             0.7777777777777778,
             "#fb9f3a"
            ],
            [
             0.8888888888888888,
             "#fdca26"
            ],
            [
             1,
             "#f0f921"
            ]
           ],
           "sequentialminus": [
            [
             0,
             "#0d0887"
            ],
            [
             0.1111111111111111,
             "#46039f"
            ],
            [
             0.2222222222222222,
             "#7201a8"
            ],
            [
             0.3333333333333333,
             "#9c179e"
            ],
            [
             0.4444444444444444,
             "#bd3786"
            ],
            [
             0.5555555555555556,
             "#d8576b"
            ],
            [
             0.6666666666666666,
             "#ed7953"
            ],
            [
             0.7777777777777778,
             "#fb9f3a"
            ],
            [
             0.8888888888888888,
             "#fdca26"
            ],
            [
             1,
             "#f0f921"
            ]
           ]
          },
          "colorway": [
           "#636efa",
           "#EF553B",
           "#00cc96",
           "#ab63fa",
           "#FFA15A",
           "#19d3f3",
           "#FF6692",
           "#B6E880",
           "#FF97FF",
           "#FECB52"
          ],
          "font": {
           "color": "#2a3f5f"
          },
          "geo": {
           "bgcolor": "white",
           "lakecolor": "white",
           "landcolor": "#E5ECF6",
           "showlakes": true,
           "showland": true,
           "subunitcolor": "white"
          },
          "hoverlabel": {
           "align": "left"
          },
          "hovermode": "closest",
          "mapbox": {
           "style": "light"
          },
          "paper_bgcolor": "white",
          "plot_bgcolor": "#E5ECF6",
          "polar": {
           "angularaxis": {
            "gridcolor": "white",
            "linecolor": "white",
            "ticks": ""
           },
           "bgcolor": "#E5ECF6",
           "radialaxis": {
            "gridcolor": "white",
            "linecolor": "white",
            "ticks": ""
           }
          },
          "scene": {
           "xaxis": {
            "backgroundcolor": "#E5ECF6",
            "gridcolor": "white",
            "gridwidth": 2,
            "linecolor": "white",
            "showbackground": true,
            "ticks": "",
            "zerolinecolor": "white"
           },
           "yaxis": {
            "backgroundcolor": "#E5ECF6",
            "gridcolor": "white",
            "gridwidth": 2,
            "linecolor": "white",
            "showbackground": true,
            "ticks": "",
            "zerolinecolor": "white"
           },
           "zaxis": {
            "backgroundcolor": "#E5ECF6",
            "gridcolor": "white",
            "gridwidth": 2,
            "linecolor": "white",
            "showbackground": true,
            "ticks": "",
            "zerolinecolor": "white"
           }
          },
          "shapedefaults": {
           "line": {
            "color": "#2a3f5f"
           }
          },
          "ternary": {
           "aaxis": {
            "gridcolor": "white",
            "linecolor": "white",
            "ticks": ""
           },
           "baxis": {
            "gridcolor": "white",
            "linecolor": "white",
            "ticks": ""
           },
           "bgcolor": "#E5ECF6",
           "caxis": {
            "gridcolor": "white",
            "linecolor": "white",
            "ticks": ""
           }
          },
          "title": {
           "x": 0.05
          },
          "xaxis": {
           "automargin": true,
           "gridcolor": "white",
           "linecolor": "white",
           "ticks": "",
           "title": {
            "standoff": 15
           },
           "zerolinecolor": "white",
           "zerolinewidth": 2
          },
          "yaxis": {
           "automargin": true,
           "gridcolor": "white",
           "linecolor": "white",
           "ticks": "",
           "title": {
            "standoff": 15
           },
           "zerolinecolor": "white",
           "zerolinewidth": 2
          }
         }
        },
        "title": {
         "font": {
          "size": 16
         },
         "text": "Interactive Model Performance Analysis",
         "x": 0.5
        },
        "width": 1400,
        "xaxis": {
         "anchor": "y",
         "domain": [
          0,
          0.45
         ],
         "gridcolor": "lightgray",
         "gridwidth": 1,
         "showgrid": true,
         "title": {
          "text": "Models"
         }
        },
        "xaxis2": {
         "anchor": "y2",
         "domain": [
          0,
          0.45
         ],
         "gridcolor": "lightgray",
         "gridwidth": 1,
         "showgrid": true,
         "title": {
          "text": "Predicted Label"
         }
        },
        "yaxis": {
         "anchor": "x",
         "domain": [
          0.625,
          1
         ],
         "gridcolor": "lightgray",
         "gridwidth": 1,
         "showgrid": true,
         "title": {
          "text": "Score"
         }
        },
        "yaxis2": {
         "anchor": "x2",
         "domain": [
          0,
          0.375
         ],
         "gridcolor": "lightgray",
         "gridwidth": 1,
         "showgrid": true,
         "title": {
          "text": "True Label"
         }
        }
       }
      }
     },
     "metadata": {},
     "output_type": "display_data"
    },
    {
     "data": {
      "application/vnd.plotly.v1+json": {
       "config": {
        "plotlyServerURL": "https://plot.ly"
       },
       "data": [
        {
         "fill": "toself",
         "hovertemplate": "%{theta}<br>Score: %{r:.4f}<br>Model: Logistic Regression<extra></extra>",
         "name": "Logistic Regression",
         "r": [
          0.8277,
          0.8427,
          0.8277,
          0.8341
         ],
         "theta": [
          "Accuracy",
          "Precision",
          "Recall",
          "F1 Score"
         ],
         "type": "scatterpolar"
        },
        {
         "fill": "toself",
         "hovertemplate": "%{theta}<br>Score: %{r:.4f}<br>Model: Random Forest<extra></extra>",
         "name": "Random Forest",
         "r": [
          0.8079,
          0.8424,
          0.8079,
          0.821
         ],
         "theta": [
          "Accuracy",
          "Precision",
          "Recall",
          "F1 Score"
         ],
         "type": "scatterpolar"
        },
        {
         "fill": "toself",
         "hovertemplate": "%{theta}<br>Score: %{r:.4f}<br>Model: XGBoost<extra></extra>",
         "name": "XGBoost",
         "r": [
          0.8715,
          0.8577,
          0.8715,
          0.8595
         ],
         "theta": [
          "Accuracy",
          "Precision",
          "Recall",
          "F1 Score"
         ],
         "type": "scatterpolar"
        },
        {
         "fill": "toself",
         "hovertemplate": "%{theta}<br>Score: %{r:.4f}<br>Model: Naive Bayes<extra></extra>",
         "name": "Naive Bayes",
         "r": [
          0.8418,
          0.8452,
          0.8418,
          0.8434
         ],
         "theta": [
          "Accuracy",
          "Precision",
          "Recall",
          "F1 Score"
         ],
         "type": "scatterpolar"
        },
        {
         "fill": "toself",
         "hovertemplate": "%{theta}<br>Score: %{r:.4f}<br>Model: Catboost<extra></extra>",
         "name": "Catboost",
         "r": [
          0.8234,
          0.8474,
          0.8234,
          0.8329
         ],
         "theta": [
          "Accuracy",
          "Precision",
          "Recall",
          "F1 Score"
         ],
         "type": "scatterpolar"
        }
       ],
       "layout": {
        "height": 600,
        "polar": {
         "radialaxis": {
          "range": [
           0,
           1
          ],
          "visible": true
         }
        },
        "showlegend": true,
        "template": {
         "data": {
          "bar": [
           {
            "error_x": {
             "color": "#2a3f5f"
            },
            "error_y": {
             "color": "#2a3f5f"
            },
            "marker": {
             "line": {
              "color": "#E5ECF6",
              "width": 0.5
             },
             "pattern": {
              "fillmode": "overlay",
              "size": 10,
              "solidity": 0.2
             }
            },
            "type": "bar"
           }
          ],
          "barpolar": [
           {
            "marker": {
             "line": {
              "color": "#E5ECF6",
              "width": 0.5
             },
             "pattern": {
              "fillmode": "overlay",
              "size": 10,
              "solidity": 0.2
             }
            },
            "type": "barpolar"
           }
          ],
          "carpet": [
           {
            "aaxis": {
             "endlinecolor": "#2a3f5f",
             "gridcolor": "white",
             "linecolor": "white",
             "minorgridcolor": "white",
             "startlinecolor": "#2a3f5f"
            },
            "baxis": {
             "endlinecolor": "#2a3f5f",
             "gridcolor": "white",
             "linecolor": "white",
             "minorgridcolor": "white",
             "startlinecolor": "#2a3f5f"
            },
            "type": "carpet"
           }
          ],
          "choropleth": [
           {
            "colorbar": {
             "outlinewidth": 0,
             "ticks": ""
            },
            "type": "choropleth"
           }
          ],
          "contour": [
           {
            "colorbar": {
             "outlinewidth": 0,
             "ticks": ""
            },
            "colorscale": [
             [
              0,
              "#0d0887"
             ],
             [
              0.1111111111111111,
              "#46039f"
             ],
             [
              0.2222222222222222,
              "#7201a8"
             ],
             [
              0.3333333333333333,
              "#9c179e"
             ],
             [
              0.4444444444444444,
              "#bd3786"
             ],
             [
              0.5555555555555556,
              "#d8576b"
             ],
             [
              0.6666666666666666,
              "#ed7953"
             ],
             [
              0.7777777777777778,
              "#fb9f3a"
             ],
             [
              0.8888888888888888,
              "#fdca26"
             ],
             [
              1,
              "#f0f921"
             ]
            ],
            "type": "contour"
           }
          ],
          "contourcarpet": [
           {
            "colorbar": {
             "outlinewidth": 0,
             "ticks": ""
            },
            "type": "contourcarpet"
           }
          ],
          "heatmap": [
           {
            "colorbar": {
             "outlinewidth": 0,
             "ticks": ""
            },
            "colorscale": [
             [
              0,
              "#0d0887"
             ],
             [
              0.1111111111111111,
              "#46039f"
             ],
             [
              0.2222222222222222,
              "#7201a8"
             ],
             [
              0.3333333333333333,
              "#9c179e"
             ],
             [
              0.4444444444444444,
              "#bd3786"
             ],
             [
              0.5555555555555556,
              "#d8576b"
             ],
             [
              0.6666666666666666,
              "#ed7953"
             ],
             [
              0.7777777777777778,
              "#fb9f3a"
             ],
             [
              0.8888888888888888,
              "#fdca26"
             ],
             [
              1,
              "#f0f921"
             ]
            ],
            "type": "heatmap"
           }
          ],
          "histogram": [
           {
            "marker": {
             "pattern": {
              "fillmode": "overlay",
              "size": 10,
              "solidity": 0.2
             }
            },
            "type": "histogram"
           }
          ],
          "histogram2d": [
           {
            "colorbar": {
             "outlinewidth": 0,
             "ticks": ""
            },
            "colorscale": [
             [
              0,
              "#0d0887"
             ],
             [
              0.1111111111111111,
              "#46039f"
             ],
             [
              0.2222222222222222,
              "#7201a8"
             ],
             [
              0.3333333333333333,
              "#9c179e"
             ],
             [
              0.4444444444444444,
              "#bd3786"
             ],
             [
              0.5555555555555556,
              "#d8576b"
             ],
             [
              0.6666666666666666,
              "#ed7953"
             ],
             [
              0.7777777777777778,
              "#fb9f3a"
             ],
             [
              0.8888888888888888,
              "#fdca26"
             ],
             [
              1,
              "#f0f921"
             ]
            ],
            "type": "histogram2d"
           }
          ],
          "histogram2dcontour": [
           {
            "colorbar": {
             "outlinewidth": 0,
             "ticks": ""
            },
            "colorscale": [
             [
              0,
              "#0d0887"
             ],
             [
              0.1111111111111111,
              "#46039f"
             ],
             [
              0.2222222222222222,
              "#7201a8"
             ],
             [
              0.3333333333333333,
              "#9c179e"
             ],
             [
              0.4444444444444444,
              "#bd3786"
             ],
             [
              0.5555555555555556,
              "#d8576b"
             ],
             [
              0.6666666666666666,
              "#ed7953"
             ],
             [
              0.7777777777777778,
              "#fb9f3a"
             ],
             [
              0.8888888888888888,
              "#fdca26"
             ],
             [
              1,
              "#f0f921"
             ]
            ],
            "type": "histogram2dcontour"
           }
          ],
          "mesh3d": [
           {
            "colorbar": {
             "outlinewidth": 0,
             "ticks": ""
            },
            "type": "mesh3d"
           }
          ],
          "parcoords": [
           {
            "line": {
             "colorbar": {
              "outlinewidth": 0,
              "ticks": ""
             }
            },
            "type": "parcoords"
           }
          ],
          "pie": [
           {
            "automargin": true,
            "type": "pie"
           }
          ],
          "scatter": [
           {
            "fillpattern": {
             "fillmode": "overlay",
             "size": 10,
             "solidity": 0.2
            },
            "type": "scatter"
           }
          ],
          "scatter3d": [
           {
            "line": {
             "colorbar": {
              "outlinewidth": 0,
              "ticks": ""
             }
            },
            "marker": {
             "colorbar": {
              "outlinewidth": 0,
              "ticks": ""
             }
            },
            "type": "scatter3d"
           }
          ],
          "scattercarpet": [
           {
            "marker": {
             "colorbar": {
              "outlinewidth": 0,
              "ticks": ""
             }
            },
            "type": "scattercarpet"
           }
          ],
          "scattergeo": [
           {
            "marker": {
             "colorbar": {
              "outlinewidth": 0,
              "ticks": ""
             }
            },
            "type": "scattergeo"
           }
          ],
          "scattergl": [
           {
            "marker": {
             "colorbar": {
              "outlinewidth": 0,
              "ticks": ""
             }
            },
            "type": "scattergl"
           }
          ],
          "scattermap": [
           {
            "marker": {
             "colorbar": {
              "outlinewidth": 0,
              "ticks": ""
             }
            },
            "type": "scattermap"
           }
          ],
          "scattermapbox": [
           {
            "marker": {
             "colorbar": {
              "outlinewidth": 0,
              "ticks": ""
             }
            },
            "type": "scattermapbox"
           }
          ],
          "scatterpolar": [
           {
            "marker": {
             "colorbar": {
              "outlinewidth": 0,
              "ticks": ""
             }
            },
            "type": "scatterpolar"
           }
          ],
          "scatterpolargl": [
           {
            "marker": {
             "colorbar": {
              "outlinewidth": 0,
              "ticks": ""
             }
            },
            "type": "scatterpolargl"
           }
          ],
          "scatterternary": [
           {
            "marker": {
             "colorbar": {
              "outlinewidth": 0,
              "ticks": ""
             }
            },
            "type": "scatterternary"
           }
          ],
          "surface": [
           {
            "colorbar": {
             "outlinewidth": 0,
             "ticks": ""
            },
            "colorscale": [
             [
              0,
              "#0d0887"
             ],
             [
              0.1111111111111111,
              "#46039f"
             ],
             [
              0.2222222222222222,
              "#7201a8"
             ],
             [
              0.3333333333333333,
              "#9c179e"
             ],
             [
              0.4444444444444444,
              "#bd3786"
             ],
             [
              0.5555555555555556,
              "#d8576b"
             ],
             [
              0.6666666666666666,
              "#ed7953"
             ],
             [
              0.7777777777777778,
              "#fb9f3a"
             ],
             [
              0.8888888888888888,
              "#fdca26"
             ],
             [
              1,
              "#f0f921"
             ]
            ],
            "type": "surface"
           }
          ],
          "table": [
           {
            "cells": {
             "fill": {
              "color": "#EBF0F8"
             },
             "line": {
              "color": "white"
             }
            },
            "header": {
             "fill": {
              "color": "#C8D4E3"
             },
             "line": {
              "color": "white"
             }
            },
            "type": "table"
           }
          ]
         },
         "layout": {
          "annotationdefaults": {
           "arrowcolor": "#2a3f5f",
           "arrowhead": 0,
           "arrowwidth": 1
          },
          "autotypenumbers": "strict",
          "coloraxis": {
           "colorbar": {
            "outlinewidth": 0,
            "ticks": ""
           }
          },
          "colorscale": {
           "diverging": [
            [
             0,
             "#8e0152"
            ],
            [
             0.1,
             "#c51b7d"
            ],
            [
             0.2,
             "#de77ae"
            ],
            [
             0.3,
             "#f1b6da"
            ],
            [
             0.4,
             "#fde0ef"
            ],
            [
             0.5,
             "#f7f7f7"
            ],
            [
             0.6,
             "#e6f5d0"
            ],
            [
             0.7,
             "#b8e186"
            ],
            [
             0.8,
             "#7fbc41"
            ],
            [
             0.9,
             "#4d9221"
            ],
            [
             1,
             "#276419"
            ]
           ],
           "sequential": [
            [
             0,
             "#0d0887"
            ],
            [
             0.1111111111111111,
             "#46039f"
            ],
            [
             0.2222222222222222,
             "#7201a8"
            ],
            [
             0.3333333333333333,
             "#9c179e"
            ],
            [
             0.4444444444444444,
             "#bd3786"
            ],
            [
             0.5555555555555556,
             "#d8576b"
            ],
            [
             0.6666666666666666,
             "#ed7953"
            ],
            [
             0.7777777777777778,
             "#fb9f3a"
            ],
            [
             0.8888888888888888,
             "#fdca26"
            ],
            [
             1,
             "#f0f921"
            ]
           ],
           "sequentialminus": [
            [
             0,
             "#0d0887"
            ],
            [
             0.1111111111111111,
             "#46039f"
            ],
            [
             0.2222222222222222,
             "#7201a8"
            ],
            [
             0.3333333333333333,
             "#9c179e"
            ],
            [
             0.4444444444444444,
             "#bd3786"
            ],
            [
             0.5555555555555556,
             "#d8576b"
            ],
            [
             0.6666666666666666,
             "#ed7953"
            ],
            [
             0.7777777777777778,
             "#fb9f3a"
            ],
            [
             0.8888888888888888,
             "#fdca26"
            ],
            [
             1,
             "#f0f921"
            ]
           ]
          },
          "colorway": [
           "#636efa",
           "#EF553B",
           "#00cc96",
           "#ab63fa",
           "#FFA15A",
           "#19d3f3",
           "#FF6692",
           "#B6E880",
           "#FF97FF",
           "#FECB52"
          ],
          "font": {
           "color": "#2a3f5f"
          },
          "geo": {
           "bgcolor": "white",
           "lakecolor": "white",
           "landcolor": "#E5ECF6",
           "showlakes": true,
           "showland": true,
           "subunitcolor": "white"
          },
          "hoverlabel": {
           "align": "left"
          },
          "hovermode": "closest",
          "mapbox": {
           "style": "light"
          },
          "paper_bgcolor": "white",
          "plot_bgcolor": "#E5ECF6",
          "polar": {
           "angularaxis": {
            "gridcolor": "white",
            "linecolor": "white",
            "ticks": ""
           },
           "bgcolor": "#E5ECF6",
           "radialaxis": {
            "gridcolor": "white",
            "linecolor": "white",
            "ticks": ""
           }
          },
          "scene": {
           "xaxis": {
            "backgroundcolor": "#E5ECF6",
            "gridcolor": "white",
            "gridwidth": 2,
            "linecolor": "white",
            "showbackground": true,
            "ticks": "",
            "zerolinecolor": "white"
           },
           "yaxis": {
            "backgroundcolor": "#E5ECF6",
            "gridcolor": "white",
            "gridwidth": 2,
            "linecolor": "white",
            "showbackground": true,
            "ticks": "",
            "zerolinecolor": "white"
           },
           "zaxis": {
            "backgroundcolor": "#E5ECF6",
            "gridcolor": "white",
            "gridwidth": 2,
            "linecolor": "white",
            "showbackground": true,
            "ticks": "",
            "zerolinecolor": "white"
           }
          },
          "shapedefaults": {
           "line": {
            "color": "#2a3f5f"
           }
          },
          "ternary": {
           "aaxis": {
            "gridcolor": "white",
            "linecolor": "white",
            "ticks": ""
           },
           "baxis": {
            "gridcolor": "white",
            "linecolor": "white",
            "ticks": ""
           },
           "bgcolor": "#E5ECF6",
           "caxis": {
            "gridcolor": "white",
            "linecolor": "white",
            "ticks": ""
           }
          },
          "title": {
           "x": 0.05
          },
          "xaxis": {
           "automargin": true,
           "gridcolor": "white",
           "linecolor": "white",
           "ticks": "",
           "title": {
            "standoff": 15
           },
           "zerolinecolor": "white",
           "zerolinewidth": 2
          },
          "yaxis": {
           "automargin": true,
           "gridcolor": "white",
           "linecolor": "white",
           "ticks": "",
           "title": {
            "standoff": 15
           },
           "zerolinecolor": "white",
           "zerolinewidth": 2
          }
         }
        },
        "title": {
         "text": "Model Performance Radar Chart"
        }
       }
      }
     },
     "metadata": {},
     "output_type": "display_data"
    }
   ],
   "source": [
    "# use plotly for visualization\n",
    "\n",
    "# Create interactive model performance comparison with Plotly\n",
    "fig = make_subplots(\n",
    "    rows=2, cols=2,\n",
    "    subplot_titles=('Model Performance Comparison', 'F1-Score Comparison', \n",
    "                   f'Confusion Matrix - {best_model}', 'Model Metrics Overview'),\n",
    "    specs=[[{\"secondary_y\": False}, {\"type\": \"pie\"}],\n",
    "           [{\"secondary_y\": False}, {\"type\": \"table\"}]]\n",
    ")\n",
    "\n",
    "# Plot 1: Model comparison (grouped bar chart)\n",
    "metrics = ['accuracy', 'precision', 'recall', 'f1_score']\n",
    "colors = ['#1f77b4', '#ff7f0e', '#2ca02c', '#d62728']\n",
    "\n",
    "for i, metric in enumerate(metrics):\n",
    "    fig.add_trace(\n",
    "        go.Bar(\n",
    "            x=results_df.index,\n",
    "            y=results_df[metric],\n",
    "            name=metric.replace('_', ' ').title(),\n",
    "            marker_color=colors[i],\n",
    "            text=results_df[metric].round(3),\n",
    "            textposition='outside',\n",
    "            hovertemplate=f'{metric.replace(\"_\", \" \").title()}: %{{y:.4f}}<br>Model: %{{x}}<extra></extra>'\n",
    "        ),\n",
    "        row=1, col=1\n",
    "    )\n",
    "\n",
    "# Generate Viridis colors for the number of models\n",
    "viridis_colors = pc.sample_colorscale('Viridis', [i/(len(results_df)-1) for i in range(len(results_df))])\n",
    "\n",
    "fig.add_trace(\n",
    "    go.Pie(\n",
    "        labels=results_df.index,\n",
    "        values=results_df['f1_score'],\n",
    "        name='F1-Score',\n",
    "        marker=dict(\n",
    "            colors=viridis_colors,\n",
    "            line=dict(color='white', width=2)\n",
    "        ),\n",
    "        textinfo='label+percent+value',\n",
    "        texttemplate='%{label}<br>%{value:.4f}<br>(%{percent})',\n",
    "        hovertemplate='<b>%{label}</b><br>F1-Score: %{value:.4f}<br>Percentage: %{percent}<extra></extra>',\n",
    "        showlegend=False\n",
    "    ),\n",
    "    row=1, col=2\n",
    ")\n",
    "\n",
    "# Plot 3: Confusion matrix for best model\n",
    "best_pipeline_obj = pipelines[best_model]\n",
    "y_pred_best = best_pipeline_obj.predict(X_test)\n",
    "cm = confusion_matrix(y_test, y_pred_best)\n",
    "\n",
    "# Create confusion matrix heatmap\n",
    "fig.add_trace(\n",
    "    go.Heatmap(\n",
    "        z=cm,\n",
    "        x=['Negative', 'Positive'],\n",
    "        y=['Negative', 'Positive'],\n",
    "        colorscale='Blues',\n",
    "        text=cm,\n",
    "        texttemplate=\"%{text}\",\n",
    "        textfont={\"size\": 20},\n",
    "        showscale=False,\n",
    "        hovertemplate='True: %{y}<br>Predicted: %{x}<br>Count: %{z}<extra></extra>'\n",
    "    ),\n",
    "    row=2, col=1\n",
    ")\n",
    "\n",
    "# Plot 4: Summary table\n",
    "table_data = results_df.round(4)\n",
    "fig.add_trace(\n",
    "    go.Table(\n",
    "        header=dict(\n",
    "            values=['Model'] + list(table_data.columns),\n",
    "            fill_color='lightblue',\n",
    "            align='center',\n",
    "            font=dict(size=12, color='black')\n",
    "        ),\n",
    "        cells=dict(\n",
    "            values=[table_data.index] + [table_data[col] for col in table_data.columns],\n",
    "            fill_color='white',\n",
    "            align='center',\n",
    "            font=dict(size=11)\n",
    "        )\n",
    "    ),\n",
    "    row=2, col=2\n",
    ")\n",
    "\n",
    "# Update layout\n",
    "fig.update_layout(\n",
    "    height=800,\n",
    "    width=1400,\n",
    "    title_text=\"Interactive Model Performance Analysis\",\n",
    "    title_x=0.5,\n",
    "    title_font_size=16,\n",
    "    showlegend=True,\n",
    "    legend=dict(\n",
    "        orientation=\"h\",\n",
    "        yanchor=\"bottom\",\n",
    "        y=1.02,\n",
    "        xanchor=\"right\",\n",
    "        x=1\n",
    "    )\n",
    ")\n",
    "\n",
    "# Update x-axis labels\n",
    "fig.update_xaxes(title_text=\"Models\", row=1, col=1)\n",
    "fig.update_xaxes(title_text=\"Models\", row=1, col=2)\n",
    "fig.update_xaxes(title_text=\"Predicted Label\", row=2, col=1)\n",
    "\n",
    "# Update y-axis labels\n",
    "fig.update_yaxes(title_text=\"Score\", row=1, col=1)\n",
    "fig.update_yaxes(title_text=\"F1-Score\", row=1, col=2)\n",
    "fig.update_yaxes(title_text=\"True Label\", row=2, col=1)\n",
    "\n",
    "# Add grid\n",
    "fig.update_xaxes(showgrid=True, gridwidth=1, gridcolor='lightgray')\n",
    "fig.update_yaxes(showgrid=True, gridwidth=1, gridcolor='lightgray')\n",
    "\n",
    "fig.show()\n",
    "\n",
    "# Create a radar chart for model comparison\n",
    "fig_radar = go.Figure()\n",
    "\n",
    "for model in results_df.index:\n",
    "    fig_radar.add_trace(go.Scatterpolar(\n",
    "        r=[results_df.loc[model, metric] for metric in metrics],\n",
    "        theta=[metric.replace('_', ' ').title() for metric in metrics],\n",
    "        fill='toself',\n",
    "        name=model,\n",
    "        hovertemplate='%{theta}<br>Score: %{r:.4f}<br>Model: ' + model + '<extra></extra>'\n",
    "    ))\n",
    "\n",
    "fig_radar.update_layout(\n",
    "    polar=dict(\n",
    "        radialaxis=dict(\n",
    "            visible=True,\n",
    "            range=[0, 1]\n",
    "        )),\n",
    "    title=\"Model Performance Radar Chart\",\n",
    "    height=600,\n",
    "    showlegend=True\n",
    ")\n",
    "\n",
    "fig_radar.show()"
   ]
  },
  {
   "cell_type": "code",
   "execution_count": 64,
   "id": "c67a309f",
   "metadata": {},
   "outputs": [
    {
     "name": "stdout",
     "output_type": "stream",
     "text": [
      "Preprocessing Analysis\n",
      "==============================\n",
      "Sample preprocessing examples:\n",
      "----------------------------------------\n",
      "Example 1:\n",
      "Original:     @user This iPhone app is absolutely amazing! #love\n",
      "Cleaned:      This iPhone app is absolutely amazing! love\n",
      "Preprocessed: iphone app absolutely amazing love\n",
      "\n",
      "Example 2:\n",
      "Original:     The new update is terrible... can't believe this happened\n",
      "Cleaned:      The new update is terrible cannot believe this happened\n",
      "Preprocessed: new update terrible believe happened\n",
      "\n",
      "Example 3:\n",
      "Original:     http://example.com Check out this cool feature @company #tech\n",
      "Cleaned:      Check out this cool feature tech\n",
      "Preprocessed: check cool feature tech\n",
      "\n",
      "Vocabulary size: 964\n",
      "Total features: 964\n",
      "Sample features: ['action', 'actually', 'ad', 'agree', 'amazing', 'amazing sxsw', 'america', 'americaquot', 'amp', 'amp congress', 'amp ipad', 'amp physical', 'andoid', 'andoid app', 'android', 'android app', 'android choice', 'android link', 'android marketplace', 'android party']\n",
      "Transformed data shape: (1000, 964)\n",
      "Data type: <class 'scipy.sparse._csr.csr_matrix'>\n",
      "Sparsity: 0.990\n"
     ]
    }
   ],
   "source": [
    "# Analyze the preprocessing results\n",
    "print(\"Preprocessing Analysis\")\n",
    "print(\"=\" * 30)\n",
    "\n",
    "# Create a sample preprocessor to analyze\n",
    "sample_preprocessor = TweetPreprocessor(\n",
    "    tfidf_max_features=10000,\n",
    "    tfidf_ngram_range=(1, 2)\n",
    ")\n",
    "\n",
    "# Fit on a small sample for analysis\n",
    "sample_size = min(1000, len(X_train))\n",
    "sample_texts = X_train[:sample_size]\n",
    "sample_preprocessor.fit(sample_texts)\n",
    "\n",
    "# Show some preprocessing examples\n",
    "print(\"Sample preprocessing examples:\")\n",
    "print(\"-\" * 40)\n",
    "\n",
    "sample_tweets = [\n",
    "    \"@user This iPhone app is absolutely amazing! #love\",\n",
    "    \"The new update is terrible... can't believe this happened\",\n",
    "    \"http://example.com Check out this cool feature @company #tech\"\n",
    "]\n",
    "\n",
    "for i, tweet in enumerate(sample_tweets, 1):\n",
    "    cleaned = sample_preprocessor.clean_text(tweet)\n",
    "    preprocessed = sample_preprocessor.preprocess_text(cleaned)\n",
    "    print(f\"Example {i}:\")\n",
    "    print(f\"Original:     {tweet}\")\n",
    "    print(f\"Cleaned:      {cleaned}\")\n",
    "    print(f\"Preprocessed: {preprocessed}\")\n",
    "    print()\n",
    "\n",
    "# Show vocabulary size and top features\n",
    "vocab_size = len(sample_preprocessor.get_vocabulary())\n",
    "print(f\"Vocabulary size: {vocab_size}\")\n",
    "\n",
    "# Get feature names and show some examples\n",
    "feature_names = sample_preprocessor.get_feature_names_out()\n",
    "print(f\"Total features: {len(feature_names)}\")\n",
    "print(f\"Sample features: {list(feature_names[:20])}\")\n",
    "\n",
    "# Transform sample data to see the shape\n",
    "transformed_sample = sample_preprocessor.transform(sample_texts)\n",
    "print(f\"Transformed data shape: {transformed_sample.shape}\")\n",
    "print(f\"Data type: {type(transformed_sample)}\")\n",
    "print(f\"Sparsity: {1 - transformed_sample.nnz / (transformed_sample.shape[0] * transformed_sample.shape[1]):.3f}\")"
   ]
  },
  {
   "cell_type": "markdown",
   "id": "ff0dc392",
   "metadata": {},
   "source": [
    "### Hyperparameter tuning"
   ]
  },
  {
   "cell_type": "code",
   "execution_count": 221,
   "id": "6f89192d",
   "metadata": {},
   "outputs": [],
   "source": [
    "# hyperparameter tuning the xgboost model\n",
    "\n",
    "# define the parameter grid for the xgb model\n",
    "# param_grid = {\n",
    "#     'xgb_classifier__n_estimators': [50, 100, 200],\n",
    "#     'xgb_classifier__max_depth': [3, 5, 7],\n",
    "#     'xgb_classifier__learning_rate': [0.01, 0.1, 0.2],\n",
    "#     'xgb_classifier__subsample': [0.6, 0.8, 1.0],\n",
    "#     'xgb_classifier__colsample_bytree': [0.6, 0.8, 1.0],\n",
    "#     'xgb_classifier__gamma': [0, 0.1, 0.2]\n",
    "# }\n",
    "\n",
    "# # instantiate the grid search\n",
    "# grid_search = GridSearchCV(\n",
    "#     xgb_pipe,\n",
    "#     param_grid,\n",
    "#     cv=3,\n",
    "#     scoring='f1',\n",
    "#     n_jobs=1,\n",
    "#     verbose=True\n",
    "# )\n",
    "\n",
    "# # fit the grid search\n",
    "# grid_search.fit(X_train, y_train)\n",
    "\n",
    "# # obtain the best parameters and score\n",
    "# print(f\"Best parameters: {grid_search.best_params_}\")\n",
    "# print(f\"Best F1 score: {grid_search.best_score_:.4f}\")"
   ]
  },
  {
   "cell_type": "markdown",
   "id": "41b994cb",
   "metadata": {},
   "source": [
    "### Model Evaluation"
   ]
  },
  {
   "cell_type": "code",
   "execution_count": 65,
   "id": "08bf922e",
   "metadata": {},
   "outputs": [
    {
     "name": "stdout",
     "output_type": "stream",
     "text": [
      "\n",
      "Predicting sentiment for new tweets:\n",
      "--------------------------------------------------\n",
      "Tweet 1: I absolutely love this new iPhone update! It's fantastic!\n",
      "Prediction: Positive (confidence: 0.700)\n",
      "\n",
      "Tweet 2: This app is terrible and keeps crashing... very disappointed\n",
      "Prediction: Negative (confidence: 0.970)\n",
      "\n",
      "Tweet 3: The battery life on my phone is amazing now\n",
      "Prediction: Positive (confidence: 0.510)\n",
      "\n",
      "Tweet 4: Can't believe how slow this thing is running\n",
      "Prediction: Negative (confidence: 0.720)\n",
      "\n",
      "Sample prediction function result:\n",
      "{'sentiment': 'Negative', 'confidence': np.float64(0.57), 'probabilities': {'negative': np.float64(0.57), 'positive': np.float64(0.43)}, 'raw_prediction': np.int64(0)}\n"
     ]
    }
   ],
   "source": [
    "# Production Usage Example\n",
    "import joblib\n",
    "\n",
    "# Save the best pipeline\n",
    "best_model_name = 'Random Forest'\n",
    "best_pipeline_final = pipelines[best_model_name]\n",
    "joblib.dump(best_pipeline_final, 'nlp_model.pkl')\n",
    "\n",
    "# Example of loading and using the model\n",
    "loaded_model = joblib.load('nlp_model.pkl')\n",
    "\n",
    "# Test with new tweets\n",
    "test_tweets = [\n",
    "    \"I absolutely love this new iPhone update! It's fantastic!\",\n",
    "    \"This app is terrible and keeps crashing... very disappointed\",\n",
    "    \"The battery life on my phone is amazing now\",\n",
    "    \"Can't believe how slow this thing is running\"\n",
    "]\n",
    "\n",
    "print(\"\\nPredicting sentiment for new tweets:\")\n",
    "print(\"-\" * 50)\n",
    "\n",
    "for i, tweet in enumerate(test_tweets, 1):\n",
    "    prediction = loaded_model.predict([tweet])[0]\n",
    "    probability = loaded_model.predict_proba([tweet])[0]\n",
    "    \n",
    "    sentiment = \"Positive\" if prediction == 1 else \"Negative\"\n",
    "    confidence = max(probability)\n",
    "    \n",
    "    print(f\"Tweet {i}: {tweet}\")\n",
    "    print(f\"Prediction: {sentiment} (confidence: {confidence:.3f})\")\n",
    "    print()\n",
    "\n",
    "# Show how to create a simple prediction function\n",
    "def predict_sentiment(text, model=loaded_model):\n",
    "    \"\"\"\n",
    "    Predict sentiment using the balanced model\n",
    "    \"\"\"\n",
    "    # Get prediction probabilities\n",
    "    probabilities = model.predict_proba([text])[0]\n",
    "    \n",
    "    # Get the actual prediction (0 or 1)\n",
    "    prediction = model.predict([text])[0]\n",
    "    \n",
    "    # Correct mapping\n",
    "    sentiment_mapping = {0: 'Negative', 1: 'Positive'}\n",
    "    sentiment = sentiment_mapping[prediction]\n",
    "    \n",
    "    # Get confidence (probability of predicted class)\n",
    "    confidence = probabilities[prediction]\n",
    "    \n",
    "    return {\n",
    "        'sentiment': sentiment,\n",
    "        'confidence': confidence,\n",
    "        'probabilities': {\n",
    "            'negative': probabilities[0],\n",
    "            'positive': probabilities[1]\n",
    "        },\n",
    "        'raw_prediction': prediction\n",
    "    }\n",
    "\n",
    "# Test the function\n",
    "sample_result = predict_sentiment(\"This product is absolutely amazing!\")\n",
    "print(\"Sample prediction function result:\")\n",
    "print(sample_result)"
   ]
  }
 ],
 "metadata": {
  "kernelspec": {
   "display_name": "venv",
   "language": "python",
   "name": "python3"
  },
  "language_info": {
   "codemirror_mode": {
    "name": "ipython",
    "version": 3
   },
   "file_extension": ".py",
   "mimetype": "text/x-python",
   "name": "python",
   "nbconvert_exporter": "python",
   "pygments_lexer": "ipython3",
   "version": "3.12.3"
  }
 },
 "nbformat": 4,
 "nbformat_minor": 5
}
