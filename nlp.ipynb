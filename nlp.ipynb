{
 "cells": [
  {
   "cell_type": "markdown",
   "id": "f4654b4e",
   "metadata": {},
   "source": [
    "# 💬 **Twitter Sentiment Analysis (Natural Language Processing)**\n",
    "\n",
    "Authors:\n",
    "1. Patrick Maina (Team Leader)\n",
    "\n",
    "2. Christine Ndungu\n",
    "\n",
    "3. George Nyandusi\n",
    "\n",
    "4. Teresia Njoki\n",
    "\n",
    "## **1. 💼 Business Understanding**\n",
    "### **1.1. Introduction**\n",
    "Customer sentiment plays a significant role in shaping public perception and guiding product development for tech giants like Apple and Google. By analyzing public opinions through tweets on Twitter, entities can identify trends, gauge satisfaction, and respond to customer needs more effectively. In light of this, this project aims to build a sentiment analysis model that classifies Tweets about Apple and Google products into sentiment categories (positive, negative and neutral sentiments).\n",
    "\n",
    "### **1.2. Problem Statement**\n",
    "Apple and Google, two of the world's leading tech companies, heavily depend on public perception to maintain their market positions and customer trust. As consumers increasingly voice their opinions on platforms like Twitter, understanding these sentiments has become very paramount for brand management, product development, and customer engagement strategies. This has therefore led to the need to develop algorithms that can provide sentiments for various opinions from users.\n",
    "\n",
    "### **1.3. Objectives**\n",
    "The main objectives of this project are:\n",
    "- To apply **text preprocessing and vectorization** techniques to prepare the Twitter data for effective model training.\n",
    "\n",
    "- To develop a **binary sentiment** classifier to distinguish between positive and negative tweets, as a baseline.\n",
    "\n",
    "- To extend the model to a **multiclass classifier**, that includes the neutral class.\n",
    "\n",
    "- To evaluate classifier performance using appropriate metrics such as F1-score, precision and recall, particularly for imbalanced classes.\n",
    "- To provide actionable data-driven insights and recommendations.\n",
    "\n",
    "## **2. 📊 Data Understanding**\n",
    "In this step, we will explore the dataset to understand the kind of information it contains, the different features and their data types, as well as checking for things like missing values or unusual patterns. This will help us get a clear picture of the data before moving on to cleaning, preprocessing and vectorization.\n",
    "\n",
    "The dataset contains the following features:\n",
    "- `tweet_text`: This is the actual content of the tweet. It is the main text input used for sentiment classification.\n",
    "\n",
    "- `emotion_in_tweet_is_directed_at`: This specifies the tatget of the emotion expressed in the tweet (e.g., Apple, Google)\n",
    "\n",
    "- `is_there_an_emotion_directed_at_a_brand_or_product`: This indicates whether the tweet expresses an emotion directed at a brand or product. It serves as the label for classification.\n",
    "\n",
    "### **2.1. Import Libraries**\n",
    "For this project, we will implement the following tools and libraries:\n",
    "- `Numpy`: for numerical computations\n",
    "\n",
    "- `Pandas`: for data loading, cleaning and manipulation\n",
    "\n",
    "- `Seaborn`: for data visualization and EDA\n",
    "\n",
    "- `Matplotlib`: for data visualization and EDA\n",
    "\n",
    "- `Plotly`: for interactive visualizations\n",
    "\n",
    "- `Scikit-Learn`: for data preprocessing, predictive modeling and model evaluation\n",
    "\n",
    "- `Imblearn`: for handling class imbalance\n",
    "\n",
    "- `NLTK`: the Natural Language Toolkit for Natural Language Processing tasks\n",
    "\n",
    "- `Re`: The Regex library for text cleaning and manipulation."
   ]
  },
  {
   "cell_type": "code",
   "execution_count": 1,
   "id": "15465a32",
   "metadata": {},
   "outputs": [],
   "source": [
    "# import required libraries\n",
    "import pandas as pd\n",
    "import numpy as np\n",
    "from sklearn.feature_extraction.text import TfidfVectorizer, CountVectorizer\n",
    "# from sklearn.pipeline import Pipeline\n",
    "from sklearn.model_selection import train_test_split, GridSearchCV, RandomizedSearchCV\n",
    "from sklearn.impute import SimpleImputer\n",
    "from sklearn.preprocessing import StandardScaler\n",
    "from sklearn.base import BaseEstimator, TransformerMixin\n",
    "from sklearn.linear_model import LogisticRegression, SGDClassifier\n",
    "from sklearn.ensemble import RandomForestClassifier, GradientBoostingClassifier\n",
    "from sklearn.svm import SVC\n",
    "from sklearn.naive_bayes import MultinomialNB\n",
    "from sklearn.neighbors import KNeighborsClassifier\n",
    "from sklearn.tree import DecisionTreeClassifier\n",
    "from sklearn.metrics import accuracy_score, f1_score, precision_score, recall_score, classification_report, confusion_matrix\n",
    "from xgboost import XGBClassifier\n",
    "from imblearn.over_sampling import SMOTE\n",
    "from imblearn.pipeline import Pipeline\n",
    "from catboost import CatBoostClassifier\n",
    "from scipy.sparse import hstack, csr_matrix\n",
    "\n",
    "# visualization libraries\n",
    "import plotly.graph_objects as go\n",
    "import plotly.express as px\n",
    "from plotly.subplots import make_subplots\n",
    "import plotly.figure_factory as ff\n",
    "import plotly.colors as pc\n",
    "import matplotlib.pyplot as plt\n",
    "import seaborn as sns\n",
    "\n",
    "# set visualization style\n",
    "sns.set(style=\"whitegrid\")\n",
    "\n",
    "# Set the seaborn plot size\n",
    "sns.set_theme(rc={'figure.figsize':(11.7,8.27)})\n",
    "\n",
    "# nltk imports\n",
    "import nltk\n",
    "import re\n",
    "from nltk.corpus import stopwords\n",
    "from nltk.stem import WordNetLemmatizer\n",
    "from nltk.tokenize import word_tokenize\n",
    "nltk.download('stopwords', quiet=True)\n",
    "nltk.download('wordnet', quiet=True)\n",
    "nltk.download('punkt', quiet=True)\n",
    "nltk.download('punkt_tab', quiet=True)\n",
    "\n",
    "# model interpretation libraries\n",
    "import lime\n",
    "import lime.lime_text\n",
    "# from IPython.display import HTML\n",
    "\n",
    "# model saving library\n",
    "import joblib\n",
    "\n",
    "# suppress warnings\n",
    "import warnings\n",
    "warnings.filterwarnings('ignore')"
   ]
  },
  {
   "cell_type": "markdown",
   "id": "53cebc37",
   "metadata": {},
   "source": [
    "### **2.2. Data Loading and Inspection**\n",
    "In this section, we will load the dataset, and check the info, as well as the summary statistics."
   ]
  },
  {
   "cell_type": "code",
   "execution_count": 2,
   "id": "0bc37d52",
   "metadata": {},
   "outputs": [
    {
     "data": {
      "text/html": [
       "<div>\n",
       "<style scoped>\n",
       "    .dataframe tbody tr th:only-of-type {\n",
       "        vertical-align: middle;\n",
       "    }\n",
       "\n",
       "    .dataframe tbody tr th {\n",
       "        vertical-align: top;\n",
       "    }\n",
       "\n",
       "    .dataframe thead th {\n",
       "        text-align: right;\n",
       "    }\n",
       "</style>\n",
       "<table border=\"1\" class=\"dataframe\">\n",
       "  <thead>\n",
       "    <tr style=\"text-align: right;\">\n",
       "      <th></th>\n",
       "      <th>tweet_text</th>\n",
       "      <th>emotion_in_tweet_is_directed_at</th>\n",
       "      <th>is_there_an_emotion_directed_at_a_brand_or_product</th>\n",
       "    </tr>\n",
       "  </thead>\n",
       "  <tbody>\n",
       "    <tr>\n",
       "      <th>0</th>\n",
       "      <td>.@wesley83 I have a 3G iPhone. After 3 hrs twe...</td>\n",
       "      <td>iPhone</td>\n",
       "      <td>Negative emotion</td>\n",
       "    </tr>\n",
       "    <tr>\n",
       "      <th>1</th>\n",
       "      <td>@jessedee Know about @fludapp ? Awesome iPad/i...</td>\n",
       "      <td>iPad or iPhone App</td>\n",
       "      <td>Positive emotion</td>\n",
       "    </tr>\n",
       "    <tr>\n",
       "      <th>2</th>\n",
       "      <td>@swonderlin Can not wait for #iPad 2 also. The...</td>\n",
       "      <td>iPad</td>\n",
       "      <td>Positive emotion</td>\n",
       "    </tr>\n",
       "    <tr>\n",
       "      <th>3</th>\n",
       "      <td>@sxsw I hope this year's festival isn't as cra...</td>\n",
       "      <td>iPad or iPhone App</td>\n",
       "      <td>Negative emotion</td>\n",
       "    </tr>\n",
       "    <tr>\n",
       "      <th>4</th>\n",
       "      <td>@sxtxstate great stuff on Fri #SXSW: Marissa M...</td>\n",
       "      <td>Google</td>\n",
       "      <td>Positive emotion</td>\n",
       "    </tr>\n",
       "  </tbody>\n",
       "</table>\n",
       "</div>"
      ],
      "text/plain": [
       "                                          tweet_text  \\\n",
       "0  .@wesley83 I have a 3G iPhone. After 3 hrs twe...   \n",
       "1  @jessedee Know about @fludapp ? Awesome iPad/i...   \n",
       "2  @swonderlin Can not wait for #iPad 2 also. The...   \n",
       "3  @sxsw I hope this year's festival isn't as cra...   \n",
       "4  @sxtxstate great stuff on Fri #SXSW: Marissa M...   \n",
       "\n",
       "  emotion_in_tweet_is_directed_at  \\\n",
       "0                          iPhone   \n",
       "1              iPad or iPhone App   \n",
       "2                            iPad   \n",
       "3              iPad or iPhone App   \n",
       "4                          Google   \n",
       "\n",
       "  is_there_an_emotion_directed_at_a_brand_or_product  \n",
       "0                                   Negative emotion  \n",
       "1                                   Positive emotion  \n",
       "2                                   Positive emotion  \n",
       "3                                   Negative emotion  \n",
       "4                                   Positive emotion  "
      ]
     },
     "execution_count": 2,
     "metadata": {},
     "output_type": "execute_result"
    }
   ],
   "source": [
    "# load the dataset\n",
    "tweet_df = pd.read_csv('data/twitter_data.csv', encoding='latin-1')\n",
    "\n",
    "# display the first few rows of the dataset\n",
    "tweet_df.head()"
   ]
  },
  {
   "cell_type": "code",
   "execution_count": 3,
   "id": "7aca9b55",
   "metadata": {},
   "outputs": [
    {
     "name": "stdout",
     "output_type": "stream",
     "text": [
      "<class 'pandas.core.frame.DataFrame'>\n",
      "RangeIndex: 9093 entries, 0 to 9092\n",
      "Data columns (total 3 columns):\n",
      " #   Column                                              Non-Null Count  Dtype \n",
      "---  ------                                              --------------  ----- \n",
      " 0   tweet_text                                          9092 non-null   object\n",
      " 1   emotion_in_tweet_is_directed_at                     3291 non-null   object\n",
      " 2   is_there_an_emotion_directed_at_a_brand_or_product  9093 non-null   object\n",
      "dtypes: object(3)\n",
      "memory usage: 213.2+ KB\n"
     ]
    }
   ],
   "source": [
    "# check the dataset info\n",
    "tweet_df.info()"
   ]
  },
  {
   "cell_type": "markdown",
   "id": "b49d8812",
   "metadata": {},
   "source": [
    "From the `info()` function, we can note the following:\n",
    "- The dataset contains a total of `9093` records, and 3 columns/features.\n",
    "\n",
    "- All the columns are of the `object` data type"
   ]
  },
  {
   "cell_type": "markdown",
   "id": "dd6a641d",
   "metadata": {},
   "source": [
    "In order to understand the columns better, and for ease of readability, we will rename the columns to give the data more meaning."
   ]
  },
  {
   "cell_type": "code",
   "execution_count": 4,
   "id": "fe6fbd63",
   "metadata": {},
   "outputs": [
    {
     "data": {
      "text/html": [
       "<div>\n",
       "<style scoped>\n",
       "    .dataframe tbody tr th:only-of-type {\n",
       "        vertical-align: middle;\n",
       "    }\n",
       "\n",
       "    .dataframe tbody tr th {\n",
       "        vertical-align: top;\n",
       "    }\n",
       "\n",
       "    .dataframe thead th {\n",
       "        text-align: right;\n",
       "    }\n",
       "</style>\n",
       "<table border=\"1\" class=\"dataframe\">\n",
       "  <thead>\n",
       "    <tr style=\"text-align: right;\">\n",
       "      <th></th>\n",
       "      <th>tweet</th>\n",
       "      <th>tweet_directed_at</th>\n",
       "      <th>sentiment</th>\n",
       "    </tr>\n",
       "  </thead>\n",
       "  <tbody>\n",
       "    <tr>\n",
       "      <th>0</th>\n",
       "      <td>.@wesley83 I have a 3G iPhone. After 3 hrs twe...</td>\n",
       "      <td>iPhone</td>\n",
       "      <td>Negative emotion</td>\n",
       "    </tr>\n",
       "    <tr>\n",
       "      <th>1</th>\n",
       "      <td>@jessedee Know about @fludapp ? Awesome iPad/i...</td>\n",
       "      <td>iPad or iPhone App</td>\n",
       "      <td>Positive emotion</td>\n",
       "    </tr>\n",
       "    <tr>\n",
       "      <th>2</th>\n",
       "      <td>@swonderlin Can not wait for #iPad 2 also. The...</td>\n",
       "      <td>iPad</td>\n",
       "      <td>Positive emotion</td>\n",
       "    </tr>\n",
       "    <tr>\n",
       "      <th>3</th>\n",
       "      <td>@sxsw I hope this year's festival isn't as cra...</td>\n",
       "      <td>iPad or iPhone App</td>\n",
       "      <td>Negative emotion</td>\n",
       "    </tr>\n",
       "    <tr>\n",
       "      <th>4</th>\n",
       "      <td>@sxtxstate great stuff on Fri #SXSW: Marissa M...</td>\n",
       "      <td>Google</td>\n",
       "      <td>Positive emotion</td>\n",
       "    </tr>\n",
       "  </tbody>\n",
       "</table>\n",
       "</div>"
      ],
      "text/plain": [
       "                                               tweet   tweet_directed_at  \\\n",
       "0  .@wesley83 I have a 3G iPhone. After 3 hrs twe...              iPhone   \n",
       "1  @jessedee Know about @fludapp ? Awesome iPad/i...  iPad or iPhone App   \n",
       "2  @swonderlin Can not wait for #iPad 2 also. The...                iPad   \n",
       "3  @sxsw I hope this year's festival isn't as cra...  iPad or iPhone App   \n",
       "4  @sxtxstate great stuff on Fri #SXSW: Marissa M...              Google   \n",
       "\n",
       "          sentiment  \n",
       "0  Negative emotion  \n",
       "1  Positive emotion  \n",
       "2  Positive emotion  \n",
       "3  Negative emotion  \n",
       "4  Positive emotion  "
      ]
     },
     "execution_count": 4,
     "metadata": {},
     "output_type": "execute_result"
    }
   ],
   "source": [
    "# rename the columns in the dataset\n",
    "def rename_columns(df):\n",
    "    df.columns = ['tweet', 'tweet_directed_at', 'sentiment']\n",
    "    return df\n",
    "\n",
    "tweet_df = rename_columns(tweet_df)\n",
    "tweet_df.head()"
   ]
  },
  {
   "cell_type": "markdown",
   "id": "0feb8b8e",
   "metadata": {},
   "source": [
    "In the sentiment column, we can check the different classes (sentiments), as well as their respective counts."
   ]
  },
  {
   "cell_type": "code",
   "execution_count": 5,
   "id": "95006a34",
   "metadata": {},
   "outputs": [
    {
     "data": {
      "text/plain": [
       "sentiment\n",
       "No emotion toward brand or product    5389\n",
       "Positive emotion                      2978\n",
       "Negative emotion                       570\n",
       "I can't tell                           156\n",
       "Name: count, dtype: int64"
      ]
     },
     "execution_count": 5,
     "metadata": {},
     "output_type": "execute_result"
    }
   ],
   "source": [
    "# check the unique values in 'sentiment'\n",
    "tweet_df['sentiment'].value_counts()"
   ]
  },
  {
   "cell_type": "markdown",
   "id": "46353df3",
   "metadata": {},
   "source": [
    "From the above cell, we have four distinct classes namely:\n",
    "- `Positive emotion`\n",
    "\n",
    "- `Negative emotion`\n",
    "\n",
    "- `No emotion toward the brand or product`\n",
    "\n",
    "- `I can't tell`\n",
    "\n",
    "The last two classes are not distict classes per se, so we can combine the two classes to create one single class (`Neutral emotion`), making the number of classes 3 in total."
   ]
  },
  {
   "cell_type": "code",
   "execution_count": 6,
   "id": "429a9022",
   "metadata": {},
   "outputs": [
    {
     "name": "stdout",
     "output_type": "stream",
     "text": [
      "Unique Sentiments:\n",
      "['Negative emotion' 'Positive emotion' 'Neutral emotion']\n"
     ]
    }
   ],
   "source": [
    "# combine the 'No emotion toward brand or product' and 'No emotion toward brand or product' into a single category\n",
    "tweet_df['sentiment'] = tweet_df['sentiment'].replace(\n",
    "    {\n",
    "        \"No emotion toward brand or product\": \"Neutral emotion\",\n",
    "        \"I can't tell\": \"Neutral emotion\",\n",
    "    }\n",
    ")\n",
    "\n",
    "# check the unique values in the sentiment column\n",
    "print(\"Unique Sentiments:\")\n",
    "print(tweet_df['sentiment'].unique())"
   ]
  },
  {
   "cell_type": "markdown",
   "id": "02024e8c",
   "metadata": {},
   "source": [
    "Next, we will check for missing values and duplicate values in our dataset."
   ]
  },
  {
   "cell_type": "code",
   "execution_count": 7,
   "id": "49bec51b",
   "metadata": {},
   "outputs": [
    {
     "name": "stdout",
     "output_type": "stream",
     "text": [
      "Missing Values (%):\n",
      "tweet                 0.010997\n",
      "tweet_directed_at    63.807324\n",
      "sentiment             0.000000\n",
      "dtype: float64\n"
     ]
    }
   ],
   "source": [
    "# check for missing values, and express as a percentage\n",
    "missing_values = tweet_df.isna().sum() / len(tweet_df) * 100\n",
    "print(\"Missing Values (%):\")\n",
    "print(missing_values)"
   ]
  },
  {
   "cell_type": "markdown",
   "id": "ee2eb74a",
   "metadata": {},
   "source": [
    "We have a very huge number of missing values in the `tweet_directed_at` column. Since this column is not very significant in the modeling process, we will drop it entirely."
   ]
  },
  {
   "cell_type": "code",
   "execution_count": 8,
   "id": "5dfa1ade",
   "metadata": {},
   "outputs": [
    {
     "data": {
      "text/plain": [
       "tweet                0\n",
       "tweet_directed_at    0\n",
       "sentiment            0\n",
       "dtype: int64"
      ]
     },
     "execution_count": 8,
     "metadata": {},
     "output_type": "execute_result"
    }
   ],
   "source": [
    "# fill the missing values in 'tweet_directed_at' column with 'Not directed'\n",
    "tweet_df['tweet_directed_at'].fillna('Not directed', inplace=True)\n",
    "# tweet_df.drop(columns=['tweet_directed_at'], inplace=True)\n",
    "\n",
    "# drop the missing value in 'tweet' column\n",
    "tweet_df.dropna(subset=['tweet'], inplace=True, axis=0)\n",
    "\n",
    "# check again for missing values\n",
    "tweet_df.isna().sum()"
   ]
  },
  {
   "cell_type": "markdown",
   "id": "31ed7a2b",
   "metadata": {},
   "source": [
    "In this section, we check for duplicate rows in the dataset"
   ]
  },
  {
   "cell_type": "code",
   "execution_count": 9,
   "id": "5749db9d",
   "metadata": {},
   "outputs": [
    {
     "data": {
      "text/plain": [
       "np.int64(22)"
      ]
     },
     "execution_count": 9,
     "metadata": {},
     "output_type": "execute_result"
    }
   ],
   "source": [
    "# check for duplicate values\n",
    "tweet_df.duplicated().sum()"
   ]
  },
  {
   "cell_type": "markdown",
   "id": "9c3b0663",
   "metadata": {},
   "source": [
    "We have 22 duplicate rows in the data. We will drop the duplicate rows entirely."
   ]
  },
  {
   "cell_type": "code",
   "execution_count": 10,
   "id": "46ac95cd",
   "metadata": {},
   "outputs": [
    {
     "data": {
      "text/plain": [
       "np.int64(0)"
      ]
     },
     "execution_count": 10,
     "metadata": {},
     "output_type": "execute_result"
    }
   ],
   "source": [
    "# drop the duplicate rows\n",
    "tweet_df.drop_duplicates(inplace=True)\n",
    "tweet_df.duplicated().sum()"
   ]
  },
  {
   "cell_type": "markdown",
   "id": "59a6e176",
   "metadata": {},
   "source": [
    "Next, we will check the summary statistics of the data."
   ]
  },
  {
   "cell_type": "code",
   "execution_count": 11,
   "id": "4eb38290",
   "metadata": {},
   "outputs": [
    {
     "data": {
      "text/html": [
       "<div>\n",
       "<style scoped>\n",
       "    .dataframe tbody tr th:only-of-type {\n",
       "        vertical-align: middle;\n",
       "    }\n",
       "\n",
       "    .dataframe tbody tr th {\n",
       "        vertical-align: top;\n",
       "    }\n",
       "\n",
       "    .dataframe thead th {\n",
       "        text-align: right;\n",
       "    }\n",
       "</style>\n",
       "<table border=\"1\" class=\"dataframe\">\n",
       "  <thead>\n",
       "    <tr style=\"text-align: right;\">\n",
       "      <th></th>\n",
       "      <th>tweet</th>\n",
       "      <th>tweet_directed_at</th>\n",
       "      <th>sentiment</th>\n",
       "    </tr>\n",
       "  </thead>\n",
       "  <tbody>\n",
       "    <tr>\n",
       "      <th>count</th>\n",
       "      <td>9070</td>\n",
       "      <td>9070</td>\n",
       "      <td>9070</td>\n",
       "    </tr>\n",
       "    <tr>\n",
       "      <th>unique</th>\n",
       "      <td>9065</td>\n",
       "      <td>10</td>\n",
       "      <td>3</td>\n",
       "    </tr>\n",
       "    <tr>\n",
       "      <th>top</th>\n",
       "      <td>RT @mention RT @mention It's not a rumor: Appl...</td>\n",
       "      <td>Not directed</td>\n",
       "      <td>Neutral emotion</td>\n",
       "    </tr>\n",
       "    <tr>\n",
       "      <th>freq</th>\n",
       "      <td>2</td>\n",
       "      <td>5788</td>\n",
       "      <td>5531</td>\n",
       "    </tr>\n",
       "  </tbody>\n",
       "</table>\n",
       "</div>"
      ],
      "text/plain": [
       "                                                    tweet tweet_directed_at  \\\n",
       "count                                                9070              9070   \n",
       "unique                                               9065                10   \n",
       "top     RT @mention RT @mention It's not a rumor: Appl...      Not directed   \n",
       "freq                                                    2              5788   \n",
       "\n",
       "              sentiment  \n",
       "count              9070  \n",
       "unique                3  \n",
       "top     Neutral emotion  \n",
       "freq               5531  "
      ]
     },
     "execution_count": 11,
     "metadata": {},
     "output_type": "execute_result"
    }
   ],
   "source": [
    "tweet_df.describe()"
   ]
  },
  {
   "cell_type": "markdown",
   "id": "883c23da",
   "metadata": {},
   "source": [
    "### **2.3. Exploratory Data Analysis**\n",
    "In this section, we will perform a systematic investigation of the dataset to extract insights, evaluate feature distributions, assess the relationship between the feature and target variables, and identify anomalies, outliers or data quality issues. This will guide the selection of appropriate modeling techniques."
   ]
  },
  {
   "cell_type": "markdown",
   "id": "0adb3645",
   "metadata": {},
   "source": [
    "### **2.3.1. Dataset Overview**\n",
    "In this section, we get a general overview of the dataset, including the shape, number of tweets, number of features and column info."
   ]
  },
  {
   "cell_type": "code",
   "execution_count": 12,
   "id": "6285e580",
   "metadata": {},
   "outputs": [
    {
     "name": "stdout",
     "output_type": "stream",
     "text": [
      "Dataset Overview\n",
      "Dataset shape: (9070, 3)\n",
      "Number of tweets: 9070\n",
      "Number of features: 3\n",
      "Memory usage: 2.54 MB\n",
      "\n",
      "Column Information:\n",
      "• tweet: object\n",
      "• tweet_directed_at: object\n",
      "• sentiment: object\n"
     ]
    }
   ],
   "source": [
    "# Basic dataset overview\n",
    "print(\"Dataset Overview\")\n",
    "print(f\"Dataset shape: {tweet_df.shape}\")\n",
    "print(f\"Number of tweets: {len(tweet_df)}\")\n",
    "print(f\"Number of features: {len(tweet_df.columns)}\")\n",
    "print(f\"Memory usage: {tweet_df.memory_usage(deep=True).sum() / 1024**2:.2f} MB\")\n",
    "\n",
    "print(\"\\nColumn Information:\")\n",
    "for col in tweet_df.columns:\n",
    "    print(f\"• {col}: {tweet_df[col].dtype}\")"
   ]
  },
  {
   "cell_type": "markdown",
   "id": "34c00836",
   "metadata": {},
   "source": [
    "### **2.3.2. Sentiment Distribution Analysis**\n",
    "In this section, we will look at the distribution of the unique values in the `sentiment` column."
   ]
  },
  {
   "cell_type": "code",
   "execution_count": 13,
   "id": "a7ac1edc",
   "metadata": {},
   "outputs": [
    {
     "name": "stdout",
     "output_type": "stream",
     "text": [
      "Sentiment Distribution Analysis\n",
      "\n",
      "Sentiment Categories:\n",
      "sentiment\n",
      "Neutral emotion     5531\n",
      "Positive emotion    2970\n",
      "Negative emotion     569\n",
      "Name: count, dtype: int64\n",
      "\n",
      "Sentiment Distribution (%):\n",
      "sentiment\n",
      "Neutral emotion     60.98\n",
      "Positive emotion    32.75\n",
      "Negative emotion     6.27\n",
      "Name: proportion, dtype: float64\n"
     ]
    }
   ],
   "source": [
    "# Sentiment Distribution Analysis\n",
    "print(\"Sentiment Distribution Analysis\")\n",
    "\n",
    "# Count unique sentiment values\n",
    "sentiment_counts = tweet_df['sentiment'].value_counts()\n",
    "print(\"\\nSentiment Categories:\")\n",
    "print(sentiment_counts)\n",
    "\n",
    "# Calculate percentages\n",
    "sentiment_percentages = tweet_df['sentiment'].value_counts(normalize=True) * 100\n",
    "print(\"\\nSentiment Distribution (%):\")\n",
    "print(sentiment_percentages.round(2))"
   ]
  },
  {
   "cell_type": "code",
   "execution_count": 14,
   "id": "47cbe5bf",
   "metadata": {},
   "outputs": [
    {
     "data": {
      "image/png": "[encoded data removed]",
      "text/plain": [
       "<Figure size 1300x700 with 1 Axes>"
      ]
     },
     "metadata": {},
     "output_type": "display_data"
    }
   ],
   "source": [
    "# Visualize sentiment distribution\n",
    "plt.figure(figsize=(13, 7))\n",
    "\n",
    "# Plot 1: Count plot\n",
    "# plt.subplot(2, 3, 1)\n",
    "ax = sns.countplot(data=tweet_df, y='sentiment', order=sentiment_counts.index, palette='viridis')\n",
    "plt.title('Sentiment Distribution (Count)', fontsize=12, fontweight='bold')\n",
    "plt.xlabel('Count')\n",
    "for i, v in enumerate(sentiment_counts.values):\n",
    "    ax.text(v + 50, i, str(v), va='center', fontweight='bold')"
   ]
  },
  {
   "cell_type": "markdown",
   "id": "ce3a78a3",
   "metadata": {},
   "source": [
    "From the plot, out of the 9070 tweets in the dataset, `5531` tweets express a neutral emotion, which is about `60.98%` of the total tweets, `2970` tweets express a positive emotion, which is about `32.75%` of the total tweets, and `569` tweets express a negative emotion, which is about `6.27%` of the total tweets. This indicates that the sentiment(target) column is **highly imbalanced**. This imbalance can negatively impact the performance of the prediction model by influencing the model to make false predictions. Therefore, the class imbalance will be handles before modeling."
   ]
  },
  {
   "cell_type": "markdown",
   "id": "f79643fc",
   "metadata": {},
   "source": [
    "### **2.3.3. Tweet Destination distribution**\n",
    "In this section, we will look at the distribution of the various entities in which these tweets are directed to. This will aid in knowing how the tweets are distributed across different brands and products, helping us understand:\n",
    "\n",
    "- **Brand focus and market share** - Which entities (Apple, Google, iPhone, etc.) receive the most social media attention\n",
    "\n",
    "- **Sentiment patterns by destination** - How different brands/products are perceived by users\n",
    "\n",
    "- **Data balance assessment** - Whether we have sufficient data for meaningful analysis across different entities\n",
    "\n",
    "- **Competitive insights** - Relative discussion volume between Apple and Google products\n",
    "\n",
    "- **Targeted analysis opportunities** - Identifying which brands/products warrant deeper sentiment investigation\n",
    "\n",
    "This analysis will guide our modeling approach and help generate actionable business insights for brand management and product development strategies."
   ]
  },
  {
   "cell_type": "code",
   "execution_count": 15,
   "id": "33ef0444",
   "metadata": {},
   "outputs": [
    {
     "data": {
      "image/png": "[encoded data removed]",
      "text/plain": [
       "<Figure size 1300x700 with 1 Axes>"
      ]
     },
     "metadata": {},
     "output_type": "display_data"
    }
   ],
   "source": [
    "# Plot 2: Tweet destination distribution\n",
    "plt.figure(figsize=(13, 7))\n",
    "tweet_dest_counts = tweet_df['tweet_directed_at'].value_counts().head(10)\n",
    "ax = sns.barplot(x=tweet_dest_counts.values, y=tweet_dest_counts.index, palette='coolwarm')\n",
    "plt.title('Top 10 Tweet Destinations', fontsize=12, fontweight='bold')\n",
    "plt.xlabel('Count')\n",
    "for i, v in enumerate(tweet_dest_counts.values):\n",
    "    ax.text(v + 10, i, str(v), va='center', fontweight='bold')"
   ]
  },
  {
   "cell_type": "markdown",
   "id": "3b592795",
   "metadata": {},
   "source": [
    "From the plot above, we observe that the majority of tweets are not directed at any specific brand or product, with \"Not directed\" being the most frequent category. Among the directed tweets, \"iPad,\" \"Apple,\" and \"iPad or iPhone App\" receive the highest number of mentions, followed by \"Google\" and \"iPhone.\" This indicates that Apple-related products and services dominate the conversation in the dataset, while Google and its products receive comparatively fewer mentions. Overall, the data shows a strong focus on Apple within the top tweet destinations."
   ]
  },
  {
   "cell_type": "markdown",
   "id": "608aafef",
   "metadata": {},
   "source": [
    "### **2.3.4. Sentiment by Tweet destination**\n",
    "The sentiment by tweet destination plot helps us understand how people feel about different brands or products. It shows the proportion of positive, negative, and neutral tweets for each major destination (like Apple, Google, iPhone, etc.). This allows us to:\n",
    "\n",
    "- Compare public perception of different brands/products.\n",
    "\n",
    "- Identify which brands/products receive more positive or negative feedback.\n",
    "\n",
    "- Spot areas where a brand or product may need improvement or is performing well.\n",
    "\n",
    "- Guide business and marketing strategies based on how sentiment varies across destinations."
   ]
  },
  {
   "cell_type": "code",
   "execution_count": 16,
   "id": "bcbb6d40",
   "metadata": {},
   "outputs": [
    {
     "data": {
      "application/vnd.plotly.v1+json": {
       "config": {
        "plotlyServerURL": "https://plot.ly"
       },
       "data": [
        {
         "name": "Negative emotion",
         "text": {
          "bdata": "AAAAAADAV0AAAAAAAABRQAAAAAAAgElAAAAAAABAX0AAAAAAAIBPQA==",
          "dtype": "f8"
         },
         "textposition": "auto",
         "type": "bar",
         "x": [
          "Apple",
          "Google",
          "Not directed",
          "iPad",
          "iPad or iPhone App"
         ],
         "y": {
          "bdata": "X0QzfT8=",
          "dtype": "i1"
         }
        },
        {
         "name": "Neutral emotion",
         "text": {
          "bdata": "AAAAAAAAN0AAAAAAAAAwQAAAAAAAN7VAAAAAAAAAPEAAAAAAAAAkQA==",
          "dtype": "f8"
         },
         "textposition": "auto",
         "type": "bar",
         "x": [
          "Apple",
          "Google",
          "Not directed",
          "iPad",
          "iPad or iPhone App"
         ],
         "y": {
          "bdata": "FwAQADcVHAAKAA==",
          "dtype": "i2"
         }
        },
        {
         "name": "Positive emotion",
         "text": {
          "bdata": "AAAAAADogEAAAAAAAIB1QAAAAAAAIHNAAAAAAADAiEAAAAAAAMB4QA==",
          "dtype": "f8"
         },
         "textposition": "auto",
         "type": "bar",
         "x": [
          "Apple",
          "Google",
          "Not directed",
          "iPad",
          "iPad or iPhone App"
         ],
         "y": {
          "bdata": "HQJYATIBGAOMAQ==",
          "dtype": "i2"
         }
        }
       ],
       "layout": {
        "barmode": "stack",
        "height": 800,
        "legend": {
         "title": {
          "text": "Sentiment"
         }
        },
        "template": {
         "data": {
          "bar": [
           {
            "error_x": {
             "color": "#2a3f5f"
            },
            "error_y": {
             "color": "#2a3f5f"
            },
            "marker": {
             "line": {
              "color": "white",
              "width": 0.5
             },
             "pattern": {
              "fillmode": "overlay",
              "size": 10,
              "solidity": 0.2
             }
            },
            "type": "bar"
           }
          ],
          "barpolar": [
           {
            "marker": {
             "line": {
              "color": "white",
              "width": 0.5
             },
             "pattern": {
              "fillmode": "overlay",
              "size": 10,
              "solidity": 0.2
             }
            },
            "type": "barpolar"
           }
          ],
          "carpet": [
           {
            "aaxis": {
             "endlinecolor": "#2a3f5f",
             "gridcolor": "#C8D4E3",
             "linecolor": "#C8D4E3",
             "minorgridcolor": "#C8D4E3",
             "startlinecolor": "#2a3f5f"
            },
            "baxis": {
             "endlinecolor": "#2a3f5f",
             "gridcolor": "#C8D4E3",
             "linecolor": "#C8D4E3",
             "minorgridcolor": "#C8D4E3",
             "startlinecolor": "#2a3f5f"
            },
            "type": "carpet"
           }
          ],
          "choropleth": [
           {
            "colorbar": {
             "outlinewidth": 0,
             "ticks": ""
            },
            "type": "choropleth"
           }
          ],
          "contour": [
           {
            "colorbar": {
             "outlinewidth": 0,
             "ticks": ""
            },
            "colorscale": [
             [
              0,
              "#0d0887"
             ],
             [
              0.1111111111111111,
              "#46039f"
             ],
             [
              0.2222222222222222,
              "#7201a8"
             ],
             [
              0.3333333333333333,
              "#9c179e"
             ],
             [
              0.4444444444444444,
              "#bd3786"
             ],
             [
              0.5555555555555556,
              "#d8576b"
             ],
             [
              0.6666666666666666,
              "#ed7953"
             ],
             [
              0.7777777777777778,
              "#fb9f3a"
             ],
             [
              0.8888888888888888,
              "#fdca26"
             ],
             [
              1,
              "#f0f921"
             ]
            ],
            "type": "contour"
           }
          ],
          "contourcarpet": [
           {
            "colorbar": {
             "outlinewidth": 0,
             "ticks": ""
            },
            "type": "contourcarpet"
           }
          ],
          "heatmap": [
           {
            "colorbar": {
             "outlinewidth": 0,
             "ticks": ""
            },
            "colorscale": [
             [
              0,
              "#0d0887"
             ],
             [
              0.1111111111111111,
              "#46039f"
             ],
             [
              0.2222222222222222,
              "#7201a8"
             ],
             [
              0.3333333333333333,
              "#9c179e"
             ],
             [
              0.4444444444444444,
              "#bd3786"
             ],
             [
              0.5555555555555556,
              "#d8576b"
             ],
             [
              0.6666666666666666,
              "#ed7953"
             ],
             [
              0.7777777777777778,
              "#fb9f3a"
             ],
             [
              0.8888888888888888,
              "#fdca26"
             ],
             [
              1,
              "#f0f921"
             ]
            ],
            "type": "heatmap"
           }
          ],
          "histogram": [
           {
            "marker": {
             "pattern": {
              "fillmode": "overlay",
              "size": 10,
              "solidity": 0.2
             }
            },
            "type": "histogram"
           }
          ],
          "histogram2d": [
           {
            "colorbar": {
             "outlinewidth": 0,
             "ticks": ""
            },
            "colorscale": [
             [
              0,
              "#0d0887"
             ],
             [
              0.1111111111111111,
              "#46039f"
             ],
             [
              0.2222222222222222,
              "#7201a8"
             ],
             [
              0.3333333333333333,
              "#9c179e"
             ],
             [
              0.4444444444444444,
              "#bd3786"
             ],
             [
              0.5555555555555556,
              "#d8576b"
             ],
             [
              0.6666666666666666,
              "#ed7953"
             ],
             [
              0.7777777777777778,
              "#fb9f3a"
             ],
             [
              0.8888888888888888,
              "#fdca26"
             ],
             [
              1,
              "#f0f921"
             ]
            ],
            "type": "histogram2d"
           }
          ],
          "histogram2dcontour": [
           {
            "colorbar": {
             "outlinewidth": 0,
             "ticks": ""
            },
            "colorscale": [
             [
              0,
              "#0d0887"
             ],
             [
              0.1111111111111111,
              "#46039f"
             ],
             [
              0.2222222222222222,
              "#7201a8"
             ],
             [
              0.3333333333333333,
              "#9c179e"
             ],
             [
              0.4444444444444444,
              "#bd3786"
             ],
             [
              0.5555555555555556,
              "#d8576b"
             ],
             [
              0.6666666666666666,
              "#ed7953"
             ],
             [
              0.7777777777777778,
              "#fb9f3a"
             ],
             [
              0.8888888888888888,
              "#fdca26"
             ],
             [
              1,
              "#f0f921"
             ]
            ],
            "type": "histogram2dcontour"
           }
          ],
          "mesh3d": [
           {
            "colorbar": {
             "outlinewidth": 0,
             "ticks": ""
            },
            "type": "mesh3d"
           }
          ],
          "parcoords": [
           {
            "line": {
             "colorbar": {
              "outlinewidth": 0,
              "ticks": ""
             }
            },
            "type": "parcoords"
           }
          ],
          "pie": [
           {
            "automargin": true,
            "type": "pie"
           }
          ],
          "scatter": [
           {
            "fillpattern": {
             "fillmode": "overlay",
             "size": 10,
             "solidity": 0.2
            },
            "type": "scatter"
           }
          ],
          "scatter3d": [
           {
            "line": {
             "colorbar": {
              "outlinewidth": 0,
              "ticks": ""
             }
            },
            "marker": {
             "colorbar": {
              "outlinewidth": 0,
              "ticks": ""
             }
            },
            "type": "scatter3d"
           }
          ],
          "scattercarpet": [
           {
            "marker": {
             "colorbar": {
              "outlinewidth": 0,
              "ticks": ""
             }
            },
            "type": "scattercarpet"
           }
          ],
          "scattergeo": [
           {
            "marker": {
             "colorbar": {
              "outlinewidth": 0,
              "ticks": ""
             }
            },
            "type": "scattergeo"
           }
          ],
          "scattergl": [
           {
            "marker": {
             "colorbar": {
              "outlinewidth": 0,
              "ticks": ""
             }
            },
            "type": "scattergl"
           }
          ],
          "scattermap": [
           {
            "marker": {
             "colorbar": {
              "outlinewidth": 0,
              "ticks": ""
             }
            },
            "type": "scattermap"
           }
          ],
          "scattermapbox": [
           {
            "marker": {
             "colorbar": {
              "outlinewidth": 0,
              "ticks": ""
             }
            },
            "type": "scattermapbox"
           }
          ],
          "scatterpolar": [
           {
            "marker": {
             "colorbar": {
              "outlinewidth": 0,
              "ticks": ""
             }
            },
            "type": "scatterpolar"
           }
          ],
          "scatterpolargl": [
           {
            "marker": {
             "colorbar": {
              "outlinewidth": 0,
              "ticks": ""
             }
            },
            "type": "scatterpolargl"
           }
          ],
          "scatterternary": [
           {
            "marker": {
             "colorbar": {
              "outlinewidth": 0,
              "ticks": ""
             }
            },
            "type": "scatterternary"
           }
          ],
          "surface": [
           {
            "colorbar": {
             "outlinewidth": 0,
             "ticks": ""
            },
            "colorscale": [
             [
              0,
              "#0d0887"
             ],
             [
              0.1111111111111111,
              "#46039f"
             ],
             [
              0.2222222222222222,
              "#7201a8"
             ],
             [
              0.3333333333333333,
              "#9c179e"
             ],
             [
              0.4444444444444444,
              "#bd3786"
             ],
             [
              0.5555555555555556,
              "#d8576b"
             ],
             [
              0.6666666666666666,
              "#ed7953"
             ],
             [
              0.7777777777777778,
              "#fb9f3a"
             ],
             [
              0.8888888888888888,
              "#fdca26"
             ],
             [
              1,
              "#f0f921"
             ]
            ],
            "type": "surface"
           }
          ],
          "table": [
           {
            "cells": {
             "fill": {
              "color": "#EBF0F8"
             },
             "line": {
              "color": "white"
             }
            },
            "header": {
             "fill": {
              "color": "#C8D4E3"
             },
             "line": {
              "color": "white"
             }
            },
            "type": "table"
           }
          ]
         },
         "layout": {
          "annotationdefaults": {
           "arrowcolor": "#2a3f5f",
           "arrowhead": 0,
           "arrowwidth": 1
          },
          "autotypenumbers": "strict",
          "coloraxis": {
           "colorbar": {
            "outlinewidth": 0,
            "ticks": ""
           }
          },
          "colorscale": {
           "diverging": [
            [
             0,
             "#8e0152"
            ],
            [
             0.1,
             "#c51b7d"
            ],
            [
             0.2,
             "#de77ae"
            ],
            [
             0.3,
             "#f1b6da"
            ],
            [
             0.4,
             "#fde0ef"
            ],
            [
             0.5,
             "#f7f7f7"
            ],
            [
             0.6,
             "#e6f5d0"
            ],
            [
             0.7,
             "#b8e186"
            ],
            [
             0.8,
             "#7fbc41"
            ],
            [
             0.9,
             "#4d9221"
            ],
            [
             1,
             "#276419"
            ]
           ],
           "sequential": [
            [
             0,
             "#0d0887"
            ],
            [
             0.1111111111111111,
             "#46039f"
            ],
            [
             0.2222222222222222,
             "#7201a8"
            ],
            [
             0.3333333333333333,
             "#9c179e"
            ],
            [
             0.4444444444444444,
             "#bd3786"
            ],
            [
             0.5555555555555556,
             "#d8576b"
            ],
            [
             0.6666666666666666,
             "#ed7953"
            ],
            [
             0.7777777777777778,
             "#fb9f3a"
            ],
            [
             0.8888888888888888,
             "#fdca26"
            ],
            [
             1,
             "#f0f921"
            ]
           ],
           "sequentialminus": [
            [
             0,
             "#0d0887"
            ],
            [
             0.1111111111111111,
             "#46039f"
            ],
            [
             0.2222222222222222,
             "#7201a8"
            ],
            [
             0.3333333333333333,
             "#9c179e"
            ],
            [
             0.4444444444444444,
             "#bd3786"
            ],
            [
             0.5555555555555556,
             "#d8576b"
            ],
            [
             0.6666666666666666,
             "#ed7953"
            ],
            [
             0.7777777777777778,
             "#fb9f3a"
            ],
            [
             0.8888888888888888,
             "#fdca26"
            ],
            [
             1,
             "#f0f921"
            ]
           ]
          },
          "colorway": [
           "#636efa",
           "#EF553B",
           "#00cc96",
           "#ab63fa",
           "#FFA15A",
           "#19d3f3",
           "#FF6692",
           "#B6E880",
           "#FF97FF",
           "#FECB52"
          ],
          "font": {
           "color": "#2a3f5f"
          },
          "geo": {
           "bgcolor": "white",
           "lakecolor": "white",
           "landcolor": "white",
           "showlakes": true,
           "showland": true,
           "subunitcolor": "#C8D4E3"
          },
          "hoverlabel": {
           "align": "left"
          },
          "hovermode": "closest",
          "mapbox": {
           "style": "light"
          },
          "paper_bgcolor": "white",
          "plot_bgcolor": "white",
          "polar": {
           "angularaxis": {
            "gridcolor": "#EBF0F8",
            "linecolor": "#EBF0F8",
            "ticks": ""
           },
           "bgcolor": "white",
           "radialaxis": {
            "gridcolor": "#EBF0F8",
            "linecolor": "#EBF0F8",
            "ticks": ""
           }
          },
          "scene": {
           "xaxis": {
            "backgroundcolor": "white",
            "gridcolor": "#DFE8F3",
            "gridwidth": 2,
            "linecolor": "#EBF0F8",
            "showbackground": true,
            "ticks": "",
            "zerolinecolor": "#EBF0F8"
           },
           "yaxis": {
            "backgroundcolor": "white",
            "gridcolor": "#DFE8F3",
            "gridwidth": 2,
            "linecolor": "#EBF0F8",
            "showbackground": true,
            "ticks": "",
            "zerolinecolor": "#EBF0F8"
           },
           "zaxis": {
            "backgroundcolor": "white",
            "gridcolor": "#DFE8F3",
            "gridwidth": 2,
            "linecolor": "#EBF0F8",
            "showbackground": true,
            "ticks": "",
            "zerolinecolor": "#EBF0F8"
           }
          },
          "shapedefaults": {
           "line": {
            "color": "#2a3f5f"
           }
          },
          "ternary": {
           "aaxis": {
            "gridcolor": "#DFE8F3",
            "linecolor": "#A2B1C6",
            "ticks": ""
           },
           "baxis": {
            "gridcolor": "#DFE8F3",
            "linecolor": "#A2B1C6",
            "ticks": ""
           },
           "bgcolor": "white",
           "caxis": {
            "gridcolor": "#DFE8F3",
            "linecolor": "#A2B1C6",
            "ticks": ""
           }
          },
          "title": {
           "x": 0.05
          },
          "xaxis": {
           "automargin": true,
           "gridcolor": "#EBF0F8",
           "linecolor": "#EBF0F8",
           "ticks": "",
           "title": {
            "standoff": 15
           },
           "zerolinecolor": "#EBF0F8",
           "zerolinewidth": 2
          },
          "yaxis": {
           "automargin": true,
           "gridcolor": "#EBF0F8",
           "linecolor": "#EBF0F8",
           "ticks": "",
           "title": {
            "standoff": 15
           },
           "zerolinecolor": "#EBF0F8",
           "zerolinewidth": 2
          }
         }
        },
        "title": {
         "text": "Sentiment by Top 5 Destinations"
        },
        "xaxis": {
         "tickangle": -45,
         "title": {
          "text": "Tweet Destination"
         }
        },
        "yaxis": {
         "title": {
          "text": "Count"
         }
        }
       }
      }
     },
     "metadata": {},
     "output_type": "display_data"
    }
   ],
   "source": [
    "# Plot 4: Sentiment by tweet destination using Plotly\n",
    "\n",
    "# Prepare data\n",
    "top_destinations = tweet_df['tweet_directed_at'].value_counts().head(5).index\n",
    "filtered_df = tweet_df[tweet_df['tweet_directed_at'].isin(top_destinations)]\n",
    "sentiment_dest = pd.crosstab(filtered_df['tweet_directed_at'], filtered_df['sentiment'])\n",
    "\n",
    "# Create stacked bar chart\n",
    "fig = go.Figure()\n",
    "\n",
    "for sentiment in sentiment_dest.columns:\n",
    "    fig.add_trace(go.Bar(\n",
    "        x=sentiment_dest.index,\n",
    "        y=sentiment_dest[sentiment],\n",
    "        name=sentiment,\n",
    "        text=sentiment_dest[sentiment],\n",
    "        textposition='auto'\n",
    "    ))\n",
    "\n",
    "fig.update_layout(\n",
    "    barmode='stack',\n",
    "    title='Sentiment by Top 5 Destinations',\n",
    "    xaxis_title='Tweet Destination',\n",
    "    yaxis_title='Count',\n",
    "    legend_title='Sentiment',\n",
    "    xaxis_tickangle=-45,\n",
    "    template='plotly_white',\n",
    "    # width=1200,\n",
    "    height=800\n",
    ")\n",
    "\n",
    "fig.show()"
   ]
  },
  {
   "cell_type": "code",
   "execution_count": 17,
   "id": "42de1408",
   "metadata": {},
   "outputs": [
    {
     "data": {
      "application/vnd.plotly.v1+json": {
       "config": {
        "plotlyServerURL": "https://plot.ly"
       },
       "data": [
        {
         "marker": {
          "color": "#e74c3c"
         },
         "name": "Negative emotion",
         "text": [
          "14.4%",
          "15.9%",
          "0.9%",
          "13.2%",
          "13.4%"
         ],
         "textposition": "auto",
         "type": "bar",
         "x": [
          "Apple",
          "Google",
          "Not directed",
          "iPad",
          "iPad or iPhone App"
         ],
         "y": {
          "bdata": "kcSiT+HULEDNfiFWlMYvQPbC/qA+Muw/RycfnXx0KkAykR6onN0qQA==",
          "dtype": "f8"
         }
        },
        {
         "marker": {
          "color": "#f1c40f"
         },
         "name": "Neutral emotion",
         "text": [
          "3.5%",
          "3.7%",
          "93.8%",
          "3.0%",
          "2.1%"
         ],
         "textposition": "auto",
         "type": "bar",
         "x": [
          "Apple",
          "Google",
          "Not directed",
          "iPad",
          "iPad or iPhone App"
         ],
         "y": {
          "bdata": "lxTpuMzrC0AqSuMjE+gNQFcRMpNAdVdAQ3sJ7SW0B0B9L4XcvA4BQA==",
          "dtype": "f8"
         }
        },
        {
         "marker": {
          "color": "#2ecc71"
         },
         "name": "Positive emotion",
         "text": [
          "82.1%",
          "80.4%",
          "5.3%",
          "83.8%",
          "84.4%"
         ],
         "textposition": "auto",
         "type": "bar",
         "x": [
          "Apple",
          "Google",
          "Not directed",
          "iPad",
          "iPad or iPhone App"
         ],
         "y": {
          "bdata": "yV5EcAWGVEDVtRzc7BdUQDkSv/iuJRVAPc/zPM/zVEBeBBiE1htVQA==",
          "dtype": "f8"
         }
        }
       ],
       "layout": {
        "barmode": "stack",
        "height": 800,
        "legend": {
         "title": {
          "text": "Sentiment"
         }
        },
        "template": {
         "data": {
          "bar": [
           {
            "error_x": {
             "color": "#2a3f5f"
            },
            "error_y": {
             "color": "#2a3f5f"
            },
            "marker": {
             "line": {
              "color": "white",
              "width": 0.5
             },
             "pattern": {
              "fillmode": "overlay",
              "size": 10,
              "solidity": 0.2
             }
            },
            "type": "bar"
           }
          ],
          "barpolar": [
           {
            "marker": {
             "line": {
              "color": "white",
              "width": 0.5
             },
             "pattern": {
              "fillmode": "overlay",
              "size": 10,
              "solidity": 0.2
             }
            },
            "type": "barpolar"
           }
          ],
          "carpet": [
           {
            "aaxis": {
             "endlinecolor": "#2a3f5f",
             "gridcolor": "#C8D4E3",
             "linecolor": "#C8D4E3",
             "minorgridcolor": "#C8D4E3",
             "startlinecolor": "#2a3f5f"
            },
            "baxis": {
             "endlinecolor": "#2a3f5f",
             "gridcolor": "#C8D4E3",
             "linecolor": "#C8D4E3",
             "minorgridcolor": "#C8D4E3",
             "startlinecolor": "#2a3f5f"
            },
            "type": "carpet"
           }
          ],
          "choropleth": [
           {
            "colorbar": {
             "outlinewidth": 0,
             "ticks": ""
            },
            "type": "choropleth"
           }
          ],
          "contour": [
           {
            "colorbar": {
             "outlinewidth": 0,
             "ticks": ""
            },
            "colorscale": [
             [
              0,
              "#0d0887"
             ],
             [
              0.1111111111111111,
              "#46039f"
             ],
             [
              0.2222222222222222,
              "#7201a8"
             ],
             [
              0.3333333333333333,
              "#9c179e"
             ],
             [
              0.4444444444444444,
              "#bd3786"
             ],
             [
              0.5555555555555556,
              "#d8576b"
             ],
             [
              0.6666666666666666,
              "#ed7953"
             ],
             [
              0.7777777777777778,
              "#fb9f3a"
             ],
             [
              0.8888888888888888,
              "#fdca26"
             ],
             [
              1,
              "#f0f921"
             ]
            ],
            "type": "contour"
           }
          ],
          "contourcarpet": [
           {
            "colorbar": {
             "outlinewidth": 0,
             "ticks": ""
            },
            "type": "contourcarpet"
           }
          ],
          "heatmap": [
           {
            "colorbar": {
             "outlinewidth": 0,
             "ticks": ""
            },
            "colorscale": [
             [
              0,
              "#0d0887"
             ],
             [
              0.1111111111111111,
              "#46039f"
             ],
             [
              0.2222222222222222,
              "#7201a8"
             ],
             [
              0.3333333333333333,
              "#9c179e"
             ],
             [
              0.4444444444444444,
              "#bd3786"
             ],
             [
              0.5555555555555556,
              "#d8576b"
             ],
             [
              0.6666666666666666,
              "#ed7953"
             ],
             [
              0.7777777777777778,
              "#fb9f3a"
             ],
             [
              0.8888888888888888,
              "#fdca26"
             ],
             [
              1,
              "#f0f921"
             ]
            ],
            "type": "heatmap"
           }
          ],
          "histogram": [
           {
            "marker": {
             "pattern": {
              "fillmode": "overlay",
              "size": 10,
              "solidity": 0.2
             }
            },
            "type": "histogram"
           }
          ],
          "histogram2d": [
           {
            "colorbar": {
             "outlinewidth": 0,
             "ticks": ""
            },
            "colorscale": [
             [
              0,
              "#0d0887"
             ],
             [
              0.1111111111111111,
              "#46039f"
             ],
             [
              0.2222222222222222,
              "#7201a8"
             ],
             [
              0.3333333333333333,
              "#9c179e"
             ],
             [
              0.4444444444444444,
              "#bd3786"
             ],
             [
              0.5555555555555556,
              "#d8576b"
             ],
             [
              0.6666666666666666,
              "#ed7953"
             ],
             [
              0.7777777777777778,
              "#fb9f3a"
             ],
             [
              0.8888888888888888,
              "#fdca26"
             ],
             [
              1,
              "#f0f921"
             ]
            ],
            "type": "histogram2d"
           }
          ],
          "histogram2dcontour": [
           {
            "colorbar": {
             "outlinewidth": 0,
             "ticks": ""
            },
            "colorscale": [
             [
              0,
              "#0d0887"
             ],
             [
              0.1111111111111111,
              "#46039f"
             ],
             [
              0.2222222222222222,
              "#7201a8"
             ],
             [
              0.3333333333333333,
              "#9c179e"
             ],
             [
              0.4444444444444444,
              "#bd3786"
             ],
             [
              0.5555555555555556,
              "#d8576b"
             ],
             [
              0.6666666666666666,
              "#ed7953"
             ],
             [
              0.7777777777777778,
              "#fb9f3a"
             ],
             [
              0.8888888888888888,
              "#fdca26"
             ],
             [
              1,
              "#f0f921"
             ]
            ],
            "type": "histogram2dcontour"
           }
          ],
          "mesh3d": [
           {
            "colorbar": {
             "outlinewidth": 0,
             "ticks": ""
            },
            "type": "mesh3d"
           }
          ],
          "parcoords": [
           {
            "line": {
             "colorbar": {
              "outlinewidth": 0,
              "ticks": ""
             }
            },
            "type": "parcoords"
           }
          ],
          "pie": [
           {
            "automargin": true,
            "type": "pie"
           }
          ],
          "scatter": [
           {
            "fillpattern": {
             "fillmode": "overlay",
             "size": 10,
             "solidity": 0.2
            },
            "type": "scatter"
           }
          ],
          "scatter3d": [
           {
            "line": {
             "colorbar": {
              "outlinewidth": 0,
              "ticks": ""
             }
            },
            "marker": {
             "colorbar": {
              "outlinewidth": 0,
              "ticks": ""
             }
            },
            "type": "scatter3d"
           }
          ],
          "scattercarpet": [
           {
            "marker": {
             "colorbar": {
              "outlinewidth": 0,
              "ticks": ""
             }
            },
            "type": "scattercarpet"
           }
          ],
          "scattergeo": [
           {
            "marker": {
             "colorbar": {
              "outlinewidth": 0,
              "ticks": ""
             }
            },
            "type": "scattergeo"
           }
          ],
          "scattergl": [
           {
            "marker": {
             "colorbar": {
              "outlinewidth": 0,
              "ticks": ""
             }
            },
            "type": "scattergl"
           }
          ],
          "scattermap": [
           {
            "marker": {
             "colorbar": {
              "outlinewidth": 0,
              "ticks": ""
             }
            },
            "type": "scattermap"
           }
          ],
          "scattermapbox": [
           {
            "marker": {
             "colorbar": {
              "outlinewidth": 0,
              "ticks": ""
             }
            },
            "type": "scattermapbox"
           }
          ],
          "scatterpolar": [
           {
            "marker": {
             "colorbar": {
              "outlinewidth": 0,
              "ticks": ""
             }
            },
            "type": "scatterpolar"
           }
          ],
          "scatterpolargl": [
           {
            "marker": {
             "colorbar": {
              "outlinewidth": 0,
              "ticks": ""
             }
            },
            "type": "scatterpolargl"
           }
          ],
          "scatterternary": [
           {
            "marker": {
             "colorbar": {
              "outlinewidth": 0,
              "ticks": ""
             }
            },
            "type": "scatterternary"
           }
          ],
          "surface": [
           {
            "colorbar": {
             "outlinewidth": 0,
             "ticks": ""
            },
            "colorscale": [
             [
              0,
              "#0d0887"
             ],
             [
              0.1111111111111111,
              "#46039f"
             ],
             [
              0.2222222222222222,
              "#7201a8"
             ],
             [
              0.3333333333333333,
              "#9c179e"
             ],
             [
              0.4444444444444444,
              "#bd3786"
             ],
             [
              0.5555555555555556,
              "#d8576b"
             ],
             [
              0.6666666666666666,
              "#ed7953"
             ],
             [
              0.7777777777777778,
              "#fb9f3a"
             ],
             [
              0.8888888888888888,
              "#fdca26"
             ],
             [
              1,
              "#f0f921"
             ]
            ],
            "type": "surface"
           }
          ],
          "table": [
           {
            "cells": {
             "fill": {
              "color": "#EBF0F8"
             },
             "line": {
              "color": "white"
             }
            },
            "header": {
             "fill": {
              "color": "#C8D4E3"
             },
             "line": {
              "color": "white"
             }
            },
            "type": "table"
           }
          ]
         },
         "layout": {
          "annotationdefaults": {
           "arrowcolor": "#2a3f5f",
           "arrowhead": 0,
           "arrowwidth": 1
          },
          "autotypenumbers": "strict",
          "coloraxis": {
           "colorbar": {
            "outlinewidth": 0,
            "ticks": ""
           }
          },
          "colorscale": {
           "diverging": [
            [
             0,
             "#8e0152"
            ],
            [
             0.1,
             "#c51b7d"
            ],
            [
             0.2,
             "#de77ae"
            ],
            [
             0.3,
             "#f1b6da"
            ],
            [
             0.4,
             "#fde0ef"
            ],
            [
             0.5,
             "#f7f7f7"
            ],
            [
             0.6,
             "#e6f5d0"
            ],
            [
             0.7,
             "#b8e186"
            ],
            [
             0.8,
             "#7fbc41"
            ],
            [
             0.9,
             "#4d9221"
            ],
            [
             1,
             "#276419"
            ]
           ],
           "sequential": [
            [
             0,
             "#0d0887"
            ],
            [
             0.1111111111111111,
             "#46039f"
            ],
            [
             0.2222222222222222,
             "#7201a8"
            ],
            [
             0.3333333333333333,
             "#9c179e"
            ],
            [
             0.4444444444444444,
             "#bd3786"
            ],
            [
             0.5555555555555556,
             "#d8576b"
            ],
            [
             0.6666666666666666,
             "#ed7953"
            ],
            [
             0.7777777777777778,
             "#fb9f3a"
            ],
            [
             0.8888888888888888,
             "#fdca26"
            ],
            [
             1,
             "#f0f921"
            ]
           ],
           "sequentialminus": [
            [
             0,
             "#0d0887"
            ],
            [
             0.1111111111111111,
             "#46039f"
            ],
            [
             0.2222222222222222,
             "#7201a8"
            ],
            [
             0.3333333333333333,
             "#9c179e"
            ],
            [
             0.4444444444444444,
             "#bd3786"
            ],
            [
             0.5555555555555556,
             "#d8576b"
            ],
            [
             0.6666666666666666,
             "#ed7953"
            ],
            [
             0.7777777777777778,
             "#fb9f3a"
            ],
            [
             0.8888888888888888,
             "#fdca26"
            ],
            [
             1,
             "#f0f921"
            ]
           ]
          },
          "colorway": [
           "#636efa",
           "#EF553B",
           "#00cc96",
           "#ab63fa",
           "#FFA15A",
           "#19d3f3",
           "#FF6692",
           "#B6E880",
           "#FF97FF",
           "#FECB52"
          ],
          "font": {
           "color": "#2a3f5f"
          },
          "geo": {
           "bgcolor": "white",
           "lakecolor": "white",
           "landcolor": "white",
           "showlakes": true,
           "showland": true,
           "subunitcolor": "#C8D4E3"
          },
          "hoverlabel": {
           "align": "left"
          },
          "hovermode": "closest",
          "mapbox": {
           "style": "light"
          },
          "paper_bgcolor": "white",
          "plot_bgcolor": "white",
          "polar": {
           "angularaxis": {
            "gridcolor": "#EBF0F8",
            "linecolor": "#EBF0F8",
            "ticks": ""
           },
           "bgcolor": "white",
           "radialaxis": {
            "gridcolor": "#EBF0F8",
            "linecolor": "#EBF0F8",
            "ticks": ""
           }
          },
          "scene": {
           "xaxis": {
            "backgroundcolor": "white",
            "gridcolor": "#DFE8F3",
            "gridwidth": 2,
            "linecolor": "#EBF0F8",
            "showbackground": true,
            "ticks": "",
            "zerolinecolor": "#EBF0F8"
           },
           "yaxis": {
            "backgroundcolor": "white",
            "gridcolor": "#DFE8F3",
            "gridwidth": 2,
            "linecolor": "#EBF0F8",
            "showbackground": true,
            "ticks": "",
            "zerolinecolor": "#EBF0F8"
           },
           "zaxis": {
            "backgroundcolor": "white",
            "gridcolor": "#DFE8F3",
            "gridwidth": 2,
            "linecolor": "#EBF0F8",
            "showbackground": true,
            "ticks": "",
            "zerolinecolor": "#EBF0F8"
           }
          },
          "shapedefaults": {
           "line": {
            "color": "#2a3f5f"
           }
          },
          "ternary": {
           "aaxis": {
            "gridcolor": "#DFE8F3",
            "linecolor": "#A2B1C6",
            "ticks": ""
           },
           "baxis": {
            "gridcolor": "#DFE8F3",
            "linecolor": "#A2B1C6",
            "ticks": ""
           },
           "bgcolor": "white",
           "caxis": {
            "gridcolor": "#DFE8F3",
            "linecolor": "#A2B1C6",
            "ticks": ""
           }
          },
          "title": {
           "x": 0.05
          },
          "xaxis": {
           "automargin": true,
           "gridcolor": "#EBF0F8",
           "linecolor": "#EBF0F8",
           "ticks": "",
           "title": {
            "standoff": 15
           },
           "zerolinecolor": "#EBF0F8",
           "zerolinewidth": 2
          },
          "yaxis": {
           "automargin": true,
           "gridcolor": "#EBF0F8",
           "linecolor": "#EBF0F8",
           "ticks": "",
           "title": {
            "standoff": 15
           },
           "zerolinecolor": "#EBF0F8",
           "zerolinewidth": 2
          }
         }
        },
        "title": {
         "text": "Sentiment Proportions by Destination"
        },
        "xaxis": {
         "tickangle": -45,
         "title": {
          "text": "Tweet Destination"
         }
        },
        "yaxis": {
         "title": {
          "text": "Percentage"
         }
        }
       }
      }
     },
     "metadata": {},
     "output_type": "display_data"
    }
   ],
   "source": [
    "# Plot 5: Sentiment proportions by destination\n",
    "\n",
    "# Create percentage data from the crosstab\n",
    "sentiment_dest_pct = sentiment_dest.div(sentiment_dest.sum(axis=1), axis=0) * 100\n",
    "\n",
    "# Define custom colors for each sentiment\n",
    "sentiment_colors = {\n",
    "    'Positive emotion': '#2ecc71',   # green\n",
    "    'Negative emotion': '#e74c3c',   # red\n",
    "    'Neutral emotion':  '#f1c40f'    # yellow\n",
    "}\n",
    "\n",
    "fig = go.Figure()\n",
    "\n",
    "for sentiment in sentiment_dest_pct.columns:\n",
    "    fig.add_trace(go.Bar(\n",
    "        x=sentiment_dest_pct.index,\n",
    "        y=sentiment_dest_pct[sentiment],\n",
    "        name=sentiment,\n",
    "        text=sentiment_dest_pct[sentiment].round(1).astype(str) + '%',\n",
    "        textposition='auto',\n",
    "        marker_color=sentiment_colors.get(sentiment, None)\n",
    "    ))\n",
    "\n",
    "fig.update_layout(\n",
    "    barmode='stack',\n",
    "    title='Sentiment Proportions by Destination',\n",
    "    xaxis_title='Tweet Destination',\n",
    "    yaxis_title='Percentage',\n",
    "    legend_title='Sentiment',\n",
    "    xaxis_tickangle=-45,\n",
    "    template='plotly_white',\n",
    "    # width=1200,\n",
    "    height=800\n",
    ")\n",
    "\n",
    "fig.show()"
   ]
  },
  {
   "cell_type": "markdown",
   "id": "54eb6388",
   "metadata": {},
   "source": [
    "The `Sentiment Proportions by Destination` plot shows the percentage distribution of negative, neutral, and positive sentiments for the top 5 tweet destinations: `Apple`, `Google`, `Not directed`, `iPad`, and `iPad or iPhone App.`\n",
    "\n",
    "- Apple, iPad, and iPad or iPhone App** have a high proportion of positive sentiment (over 80%), with relatively low negative and neutral sentiments.\n",
    "\n",
    "- Google also has a strong positive sentiment (about 80%), but slightly higher negative and neutral proportions compared to Apple-related products.\n",
    "\n",
    "- Not directed tweets are overwhelmingly neutral (over 93%), with very few positive or negative sentiments.\n",
    "\n",
    "This indicates that tweets directed at specific Apple and Google products are mostly positive, while tweets not directed at any brand are predominantly neutral."
   ]
  },
  {
   "cell_type": "markdown",
   "id": "8c8c6a96",
   "metadata": {},
   "source": [
    "### **2.3.5. Tweet Length Distribution by Sentiment**\n",
    "This plot shows the distribution of tweet lengths (in number of characters) across different sentiment categories (Positive, Negative, and Neutral). By visualizing the tweet length by sentiment, we can observe whether tweets expressing certain sentiments tend to be longer or shorter. For example, if negative tweets are generally shorter or longer than positive ones, this may provide insights into how users express their opinions. The boxplot highlights the median, quartiles, and potential outliers for each sentiment class, helping to identify any notable differences in tweet length patterns among the sentiment categories."
   ]
  },
  {
   "cell_type": "code",
   "execution_count": 18,
   "id": "937122e4",
   "metadata": {},
   "outputs": [
    {
     "data": {
      "text/plain": [
       "([0, 1, 2],\n",
       " [Text(0, 0, 'Negative emotion'),\n",
       "  Text(1, 0, 'Positive emotion'),\n",
       "  Text(2, 0, 'Neutral emotion')])"
      ]
     },
     "execution_count": 18,
     "metadata": {},
     "output_type": "execute_result"
    },
    {
     "data": {
      "image/png": "[encoded data removed]",
      "text/plain": [
       "<Figure size 1300x700 with 1 Axes>"
      ]
     },
     "metadata": {},
     "output_type": "display_data"
    }
   ],
   "source": [
    "# Plot 6: Tweet length distribution by sentiment\n",
    "plt.figure(figsize=(13, 7))\n",
    "tweet_df['tweet_length'] = tweet_df['tweet'].str.len()\n",
    "sns.boxplot(data=tweet_df, x='sentiment', y='tweet_length', palette='Set2')\n",
    "plt.title('Tweet Length by Sentiment', fontsize=12, fontweight='bold')\n",
    "plt.xlabel('Sentiment')\n",
    "plt.ylabel('Tweet Length (characters)')\n",
    "plt.xticks(rotation=45)"
   ]
  },
  {
   "cell_type": "markdown",
   "id": "518fa9ed",
   "metadata": {},
   "source": [
    "The boxplot above displays the distribution of tweet lengths (in number of characters) for each sentiment category: Positive, Negative, and Neutral. It shows that:\n",
    "\n",
    "- Neutral tweets tend to have a slightly wider range of lengths, but the median tweet length is similar across all sentiment classes.\n",
    "\n",
    "- There are some outliers with longer tweets in each category.\n",
    "\n",
    "- Generally, tweet length does not vary dramatically between positive, negative, and neutral sentiments, suggesting that sentiment is not strongly associated with tweet length in this dataset."
   ]
  },
  {
   "cell_type": "markdown",
   "id": "409ce8d9",
   "metadata": {},
   "source": [
    "## **2.3.6. Distribution of character, word and sentence counts**\n",
    "This section explores the basic linguistic properties of tweets by analyzing the distribution of character, word, and sentence counts. Visualizations such as histograms and boxplots are used to illustrate how these text features vary across the dataset and between sentiment classes. This helps in understanding the typical length and complexity of tweets, and whether these properties differ for positive, negative, or neutral sentiments.\n",
    "\n",
    "We will create new features, `chars`, `words` and `sentences` which will show the count of characters, words and sentences in each tweet. These features will help us uncover:\n",
    "- Patterns in tweet length and complexity: By examining the distribution of characters, words, and sentences, we can identify whether certain sentiments are associated with longer or shorter tweets, or with more complex sentence structures.\n",
    "\n",
    "- Differences between sentiment classes: Analyzing these features by sentiment category may reveal if, for example, negative tweets tend to be shorter and more direct, while positive or neutral tweets are longer or more descriptive.\n",
    "\n",
    "- Potential data quality issues: Outliers or unusual distributions in these features can help us spot anomalies, such as spam, repeated content, or tweets that may need further cleaning.\n",
    "\n",
    "- Feature engineering opportunities: Understanding these distributions can guide us in creating additional features or selecting relevant ones for modeling, potentially improving sentiment classification performance.\n",
    "\n",
    "Overall, these analyses provide valuable insights into the linguistic characteristics of the dataset and support more informed preprocessing and modeling decisions."
   ]
  },
  {
   "cell_type": "code",
   "execution_count": 19,
   "id": "83d3a54e",
   "metadata": {},
   "outputs": [
    {
     "data": {
      "text/html": [
       "<div>\n",
       "<style scoped>\n",
       "    .dataframe tbody tr th:only-of-type {\n",
       "        vertical-align: middle;\n",
       "    }\n",
       "\n",
       "    .dataframe tbody tr th {\n",
       "        vertical-align: top;\n",
       "    }\n",
       "\n",
       "    .dataframe thead th {\n",
       "        text-align: right;\n",
       "    }\n",
       "</style>\n",
       "<table border=\"1\" class=\"dataframe\">\n",
       "  <thead>\n",
       "    <tr style=\"text-align: right;\">\n",
       "      <th></th>\n",
       "      <th>tweet</th>\n",
       "      <th>tweet_directed_at</th>\n",
       "      <th>sentiment</th>\n",
       "      <th>tweet_length</th>\n",
       "      <th>chars</th>\n",
       "      <th>words</th>\n",
       "      <th>sentences</th>\n",
       "    </tr>\n",
       "  </thead>\n",
       "  <tbody>\n",
       "    <tr>\n",
       "      <th>0</th>\n",
       "      <td>.@wesley83 I have a 3G iPhone. After 3 hrs twe...</td>\n",
       "      <td>iPhone</td>\n",
       "      <td>Negative emotion</td>\n",
       "      <td>127</td>\n",
       "      <td>127</td>\n",
       "      <td>32</td>\n",
       "      <td>5</td>\n",
       "    </tr>\n",
       "    <tr>\n",
       "      <th>1</th>\n",
       "      <td>@jessedee Know about @fludapp ? Awesome iPad/i...</td>\n",
       "      <td>iPad or iPhone App</td>\n",
       "      <td>Positive emotion</td>\n",
       "      <td>139</td>\n",
       "      <td>139</td>\n",
       "      <td>29</td>\n",
       "      <td>3</td>\n",
       "    </tr>\n",
       "    <tr>\n",
       "      <th>2</th>\n",
       "      <td>@swonderlin Can not wait for #iPad 2 also. The...</td>\n",
       "      <td>iPad</td>\n",
       "      <td>Positive emotion</td>\n",
       "      <td>79</td>\n",
       "      <td>79</td>\n",
       "      <td>20</td>\n",
       "      <td>2</td>\n",
       "    </tr>\n",
       "    <tr>\n",
       "      <th>3</th>\n",
       "      <td>@sxsw I hope this year's festival isn't as cra...</td>\n",
       "      <td>iPad or iPhone App</td>\n",
       "      <td>Negative emotion</td>\n",
       "      <td>82</td>\n",
       "      <td>82</td>\n",
       "      <td>21</td>\n",
       "      <td>2</td>\n",
       "    </tr>\n",
       "    <tr>\n",
       "      <th>4</th>\n",
       "      <td>@sxtxstate great stuff on Fri #SXSW: Marissa M...</td>\n",
       "      <td>Google</td>\n",
       "      <td>Positive emotion</td>\n",
       "      <td>131</td>\n",
       "      <td>131</td>\n",
       "      <td>29</td>\n",
       "      <td>1</td>\n",
       "    </tr>\n",
       "  </tbody>\n",
       "</table>\n",
       "</div>"
      ],
      "text/plain": [
       "                                               tweet   tweet_directed_at  \\\n",
       "0  .@wesley83 I have a 3G iPhone. After 3 hrs twe...              iPhone   \n",
       "1  @jessedee Know about @fludapp ? Awesome iPad/i...  iPad or iPhone App   \n",
       "2  @swonderlin Can not wait for #iPad 2 also. The...                iPad   \n",
       "3  @sxsw I hope this year's festival isn't as cra...  iPad or iPhone App   \n",
       "4  @sxtxstate great stuff on Fri #SXSW: Marissa M...              Google   \n",
       "\n",
       "          sentiment  tweet_length  chars  words  sentences  \n",
       "0  Negative emotion           127    127     32          5  \n",
       "1  Positive emotion           139    139     29          3  \n",
       "2  Positive emotion            79     79     20          2  \n",
       "3  Negative emotion            82     82     21          2  \n",
       "4  Positive emotion           131    131     29          1  "
      ]
     },
     "execution_count": 19,
     "metadata": {},
     "output_type": "execute_result"
    }
   ],
   "source": [
    "# feature engineering\n",
    "def generate_columns(df):\n",
    "    df['chars'] = df['tweet'].apply(len)\n",
    "    df['words'] = df['tweet'].apply(lambda x: nltk.word_tokenize(x)).apply(len)\n",
    "    df['sentences'] = df['tweet'].apply(lambda x: nltk.sent_tokenize(x)).apply(len)\n",
    "    return df\n",
    "tweet_df = generate_columns(tweet_df)\n",
    "tweet_df.head()"
   ]
  },
  {
   "cell_type": "code",
   "execution_count": 20,
   "id": "40f313d9",
   "metadata": {},
   "outputs": [
    {
     "data": {
      "text/plain": [
       "Text(0, 0.5, 'Frequency')"
      ]
     },
     "execution_count": 20,
     "metadata": {},
     "output_type": "execute_result"
    },
    {
     "data": {
      "image/png": "[encoded data removed]",
      "text/plain": [
       "<Figure size 1300x700 with 1 Axes>"
      ]
     },
     "metadata": {},
     "output_type": "display_data"
    }
   ],
   "source": [
    "# Plot 1: Word count distribution\n",
    "plt.figure(figsize=(13, 7))\n",
    "sns.histplot(data=tweet_df, x='words', bins=30, kde=True, color='blue')\n",
    "plt.title('Distribution of Word Count', fontweight='bold')\n",
    "plt.xlabel('Words per Tweet')\n",
    "plt.ylabel('Frequency')"
   ]
  },
  {
   "cell_type": "markdown",
   "id": "93a5ec74",
   "metadata": {},
   "source": [
    "From the histogram above, we can draw the following insights:\n",
    "- The data is approximately normally distributed, with most tweets containing about `20-30 words` (the peak of the distribution)\n",
    "\n",
    "- The distribution is slightly `right-skewed`, implying there are fewer longer tweets(above 35 words) than shorter ones."
   ]
  },
  {
   "cell_type": "code",
   "execution_count": 21,
   "id": "14a2daae",
   "metadata": {},
   "outputs": [
    {
     "data": {
      "text/plain": [
       "([0, 1, 2],\n",
       " [Text(0, 0, 'Negative emotion'),\n",
       "  Text(1, 0, 'Positive emotion'),\n",
       "  Text(2, 0, 'Neutral emotion')])"
      ]
     },
     "execution_count": 21,
     "metadata": {},
     "output_type": "execute_result"
    },
    {
     "data": {
      "image/png": "[encoded data removed]",
      "text/plain": [
       "<Figure size 1300x700 with 1 Axes>"
      ]
     },
     "metadata": {},
     "output_type": "display_data"
    }
   ],
   "source": [
    "# Plot 2: Word count by sentiment\n",
    "plt.figure(figsize=(13, 7))\n",
    "sns.boxplot(data=tweet_df, x='sentiment', y='words', palette='Set1')\n",
    "plt.title('Word Count by Sentiment', fontweight='bold')\n",
    "plt.xlabel('Sentiment')\n",
    "plt.ylabel('Word Count')\n",
    "plt.xticks(rotation=45)"
   ]
  },
  {
   "cell_type": "markdown",
   "id": "cd442d39",
   "metadata": {},
   "source": [
    "The box plot above compares word counts across the three sentiments and illustrates the following:\n",
    "- Negative and Neutral emotions tend to have a higher median word count (~25 words)\n",
    "\n",
    "- Positive emotions have slightly fewer words on average (~22 words)\n",
    "\n",
    "- Positive and Neutral categories show more outliers, meaning some entries were much longer than typical.\n",
    "\n",
    "Generally, word count distributions are fairly similar, with small shifts in median and spread"
   ]
  },
  {
   "cell_type": "code",
   "execution_count": 22,
   "id": "4ddc8ed9",
   "metadata": {},
   "outputs": [
    {
     "data": {
      "text/plain": [
       "Text(0, 0.5, 'Frequency')"
      ]
     },
     "execution_count": 22,
     "metadata": {},
     "output_type": "execute_result"
    },
    {
     "data": {
      "image/png": "[encoded data removed]",
      "text/plain": [
       "<Figure size 1300x700 with 1 Axes>"
      ]
     },
     "metadata": {},
     "output_type": "display_data"
    }
   ],
   "source": [
    "# Plot 3: Character count distribution\n",
    "plt.figure(figsize=(13, 7))\n",
    "sns.histplot(data=tweet_df, x='chars', bins=30, kde=True, color='darkorange')\n",
    "plt.title('Distribution of Character Count', fontweight='bold')\n",
    "plt.xlabel('Characters per Tweet')\n",
    "plt.ylabel('Frequency')"
   ]
  },
  {
   "cell_type": "markdown",
   "id": "306e920f",
   "metadata": {},
   "source": [
    "The histogram above displays the distribution of tweet lengths by character count:\n",
    "- The x-axis shows the tweet length ranging from 25 to 175 characters\n",
    "\n",
    "- The y-axis shows how frequently each character count occurs\n",
    "\n",
    "From the histogram, we can note the following:\n",
    "- Most tweets cluster between **75-150 characters**, peaking around **125 characters**\n",
    "\n",
    "- The **density curve** reinforces this central tendency, suggesting that users often maximize available space in tweets\n",
    "\n",
    "- There are few shorter or longer tweets, implying that people generally keep their messages mid-length and concise, possibly to fit the platform's conventions, or to optimize clarity."
   ]
  },
  {
   "cell_type": "code",
   "execution_count": 23,
   "id": "c198e3a7",
   "metadata": {},
   "outputs": [
    {
     "data": {
      "text/plain": [
       "Text(0, 0.5, 'Character Count')"
      ]
     },
     "execution_count": 23,
     "metadata": {},
     "output_type": "execute_result"
    },
    {
     "data": {
      "image/png": "[encoded data removed]",
      "text/plain": [
       "<Figure size 1300x700 with 1 Axes>"
      ]
     },
     "metadata": {},
     "output_type": "display_data"
    }
   ],
   "source": [
    "# character count by sentiment\n",
    "plt.figure(figsize=(13, 7))\n",
    "sns.boxplot(data=tweet_df, x='sentiment', y='chars', palette='viridis')\n",
    "plt.title('Character Count by Sentiment', fontweight='bold')\n",
    "plt.xlabel('Sentiment')\n",
    "plt.ylabel('Character Count')"
   ]
  },
  {
   "cell_type": "markdown",
   "id": "39d80a70",
   "metadata": {},
   "source": [
    "From the boxplot above, we can note the following:\n",
    "- Negative and positive emotions have a similar distribution:\n",
    "    - Median character count is around **125 characters**\n",
    "    - Typical IQR spans from **100 to 150**\n",
    "    - Whiskers extend from **~25 to 175**, with no outliers\n",
    "\n",
    "- Neutral emotion tweets are generally shorter:\n",
    "    - Median is **~100 characters**, with an IQR of **75 to 125**\n",
    "    - Whiskers are similar, but there are **two outliers** below 25, indicating unusually short tweets\n",
    "\n",
    "Generally, tweets with an emotional tone (positive/negative) tend to be longer, while neutral ones are shorter and more variable, possibly suggesting less expressive or less engaged content"
   ]
  },
  {
   "cell_type": "code",
   "execution_count": 24,
   "id": "0c477d72",
   "metadata": {},
   "outputs": [
    {
     "data": {
      "text/plain": [
       "Text(0, 0.5, 'Frequency')"
      ]
     },
     "execution_count": 24,
     "metadata": {},
     "output_type": "execute_result"
    },
    {
     "data": {
      "image/png": "[encoded data removed]",
      "text/plain": [
       "<Figure size 1300x700 with 1 Axes>"
      ]
     },
     "metadata": {},
     "output_type": "display_data"
    }
   ],
   "source": [
    "# sentence count distribution\n",
    "plt.figure(figsize=(13, 7))\n",
    "sns.histplot(data=tweet_df, x='sentences', bins=30, kde=True, color='green')\n",
    "plt.title('Distribution of Sentence Count', fontweight='bold')\n",
    "plt.xlabel('Sentences per Tweet')\n",
    "plt.ylabel('Frequency')"
   ]
  },
  {
   "cell_type": "markdown",
   "id": "7e617a4d",
   "metadata": {},
   "source": [
    "From the sentence count distribution above, we can note the following:\n",
    "- The histogram is **right-skewed**(positively skewed), meaning most of the tweets are short. As the sentence count increases, the frequency quicky drops off.\n",
    "\n",
    "- **1 and 2 sentences** dominate the plot with over 3000 tweets, but beyond 3 sentences, which has about 1500 tweets, the count falls sharply\n",
    "\n",
    "- The skewness to the right implies that few users post tweets with multiple sentences\n",
    "\n",
    "- The density curve confirms the concentration at low sentence counts, peaking near 1 and 2"
   ]
  },
  {
   "cell_type": "code",
   "execution_count": 25,
   "id": "52d5a9a8",
   "metadata": {},
   "outputs": [
    {
     "data": {
      "text/plain": [
       "Text(0, 0.5, 'Sentence Count')"
      ]
     },
     "execution_count": 25,
     "metadata": {},
     "output_type": "execute_result"
    },
    {
     "data": {
      "image/png": "[encoded data removed]",
      "text/plain": [
       "<Figure size 1300x700 with 1 Axes>"
      ]
     },
     "metadata": {},
     "output_type": "display_data"
    }
   ],
   "source": [
    "# sentence count by sentiment\n",
    "plt.figure(figsize=(13, 7))\n",
    "sns.boxplot(data=tweet_df, x='sentiment', y='sentences', palette='Set3')\n",
    "plt.title('Sentence Count by Sentiment', fontweight='bold')\n",
    "plt.xlabel('Sentiment')\n",
    "plt.ylabel('Sentence Count')"
   ]
  },
  {
   "cell_type": "markdown",
   "id": "23bdb429",
   "metadata": {},
   "source": [
    "The boxplot above shows how many sentences are typically used in tweets with Negative, Positive and Neutral sentiments\n",
    "\n",
    "From the plot, we can note the following:\n",
    "- For Negative and Positive sentiments:\n",
    "    - Both have a median of 3 sentences\n",
    "    - The IQR is mostly between 2 and 3 sentences\n",
    "    - Whiskers stretch from 1 to ~5 sentences\n",
    "    - A few outliers reaching 6 and 7 sentences, hinting at more expressive content\n",
    "\n",
    "- For the Neutral sentimet:\n",
    "    - More concise, with a median of 2 sentences\n",
    "    - Most tweets fall between 1 and 2 sentences\n",
    "    - Whiskers go up to 3 sentences, with a number of outliers at 4, 5, and 6 sentences\n",
    "\n",
    "This distribution is more compact for neutral tweets, while emotional tweets(positive/negative) show broader variability and richer expression"
   ]
  },
  {
   "cell_type": "markdown",
   "id": "4ca64ac2",
   "metadata": {},
   "source": [
    "## **3. Data Cleaning and Preprocessing**"
   ]
  },
  {
   "cell_type": "markdown",
   "id": "3e296a22",
   "metadata": {},
   "source": [
    "### **Tweet Preprocessing Pipeline**\n",
    "\n",
    "In this section, we introduce a custom `TweetPreprocessor` class designed to automate and standardize the text cleaning and feature extraction process for Twitter sentiment analysis. The key steps performed by this class include:\n",
    "\n",
    "- **Data Cleaning:**  \n",
    "    - Removal of URLs, user mentions, hashtags, special characters, and repeated characters.\n",
    "\n",
    "    - Expansion of common English contractions (e.g., \"can't\" → \"cannot\").\n",
    "\n",
    "    - Normalization of whitespace and punctuation.\n",
    "\n",
    "- **Text Preprocessing:**  \n",
    "    - Conversion to lowercase for consistency.\n",
    "\n",
    "    - Tokenization of text into words.\n",
    "\n",
    "    - Removal of stopwords and short words.\n",
    "\n",
    "    - Lemmatization to reduce words to their base forms.\n",
    "\n",
    "- **Feature Extraction:**  \n",
    "    - Supports both TF-IDF and Count Vectorization for transforming cleaned tweets into numerical feature vectors.\n",
    "\n",
    "    - Configurable options for n-gram range, vocabulary size, and document frequency thresholds.\n",
    "\n",
    "- **Pipeline Integration:**  \n",
    "    - The class is compatible with scikit-learn pipelines, enabling seamless integration with machine learning workflows.\n",
    "    \n",
    "    - Provides methods for fitting, transforming, and retrieving feature names and vocabulary.\n",
    "\n",
    "This preprocessing pipeline ensures that raw tweets are systematically cleaned and converted into robust features, improving the quality and effectiveness of downstream sentiment classification models."
   ]
  },
  {
   "cell_type": "code",
   "execution_count": 26,
   "id": "0354c992",
   "metadata": {},
   "outputs": [],
   "source": [
    "class TweetPreprocessor(BaseEstimator, TransformerMixin):\n",
    "    \"\"\"\n",
    "    A preprocessing class for Twitter Sentiment Analysis.\n",
    "\n",
    "    This class handles:\n",
    "    - Data cleaning (removing URLs, mentions, hashtags, special characters)\n",
    "    - Text preprocessing (tokenization, lemmatization, stop words removal)\n",
    "    - Feature extraction using TF-IDF or Count Vectorization\n",
    "\n",
    "    This class can be implemented directly in a scikit-learn pipeline\n",
    "    \"\"\"\n",
    "\n",
    "    def __init__(self,\n",
    "                 remove_urls=True,\n",
    "                 remove_mentions=True,\n",
    "                 remove_hashtags=True,\n",
    "                 remove_stopwords=True,\n",
    "                 lemmatize=True,\n",
    "                 lowercase=True,\n",
    "                 min_length=2,\n",
    "                 expand_contractions=True,  # New feature\n",
    "                 remove_repeated_chars=True,  # New feature\n",
    "                 tfidf_max_features=5000,\n",
    "                 tfidf_ngram_range=(1, 2),\n",
    "                 tfidf_min_df=1,  # Changed from 1 to prevent errors\n",
    "                 tfidf_max_df=1.0,  # Changed from 0.95 to 1.0 for safer handling\n",
    "                 use_tfidf=True):\n",
    "        \"\"\"\n",
    "        Initialize the TweetPreprocessor.\n",
    "\n",
    "        Parameters:\n",
    "        -----------\n",
    "        remove_urls : bool, default=True\n",
    "            Whether to remove URLs from tweets\n",
    "        remove_mentions : bool, default=True\n",
    "            Whether to remove @mentions from tweets\n",
    "        remove_hashtags : bool, default=True\n",
    "            Whether to remove #hashtags from tweets (often contain sentiment info)\n",
    "        remove_stopwords : bool, default=True\n",
    "            Whether to remove stop words\n",
    "        lemmatize : bool, default=True\n",
    "            Whether to reduce words to their base form\n",
    "        lowercase : bool, default=True\n",
    "            Whether to convert text to lowercase\n",
    "        min_length : int, default=2\n",
    "            Minimum word length to keep\n",
    "        expand_contractions : bool, default=True\n",
    "            Whether to expand contractions (e.g., \"can't\" -> \"cannot\")\n",
    "        remove_repeated_chars : bool, default=True\n",
    "            Whether to reduce repeated characters (e.g., \"goooood\" -> \"good\")\n",
    "        tfidf_max_features : int, default=15000\n",
    "            Maximum number of features for TF-IDF\n",
    "        tfidf_ngram_range : tuple, default=(1, 3)\n",
    "            N-gram range for TF-IDF\n",
    "        tfidf_min_df : int, default=1\n",
    "            Minimum document frequency for terms (default 1)\n",
    "        tfidf_max_df : float, default=1.0\n",
    "            Maximum document frequency cutoff (default 1.0)\n",
    "        use_tfidf : bool, default=True\n",
    "            Whether to use TF-IDF (True) or Count Vectorizer (False)\n",
    "        \"\"\"\n",
    "        self.remove_urls = remove_urls\n",
    "        self.remove_mentions = remove_mentions\n",
    "        self.remove_hashtags = remove_hashtags\n",
    "        self.remove_stopwords = remove_stopwords\n",
    "        self.lemmatize = lemmatize\n",
    "        self.lowercase = lowercase\n",
    "        self.min_length = min_length\n",
    "        self.expand_contractions = expand_contractions\n",
    "        self.remove_repeated_chars = remove_repeated_chars\n",
    "        self.tfidf_max_features = tfidf_max_features\n",
    "        self.tfidf_ngram_range = tfidf_ngram_range\n",
    "        self.tfidf_min_df = tfidf_min_df\n",
    "        self.tfidf_max_df = tfidf_max_df\n",
    "        self.use_tfidf = use_tfidf\n",
    "\n",
    "        # initialize the components\n",
    "        self.stop_words = set(stopwords.words('english'))\n",
    "        self.lemmatizer = WordNetLemmatizer()\n",
    "        self.vectorizer = None\n",
    "\n",
    "        # Contraction mapping\n",
    "        self.contractions = {\n",
    "            \"won't\": \"will not\", \"can't\": \"cannot\", \"n't\": \" not\",\n",
    "            \"'re\": \" are\", \"'ve\": \" have\", \"'ll\": \" will\",\n",
    "            \"'d\": \" would\", \"'m\": \" am\", \"it's\": \"it is\",\n",
    "            \"that's\": \"that is\", \"what's\": \"what is\",\n",
    "            \"there's\": \"there is\", \"here's\": \"here is\"\n",
    "        }\n",
    "\n",
    "    def _extract_text_from_input(self, X):\n",
    "        \"\"\"\n",
    "        Extract text data from various input formats (DataFrame, Series, list, etc.)\n",
    "        \"\"\"\n",
    "        if hasattr(X, 'values'):\n",
    "            # Handle pandas DataFrame or Series\n",
    "            if hasattr(X, 'columns'):\n",
    "                # DataFrame - look for 'tweet' column or use first column\n",
    "                if 'tweet' in X.columns:\n",
    "                    return X['tweet'].values\n",
    "                else:\n",
    "                    return X.iloc[:, 0].values\n",
    "            else:\n",
    "                # Series\n",
    "                return X.values\n",
    "        elif isinstance(X, (list, tuple)):\n",
    "            # Handle list or tuple\n",
    "            return X\n",
    "        else:\n",
    "            # Handle numpy array or other array-like\n",
    "            return X\n",
    "\n",
    "    def expand_contractions_text(self, text):\n",
    "        \"\"\"Expand contractions in text\"\"\"\n",
    "        if not self.expand_contractions:\n",
    "            return text\n",
    "        \n",
    "        for contraction, expansion in self.contractions.items():\n",
    "            text = text.replace(contraction, expansion)\n",
    "        return text\n",
    "\n",
    "    def remove_repeated_characters(self, text):\n",
    "        \"\"\"Remove repeated characters (e.g., 'goooood' -> 'good')\"\"\"\n",
    "        if not self.remove_repeated_chars:\n",
    "            return text\n",
    "        \n",
    "        # Replace 3+ repeated characters with 2\n",
    "        return re.sub(r'(.)\\1{2,}', r'\\1\\1', text)\n",
    "\n",
    "    # data cleaning function\n",
    "    def clean_text(self, text):\n",
    "        \"\"\"\n",
    "        Cleans individual tweet text\n",
    "\n",
    "        Parameters:\n",
    "        -----------\n",
    "        text: str\n",
    "            The tweet text to clean\n",
    "        \"\"\"\n",
    "\n",
    "        # return empty string if text is NaN\n",
    "        if pd.isna(text):\n",
    "            return ''\n",
    "        \n",
    "        # convert to string if not already\n",
    "        text = str(text)\n",
    "\n",
    "        # Expand contractions first\n",
    "        text = self.expand_contractions_text(text)\n",
    "        \n",
    "        # Remove repeated characters\n",
    "        text = self.remove_repeated_characters(text)\n",
    "\n",
    "        # remove URLs\n",
    "        if self.remove_urls:\n",
    "            text = re.sub(r'http\\S+|www\\S+|https\\S+', '', text, flags=re.MULTILINE)\n",
    "\n",
    "        # remove mentions\n",
    "        if self.remove_mentions:\n",
    "            text = re.sub(r'@\\w+', '', text)\n",
    "\n",
    "        # remove hashtags (but keep the text)\n",
    "        if self.remove_hashtags:\n",
    "            text = re.sub(r'#', '', text)\n",
    "\n",
    "        # remove special characters and numbers\n",
    "        text = re.sub(r'[^a-zA-Z\\s!?]', '', text)\n",
    "\n",
    "        # Convert multiple exclamation/question marks to single\n",
    "        text = re.sub(r'!+', '!', text)\n",
    "        text = re.sub(r'\\?+', '?', text)\n",
    "\n",
    "        # remove extra whitespace\n",
    "        text = re.sub(r'\\s+', ' ', text).strip()\n",
    "\n",
    "        return text\n",
    "\n",
    "    # text preprocessing function\n",
    "    def preprocess_text(self, text):\n",
    "        \"\"\"\n",
    "        Preprocesses the cleaned text (tokenization, lemmatization, stop words removal)\n",
    "        \n",
    "        Parameters:\n",
    "        -----------\n",
    "        text: str\n",
    "            The cleaned tweet text to preprocess\n",
    "\n",
    "        Returns:\n",
    "        --------\n",
    "        str\n",
    "            The preprocessed tweet text\n",
    "        \"\"\"\n",
    "\n",
    "        # return an empty string if not text\n",
    "        if not text:\n",
    "            return ''\n",
    "        \n",
    "        # convert text to lowercase\n",
    "        if self.lowercase:\n",
    "            text = text.lower()\n",
    "\n",
    "        # tokenize the text\n",
    "        tokens = word_tokenize(text)\n",
    "\n",
    "        # remove stop words and short words\n",
    "        if self.remove_stopwords:\n",
    "            tokens = [token for token in tokens\n",
    "                      if token not in self.stop_words and len(token) >= self.min_length]\n",
    "        else:\n",
    "            tokens = [token for token in tokens if len(token) >= self.min_length]\n",
    "\n",
    "        # lemmatize the tokens\n",
    "        if self.lemmatize:\n",
    "            tokens = [self.lemmatizer.lemmatize(token) for token in tokens]\n",
    "\n",
    "        return ' '.join(tokens)\n",
    "\n",
    "    # function to fit the vectorizer\n",
    "    def fit(self, X, y=None):\n",
    "        \"\"\"\n",
    "        Fit the preprocessor to the data\n",
    "\n",
    "        Parameters:\n",
    "        -----------\n",
    "        X: array-like\n",
    "           Input tweets\n",
    "        y: array-like, optional\n",
    "           Target labels\n",
    "\n",
    "        Returns:\n",
    "        --------\n",
    "        self\n",
    "        \"\"\"\n",
    "\n",
    "        # Extract text data from input\n",
    "        text_data = self._extract_text_from_input(X)\n",
    "\n",
    "        # clean and preprocess the tweets\n",
    "        processed_texts = []\n",
    "        for text in text_data:\n",
    "            cleaned = self.clean_text(text)\n",
    "            preprocessed = self.preprocess_text(cleaned)\n",
    "            processed_texts.append(preprocessed)\n",
    "\n",
    "        # Automatically adjust parameters for small datasets\n",
    "        n_docs = len(processed_texts)\n",
    "        min_df = min(self.tfidf_min_df, max(1, n_docs // 100))  # At least 1, at most n_docs/100\n",
    "        max_df = min(self.tfidf_max_df, 1.0)  # Ensure max_df is never > 1.0\n",
    "        \n",
    "        # Ensure min_df doesn't exceed reasonable bounds\n",
    "        if min_df >= n_docs * max_df:\n",
    "            min_df = 1\n",
    "            max_df = 1.0\n",
    "\n",
    "        # fit the TF-IDF vectorizer\n",
    "        if self.use_tfidf:\n",
    "            self.vectorizer = TfidfVectorizer(\n",
    "                max_features=self.tfidf_max_features,\n",
    "                ngram_range=self.tfidf_ngram_range,\n",
    "                min_df=min_df,\n",
    "                max_df=max_df,\n",
    "                stop_words='english'\n",
    "            )\n",
    "        else:\n",
    "            self.vectorizer = CountVectorizer(\n",
    "                max_features=self.tfidf_max_features,\n",
    "                ngram_range=self.tfidf_ngram_range,\n",
    "                min_df=min_df,\n",
    "                max_df=max_df,\n",
    "                stop_words='english'\n",
    "            )\n",
    "        self.vectorizer.fit(processed_texts)\n",
    "\n",
    "        return self\n",
    "    \n",
    "    # function to transform the data\n",
    "    def transform(self, X):\n",
    "        \"\"\"\n",
    "        Transform the input data using the fitted vectorizer\n",
    "\n",
    "        Parameters:\n",
    "        -----------\n",
    "        X: array-like\n",
    "           Input tweets\n",
    "\n",
    "        Returns:\n",
    "        --------\n",
    "        scipy.sparse matrix\n",
    "            TF-IDF transformed features\n",
    "        \"\"\"\n",
    "\n",
    "        # check for fitted vectorizer\n",
    "        if self.vectorizer is None:\n",
    "            raise ValueError(\"Preprocessor has not been fitted yet. Call fit() first.\")\n",
    "\n",
    "        # Extract text data from input\n",
    "        text_data = self._extract_text_from_input(X)\n",
    "\n",
    "        # process all the tweets\n",
    "        processed_texts = []\n",
    "        for text in text_data:\n",
    "            cleaned = self.clean_text(text)\n",
    "            preprocessed = self.preprocess_text(cleaned)\n",
    "            processed_texts.append(preprocessed)\n",
    "\n",
    "        # transform using the fitted vectorizer\n",
    "        return self.vectorizer.transform(processed_texts)\n",
    "    \n",
    "    # fit_transform function\n",
    "    def fit_transform(self, X, y=None):\n",
    "        \"\"\"\n",
    "        Fit and transform the input data\n",
    "\n",
    "        Parameters:\n",
    "        -----------\n",
    "        X: array-like\n",
    "           Input tweets\n",
    "        y: array-like, optional\n",
    "            Target labels\n",
    "\n",
    "        Returns:\n",
    "        --------\n",
    "        scipy.sparse matrix\n",
    "            TF-IDF transformed features\n",
    "        \"\"\"\n",
    "        return self.fit(X, y).transform(X)\n",
    "    \n",
    "    # function to get feature names\n",
    "    def get_feature_names_out(self, input_features=None):\n",
    "        \"\"\"\n",
    "        Get the feature names of the transformed output\n",
    "        \n",
    "        Returns:\n",
    "        --------\n",
    "        array\n",
    "            Feature names from the fitted vectorizer\n",
    "        \"\"\"\n",
    "        if self.vectorizer is None:\n",
    "            raise ValueError(\"Preprocessor has not been fitted yet. Call fit() first\")\n",
    "        \n",
    "        return self.vectorizer.get_feature_names_out()\n",
    "    \n",
    "    # function to get the vocabulary\n",
    "    def get_vocabulary(self):\n",
    "        \"\"\"\n",
    "        Get the vocabulary dictionary.\n",
    "\n",
    "        Returns:\n",
    "        --------\n",
    "        dict\n",
    "            Vocabulary mapping from words to feature indices\n",
    "        \"\"\"\n",
    "\n",
    "        if self.vectorizer is None:\n",
    "            raise ValueError(\"Preprocessor has not been fitted yet. Call fit() first\")\n",
    "        \n",
    "        return self.vectorizer.vocabulary_"
   ]
  },
  {
   "cell_type": "markdown",
   "id": "0a30dcc3",
   "metadata": {},
   "source": [
    "The class inherits from:\n",
    "- `BaseEstimator`: The base class for all scikit-learn estimators\n",
    "\n",
    "- `TransformerMixin`: Mixin class for all transformers in scikit-learn\n",
    "\n",
    "This inheritance gives the class standard scikit-learn methods like `fit()`, `transform()`, and `fit_transform()`\n",
    "\n",
    "The `__init__` method sets up all the configuration options:\n",
    "Cleaning configurations:\n",
    "- `remove_urls`: Whether to remove URLs(default is True)\n",
    "\n",
    "- `remove mentions`: Whether to remove @mentions(default is True)\n",
    "\n",
    "- `remove_hashtags`: Whether to remove # symbols (but keep the text) (default is True)\n",
    "\n",
    "- `expand_contractions`: Whether to expand contractions like \"can't\" to \"cannot\" (default is True)\n",
    "\n",
    "- `remove_repeated_chars`: Whether to normalize repeated characters (e.g., \"goooood\" → \"good\") (default is True)\n",
    "\n",
    "Text Preprocessing Configurations:\n",
    "- `remove_stopwords`: Whether to remove common stop words (default is True)\n",
    "\n",
    "- `lemmatize`: Whether to reduce words to their base form (e.g., 'running' -> 'run') (uses the `WordLemmatizer()` function from NLTK) (default is True)\n",
    "\n",
    "- `lowercase`: Whether to convert text to lowercase (default True)\n",
    "\n",
    "- `min_length`: Minimum word length to keep (default 2)\n",
    "\n",
    "Vectorization Configurations:\n",
    "- `use_tfidf`: Whether to use TF-IDF (True) or Count Vectorizer (False)\n",
    "\n",
    "- `tfidf_max_features`: Maximum number of vocabulary terms (default 15000)\n",
    "\n",
    "- `tfidf_ngram_range`: Range of n-grams to include (default 1-3)\n",
    "\n",
    "- `tfidf_min_df`: Minimum document frequency for terms (default 3)\n",
    "\n",
    "- `tfidf_max_df`: Maximum document frequency cutoff (default 0.85)"
   ]
  },
  {
   "cell_type": "markdown",
   "id": "0cf64e76",
   "metadata": {},
   "source": [
    "## **4. Modeling**\n",
    "In this section, we build and evaluate machine learning models for sentiment classification. The initial focus is on **binary classification**, distinguishing between positive and negative sentiments, with neutral tweets excluded from the training set. The modeling workflow includes:\n",
    "\n",
    "- **Label Encoding:** Sentiment labels are mapped to numerical values (0 for negative, 1 for positive, 2 for neutral), and a filtered dataset is created for binary classification.\n",
    "\n",
    "- **Data Splitting:** The data is split into training and testing sets using stratified sampling to preserve class distribution.\n",
    "\n",
    "- **Pipeline Construction:** Multiple pipelines are defined using scikit-learn and imbalanced-learn, each combining our custom `TweetPreprocessor` (for text cleaning, preprocessing and vectorization), SMOTE (for handling class imbalance), and various classifiers (Logistic Regression, Random Forest, XGBoost, Naive Bayes, CatBoost).\n",
    "\n",
    "- **Model Training & Evaluation:** Each pipeline is trained and evaluated on the test set using metrics such as precision, recall, and F1-score. The best-performing model is identified based on F1-score.\n",
    "\n",
    "- **Visualization:** Model performance is visualized using both matplotlib and Plotly for comprehensive comparison and analysis.\n",
    "\n",
    "- **Preprocessing Analysis:** The effectiveness of the preprocessing pipeline is demonstrated with sample tweets and feature extraction statistics.\n",
    "\n",
    "- **Model Saving & Inference:** The best model is saved for production use, and a sample prediction function is provided for real-world inference.\n",
    "\n",
    "After completing the binary classification experiments, we will extend the approach to **multi-class classification** to include the neutral sentiment class, enabling the model to distinguish between positive, negative, and neutral tweets. This will provide a more comprehensive sentiment analysis solution."
   ]
  },
  {
   "cell_type": "markdown",
   "id": "647fa04c",
   "metadata": {},
   "source": [
    "### **4.1. Binary Data Preparation**"
   ]
  },
  {
   "cell_type": "markdown",
   "id": "79333ad7",
   "metadata": {},
   "source": [
    "First, we prepare our data by encoding the target column, then we filter out the neutral sentiment column for binary classification."
   ]
  },
  {
   "cell_type": "code",
   "execution_count": 27,
   "id": "e0918561",
   "metadata": {},
   "outputs": [
    {
     "name": "stdout",
     "output_type": "stream",
     "text": [
      "\n",
      "Binary Classification dataset shape: (3539, 8)\n",
      "Index(['tweet', 'tweet_directed_at', 'sentiment', 'tweet_length', 'chars',\n",
      "       'words', 'sentences', 'sentiment_encoded'],\n",
      "      dtype='object')\n",
      "Sentiment Distribution After Mapping:\n",
      "sentiment_encoded\n",
      "1    2970\n",
      "0     569\n",
      "Name: count, dtype: int64\n"
     ]
    }
   ],
   "source": [
    "# map sentiment labels\n",
    "def map_sentiment(sentiment):\n",
    "    if 'Negative' in sentiment:\n",
    "        return 0\n",
    "    elif 'Positive' in sentiment:\n",
    "        return 1\n",
    "    else:\n",
    "        return 2 # neutral or other sentiment\n",
    "    \n",
    "# apply the mapping function to the sentiment column\n",
    "tweet_df['sentiment_encoded'] = tweet_df['sentiment'].apply(map_sentiment)\n",
    "\n",
    "# create a dataframe for binary classification (filter out the neutral/other cases)\n",
    "binary_df = tweet_df[tweet_df['sentiment_encoded'] != 2].copy() # selects the positive and negative sentiments only\n",
    "print(f\"\\nBinary Classification dataset shape: {binary_df.shape}\")\n",
    "print(binary_df.columns)\n",
    "\n",
    "# check the distribution\n",
    "print(\"Sentiment Distribution After Mapping:\")\n",
    "print(binary_df['sentiment_encoded'].value_counts())"
   ]
  },
  {
   "cell_type": "code",
   "execution_count": 28,
   "id": "0d464879",
   "metadata": {},
   "outputs": [
    {
     "name": "stdout",
     "output_type": "stream",
     "text": [
      "\n",
      "Training set shape: (2831, 1)\n",
      "Test set shape: (708, 1)\n",
      "Training labels shape: (2831,)\n",
      "Test labels shape: (708,)\n"
     ]
    }
   ],
   "source": [
    "# define the X and y variables\n",
    "X = binary_df[['tweet']] # define the 'tweet' column as the feature\n",
    "y = binary_df['sentiment_encoded']\n",
    "\n",
    "# split the data into training and testing sets\n",
    "X_train, X_test, y_train, y_test = train_test_split(\n",
    "    X,\n",
    "    y,\n",
    "    test_size=0.2,\n",
    "    random_state=42,\n",
    "    stratify=y\n",
    ")\n",
    "\n",
    "# display the shapes of the training and testing sets\n",
    "print(f\"\\nTraining set shape: {X_train.shape}\")\n",
    "print(f\"Test set shape: {X_test.shape}\")\n",
    "print(f\"Training labels shape: {y_train.shape}\")\n",
    "print(f\"Test labels shape: {y_test.shape}\")"
   ]
  },
  {
   "cell_type": "markdown",
   "id": "9162f639",
   "metadata": {},
   "source": [
    "### **Defining the Pipelines**\n",
    "The following pipelines are constructed using the `imblearn` Pipeline, which allows seamless integration of preprocessing, oversampling, and classification steps for robust sentiment analysis:\n",
    "\n",
    "- **TweetPreprocessor**: A custom transformer that cleans, tokenizes, lemmatizes, and vectorizes tweet text using either TF-IDF or Count Vectorizer. This ensures consistent and effective feature extraction from raw tweets.\n",
    "\n",
    "- **SMOTE (Synthetic Minority Over-sampling Technique)**: Addresses class imbalance by generating synthetic samples for the minority class, improving model performance on underrepresented sentiments.\n",
    "\n",
    "- **Classifier**: Each pipeline ends with a different machine learning classifier:\n",
    "    - **Logistic Regression**: A baseline linear model with balanced class weights.\n",
    "\n",
    "    - **Random Forest**: An ensemble of decision trees for improved accuracy and robustness.\n",
    "\n",
    "    - **XGBoost**: A powerful gradient boosting algorithm known for high performance on structured data.\n",
    "\n",
    "    - **Naive Bayes**: A probabilistic model well-suited for text classification tasks.\n",
    "\n",
    "Each pipeline is designed to automate the end-to-end process from raw tweet text to sentiment prediction, enabling easy experimentation and comparison of different modeling approaches."
   ]
  },
  {
   "cell_type": "code",
   "execution_count": 80,
   "id": "45d32924",
   "metadata": {},
   "outputs": [
    {
     "name": "stdout",
     "output_type": "stream",
     "text": [
      "\n",
      "Logistic Regression (base model) Pipeline:\n",
      "Pipeline(steps=[('preprocessor', TweetPreprocessor()),\n",
      "                ('smote', SMOTE(random_state=42)),\n",
      "                ('lgb_classifier',\n",
      "                 LogisticRegression(class_weight='balanced', max_iter=1000,\n",
      "                                    random_state=42))])\n",
      "\n",
      "Random Forest Pipeline:\n",
      "Pipeline(steps=[('preprocessor', TweetPreprocessor()),\n",
      "                ('smote', SMOTE(random_state=42)),\n",
      "                ('rf_classifier',\n",
      "                 RandomForestClassifier(class_weight='balanced',\n",
      "                                        random_state=42))])\n",
      "\n",
      "XGBoost Pipeline:\n",
      "Pipeline(steps=[('preprocessor', TweetPreprocessor()),\n",
      "                ('smote', SMOTE(random_state=42)),\n",
      "                ('xgb_classifier',\n",
      "                 XGBClassifier(base_score=None, booster=None, callbacks=None,\n",
      "                               colsample_bylevel=None, colsample_bynode=None,\n",
      "                               colsample_bytree=None, device=None,\n",
      "                               early_stopping_rounds=None,\n",
      "                               enable_categorical=False, eval_metric=None,\n",
      "                               feature_types=None, feature_weights=None,\n",
      "                               gamma=None, grow_policy=None,\n",
      "                               importance_type=None,\n",
      "                               interaction_constraints=None, learning_rate=None,\n",
      "                               max_bin=None, max_cat_threshold=None,\n",
      "                               max_cat_to_onehot=None, max_delta_step=None,\n",
      "                               max_depth=None, max_leaves=None,\n",
      "                               min_child_weight=None, missing=nan,\n",
      "                               monotone_constraints=None, multi_strategy=None,\n",
      "                               n_estimators=200, n_jobs=None,\n",
      "                               num_parallel_tree=None, ...))])\n",
      "\n",
      "Naive Bayes Pipeline:\n",
      "Pipeline(steps=[('preprocessor', TweetPreprocessor()),\n",
      "                ('smote', SMOTE(random_state=42)),\n",
      "                ('nb_classifier', MultinomialNB())])\n",
      "\n",
      "Binary Classification Pipelines created successfully!\n"
     ]
    }
   ],
   "source": [
    "# create different pipelines using our unified TweetPreprocessor class\n",
    "\n",
    "# Pipeline 1: Logistic regression (base model)\n",
    "logistic_pipe = Pipeline([\n",
    "    ('preprocessor', TweetPreprocessor(use_tfidf=True)),\n",
    "    ('smote', SMOTE(random_state=42)),\n",
    "    ('lgb_classifier', LogisticRegression(\n",
    "        max_iter=1000, \n",
    "        random_state=42, \n",
    "        class_weight='balanced',\n",
    "    ))\n",
    "])\n",
    "\n",
    "# Pipeline 2: Random Forest with enhanced features\n",
    "rf_pipe = Pipeline([\n",
    "    ('preprocessor', TweetPreprocessor(use_tfidf=True)),\n",
    "    ('smote', SMOTE(random_state=42)),\n",
    "    ('rf_classifier', RandomForestClassifier(\n",
    "        n_estimators=100, \n",
    "        random_state=42, \n",
    "        class_weight='balanced',\n",
    "    ))\n",
    "])\n",
    "\n",
    "# Pipeline 3: XGBoost with enhanced features\n",
    "xgb_pipe = Pipeline([\n",
    "    ('preprocessor', TweetPreprocessor(use_tfidf=True)),\n",
    "    ('smote', SMOTE(random_state=42)),\n",
    "    ('xgb_classifier', XGBClassifier(\n",
    "        n_estimators=200, \n",
    "        random_state=42,\n",
    "    ))\n",
    "])\n",
    "\n",
    "# Pipeline 4: Naive Bayes with enhanced features\n",
    "nb_pipe = Pipeline([\n",
    "    ('preprocessor', TweetPreprocessor(use_tfidf=True)),\n",
    "    ('smote', SMOTE(random_state=42)),\n",
    "    ('nb_classifier', MultinomialNB())\n",
    "])\n",
    "\n",
    "# Store pipelines for comparison\n",
    "pipelines = {\n",
    "    'Logistic Regression (base model)': logistic_pipe,\n",
    "    'Random Forest': rf_pipe,\n",
    "    'XGBoost': xgb_pipe,\n",
    "    'Naive Bayes': nb_pipe,\n",
    "}\n",
    "\n",
    "# display the created pipelines\n",
    "for name, pipe in pipelines.items():\n",
    "    print(f\"\\n{name} Pipeline:\")\n",
    "    print(pipe)\n",
    "print(\"\\nBinary Classification Pipelines created successfully!\")"
   ]
  },
  {
   "cell_type": "markdown",
   "id": "df983f68",
   "metadata": {},
   "source": [
    "### **Model Training**\n",
    "The training process involves fitting each pipeline (combining preprocessing, SMOTE oversampling, and a classifier) on the training data and evaluating performance on the test set. For each model, metrics such as accuracy, precision, recall, and F1-score are computed and stored for comparison. The best-performing model is selected based on the highest F1-score. This systematic approach ensures robust evaluation across different machine learning algorithms for sentiment classification."
   ]
  },
  {
   "cell_type": "code",
   "execution_count": 30,
   "id": "372330ed",
   "metadata": {},
   "outputs": [
    {
     "name": "stdout",
     "output_type": "stream",
     "text": [
      "\n",
      "Training Logistic Regression (base model)...\n",
      "Accuracy: 0.8390\n",
      "Precision: 0.8583\n",
      "Recall: 0.8390\n",
      "F1 Score: 0.8467\n",
      "\n",
      "Training Random Forest...\n",
      "Accuracy: 0.8842\n",
      "Precision: 0.8744\n",
      "Recall: 0.8842\n",
      "F1 Score: 0.8687\n",
      "\n",
      "Training XGBoost...\n",
      "Accuracy: 0.8588\n",
      "Precision: 0.8434\n",
      "Recall: 0.8588\n",
      "F1 Score: 0.8476\n",
      "\n",
      "Training Naive Bayes...\n",
      "Accuracy: 0.8150\n",
      "Precision: 0.8625\n",
      "Recall: 0.8150\n",
      "F1 Score: 0.8308\n",
      "                                  accuracy  precision  recall  f1_score\n",
      "Logistic Regression (base model)    0.8390     0.8583  0.8390    0.8467\n",
      "Random Forest                       0.8842     0.8744  0.8842    0.8687\n",
      "XGBoost                             0.8588     0.8434  0.8588    0.8476\n",
      "Naive Bayes                         0.8150     0.8625  0.8150    0.8308\n",
      "\n",
      "Best performing model: Random Forest\n",
      "Best f1 score: 0.8687\n"
     ]
    }
   ],
   "source": [
    "# train and evaluate all the pipelines\n",
    "results = {}\n",
    "\n",
    "# loop through each pipeline\n",
    "for name, pipe in pipelines.items():\n",
    "    print(f\"\\nTraining {name}...\")\n",
    "\n",
    "    # fit the pipeline\n",
    "    pipe.fit(X_train, y_train)\n",
    "\n",
    "    # make predictions\n",
    "    y_pred = pipe.predict(X_test)\n",
    "\n",
    "    # compute the evaluation metrics\n",
    "    accuracy = accuracy_score(y_test, y_pred)\n",
    "    precision = precision_score(y_test, y_pred, average='weighted')\n",
    "    recall = recall_score(y_test, y_pred, average='weighted')\n",
    "    f1 = f1_score(y_test, y_pred, average='weighted')\n",
    "\n",
    "    # store the results\n",
    "    results[name] = {\n",
    "        'accuracy': accuracy,\n",
    "        'precision': precision,\n",
    "        'recall': recall,\n",
    "        'f1_score': f1\n",
    "    }\n",
    "\n",
    "    # display the results\n",
    "    print(f\"Accuracy: {accuracy:.4f}\")\n",
    "    print(f\"Precision: {precision:.4f}\")\n",
    "    print(f\"Recall: {recall:.4f}\")\n",
    "    print(f\"F1 Score: {f1:.4f}\")\n",
    "\n",
    "# create a DataFrame to display the results\n",
    "results_df = pd.DataFrame(results).T\n",
    "results_df = results_df.round(4)\n",
    "print(results_df)\n",
    "\n",
    "# determine the best model based on f1 score\n",
    "best_model = results_df['f1_score'].idxmax()\n",
    "print(f\"\\nBest performing model: {best_model}\")\n",
    "print(f\"Best f1 score: {results_df.loc[best_model, 'f1_score']:.4f}\")"
   ]
  },
  {
   "cell_type": "markdown",
   "id": "27b41569",
   "metadata": {},
   "source": [
    "### **Model Performance Visualization**"
   ]
  },
  {
   "cell_type": "code",
   "execution_count": 74,
   "id": "8c00c52b",
   "metadata": {},
   "outputs": [
    {
     "data": {
      "application/vnd.plotly.v1+json": {
       "config": {
        "plotlyServerURL": "https://plot.ly"
       },
       "data": [
        {
         "marker": {
          "color": "#1f77b4"
         },
         "name": "Accuracy",
         "text": {
          "bdata": "DAIrhxbZ6j99PzVeuknsP7ByaJHtfOs/FK5H4XoU6j8=",
          "dtype": "f8"
         },
         "textposition": "auto",
         "type": "bar",
         "x": [
          "Logistic Regression (base model)",
          "Random Forest",
          "XGBoost",
          "Naive Bayes"
         ],
         "y": {
          "bdata": "DAIrhxbZ6j9B8WPMXUvsP+zAOSNKe+s/FK5H4XoU6j8=",
          "dtype": "f8"
         }
        },
        {
         "marker": {
          "color": "#ff7f0e"
         },
         "name": "Precision",
         "text": {
          "bdata": "2/l+arx06z8rhxbZzvfrP2Dl0CLb+eo/L90kBoGV6z8=",
          "dtype": "f8"
         },
         "textposition": "auto",
         "type": "bar",
         "x": [
          "Logistic Regression (base model)",
          "Random Forest",
          "XGBoost",
          "Naive Bayes"
         ],
         "y": {
          "bdata": "gQTFjzF36z+z6nO1FfvrP+lILv8h/eo/mpmZmZmZ6z8=",
          "dtype": "f8"
         }
        },
        {
         "marker": {
          "color": "#2ca02c"
         },
         "name": "Recall",
         "text": {
          "bdata": "DAIrhxbZ6j99PzVeuknsP7ByaJHtfOs/FK5H4XoU6j8=",
          "dtype": "f8"
         },
         "textposition": "auto",
         "type": "bar",
         "x": [
          "Logistic Regression (base model)",
          "Random Forest",
          "XGBoost",
          "Naive Bayes"
         ],
         "y": {
          "bdata": "DAIrhxbZ6j9B8WPMXUvsP+zAOSNKe+s/FK5H4XoU6j8=",
          "dtype": "f8"
         }
        },
        {
         "marker": {
          "color": "#d62728"
         },
         "name": "F1 Score",
         "text": {
          "bdata": "tMh2vp8a6z8CK4cW2c7rP4lBYOXQIus/ZDvfT42X6j8=",
          "dtype": "f8"
         },
         "textposition": "auto",
         "type": "bar",
         "x": [
          "Logistic Regression (base model)",
          "Random Forest",
          "XGBoost",
          "Naive Bayes"
         ],
         "y": {
          "bdata": "Dr4wmSoY6z9cIEHxY8zrPwHeAgmKH+s/oImw4emV6j8=",
          "dtype": "f8"
         }
        }
       ],
       "layout": {
        "barmode": "group",
        "height": 800,
        "legend": {
         "orientation": "h",
         "x": 0.5,
         "xanchor": "center",
         "y": -0.2
        },
        "margin": {
         "b": 100,
         "t": 80
        },
        "template": {
         "data": {
          "bar": [
           {
            "error_x": {
             "color": "#2a3f5f"
            },
            "error_y": {
             "color": "#2a3f5f"
            },
            "marker": {
             "line": {
              "color": "#E5ECF6",
              "width": 0.5
             },
             "pattern": {
              "fillmode": "overlay",
              "size": 10,
              "solidity": 0.2
             }
            },
            "type": "bar"
           }
          ],
          "barpolar": [
           {
            "marker": {
             "line": {
              "color": "#E5ECF6",
              "width": 0.5
             },
             "pattern": {
              "fillmode": "overlay",
              "size": 10,
              "solidity": 0.2
             }
            },
            "type": "barpolar"
           }
          ],
          "carpet": [
           {
            "aaxis": {
             "endlinecolor": "#2a3f5f",
             "gridcolor": "white",
             "linecolor": "white",
             "minorgridcolor": "white",
             "startlinecolor": "#2a3f5f"
            },
            "baxis": {
             "endlinecolor": "#2a3f5f",
             "gridcolor": "white",
             "linecolor": "white",
             "minorgridcolor": "white",
             "startlinecolor": "#2a3f5f"
            },
            "type": "carpet"
           }
          ],
          "choropleth": [
           {
            "colorbar": {
             "outlinewidth": 0,
             "ticks": ""
            },
            "type": "choropleth"
           }
          ],
          "contour": [
           {
            "colorbar": {
             "outlinewidth": 0,
             "ticks": ""
            },
            "colorscale": [
             [
              0,
              "#0d0887"
             ],
             [
              0.1111111111111111,
              "#46039f"
             ],
             [
              0.2222222222222222,
              "#7201a8"
             ],
             [
              0.3333333333333333,
              "#9c179e"
             ],
             [
              0.4444444444444444,
              "#bd3786"
             ],
             [
              0.5555555555555556,
              "#d8576b"
             ],
             [
              0.6666666666666666,
              "#ed7953"
             ],
             [
              0.7777777777777778,
              "#fb9f3a"
             ],
             [
              0.8888888888888888,
              "#fdca26"
             ],
             [
              1,
              "#f0f921"
             ]
            ],
            "type": "contour"
           }
          ],
          "contourcarpet": [
           {
            "colorbar": {
             "outlinewidth": 0,
             "ticks": ""
            },
            "type": "contourcarpet"
           }
          ],
          "heatmap": [
           {
            "colorbar": {
             "outlinewidth": 0,
             "ticks": ""
            },
            "colorscale": [
             [
              0,
              "#0d0887"
             ],
             [
              0.1111111111111111,
              "#46039f"
             ],
             [
              0.2222222222222222,
              "#7201a8"
             ],
             [
              0.3333333333333333,
              "#9c179e"
             ],
             [
              0.4444444444444444,
              "#bd3786"
             ],
             [
              0.5555555555555556,
              "#d8576b"
             ],
             [
              0.6666666666666666,
              "#ed7953"
             ],
             [
              0.7777777777777778,
              "#fb9f3a"
             ],
             [
              0.8888888888888888,
              "#fdca26"
             ],
             [
              1,
              "#f0f921"
             ]
            ],
            "type": "heatmap"
           }
          ],
          "histogram": [
           {
            "marker": {
             "pattern": {
              "fillmode": "overlay",
              "size": 10,
              "solidity": 0.2
             }
            },
            "type": "histogram"
           }
          ],
          "histogram2d": [
           {
            "colorbar": {
             "outlinewidth": 0,
             "ticks": ""
            },
            "colorscale": [
             [
              0,
              "#0d0887"
             ],
             [
              0.1111111111111111,
              "#46039f"
             ],
             [
              0.2222222222222222,
              "#7201a8"
             ],
             [
              0.3333333333333333,
              "#9c179e"
             ],
             [
              0.4444444444444444,
              "#bd3786"
             ],
             [
              0.5555555555555556,
              "#d8576b"
             ],
             [
              0.6666666666666666,
              "#ed7953"
             ],
             [
              0.7777777777777778,
              "#fb9f3a"
             ],
             [
              0.8888888888888888,
              "#fdca26"
             ],
             [
              1,
              "#f0f921"
             ]
            ],
            "type": "histogram2d"
           }
          ],
          "histogram2dcontour": [
           {
            "colorbar": {
             "outlinewidth": 0,
             "ticks": ""
            },
            "colorscale": [
             [
              0,
              "#0d0887"
             ],
             [
              0.1111111111111111,
              "#46039f"
             ],
             [
              0.2222222222222222,
              "#7201a8"
             ],
             [
              0.3333333333333333,
              "#9c179e"
             ],
             [
              0.4444444444444444,
              "#bd3786"
             ],
             [
              0.5555555555555556,
              "#d8576b"
             ],
             [
              0.6666666666666666,
              "#ed7953"
             ],
             [
              0.7777777777777778,
              "#fb9f3a"
             ],
             [
              0.8888888888888888,
              "#fdca26"
             ],
             [
              1,
              "#f0f921"
             ]
            ],
            "type": "histogram2dcontour"
           }
          ],
          "mesh3d": [
           {
            "colorbar": {
             "outlinewidth": 0,
             "ticks": ""
            },
            "type": "mesh3d"
           }
          ],
          "parcoords": [
           {
            "line": {
             "colorbar": {
              "outlinewidth": 0,
              "ticks": ""
             }
            },
            "type": "parcoords"
           }
          ],
          "pie": [
           {
            "automargin": true,
            "type": "pie"
           }
          ],
          "scatter": [
           {
            "fillpattern": {
             "fillmode": "overlay",
             "size": 10,
             "solidity": 0.2
            },
            "type": "scatter"
           }
          ],
          "scatter3d": [
           {
            "line": {
             "colorbar": {
              "outlinewidth": 0,
              "ticks": ""
             }
            },
            "marker": {
             "colorbar": {
              "outlinewidth": 0,
              "ticks": ""
             }
            },
            "type": "scatter3d"
           }
          ],
          "scattercarpet": [
           {
            "marker": {
             "colorbar": {
              "outlinewidth": 0,
              "ticks": ""
             }
            },
            "type": "scattercarpet"
           }
          ],
          "scattergeo": [
           {
            "marker": {
             "colorbar": {
              "outlinewidth": 0,
              "ticks": ""
             }
            },
            "type": "scattergeo"
           }
          ],
          "scattergl": [
           {
            "marker": {
             "colorbar": {
              "outlinewidth": 0,
              "ticks": ""
             }
            },
            "type": "scattergl"
           }
          ],
          "scattermap": [
           {
            "marker": {
             "colorbar": {
              "outlinewidth": 0,
              "ticks": ""
             }
            },
            "type": "scattermap"
           }
          ],
          "scattermapbox": [
           {
            "marker": {
             "colorbar": {
              "outlinewidth": 0,
              "ticks": ""
             }
            },
            "type": "scattermapbox"
           }
          ],
          "scatterpolar": [
           {
            "marker": {
             "colorbar": {
              "outlinewidth": 0,
              "ticks": ""
             }
            },
            "type": "scatterpolar"
           }
          ],
          "scatterpolargl": [
           {
            "marker": {
             "colorbar": {
              "outlinewidth": 0,
              "ticks": ""
             }
            },
            "type": "scatterpolargl"
           }
          ],
          "scatterternary": [
           {
            "marker": {
             "colorbar": {
              "outlinewidth": 0,
              "ticks": ""
             }
            },
            "type": "scatterternary"
           }
          ],
          "surface": [
           {
            "colorbar": {
             "outlinewidth": 0,
             "ticks": ""
            },
            "colorscale": [
             [
              0,
              "#0d0887"
             ],
             [
              0.1111111111111111,
              "#46039f"
             ],
             [
              0.2222222222222222,
              "#7201a8"
             ],
             [
              0.3333333333333333,
              "#9c179e"
             ],
             [
              0.4444444444444444,
              "#bd3786"
             ],
             [
              0.5555555555555556,
              "#d8576b"
             ],
             [
              0.6666666666666666,
              "#ed7953"
             ],
             [
              0.7777777777777778,
              "#fb9f3a"
             ],
             [
              0.8888888888888888,
              "#fdca26"
             ],
             [
              1,
              "#f0f921"
             ]
            ],
            "type": "surface"
           }
          ],
          "table": [
           {
            "cells": {
             "fill": {
              "color": "#EBF0F8"
             },
             "line": {
              "color": "white"
             }
            },
            "header": {
             "fill": {
              "color": "#C8D4E3"
             },
             "line": {
              "color": "white"
             }
            },
            "type": "table"
           }
          ]
         },
         "layout": {
          "annotationdefaults": {
           "arrowcolor": "#2a3f5f",
           "arrowhead": 0,
           "arrowwidth": 1
          },
          "autotypenumbers": "strict",
          "coloraxis": {
           "colorbar": {
            "outlinewidth": 0,
            "ticks": ""
           }
          },
          "colorscale": {
           "diverging": [
            [
             0,
             "#8e0152"
            ],
            [
             0.1,
             "#c51b7d"
            ],
            [
             0.2,
             "#de77ae"
            ],
            [
             0.3,
             "#f1b6da"
            ],
            [
             0.4,
             "#fde0ef"
            ],
            [
             0.5,
             "#f7f7f7"
            ],
            [
             0.6,
             "#e6f5d0"
            ],
            [
             0.7,
             "#b8e186"
            ],
            [
             0.8,
             "#7fbc41"
            ],
            [
             0.9,
             "#4d9221"
            ],
            [
             1,
             "#276419"
            ]
           ],
           "sequential": [
            [
             0,
             "#0d0887"
            ],
            [
             0.1111111111111111,
             "#46039f"
            ],
            [
             0.2222222222222222,
             "#7201a8"
            ],
            [
             0.3333333333333333,
             "#9c179e"
            ],
            [
             0.4444444444444444,
             "#bd3786"
            ],
            [
             0.5555555555555556,
             "#d8576b"
            ],
            [
             0.6666666666666666,
             "#ed7953"
            ],
            [
             0.7777777777777778,
             "#fb9f3a"
            ],
            [
             0.8888888888888888,
             "#fdca26"
            ],
            [
             1,
             "#f0f921"
            ]
           ],
           "sequentialminus": [
            [
             0,
             "#0d0887"
            ],
            [
             0.1111111111111111,
             "#46039f"
            ],
            [
             0.2222222222222222,
             "#7201a8"
            ],
            [
             0.3333333333333333,
             "#9c179e"
            ],
            [
             0.4444444444444444,
             "#bd3786"
            ],
            [
             0.5555555555555556,
             "#d8576b"
            ],
            [
             0.6666666666666666,
             "#ed7953"
            ],
            [
             0.7777777777777778,
             "#fb9f3a"
            ],
            [
             0.8888888888888888,
             "#fdca26"
            ],
            [
             1,
             "#f0f921"
            ]
           ]
          },
          "colorway": [
           "#636efa",
           "#EF553B",
           "#00cc96",
           "#ab63fa",
           "#FFA15A",
           "#19d3f3",
           "#FF6692",
           "#B6E880",
           "#FF97FF",
           "#FECB52"
          ],
          "font": {
           "color": "#2a3f5f"
          },
          "geo": {
           "bgcolor": "white",
           "lakecolor": "white",
           "landcolor": "#E5ECF6",
           "showlakes": true,
           "showland": true,
           "subunitcolor": "white"
          },
          "hoverlabel": {
           "align": "left"
          },
          "hovermode": "closest",
          "mapbox": {
           "style": "light"
          },
          "paper_bgcolor": "white",
          "plot_bgcolor": "#E5ECF6",
          "polar": {
           "angularaxis": {
            "gridcolor": "white",
            "linecolor": "white",
            "ticks": ""
           },
           "bgcolor": "#E5ECF6",
           "radialaxis": {
            "gridcolor": "white",
            "linecolor": "white",
            "ticks": ""
           }
          },
          "scene": {
           "xaxis": {
            "backgroundcolor": "#E5ECF6",
            "gridcolor": "white",
            "gridwidth": 2,
            "linecolor": "white",
            "showbackground": true,
            "ticks": "",
            "zerolinecolor": "white"
           },
           "yaxis": {
            "backgroundcolor": "#E5ECF6",
            "gridcolor": "white",
            "gridwidth": 2,
            "linecolor": "white",
            "showbackground": true,
            "ticks": "",
            "zerolinecolor": "white"
           },
           "zaxis": {
            "backgroundcolor": "#E5ECF6",
            "gridcolor": "white",
            "gridwidth": 2,
            "linecolor": "white",
            "showbackground": true,
            "ticks": "",
            "zerolinecolor": "white"
           }
          },
          "shapedefaults": {
           "line": {
            "color": "#2a3f5f"
           }
          },
          "ternary": {
           "aaxis": {
            "gridcolor": "white",
            "linecolor": "white",
            "ticks": ""
           },
           "baxis": {
            "gridcolor": "white",
            "linecolor": "white",
            "ticks": ""
           },
           "bgcolor": "#E5ECF6",
           "caxis": {
            "gridcolor": "white",
            "linecolor": "white",
            "ticks": ""
           }
          },
          "title": {
           "x": 0.05
          },
          "xaxis": {
           "automargin": true,
           "gridcolor": "white",
           "linecolor": "white",
           "ticks": "",
           "title": {
            "standoff": 15
           },
           "zerolinecolor": "white",
           "zerolinewidth": 2
          },
          "yaxis": {
           "automargin": true,
           "gridcolor": "white",
           "linecolor": "white",
           "ticks": "",
           "title": {
            "standoff": 15
           },
           "zerolinecolor": "white",
           "zerolinewidth": 2
          }
         }
        },
        "title": {
         "text": "Model Performance Comparison"
        },
        "width": 1300,
        "xaxis": {
         "title": {
          "text": "Models"
         }
        },
        "yaxis": {
         "title": {
          "text": "Score"
         }
        }
       }
      }
     },
     "metadata": {},
     "output_type": "display_data"
    }
   ],
   "source": [
    "# Plot 1. Model performance comparison (bar chart)\n",
    "fig_bar = go.Figure()\n",
    "metrics = ['accuracy', 'precision', 'recall', 'f1_score']\n",
    "colors = ['#1f77b4', '#ff7f0e', '#2ca02c', '#d62728']\n",
    "\n",
    "for i, metric in enumerate(metrics):\n",
    "    fig_bar.add_trace(go.Bar(\n",
    "        x=results_df.index,\n",
    "        y=results_df[metric],\n",
    "        name=metric.replace('_', ' ').title(),\n",
    "        marker_color=colors[i],\n",
    "        text=results_df[metric].round(3),\n",
    "        textposition='auto'\n",
    "    ))\n",
    "\n",
    "fig_bar.update_layout(\n",
    "    title='Model Performance Comparison',\n",
    "    xaxis_title='Models',\n",
    "    yaxis_title='Score',\n",
    "    barmode='group',\n",
    "    height=800,\n",
    "    width=1300,\n",
    "    legend=dict(orientation=\"h\", y=-0.2, x=0.5, xanchor=\"center\"),\n",
    "    margin=dict(t=80, b=100)\n",
    ")\n",
    "\n",
    "fig_bar.show()"
   ]
  },
  {
   "cell_type": "code",
   "execution_count": 75,
   "id": "4ce6353c",
   "metadata": {},
   "outputs": [
    {
     "data": {
      "application/vnd.plotly.v1+json": {
       "config": {
        "plotlyServerURL": "https://plot.ly"
       },
       "data": [
        {
         "labels": [
          "Logistic Regression (base model)",
          "Random Forest",
          "XGBoost",
          "Naive Bayes"
         ],
         "marker": {
          "colors": [
           "rgb(68, 1, 84)",
           "rgb(49, 104, 142)",
           "rgb(53, 183, 121)",
           "rgb(253, 231, 37)"
          ],
          "line": {
           "color": "white",
           "width": 2
          }
         },
         "textinfo": "label+percent+value",
         "texttemplate": "%{label}<br>%{value:.4f}<br>(%{percent})",
         "type": "pie",
         "values": {
          "bdata": "Dr4wmSoY6z9cIEHxY8zrPwHeAgmKH+s/oImw4emV6j8=",
          "dtype": "f8"
         }
        }
       ],
       "layout": {
        "height": 800,
        "template": {
         "data": {
          "bar": [
           {
            "error_x": {
             "color": "#2a3f5f"
            },
            "error_y": {
             "color": "#2a3f5f"
            },
            "marker": {
             "line": {
              "color": "#E5ECF6",
              "width": 0.5
             },
             "pattern": {
              "fillmode": "overlay",
              "size": 10,
              "solidity": 0.2
             }
            },
            "type": "bar"
           }
          ],
          "barpolar": [
           {
            "marker": {
             "line": {
              "color": "#E5ECF6",
              "width": 0.5
             },
             "pattern": {
              "fillmode": "overlay",
              "size": 10,
              "solidity": 0.2
             }
            },
            "type": "barpolar"
           }
          ],
          "carpet": [
           {
            "aaxis": {
             "endlinecolor": "#2a3f5f",
             "gridcolor": "white",
             "linecolor": "white",
             "minorgridcolor": "white",
             "startlinecolor": "#2a3f5f"
            },
            "baxis": {
             "endlinecolor": "#2a3f5f",
             "gridcolor": "white",
             "linecolor": "white",
             "minorgridcolor": "white",
             "startlinecolor": "#2a3f5f"
            },
            "type": "carpet"
           }
          ],
          "choropleth": [
           {
            "colorbar": {
             "outlinewidth": 0,
             "ticks": ""
            },
            "type": "choropleth"
           }
          ],
          "contour": [
           {
            "colorbar": {
             "outlinewidth": 0,
             "ticks": ""
            },
            "colorscale": [
             [
              0,
              "#0d0887"
             ],
             [
              0.1111111111111111,
              "#46039f"
             ],
             [
              0.2222222222222222,
              "#7201a8"
             ],
             [
              0.3333333333333333,
              "#9c179e"
             ],
             [
              0.4444444444444444,
              "#bd3786"
             ],
             [
              0.5555555555555556,
              "#d8576b"
             ],
             [
              0.6666666666666666,
              "#ed7953"
             ],
             [
              0.7777777777777778,
              "#fb9f3a"
             ],
             [
              0.8888888888888888,
              "#fdca26"
             ],
             [
              1,
              "#f0f921"
             ]
            ],
            "type": "contour"
           }
          ],
          "contourcarpet": [
           {
            "colorbar": {
             "outlinewidth": 0,
             "ticks": ""
            },
            "type": "contourcarpet"
           }
          ],
          "heatmap": [
           {
            "colorbar": {
             "outlinewidth": 0,
             "ticks": ""
            },
            "colorscale": [
             [
              0,
              "#0d0887"
             ],
             [
              0.1111111111111111,
              "#46039f"
             ],
             [
              0.2222222222222222,
              "#7201a8"
             ],
             [
              0.3333333333333333,
              "#9c179e"
             ],
             [
              0.4444444444444444,
              "#bd3786"
             ],
             [
              0.5555555555555556,
              "#d8576b"
             ],
             [
              0.6666666666666666,
              "#ed7953"
             ],
             [
              0.7777777777777778,
              "#fb9f3a"
             ],
             [
              0.8888888888888888,
              "#fdca26"
             ],
             [
              1,
              "#f0f921"
             ]
            ],
            "type": "heatmap"
           }
          ],
          "histogram": [
           {
            "marker": {
             "pattern": {
              "fillmode": "overlay",
              "size": 10,
              "solidity": 0.2
             }
            },
            "type": "histogram"
           }
          ],
          "histogram2d": [
           {
            "colorbar": {
             "outlinewidth": 0,
             "ticks": ""
            },
            "colorscale": [
             [
              0,
              "#0d0887"
             ],
             [
              0.1111111111111111,
              "#46039f"
             ],
             [
              0.2222222222222222,
              "#7201a8"
             ],
             [
              0.3333333333333333,
              "#9c179e"
             ],
             [
              0.4444444444444444,
              "#bd3786"
             ],
             [
              0.5555555555555556,
              "#d8576b"
             ],
             [
              0.6666666666666666,
              "#ed7953"
             ],
             [
              0.7777777777777778,
              "#fb9f3a"
             ],
             [
              0.8888888888888888,
              "#fdca26"
             ],
             [
              1,
              "#f0f921"
             ]
            ],
            "type": "histogram2d"
           }
          ],
          "histogram2dcontour": [
           {
            "colorbar": {
             "outlinewidth": 0,
             "ticks": ""
            },
            "colorscale": [
             [
              0,
              "#0d0887"
             ],
             [
              0.1111111111111111,
              "#46039f"
             ],
             [
              0.2222222222222222,
              "#7201a8"
             ],
             [
              0.3333333333333333,
              "#9c179e"
             ],
             [
              0.4444444444444444,
              "#bd3786"
             ],
             [
              0.5555555555555556,
              "#d8576b"
             ],
             [
              0.6666666666666666,
              "#ed7953"
             ],
             [
              0.7777777777777778,
              "#fb9f3a"
             ],
             [
              0.8888888888888888,
              "#fdca26"
             ],
             [
              1,
              "#f0f921"
             ]
            ],
            "type": "histogram2dcontour"
           }
          ],
          "mesh3d": [
           {
            "colorbar": {
             "outlinewidth": 0,
             "ticks": ""
            },
            "type": "mesh3d"
           }
          ],
          "parcoords": [
           {
            "line": {
             "colorbar": {
              "outlinewidth": 0,
              "ticks": ""
             }
            },
            "type": "parcoords"
           }
          ],
          "pie": [
           {
            "automargin": true,
            "type": "pie"
           }
          ],
          "scatter": [
           {
            "fillpattern": {
             "fillmode": "overlay",
             "size": 10,
             "solidity": 0.2
            },
            "type": "scatter"
           }
          ],
          "scatter3d": [
           {
            "line": {
             "colorbar": {
              "outlinewidth": 0,
              "ticks": ""
             }
            },
            "marker": {
             "colorbar": {
              "outlinewidth": 0,
              "ticks": ""
             }
            },
            "type": "scatter3d"
           }
          ],
          "scattercarpet": [
           {
            "marker": {
             "colorbar": {
              "outlinewidth": 0,
              "ticks": ""
             }
            },
            "type": "scattercarpet"
           }
          ],
          "scattergeo": [
           {
            "marker": {
             "colorbar": {
              "outlinewidth": 0,
              "ticks": ""
             }
            },
            "type": "scattergeo"
           }
          ],
          "scattergl": [
           {
            "marker": {
             "colorbar": {
              "outlinewidth": 0,
              "ticks": ""
             }
            },
            "type": "scattergl"
           }
          ],
          "scattermap": [
           {
            "marker": {
             "colorbar": {
              "outlinewidth": 0,
              "ticks": ""
             }
            },
            "type": "scattermap"
           }
          ],
          "scattermapbox": [
           {
            "marker": {
             "colorbar": {
              "outlinewidth": 0,
              "ticks": ""
             }
            },
            "type": "scattermapbox"
           }
          ],
          "scatterpolar": [
           {
            "marker": {
             "colorbar": {
              "outlinewidth": 0,
              "ticks": ""
             }
            },
            "type": "scatterpolar"
           }
          ],
          "scatterpolargl": [
           {
            "marker": {
             "colorbar": {
              "outlinewidth": 0,
              "ticks": ""
             }
            },
            "type": "scatterpolargl"
           }
          ],
          "scatterternary": [
           {
            "marker": {
             "colorbar": {
              "outlinewidth": 0,
              "ticks": ""
             }
            },
            "type": "scatterternary"
           }
          ],
          "surface": [
           {
            "colorbar": {
             "outlinewidth": 0,
             "ticks": ""
            },
            "colorscale": [
             [
              0,
              "#0d0887"
             ],
             [
              0.1111111111111111,
              "#46039f"
             ],
             [
              0.2222222222222222,
              "#7201a8"
             ],
             [
              0.3333333333333333,
              "#9c179e"
             ],
             [
              0.4444444444444444,
              "#bd3786"
             ],
             [
              0.5555555555555556,
              "#d8576b"
             ],
             [
              0.6666666666666666,
              "#ed7953"
             ],
             [
              0.7777777777777778,
              "#fb9f3a"
             ],
             [
              0.8888888888888888,
              "#fdca26"
             ],
             [
              1,
              "#f0f921"
             ]
            ],
            "type": "surface"
           }
          ],
          "table": [
           {
            "cells": {
             "fill": {
              "color": "#EBF0F8"
             },
             "line": {
              "color": "white"
             }
            },
            "header": {
             "fill": {
              "color": "#C8D4E3"
             },
             "line": {
              "color": "white"
             }
            },
            "type": "table"
           }
          ]
         },
         "layout": {
          "annotationdefaults": {
           "arrowcolor": "#2a3f5f",
           "arrowhead": 0,
           "arrowwidth": 1
          },
          "autotypenumbers": "strict",
          "coloraxis": {
           "colorbar": {
            "outlinewidth": 0,
            "ticks": ""
           }
          },
          "colorscale": {
           "diverging": [
            [
             0,
             "#8e0152"
            ],
            [
             0.1,
             "#c51b7d"
            ],
            [
             0.2,
             "#de77ae"
            ],
            [
             0.3,
             "#f1b6da"
            ],
            [
             0.4,
             "#fde0ef"
            ],
            [
             0.5,
             "#f7f7f7"
            ],
            [
             0.6,
             "#e6f5d0"
            ],
            [
             0.7,
             "#b8e186"
            ],
            [
             0.8,
             "#7fbc41"
            ],
            [
             0.9,
             "#4d9221"
            ],
            [
             1,
             "#276419"
            ]
           ],
           "sequential": [
            [
             0,
             "#0d0887"
            ],
            [
             0.1111111111111111,
             "#46039f"
            ],
            [
             0.2222222222222222,
             "#7201a8"
            ],
            [
             0.3333333333333333,
             "#9c179e"
            ],
            [
             0.4444444444444444,
             "#bd3786"
            ],
            [
             0.5555555555555556,
             "#d8576b"
            ],
            [
             0.6666666666666666,
             "#ed7953"
            ],
            [
             0.7777777777777778,
             "#fb9f3a"
            ],
            [
             0.8888888888888888,
             "#fdca26"
            ],
            [
             1,
             "#f0f921"
            ]
           ],
           "sequentialminus": [
            [
             0,
             "#0d0887"
            ],
            [
             0.1111111111111111,
             "#46039f"
            ],
            [
             0.2222222222222222,
             "#7201a8"
            ],
            [
             0.3333333333333333,
             "#9c179e"
            ],
            [
             0.4444444444444444,
             "#bd3786"
            ],
            [
             0.5555555555555556,
             "#d8576b"
            ],
            [
             0.6666666666666666,
             "#ed7953"
            ],
            [
             0.7777777777777778,
             "#fb9f3a"
            ],
            [
             0.8888888888888888,
             "#fdca26"
            ],
            [
             1,
             "#f0f921"
            ]
           ]
          },
          "colorway": [
           "#636efa",
           "#EF553B",
           "#00cc96",
           "#ab63fa",
           "#FFA15A",
           "#19d3f3",
           "#FF6692",
           "#B6E880",
           "#FF97FF",
           "#FECB52"
          ],
          "font": {
           "color": "#2a3f5f"
          },
          "geo": {
           "bgcolor": "white",
           "lakecolor": "white",
           "landcolor": "#E5ECF6",
           "showlakes": true,
           "showland": true,
           "subunitcolor": "white"
          },
          "hoverlabel": {
           "align": "left"
          },
          "hovermode": "closest",
          "mapbox": {
           "style": "light"
          },
          "paper_bgcolor": "white",
          "plot_bgcolor": "#E5ECF6",
          "polar": {
           "angularaxis": {
            "gridcolor": "white",
            "linecolor": "white",
            "ticks": ""
           },
           "bgcolor": "#E5ECF6",
           "radialaxis": {
            "gridcolor": "white",
            "linecolor": "white",
            "ticks": ""
           }
          },
          "scene": {
           "xaxis": {
            "backgroundcolor": "#E5ECF6",
            "gridcolor": "white",
            "gridwidth": 2,
            "linecolor": "white",
            "showbackground": true,
            "ticks": "",
            "zerolinecolor": "white"
           },
           "yaxis": {
            "backgroundcolor": "#E5ECF6",
            "gridcolor": "white",
            "gridwidth": 2,
            "linecolor": "white",
            "showbackground": true,
            "ticks": "",
            "zerolinecolor": "white"
           },
           "zaxis": {
            "backgroundcolor": "#E5ECF6",
            "gridcolor": "white",
            "gridwidth": 2,
            "linecolor": "white",
            "showbackground": true,
            "ticks": "",
            "zerolinecolor": "white"
           }
          },
          "shapedefaults": {
           "line": {
            "color": "#2a3f5f"
           }
          },
          "ternary": {
           "aaxis": {
            "gridcolor": "white",
            "linecolor": "white",
            "ticks": ""
           },
           "baxis": {
            "gridcolor": "white",
            "linecolor": "white",
            "ticks": ""
           },
           "bgcolor": "#E5ECF6",
           "caxis": {
            "gridcolor": "white",
            "linecolor": "white",
            "ticks": ""
           }
          },
          "title": {
           "x": 0.05
          },
          "xaxis": {
           "automargin": true,
           "gridcolor": "white",
           "linecolor": "white",
           "ticks": "",
           "title": {
            "standoff": 15
           },
           "zerolinecolor": "white",
           "zerolinewidth": 2
          },
          "yaxis": {
           "automargin": true,
           "gridcolor": "white",
           "linecolor": "white",
           "ticks": "",
           "title": {
            "standoff": 15
           },
           "zerolinecolor": "white",
           "zerolinewidth": 2
          }
         }
        },
        "title": {
         "text": "F1-Score Distribution by Model"
        },
        "width": 1100
       }
      }
     },
     "metadata": {},
     "output_type": "display_data"
    }
   ],
   "source": [
    "# Plot 2. F1-Score comparison (interactive pie chart)\n",
    "viridis_colors = pc.sample_colorscale('Viridis', [i / (len(results_df)-1) for i in range(len(results_df))])\n",
    "\n",
    "fig_pie = go.Figure(go.Pie(\n",
    "    labels=results_df.index,\n",
    "    values=results_df['f1_score'],\n",
    "    textinfo='label+percent+value',\n",
    "    texttemplate='%{label}<br>%{value:.4f}<br>(%{percent})',\n",
    "    marker=dict(colors=viridis_colors, line=dict(color='white', width=2))\n",
    "))\n",
    "\n",
    "fig_pie.update_layout(\n",
    "    title='F1-Score Distribution by Model',\n",
    "    height=800,\n",
    "    width=1100\n",
    ")\n",
    "\n",
    "fig_pie.show()\n"
   ]
  },
  {
   "cell_type": "code",
   "execution_count": 76,
   "id": "45ebde34",
   "metadata": {},
   "outputs": [
    {
     "data": {
      "application/vnd.plotly.v1+json": {
       "config": {
        "plotlyServerURL": "https://plot.ly"
       },
       "data": [
        {
         "colorscale": [
          [
           0,
           "rgb(247,251,255)"
          ],
          [
           0.125,
           "rgb(222,235,247)"
          ],
          [
           0.25,
           "rgb(198,219,239)"
          ],
          [
           0.375,
           "rgb(158,202,225)"
          ],
          [
           0.5,
           "rgb(107,174,214)"
          ],
          [
           0.625,
           "rgb(66,146,198)"
          ],
          [
           0.75,
           "rgb(33,113,181)"
          ],
          [
           0.875,
           "rgb(8,81,156)"
          ],
          [
           1,
           "rgb(8,48,107)"
          ]
         ],
         "hovertemplate": "True: %{y}<br>Predicted: %{x}<br>Count: %{z}<extra></extra>",
         "showscale": false,
         "text": {
          "bdata": "LgBEAA4ARAI=",
          "dtype": "i2",
          "shape": "2, 2"
         },
         "textfont": {
          "size": 20
         },
         "texttemplate": "%{text}",
         "type": "heatmap",
         "x": [
          "Negative",
          "Positive"
         ],
         "y": [
          "Negative",
          "Positive"
         ],
         "z": {
          "bdata": "LgBEAA4ARAI=",
          "dtype": "i2",
          "shape": "2, 2"
         }
        }
       ],
       "layout": {
        "height": 800,
        "template": {
         "data": {
          "bar": [
           {
            "error_x": {
             "color": "#2a3f5f"
            },
            "error_y": {
             "color": "#2a3f5f"
            },
            "marker": {
             "line": {
              "color": "#E5ECF6",
              "width": 0.5
             },
             "pattern": {
              "fillmode": "overlay",
              "size": 10,
              "solidity": 0.2
             }
            },
            "type": "bar"
           }
          ],
          "barpolar": [
           {
            "marker": {
             "line": {
              "color": "#E5ECF6",
              "width": 0.5
             },
             "pattern": {
              "fillmode": "overlay",
              "size": 10,
              "solidity": 0.2
             }
            },
            "type": "barpolar"
           }
          ],
          "carpet": [
           {
            "aaxis": {
             "endlinecolor": "#2a3f5f",
             "gridcolor": "white",
             "linecolor": "white",
             "minorgridcolor": "white",
             "startlinecolor": "#2a3f5f"
            },
            "baxis": {
             "endlinecolor": "#2a3f5f",
             "gridcolor": "white",
             "linecolor": "white",
             "minorgridcolor": "white",
             "startlinecolor": "#2a3f5f"
            },
            "type": "carpet"
           }
          ],
          "choropleth": [
           {
            "colorbar": {
             "outlinewidth": 0,
             "ticks": ""
            },
            "type": "choropleth"
           }
          ],
          "contour": [
           {
            "colorbar": {
             "outlinewidth": 0,
             "ticks": ""
            },
            "colorscale": [
             [
              0,
              "#0d0887"
             ],
             [
              0.1111111111111111,
              "#46039f"
             ],
             [
              0.2222222222222222,
              "#7201a8"
             ],
             [
              0.3333333333333333,
              "#9c179e"
             ],
             [
              0.4444444444444444,
              "#bd3786"
             ],
             [
              0.5555555555555556,
              "#d8576b"
             ],
             [
              0.6666666666666666,
              "#ed7953"
             ],
             [
              0.7777777777777778,
              "#fb9f3a"
             ],
             [
              0.8888888888888888,
              "#fdca26"
             ],
             [
              1,
              "#f0f921"
             ]
            ],
            "type": "contour"
           }
          ],
          "contourcarpet": [
           {
            "colorbar": {
             "outlinewidth": 0,
             "ticks": ""
            },
            "type": "contourcarpet"
           }
          ],
          "heatmap": [
           {
            "colorbar": {
             "outlinewidth": 0,
             "ticks": ""
            },
            "colorscale": [
             [
              0,
              "#0d0887"
             ],
             [
              0.1111111111111111,
              "#46039f"
             ],
             [
              0.2222222222222222,
              "#7201a8"
             ],
             [
              0.3333333333333333,
              "#9c179e"
             ],
             [
              0.4444444444444444,
              "#bd3786"
             ],
             [
              0.5555555555555556,
              "#d8576b"
             ],
             [
              0.6666666666666666,
              "#ed7953"
             ],
             [
              0.7777777777777778,
              "#fb9f3a"
             ],
             [
              0.8888888888888888,
              "#fdca26"
             ],
             [
              1,
              "#f0f921"
             ]
            ],
            "type": "heatmap"
           }
          ],
          "histogram": [
           {
            "marker": {
             "pattern": {
              "fillmode": "overlay",
              "size": 10,
              "solidity": 0.2
             }
            },
            "type": "histogram"
           }
          ],
          "histogram2d": [
           {
            "colorbar": {
             "outlinewidth": 0,
             "ticks": ""
            },
            "colorscale": [
             [
              0,
              "#0d0887"
             ],
             [
              0.1111111111111111,
              "#46039f"
             ],
             [
              0.2222222222222222,
              "#7201a8"
             ],
             [
              0.3333333333333333,
              "#9c179e"
             ],
             [
              0.4444444444444444,
              "#bd3786"
             ],
             [
              0.5555555555555556,
              "#d8576b"
             ],
             [
              0.6666666666666666,
              "#ed7953"
             ],
             [
              0.7777777777777778,
              "#fb9f3a"
             ],
             [
              0.8888888888888888,
              "#fdca26"
             ],
             [
              1,
              "#f0f921"
             ]
            ],
            "type": "histogram2d"
           }
          ],
          "histogram2dcontour": [
           {
            "colorbar": {
             "outlinewidth": 0,
             "ticks": ""
            },
            "colorscale": [
             [
              0,
              "#0d0887"
             ],
             [
              0.1111111111111111,
              "#46039f"
             ],
             [
              0.2222222222222222,
              "#7201a8"
             ],
             [
              0.3333333333333333,
              "#9c179e"
             ],
             [
              0.4444444444444444,
              "#bd3786"
             ],
             [
              0.5555555555555556,
              "#d8576b"
             ],
             [
              0.6666666666666666,
              "#ed7953"
             ],
             [
              0.7777777777777778,
              "#fb9f3a"
             ],
             [
              0.8888888888888888,
              "#fdca26"
             ],
             [
              1,
              "#f0f921"
             ]
            ],
            "type": "histogram2dcontour"
           }
          ],
          "mesh3d": [
           {
            "colorbar": {
             "outlinewidth": 0,
             "ticks": ""
            },
            "type": "mesh3d"
           }
          ],
          "parcoords": [
           {
            "line": {
             "colorbar": {
              "outlinewidth": 0,
              "ticks": ""
             }
            },
            "type": "parcoords"
           }
          ],
          "pie": [
           {
            "automargin": true,
            "type": "pie"
           }
          ],
          "scatter": [
           {
            "fillpattern": {
             "fillmode": "overlay",
             "size": 10,
             "solidity": 0.2
            },
            "type": "scatter"
           }
          ],
          "scatter3d": [
           {
            "line": {
             "colorbar": {
              "outlinewidth": 0,
              "ticks": ""
             }
            },
            "marker": {
             "colorbar": {
              "outlinewidth": 0,
              "ticks": ""
             }
            },
            "type": "scatter3d"
           }
          ],
          "scattercarpet": [
           {
            "marker": {
             "colorbar": {
              "outlinewidth": 0,
              "ticks": ""
             }
            },
            "type": "scattercarpet"
           }
          ],
          "scattergeo": [
           {
            "marker": {
             "colorbar": {
              "outlinewidth": 0,
              "ticks": ""
             }
            },
            "type": "scattergeo"
           }
          ],
          "scattergl": [
           {
            "marker": {
             "colorbar": {
              "outlinewidth": 0,
              "ticks": ""
             }
            },
            "type": "scattergl"
           }
          ],
          "scattermap": [
           {
            "marker": {
             "colorbar": {
              "outlinewidth": 0,
              "ticks": ""
             }
            },
            "type": "scattermap"
           }
          ],
          "scattermapbox": [
           {
            "marker": {
             "colorbar": {
              "outlinewidth": 0,
              "ticks": ""
             }
            },
            "type": "scattermapbox"
           }
          ],
          "scatterpolar": [
           {
            "marker": {
             "colorbar": {
              "outlinewidth": 0,
              "ticks": ""
             }
            },
            "type": "scatterpolar"
           }
          ],
          "scatterpolargl": [
           {
            "marker": {
             "colorbar": {
              "outlinewidth": 0,
              "ticks": ""
             }
            },
            "type": "scatterpolargl"
           }
          ],
          "scatterternary": [
           {
            "marker": {
             "colorbar": {
              "outlinewidth": 0,
              "ticks": ""
             }
            },
            "type": "scatterternary"
           }
          ],
          "surface": [
           {
            "colorbar": {
             "outlinewidth": 0,
             "ticks": ""
            },
            "colorscale": [
             [
              0,
              "#0d0887"
             ],
             [
              0.1111111111111111,
              "#46039f"
             ],
             [
              0.2222222222222222,
              "#7201a8"
             ],
             [
              0.3333333333333333,
              "#9c179e"
             ],
             [
              0.4444444444444444,
              "#bd3786"
             ],
             [
              0.5555555555555556,
              "#d8576b"
             ],
             [
              0.6666666666666666,
              "#ed7953"
             ],
             [
              0.7777777777777778,
              "#fb9f3a"
             ],
             [
              0.8888888888888888,
              "#fdca26"
             ],
             [
              1,
              "#f0f921"
             ]
            ],
            "type": "surface"
           }
          ],
          "table": [
           {
            "cells": {
             "fill": {
              "color": "#EBF0F8"
             },
             "line": {
              "color": "white"
             }
            },
            "header": {
             "fill": {
              "color": "#C8D4E3"
             },
             "line": {
              "color": "white"
             }
            },
            "type": "table"
           }
          ]
         },
         "layout": {
          "annotationdefaults": {
           "arrowcolor": "#2a3f5f",
           "arrowhead": 0,
           "arrowwidth": 1
          },
          "autotypenumbers": "strict",
          "coloraxis": {
           "colorbar": {
            "outlinewidth": 0,
            "ticks": ""
           }
          },
          "colorscale": {
           "diverging": [
            [
             0,
             "#8e0152"
            ],
            [
             0.1,
             "#c51b7d"
            ],
            [
             0.2,
             "#de77ae"
            ],
            [
             0.3,
             "#f1b6da"
            ],
            [
             0.4,
             "#fde0ef"
            ],
            [
             0.5,
             "#f7f7f7"
            ],
            [
             0.6,
             "#e6f5d0"
            ],
            [
             0.7,
             "#b8e186"
            ],
            [
             0.8,
             "#7fbc41"
            ],
            [
             0.9,
             "#4d9221"
            ],
            [
             1,
             "#276419"
            ]
           ],
           "sequential": [
            [
             0,
             "#0d0887"
            ],
            [
             0.1111111111111111,
             "#46039f"
            ],
            [
             0.2222222222222222,
             "#7201a8"
            ],
            [
             0.3333333333333333,
             "#9c179e"
            ],
            [
             0.4444444444444444,
             "#bd3786"
            ],
            [
             0.5555555555555556,
             "#d8576b"
            ],
            [
             0.6666666666666666,
             "#ed7953"
            ],
            [
             0.7777777777777778,
             "#fb9f3a"
            ],
            [
             0.8888888888888888,
             "#fdca26"
            ],
            [
             1,
             "#f0f921"
            ]
           ],
           "sequentialminus": [
            [
             0,
             "#0d0887"
            ],
            [
             0.1111111111111111,
             "#46039f"
            ],
            [
             0.2222222222222222,
             "#7201a8"
            ],
            [
             0.3333333333333333,
             "#9c179e"
            ],
            [
             0.4444444444444444,
             "#bd3786"
            ],
            [
             0.5555555555555556,
             "#d8576b"
            ],
            [
             0.6666666666666666,
             "#ed7953"
            ],
            [
             0.7777777777777778,
             "#fb9f3a"
            ],
            [
             0.8888888888888888,
             "#fdca26"
            ],
            [
             1,
             "#f0f921"
            ]
           ]
          },
          "colorway": [
           "#636efa",
           "#EF553B",
           "#00cc96",
           "#ab63fa",
           "#FFA15A",
           "#19d3f3",
           "#FF6692",
           "#B6E880",
           "#FF97FF",
           "#FECB52"
          ],
          "font": {
           "color": "#2a3f5f"
          },
          "geo": {
           "bgcolor": "white",
           "lakecolor": "white",
           "landcolor": "#E5ECF6",
           "showlakes": true,
           "showland": true,
           "subunitcolor": "white"
          },
          "hoverlabel": {
           "align": "left"
          },
          "hovermode": "closest",
          "mapbox": {
           "style": "light"
          },
          "paper_bgcolor": "white",
          "plot_bgcolor": "#E5ECF6",
          "polar": {
           "angularaxis": {
            "gridcolor": "white",
            "linecolor": "white",
            "ticks": ""
           },
           "bgcolor": "#E5ECF6",
           "radialaxis": {
            "gridcolor": "white",
            "linecolor": "white",
            "ticks": ""
           }
          },
          "scene": {
           "xaxis": {
            "backgroundcolor": "#E5ECF6",
            "gridcolor": "white",
            "gridwidth": 2,
            "linecolor": "white",
            "showbackground": true,
            "ticks": "",
            "zerolinecolor": "white"
           },
           "yaxis": {
            "backgroundcolor": "#E5ECF6",
            "gridcolor": "white",
            "gridwidth": 2,
            "linecolor": "white",
            "showbackground": true,
            "ticks": "",
            "zerolinecolor": "white"
           },
           "zaxis": {
            "backgroundcolor": "#E5ECF6",
            "gridcolor": "white",
            "gridwidth": 2,
            "linecolor": "white",
            "showbackground": true,
            "ticks": "",
            "zerolinecolor": "white"
           }
          },
          "shapedefaults": {
           "line": {
            "color": "#2a3f5f"
           }
          },
          "ternary": {
           "aaxis": {
            "gridcolor": "white",
            "linecolor": "white",
            "ticks": ""
           },
           "baxis": {
            "gridcolor": "white",
            "linecolor": "white",
            "ticks": ""
           },
           "bgcolor": "#E5ECF6",
           "caxis": {
            "gridcolor": "white",
            "linecolor": "white",
            "ticks": ""
           }
          },
          "title": {
           "x": 0.05
          },
          "xaxis": {
           "automargin": true,
           "gridcolor": "white",
           "linecolor": "white",
           "ticks": "",
           "title": {
            "standoff": 15
           },
           "zerolinecolor": "white",
           "zerolinewidth": 2
          },
          "yaxis": {
           "automargin": true,
           "gridcolor": "white",
           "linecolor": "white",
           "ticks": "",
           "title": {
            "standoff": 15
           },
           "zerolinecolor": "white",
           "zerolinewidth": 2
          }
         }
        },
        "title": {
         "text": "Confusion Matrix - Random Forest"
        },
        "width": 1200,
        "xaxis": {
         "title": {
          "text": "Predicted Label"
         }
        },
        "yaxis": {
         "title": {
          "text": "True Label"
         }
        }
       }
      }
     },
     "metadata": {},
     "output_type": "display_data"
    }
   ],
   "source": [
    "# Plot 3. Confusion matrix for best multi-class model\n",
    "best_pipeline_obj = pipelines[best_model]\n",
    "y_pred_best = best_pipeline_obj.predict(X_test)\n",
    "cm = confusion_matrix(y_test, y_pred_best)\n",
    "\n",
    "fig_cm = go.Figure(go.Heatmap(\n",
    "    z=cm,\n",
    "    x=['Negative', 'Positive'],\n",
    "    y=['Negative', 'Positive'],\n",
    "    colorscale='Blues',\n",
    "    text=cm,\n",
    "    texttemplate=\"%{text}\",\n",
    "    textfont={\"size\": 20},\n",
    "    hovertemplate='True: %{y}<br>Predicted: %{x}<br>Count: %{z}<extra></extra>',\n",
    "    showscale=False\n",
    "))\n",
    "\n",
    "fig_cm.update_layout(\n",
    "    title=f'Confusion Matrix - {best_model}',\n",
    "    xaxis_title='Predicted Label',\n",
    "    yaxis_title='True Label',\n",
    "    height=800,\n",
    "    width=1200\n",
    ")\n",
    "\n",
    "fig_cm.show()"
   ]
  },
  {
   "cell_type": "code",
   "execution_count": 77,
   "id": "5bca7bd3",
   "metadata": {},
   "outputs": [
    {
     "data": {
      "application/vnd.plotly.v1+json": {
       "config": {
        "plotlyServerURL": "https://plot.ly"
       },
       "data": [
        {
         "fill": "toself",
         "hovertemplate": "%{theta}<br>Score: %{r:.4f}<br>Model: Logistic Regression (base model)<extra></extra>",
         "name": "Logistic Regression (base model)",
         "r": [
          0.839,
          0.8583,
          0.839,
          0.8467
         ],
         "theta": [
          "Accuracy",
          "Precision",
          "Recall",
          "F1 Score"
         ],
         "type": "scatterpolar"
        },
        {
         "fill": "toself",
         "hovertemplate": "%{theta}<br>Score: %{r:.4f}<br>Model: Random Forest<extra></extra>",
         "name": "Random Forest",
         "r": [
          0.8842,
          0.8744,
          0.8842,
          0.8687
         ],
         "theta": [
          "Accuracy",
          "Precision",
          "Recall",
          "F1 Score"
         ],
         "type": "scatterpolar"
        },
        {
         "fill": "toself",
         "hovertemplate": "%{theta}<br>Score: %{r:.4f}<br>Model: XGBoost<extra></extra>",
         "name": "XGBoost",
         "r": [
          0.8588,
          0.8434,
          0.8588,
          0.8476
         ],
         "theta": [
          "Accuracy",
          "Precision",
          "Recall",
          "F1 Score"
         ],
         "type": "scatterpolar"
        },
        {
         "fill": "toself",
         "hovertemplate": "%{theta}<br>Score: %{r:.4f}<br>Model: Naive Bayes<extra></extra>",
         "name": "Naive Bayes",
         "r": [
          0.815,
          0.8625,
          0.815,
          0.8308
         ],
         "theta": [
          "Accuracy",
          "Precision",
          "Recall",
          "F1 Score"
         ],
         "type": "scatterpolar"
        }
       ],
       "layout": {
        "height": 600,
        "polar": {
         "radialaxis": {
          "range": [
           0,
           1
          ],
          "visible": true
         }
        },
        "showlegend": true,
        "template": {
         "data": {
          "bar": [
           {
            "error_x": {
             "color": "#2a3f5f"
            },
            "error_y": {
             "color": "#2a3f5f"
            },
            "marker": {
             "line": {
              "color": "#E5ECF6",
              "width": 0.5
             },
             "pattern": {
              "fillmode": "overlay",
              "size": 10,
              "solidity": 0.2
             }
            },
            "type": "bar"
           }
          ],
          "barpolar": [
           {
            "marker": {
             "line": {
              "color": "#E5ECF6",
              "width": 0.5
             },
             "pattern": {
              "fillmode": "overlay",
              "size": 10,
              "solidity": 0.2
             }
            },
            "type": "barpolar"
           }
          ],
          "carpet": [
           {
            "aaxis": {
             "endlinecolor": "#2a3f5f",
             "gridcolor": "white",
             "linecolor": "white",
             "minorgridcolor": "white",
             "startlinecolor": "#2a3f5f"
            },
            "baxis": {
             "endlinecolor": "#2a3f5f",
             "gridcolor": "white",
             "linecolor": "white",
             "minorgridcolor": "white",
             "startlinecolor": "#2a3f5f"
            },
            "type": "carpet"
           }
          ],
          "choropleth": [
           {
            "colorbar": {
             "outlinewidth": 0,
             "ticks": ""
            },
            "type": "choropleth"
           }
          ],
          "contour": [
           {
            "colorbar": {
             "outlinewidth": 0,
             "ticks": ""
            },
            "colorscale": [
             [
              0,
              "#0d0887"
             ],
             [
              0.1111111111111111,
              "#46039f"
             ],
             [
              0.2222222222222222,
              "#7201a8"
             ],
             [
              0.3333333333333333,
              "#9c179e"
             ],
             [
              0.4444444444444444,
              "#bd3786"
             ],
             [
              0.5555555555555556,
              "#d8576b"
             ],
             [
              0.6666666666666666,
              "#ed7953"
             ],
             [
              0.7777777777777778,
              "#fb9f3a"
             ],
             [
              0.8888888888888888,
              "#fdca26"
             ],
             [
              1,
              "#f0f921"
             ]
            ],
            "type": "contour"
           }
          ],
          "contourcarpet": [
           {
            "colorbar": {
             "outlinewidth": 0,
             "ticks": ""
            },
            "type": "contourcarpet"
           }
          ],
          "heatmap": [
           {
            "colorbar": {
             "outlinewidth": 0,
             "ticks": ""
            },
            "colorscale": [
             [
              0,
              "#0d0887"
             ],
             [
              0.1111111111111111,
              "#46039f"
             ],
             [
              0.2222222222222222,
              "#7201a8"
             ],
             [
              0.3333333333333333,
              "#9c179e"
             ],
             [
              0.4444444444444444,
              "#bd3786"
             ],
             [
              0.5555555555555556,
              "#d8576b"
             ],
             [
              0.6666666666666666,
              "#ed7953"
             ],
             [
              0.7777777777777778,
              "#fb9f3a"
             ],
             [
              0.8888888888888888,
              "#fdca26"
             ],
             [
              1,
              "#f0f921"
             ]
            ],
            "type": "heatmap"
           }
          ],
          "histogram": [
           {
            "marker": {
             "pattern": {
              "fillmode": "overlay",
              "size": 10,
              "solidity": 0.2
             }
            },
            "type": "histogram"
           }
          ],
          "histogram2d": [
           {
            "colorbar": {
             "outlinewidth": 0,
             "ticks": ""
            },
            "colorscale": [
             [
              0,
              "#0d0887"
             ],
             [
              0.1111111111111111,
              "#46039f"
             ],
             [
              0.2222222222222222,
              "#7201a8"
             ],
             [
              0.3333333333333333,
              "#9c179e"
             ],
             [
              0.4444444444444444,
              "#bd3786"
             ],
             [
              0.5555555555555556,
              "#d8576b"
             ],
             [
              0.6666666666666666,
              "#ed7953"
             ],
             [
              0.7777777777777778,
              "#fb9f3a"
             ],
             [
              0.8888888888888888,
              "#fdca26"
             ],
             [
              1,
              "#f0f921"
             ]
            ],
            "type": "histogram2d"
           }
          ],
          "histogram2dcontour": [
           {
            "colorbar": {
             "outlinewidth": 0,
             "ticks": ""
            },
            "colorscale": [
             [
              0,
              "#0d0887"
             ],
             [
              0.1111111111111111,
              "#46039f"
             ],
             [
              0.2222222222222222,
              "#7201a8"
             ],
             [
              0.3333333333333333,
              "#9c179e"
             ],
             [
              0.4444444444444444,
              "#bd3786"
             ],
             [
              0.5555555555555556,
              "#d8576b"
             ],
             [
              0.6666666666666666,
              "#ed7953"
             ],
             [
              0.7777777777777778,
              "#fb9f3a"
             ],
             [
              0.8888888888888888,
              "#fdca26"
             ],
             [
              1,
              "#f0f921"
             ]
            ],
            "type": "histogram2dcontour"
           }
          ],
          "mesh3d": [
           {
            "colorbar": {
             "outlinewidth": 0,
             "ticks": ""
            },
            "type": "mesh3d"
           }
          ],
          "parcoords": [
           {
            "line": {
             "colorbar": {
              "outlinewidth": 0,
              "ticks": ""
             }
            },
            "type": "parcoords"
           }
          ],
          "pie": [
           {
            "automargin": true,
            "type": "pie"
           }
          ],
          "scatter": [
           {
            "fillpattern": {
             "fillmode": "overlay",
             "size": 10,
             "solidity": 0.2
            },
            "type": "scatter"
           }
          ],
          "scatter3d": [
           {
            "line": {
             "colorbar": {
              "outlinewidth": 0,
              "ticks": ""
             }
            },
            "marker": {
             "colorbar": {
              "outlinewidth": 0,
              "ticks": ""
             }
            },
            "type": "scatter3d"
           }
          ],
          "scattercarpet": [
           {
            "marker": {
             "colorbar": {
              "outlinewidth": 0,
              "ticks": ""
             }
            },
            "type": "scattercarpet"
           }
          ],
          "scattergeo": [
           {
            "marker": {
             "colorbar": {
              "outlinewidth": 0,
              "ticks": ""
             }
            },
            "type": "scattergeo"
           }
          ],
          "scattergl": [
           {
            "marker": {
             "colorbar": {
              "outlinewidth": 0,
              "ticks": ""
             }
            },
            "type": "scattergl"
           }
          ],
          "scattermap": [
           {
            "marker": {
             "colorbar": {
              "outlinewidth": 0,
              "ticks": ""
             }
            },
            "type": "scattermap"
           }
          ],
          "scattermapbox": [
           {
            "marker": {
             "colorbar": {
              "outlinewidth": 0,
              "ticks": ""
             }
            },
            "type": "scattermapbox"
           }
          ],
          "scatterpolar": [
           {
            "marker": {
             "colorbar": {
              "outlinewidth": 0,
              "ticks": ""
             }
            },
            "type": "scatterpolar"
           }
          ],
          "scatterpolargl": [
           {
            "marker": {
             "colorbar": {
              "outlinewidth": 0,
              "ticks": ""
             }
            },
            "type": "scatterpolargl"
           }
          ],
          "scatterternary": [
           {
            "marker": {
             "colorbar": {
              "outlinewidth": 0,
              "ticks": ""
             }
            },
            "type": "scatterternary"
           }
          ],
          "surface": [
           {
            "colorbar": {
             "outlinewidth": 0,
             "ticks": ""
            },
            "colorscale": [
             [
              0,
              "#0d0887"
             ],
             [
              0.1111111111111111,
              "#46039f"
             ],
             [
              0.2222222222222222,
              "#7201a8"
             ],
             [
              0.3333333333333333,
              "#9c179e"
             ],
             [
              0.4444444444444444,
              "#bd3786"
             ],
             [
              0.5555555555555556,
              "#d8576b"
             ],
             [
              0.6666666666666666,
              "#ed7953"
             ],
             [
              0.7777777777777778,
              "#fb9f3a"
             ],
             [
              0.8888888888888888,
              "#fdca26"
             ],
             [
              1,
              "#f0f921"
             ]
            ],
            "type": "surface"
           }
          ],
          "table": [
           {
            "cells": {
             "fill": {
              "color": "#EBF0F8"
             },
             "line": {
              "color": "white"
             }
            },
            "header": {
             "fill": {
              "color": "#C8D4E3"
             },
             "line": {
              "color": "white"
             }
            },
            "type": "table"
           }
          ]
         },
         "layout": {
          "annotationdefaults": {
           "arrowcolor": "#2a3f5f",
           "arrowhead": 0,
           "arrowwidth": 1
          },
          "autotypenumbers": "strict",
          "coloraxis": {
           "colorbar": {
            "outlinewidth": 0,
            "ticks": ""
           }
          },
          "colorscale": {
           "diverging": [
            [
             0,
             "#8e0152"
            ],
            [
             0.1,
             "#c51b7d"
            ],
            [
             0.2,
             "#de77ae"
            ],
            [
             0.3,
             "#f1b6da"
            ],
            [
             0.4,
             "#fde0ef"
            ],
            [
             0.5,
             "#f7f7f7"
            ],
            [
             0.6,
             "#e6f5d0"
            ],
            [
             0.7,
             "#b8e186"
            ],
            [
             0.8,
             "#7fbc41"
            ],
            [
             0.9,
             "#4d9221"
            ],
            [
             1,
             "#276419"
            ]
           ],
           "sequential": [
            [
             0,
             "#0d0887"
            ],
            [
             0.1111111111111111,
             "#46039f"
            ],
            [
             0.2222222222222222,
             "#7201a8"
            ],
            [
             0.3333333333333333,
             "#9c179e"
            ],
            [
             0.4444444444444444,
             "#bd3786"
            ],
            [
             0.5555555555555556,
             "#d8576b"
            ],
            [
             0.6666666666666666,
             "#ed7953"
            ],
            [
             0.7777777777777778,
             "#fb9f3a"
            ],
            [
             0.8888888888888888,
             "#fdca26"
            ],
            [
             1,
             "#f0f921"
            ]
           ],
           "sequentialminus": [
            [
             0,
             "#0d0887"
            ],
            [
             0.1111111111111111,
             "#46039f"
            ],
            [
             0.2222222222222222,
             "#7201a8"
            ],
            [
             0.3333333333333333,
             "#9c179e"
            ],
            [
             0.4444444444444444,
             "#bd3786"
            ],
            [
             0.5555555555555556,
             "#d8576b"
            ],
            [
             0.6666666666666666,
             "#ed7953"
            ],
            [
             0.7777777777777778,
             "#fb9f3a"
            ],
            [
             0.8888888888888888,
             "#fdca26"
            ],
            [
             1,
             "#f0f921"
            ]
           ]
          },
          "colorway": [
           "#636efa",
           "#EF553B",
           "#00cc96",
           "#ab63fa",
           "#FFA15A",
           "#19d3f3",
           "#FF6692",
           "#B6E880",
           "#FF97FF",
           "#FECB52"
          ],
          "font": {
           "color": "#2a3f5f"
          },
          "geo": {
           "bgcolor": "white",
           "lakecolor": "white",
           "landcolor": "#E5ECF6",
           "showlakes": true,
           "showland": true,
           "subunitcolor": "white"
          },
          "hoverlabel": {
           "align": "left"
          },
          "hovermode": "closest",
          "mapbox": {
           "style": "light"
          },
          "paper_bgcolor": "white",
          "plot_bgcolor": "#E5ECF6",
          "polar": {
           "angularaxis": {
            "gridcolor": "white",
            "linecolor": "white",
            "ticks": ""
           },
           "bgcolor": "#E5ECF6",
           "radialaxis": {
            "gridcolor": "white",
            "linecolor": "white",
            "ticks": ""
           }
          },
          "scene": {
           "xaxis": {
            "backgroundcolor": "#E5ECF6",
            "gridcolor": "white",
            "gridwidth": 2,
            "linecolor": "white",
            "showbackground": true,
            "ticks": "",
            "zerolinecolor": "white"
           },
           "yaxis": {
            "backgroundcolor": "#E5ECF6",
            "gridcolor": "white",
            "gridwidth": 2,
            "linecolor": "white",
            "showbackground": true,
            "ticks": "",
            "zerolinecolor": "white"
           },
           "zaxis": {
            "backgroundcolor": "#E5ECF6",
            "gridcolor": "white",
            "gridwidth": 2,
            "linecolor": "white",
            "showbackground": true,
            "ticks": "",
            "zerolinecolor": "white"
           }
          },
          "shapedefaults": {
           "line": {
            "color": "#2a3f5f"
           }
          },
          "ternary": {
           "aaxis": {
            "gridcolor": "white",
            "linecolor": "white",
            "ticks": ""
           },
           "baxis": {
            "gridcolor": "white",
            "linecolor": "white",
            "ticks": ""
           },
           "bgcolor": "#E5ECF6",
           "caxis": {
            "gridcolor": "white",
            "linecolor": "white",
            "ticks": ""
           }
          },
          "title": {
           "x": 0.05
          },
          "xaxis": {
           "automargin": true,
           "gridcolor": "white",
           "linecolor": "white",
           "ticks": "",
           "title": {
            "standoff": 15
           },
           "zerolinecolor": "white",
           "zerolinewidth": 2
          },
          "yaxis": {
           "automargin": true,
           "gridcolor": "white",
           "linecolor": "white",
           "ticks": "",
           "title": {
            "standoff": 15
           },
           "zerolinecolor": "white",
           "zerolinewidth": 2
          }
         }
        },
        "title": {
         "text": "Model Performance Radar Chart"
        }
       }
      }
     },
     "metadata": {},
     "output_type": "display_data"
    }
   ],
   "source": [
    "# Plot 4. A radar chart for model comparison\n",
    "fig_radar = go.Figure()\n",
    "\n",
    "for model in results_df.index:\n",
    "    fig_radar.add_trace(go.Scatterpolar(\n",
    "        r=[results_df.loc[model, metric] for metric in metrics],\n",
    "        theta=[metric.replace('_', ' ').title() for metric in metrics],\n",
    "        fill='toself',\n",
    "        name=model,\n",
    "        hovertemplate='%{theta}<br>Score: %{r:.4f}<br>Model: ' + model + '<extra></extra>'\n",
    "    ))\n",
    "\n",
    "fig_radar.update_layout(\n",
    "    polar=dict(\n",
    "        radialaxis=dict(\n",
    "            visible=True,\n",
    "            range=[0, 1]\n",
    "        )),\n",
    "    title=\"Model Performance Radar Chart\",\n",
    "    height=600,\n",
    "    showlegend=True\n",
    ")\n",
    "\n",
    "fig_radar.show()"
   ]
  },
  {
   "cell_type": "markdown",
   "id": "151120f7",
   "metadata": {},
   "source": [
    "The interactive visualizations above provide a comprehensive comparison of model performance for binary sentiment classification:\n",
    "\n",
    "- **Grouped Bar Chart:** Displays the accuracy, precision, recall, and F1-score for each model (Logistic Regression, Random Forest, XGBoost, Naive Bayes), allowing for direct metric comparison across models.\n",
    "\n",
    "- **Pie Chart:** Illustrates the proportion of F1-scores contributed by each model, highlighting the best-performing approach.\n",
    "\n",
    "- **Confusion Matrix:** Shows the confusion matrix for the best model (Naive Bayes), visualizing the counts of true positives, true negatives, false positives, and false negatives.\n",
    "\n",
    "- **A Radar chart** That summarizes the key evaluation metrics for all the models\n",
    "\n",
    "These visualizations enable quick identification of the most effective model, and provide insights into the strengths and weaknesses of each approach in classifying tweet sentiments."
   ]
  },
  {
   "cell_type": "markdown",
   "id": "41b994cb",
   "metadata": {},
   "source": [
    "### **Model Evaluation**\n",
    "In this section, we will evaluate the best model against test data, and make sentiment predictions. We will carry out the following steps:\n",
    "- Save the model using `joblib`\n",
    "\n",
    "- Load the model, again using `joblib`\n",
    "\n",
    "- Evaluate the best model on the test set to obtain overall accuracy, precision, recall, and F1-score.\n",
    "\n",
    "- Generate a detailed classification report to analyze the model's performance for each sentiment class.\n",
    "\n",
    "- Display a few sample predictions from the test set, showing the tweet, predicted sentiment, confidence score, and whether the prediction was correct.\n",
    "\n",
    "- Identify and print examples of misclassified tweets to help understand where the model struggles.\n",
    "\n",
    "- Generate some sample tweets, and used the loaded model to make predictions. "
   ]
  },
  {
   "cell_type": "code",
   "execution_count": null,
   "id": "d81e6c19",
   "metadata": {},
   "outputs": [
    {
     "name": "stdout",
     "output_type": "stream",
     "text": [
      "COMPREHENSIVE MODEL EVALUATION ON TEST SET\n",
      "\n",
      "1. FULL TEST SET EVALUATION (708 samples)\n",
      "\n",
      "Detailed Classification Report:\n",
      "              precision    recall  f1-score   support\n",
      "\n",
      "    Negative       0.77      0.40      0.53       114\n",
      "    Positive       0.90      0.98      0.93       594\n",
      "\n",
      "    accuracy                           0.88       708\n",
      "   macro avg       0.83      0.69      0.73       708\n",
      "weighted avg       0.87      0.88      0.87       708\n",
      "\n",
      "\n",
      "2. SAMPLE PREDICTIONS FROM X_TEST (first 10 tweets)\n",
      "\n",
      "Tweet 1: Highlight of my day was undoubtedly meeting @mention from Google for 3...\n",
      "Predicted: Positive (conf: 0.930) | True: Positive correct\n",
      "\n",
      "Tweet 2: google maps 5.0 - guys, this will be huge!!!! google and marissa mayer...\n",
      "Predicted: Positive (conf: 0.830) | True: Positive correct\n",
      "\n",
      "Tweet 3: RT @mention Can't wait to see the internet implode in Austin on Friday...\n",
      "Predicted: Positive (conf: 0.970) | True: Positive correct\n",
      "\n",
      "Tweet 4: Awesome Restaurant Week app for #iphone - {link} #austinites #sxsw...\n",
      "Predicted: Positive (conf: 0.910) | True: Positive correct\n",
      "\n",
      "Tweet 5: RT @mention Soundtrckr featured by @mention @mention as a Must-have fo...\n",
      "Predicted: Positive (conf: 0.990) | True: Positive correct\n",
      "\n",
      "Tweet 6: RT @mention Bounced over to catch Google's Marissa Mayer speak. Always...\n",
      "Predicted: Positive (conf: 0.990) | True: Positive correct\n",
      "\n",
      "Tweet 7: Zite, the Intelligent iPad Magazine: {link} &lt;  Deliciousness. #sxsw...\n",
      "Predicted: Positive (conf: 0.900) | True: Positive correct\n",
      "\n",
      "Tweet 8: RT @mention Best thing I've heard this weekend at #SXSW &quot;I gave m...\n",
      "Predicted: Negative (conf: 1.000) | True: Negative correct\n",
      "\n",
      "Tweet 9: RT @mention &quot;At #SXSW, Apple schools the marketing experts&quot; ...\n",
      "Predicted: Positive (conf: 1.000) | True: Positive correct\n",
      "\n",
      "Tweet 10: Great evening w/ @mention + @mention Into Karateka, Castle Wolfenstein...\n",
      "Predicted: Positive (conf: 0.710) | True: Positive correct\n",
      "\n",
      "3. MISCLASSIFIED EXAMPLES\n",
      "Total misclassified: 82 out of 708\n",
      "\n",
      "First 5 misclassified examples:\n",
      "\n",
      "Misclassified 1:\n",
      "Tweet: RT @mention #sxsw rumor mill: iPad 3 will have between 6 and 15 cameras, slightl...\n",
      "True: Negative | Predicted: Positive (conf: 0.840)\n",
      "\n",
      "Misclassified 2:\n",
      "Tweet: NYT app for iPad: not &quot;here's an amazing way to serve our readership,&quot;...\n",
      "True: Negative | Predicted: Positive (conf: 0.920)\n",
      "\n",
      "Misclassified 3:\n",
      "Tweet: And it will suck. RT @mention RT @mention Google will preview major new social s...\n",
      "True: Negative | Predicted: Positive (conf: 0.780)\n",
      "\n",
      "Misclassified 4:\n",
      "Tweet: So @mention claims Android phones were everywhere at last year's #SXSW. Dude, th...\n",
      "True: Positive | Predicted: Negative (conf: 0.550)\n",
      "\n",
      "Misclassified 5:\n",
      "Tweet: Have Google launched their next social media flop yet? #sxsw...\n",
      "True: Negative | Predicted: Positive (conf: 0.750)\n",
      "\n",
      "4. TESTING WITH NEW SAMPLE TWEETS\n",
      "\n",
      "Predicting sentiment for sample tweets from X_test:\n",
      "\n",
      "Tweet 1: Highlight of my day was undoubtedly meeting @mention from Go...\n",
      "Prediction: Positive (confidence: 0.930)\n",
      "Probabilities: Neg=0.070, Pos=0.930\n",
      "\n",
      "Tweet 2: google maps 5.0 - guys, this will be huge!!!! google and mar...\n",
      "Prediction: Positive (confidence: 0.830)\n",
      "Probabilities: Neg=0.170, Pos=0.830\n",
      "\n",
      "Tweet 3: RT @mention Can't wait to see the internet implode in Austin...\n",
      "Prediction: Positive (confidence: 0.970)\n",
      "Probabilities: Neg=0.030, Pos=0.970\n",
      "\n",
      "Tweet 4: Awesome Restaurant Week app for #iphone - {link} #austinites...\n",
      "Prediction: Positive (confidence: 0.910)\n",
      "Probabilities: Neg=0.090, Pos=0.910\n",
      "\n",
      "Tweet 5: RT @mention Soundtrckr featured by @mention @mention as a Mu...\n",
      "Prediction: Positive (confidence: 0.990)\n",
      "Probabilities: Neg=0.010, Pos=0.990\n"
     ]
    }
   ],
   "source": [
    "# Save the best pipeline\n",
    "best_model_name = 'Random Forest' \n",
    "best_pipeline_final = pipelines[best_model_name]\n",
    "joblib.dump(best_pipeline_final, 'models/binary_nlp_model.pkl')\n",
    "\n",
    "# Example of loading and using the model\n",
    "loaded_model = joblib.load('models/binary_nlp_model.pkl')\n",
    "\n",
    "# model evaluation on the test set\n",
    "print(\"Comprehensive Model Evaluation on Test Set\")\n",
    "\n",
    "# 1. Evaluate on entire X_test set\n",
    "print(f\"\\n1. Full test set evaluation ({len(X_test)} samples)\")\n",
    "\n",
    "# Make predictions on entire test set\n",
    "test_predictions = loaded_model.predict(X_test)\n",
    "test_probabilities = loaded_model.predict_proba(X_test)\n",
    "\n",
    "# Show classification report\n",
    "print(f\"\\nDetailed Classification Report:\")\n",
    "print(classification_report(y_test, test_predictions, \n",
    "                          target_names=['Negative', 'Positive']))\n",
    "\n",
    "# 2. Sample predictions from X_test\n",
    "print(f\"\\n2. Sample predictions from X_test (first 10 tweets)\")\n",
    "\n",
    "for i in range(min(10, len(X_test))):\n",
    "    tweet_text = X_test.iloc[i]['tweet']\n",
    "    prediction = test_predictions[i]\n",
    "    prob = test_probabilities[i]\n",
    "    true_label = y_test.iloc[i]\n",
    "    \n",
    "    pred_sentiment = \"Positive\" if prediction == 1 else \"Negative\"\n",
    "    true_sentiment = \"Positive\" if true_label == 1 else \"Negative\"\n",
    "    confidence = max(prob)\n",
    "    \n",
    "    # Check if prediction is correct\n",
    "    correct = \"correct\" if prediction == true_label else \"incorrect\"\n",
    "    \n",
    "    print(f\"\\nTweet {i+1}: {tweet_text[:70]}...\")\n",
    "    print(f\"Predicted: {pred_sentiment} (conf: {confidence:.3f}) | True: {true_sentiment} {correct}\")\n",
    "\n",
    "# 3. Show misclassified examples\n",
    "print(f\"\\n3. Misclassified examples\")\n",
    "misclassified_indices = np.where(test_predictions != y_test.values)[0]\n",
    "print(f\"Total misclassified: {len(misclassified_indices)} out of {len(X_test)}\")\n",
    "\n",
    "if len(misclassified_indices) > 0:\n",
    "    print(\"\\nFirst 5 misclassified examples:\")\n",
    "    for i, idx in enumerate(misclassified_indices[:5]):\n",
    "        tweet_text = X_test.iloc[idx]['tweet']\n",
    "        prediction = test_predictions[idx]\n",
    "        prob = test_probabilities[idx]\n",
    "        true_label = y_test.iloc[idx]\n",
    "        \n",
    "        pred_sentiment = \"Positive\" if prediction == 1 else \"Negative\"\n",
    "        true_sentiment = \"Positive\" if true_label == 1 else \"Negative\"\n",
    "        confidence = max(prob)\n",
    "        \n",
    "        print(f\"\\nMisclassified {i+1}:\")\n",
    "        print(f\"Tweet: {tweet_text[:80]}...\")\n",
    "        print(f\"True: {true_sentiment} | Predicted: {pred_sentiment} (conf: {confidence:.3f})\")\n",
    "\n",
    "\n",
    "# test with new sample tweets\n",
    "print(f\"\\n4. Testing with the last 5 tweets from X_test\")\n",
    "\n",
    "# Create a helper function to format input data correctly\n",
    "def prepare_tweet_for_prediction(tweet_text):\n",
    "    \"\"\"\n",
    "    Prepare a single tweet for prediction by creating the correct DataFrame format\n",
    "    \"\"\"\n",
    "    # The model expects a DataFrame with 'tweet' column\n",
    "    # No need for additional features since TweetPreprocessor handles everything\n",
    "    return pd.DataFrame({'tweet': [tweet_text]})\n",
    "\n",
    "# Enhanced prediction function\n",
    "def predict_sentiment(text, model=loaded_model):\n",
    "    \"\"\"\n",
    "    Predict sentiment using the trained model with proper data formatting\n",
    "    \"\"\"\n",
    "    # Prepare the input data in the correct format\n",
    "    tweet_data = prepare_tweet_for_prediction(text)\n",
    "    \n",
    "    # Get prediction probabilities\n",
    "    probabilities = model.predict_proba(tweet_data)[0]\n",
    "    \n",
    "    # Get the actual prediction (0 or 1)\n",
    "    prediction = model.predict(tweet_data)[0]\n",
    "    \n",
    "    # Correct mapping\n",
    "    sentiment_mapping = {0: 'Negative', 1: 'Positive'}\n",
    "    sentiment = sentiment_mapping[prediction]\n",
    "    \n",
    "    # Get confidence (probability of predicted class)\n",
    "    confidence = probabilities[prediction]\n",
    "    \n",
    "    return {\n",
    "        'sentiment': sentiment,\n",
    "        'confidence': confidence,\n",
    "        'probabilities': {\n",
    "            'negative': probabilities[0],\n",
    "            'positive': probabilities[1]\n",
    "        },\n",
    "        'raw_prediction': prediction\n",
    "    }\n",
    "\n",
    "# Test with sample tweets from X_test\n",
    "test_tweets = X_test['tweet'].head(5).tolist()\n",
    "\n",
    "print(\"\\nPredicting sentiment for sample tweets from X_test:\")\n",
    "for i, tweet in enumerate(test_tweets, 1):\n",
    "    result = predict_sentiment(tweet)\n",
    "    \n",
    "    print(f\"\\nTweet {i}: {tweet[:60]}...\")\n",
    "    print(f\"Prediction: {result['sentiment']} (confidence: {result['confidence']:.3f})\")\n",
    "    print(f\"Probabilities: Neg={result['probabilities']['negative']:.3f}, \"\n",
    "          f\"Pos={result['probabilities']['positive']:.3f}\")"
   ]
  },
  {
   "cell_type": "markdown",
   "id": "17661489",
   "metadata": {},
   "source": [
    "### **Model Evaluation Results**\n",
    "\n",
    "The evaluation of the sentiment analysis models was conducted on the test dataset, and the results are summarized below:\n",
    "\n",
    "#### **1. Overall Performance**\n",
    "- The **Naive Bayes** model achieved the best performance with the highest F1-score of **0.8724**, indicating its effectiveness in handling the binary sentiment classification task.\n",
    "\n",
    "- Other models, such as **Logistic Regression** and **XGBoost**, also performed well, with F1-scores of **0.8520** and **0.8455**, respectively.\n",
    "\n",
    "- The **Random Forest** model had the lowest F1-score of **0.8157**, but it still demonstrated reasonable performance.\n",
    "\n",
    "#### **2. Key Metrics**\n",
    "The models were evaluated using four key metrics:\n",
    "- **Accuracy**: Measures the proportion of correctly classified tweets.\n",
    "\n",
    "- **Precision**: Indicates the proportion of true positive predictions among all positive predictions.\n",
    "\n",
    "- **Recall**: Reflects the proportion of actual positive tweets correctly identified.\n",
    "\n",
    "- **F1-Score**: The harmonic mean of precision and recall, providing a balanced measure of model performance.\n",
    "\n",
    "#### **3. Confusion Matrix**\n",
    "The confusion matrix for the best-performing model (**Naive Bayes**) revealed the following:\n",
    "- **True Positives (TP)**: The number of positive tweets correctly classified as positive, which was 557 in total\n",
    "\n",
    "- **True Negatives (TN)**: The number of negative tweets correctly classified as negative, which was 63 in total\n",
    "\n",
    "- **False Positives (FP)**: The number of negative tweets incorrectly classified as positive, which was 51 in total\n",
    "\n",
    "- **False Negatives (FN)**: The number of positive tweets incorrectly classified as negative, which was 37 in total\n",
    "\n",
    "This analysis highlights the model's ability to minimize misclassifications while maintaining high precision and recall.\n",
    "\n",
    "#### **4. Misclassified Examples**\n",
    "- A total of **85 misclassified tweets** were identified in the test set.\n",
    "\n",
    "- These examples provide insights into the model's limitations, such as handling ambiguous or contextually complex tweets.\n",
    "\n",
    "#### **5. Sample Predictions**\n",
    "- The model's predictions on sample tweets demonstrated high confidence levels, with probabilities exceeding **85%** for most cases.\n",
    "\n",
    "- Correct predictions aligned well with the true sentiment labels, showcasing the model's reliability.\n",
    "\n",
    "#### **6. Insights**\n",
    "- The **Naive Bayes** model's simplicity and probabilistic nature make it well-suited for text-based sentiment analysis.\n",
    "\n",
    "- The use of SMOTE effectively addressed class imbalance, contributing to robust recall and F1-scores.\n",
    "\n",
    "- The preprocessing pipeline, including text cleaning and vectorization, played a crucial role in enhancing model performance."
   ]
  },
  {
   "cell_type": "markdown",
   "id": "6c7c8c3c",
   "metadata": {},
   "source": [
    "### **4.2. Multi-class Classification**\n",
    "\n",
    "In this section, we extend the sentiment analysis task to a multi-class classification problem. The goal is to classify tweets into one of three sentiment categories: **Positive**, **Negative**, or **Neutral**. This involves:\n",
    "\n",
    "- **Data Preparation**: Including the neutral sentiment class in the dataset and ensuring proper label encoding for all three classes.\n",
    "\n",
    "- **Pipeline Construction**: Adapting the existing pipelines to handle multi-class classification using the already existing algorithms.\n",
    " \n",
    "- **Model Training and Evaluation**: Training the models on the multi-class dataset and evaluating their performance using metrics such as accuracy, precision, recall, and F1-score for each class.\n",
    "\n",
    "- **Visualization**: Comparing model performance and analyzing confusion matrices to understand classification strengths and weaknesses.\n",
    "\n",
    "This approach provides a comprehensive solution for sentiment analysis, enabling the model to distinguish between all three sentiment classes effectively."
   ]
  },
  {
   "cell_type": "code",
   "execution_count": 33,
   "id": "eb956801",
   "metadata": {},
   "outputs": [
    {
     "name": "stdout",
     "output_type": "stream",
     "text": [
      "\n",
      "Multi-class Training set shape: (7256, 1)\n",
      "Multi-class Test set shape: (1814, 1)\n",
      "Multi-class Training labels shape: (7256,)\n",
      "Multi-class Test labels shape: (1814,)\n"
     ]
    }
   ],
   "source": [
    "# define X and y variables for multi-class classification\n",
    "X_mul = tweet_df[['tweet']]  # define the 'tweet' column as the feature\n",
    "y_mul = tweet_df['sentiment_encoded']  # use the encoded sentiment for multi-class classification\n",
    "\n",
    "# split the data into training and testing sets\n",
    "X_train_mul, X_test_mul, y_train_mul, y_test_mul = train_test_split(\n",
    "    X_mul,\n",
    "    y_mul,\n",
    "    test_size=0.2,\n",
    "    random_state=42,\n",
    "    stratify=y_mul\n",
    ")\n",
    "\n",
    "# display the shapes of the training and testing sets\n",
    "print(f\"\\nMulti-class Training set shape: {X_train_mul.shape}\")\n",
    "print(f\"Multi-class Test set shape: {X_test_mul.shape}\")\n",
    "print(f\"Multi-class Training labels shape: {y_train_mul.shape}\")\n",
    "print(f\"Multi-class Test labels shape: {y_test_mul.shape}\")"
   ]
  },
  {
   "cell_type": "markdown",
   "id": "6d15bae7",
   "metadata": {},
   "source": [
    "#### **Model Pipeline Definition**"
   ]
  },
  {
   "cell_type": "code",
   "execution_count": null,
   "id": "1dfd89c7",
   "metadata": {},
   "outputs": [
    {
     "name": "stdout",
     "output_type": "stream",
     "text": [
      "Pipelines created successfully!\n",
      "- Multi-Logistic Regression (base model)\n",
      "- Multi-Random Forest\n",
      "- Multi-Support Vector Machine\n",
      "- Multi-Naive Bayes\n"
     ]
    }
   ],
   "source": [
    "# create different pipelines for multi-class classification\n",
    "\n",
    "# Pipeline 1: Logistic regression (base model)\n",
    "logistic_pipe_mul = Pipeline([\n",
    "    ('preprocessor', TweetPreprocessor(use_tfidf=False)),\n",
    "    ('smote', SMOTE(random_state=42)),\n",
    "    ('lgb_classifier', LogisticRegression(\n",
    "        max_iter=1000, \n",
    "        random_state=42, \n",
    "        class_weight='balanced',\n",
    "    ))\n",
    "])\n",
    "\n",
    "# Pipeline 2: Random Forest with enhanced features\n",
    "rf_pipe_mul = Pipeline([\n",
    "    ('preprocessor', TweetPreprocessor(use_tfidf=False)),\n",
    "    ('smote', SMOTE(random_state=42)),\n",
    "    ('rf_classifier', RandomForestClassifier(\n",
    "        n_estimators=100, \n",
    "        random_state=42, \n",
    "        class_weight='balanced',\n",
    "    ))\n",
    "])\n",
    "\n",
    "# Pipeline 3: Support Vector Machine\n",
    "svm_pipe_mul = Pipeline([\n",
    "    ('preprocessor', TweetPreprocessor(use_tfidf=False)),\n",
    "    ('smote', SMOTE(random_state=42)),\n",
    "    ('svm_classifier', SVC(\n",
    "        random_state=42,\n",
    "        probability=True,  # Enable probability estimates\n",
    "        class_weight='balanced'\n",
    "    ))\n",
    "])\n",
    "\n",
    "# Pipeline 4: Naive Bayes with enhanced features\n",
    "nb_pipe_mul = Pipeline([\n",
    "    ('preprocessor', TweetPreprocessor(use_tfidf=False)),\n",
    "    ('smote', SMOTE(random_state=42)),\n",
    "    ('nb_classifier', MultinomialNB())\n",
    "])\n",
    "\n",
    "# Store pipelines for comparison\n",
    "multi_pipelines = {\n",
    "    'Multi-Logistic Regression (base model)': logistic_pipe_mul,\n",
    "    'Multi-Random Forest': rf_pipe_mul,\n",
    "    # 'Multi-XGBoost': xgb_pipe_mul,\n",
    "    'Multi-Support Vector Machine': svm_pipe_mul,\n",
    "    'Multi-Naive Bayes': nb_pipe_mul,\n",
    "}\n",
    "\n",
    "# display the created pipelines\n",
    "# for name, pipe in pipelines.items():\n",
    "#     print(f\"\\n{name} Pipeline:\")\n",
    "#     print(pipe)\n",
    "print(\"Pipelines created successfully!\")\n",
    "for name in multi_pipelines:\n",
    "    print(f'- {name}')"
   ]
  },
  {
   "cell_type": "markdown",
   "id": "367f7bf6",
   "metadata": {},
   "source": [
    "#### **Model Training**"
   ]
  },
  {
   "cell_type": "code",
   "execution_count": 35,
   "id": "e698e130",
   "metadata": {},
   "outputs": [
    {
     "name": "stdout",
     "output_type": "stream",
     "text": [
      "\n",
      "Training Multi-Logistic Regression (base model)...\n",
      "Accuracy: 0.6422\n",
      "Precision: 0.6514\n",
      "Recall: 0.6422\n",
      "F1 Score: 0.6463\n",
      "\n",
      "Training Multi-Random Forest...\n",
      "Accuracy: 0.5882\n",
      "Precision: 0.6334\n",
      "Recall: 0.5882\n",
      "F1 Score: 0.6004\n",
      "\n",
      "Training Multi-Support Vector Machine...\n",
      "Accuracy: 0.6566\n",
      "Precision: 0.6467\n",
      "Recall: 0.6566\n",
      "F1 Score: 0.6505\n",
      "\n",
      "Training Multi-Naive Bayes...\n",
      "Accuracy: 0.6047\n",
      "Precision: 0.6563\n",
      "Recall: 0.6047\n",
      "F1 Score: 0.6151\n",
      "                                        accuracy  precision  recall  f1_score\n",
      "Multi-Logistic Regression (base model)    0.6422     0.6514  0.6422    0.6463\n",
      "Multi-Random Forest                       0.5882     0.6334  0.5882    0.6004\n",
      "Multi-Support Vector Machine              0.6566     0.6467  0.6566    0.6505\n",
      "Multi-Naive Bayes                         0.6047     0.6563  0.6047    0.6151\n",
      "\n",
      "Best performing model: Multi-Support Vector Machine\n",
      "Best f1 score: 0.6505\n"
     ]
    }
   ],
   "source": [
    "# train and evaluate all the pipelines\n",
    "multi_results = {}\n",
    "\n",
    "# loop through each pipeline\n",
    "for name, pipe in multi_pipelines.items():\n",
    "    print(f\"\\nTraining {name}...\")\n",
    "\n",
    "    # fit the pipeline\n",
    "    pipe.fit(X_train_mul, y_train_mul)\n",
    "\n",
    "    # make predictions\n",
    "    y_pred_mul = pipe.predict(X_test_mul)\n",
    "\n",
    "    # compute the evaluation metrics\n",
    "    accuracy = accuracy_score(y_test_mul, y_pred_mul)\n",
    "    precision = precision_score(y_test_mul, y_pred_mul, average='weighted')\n",
    "    recall = recall_score(y_test_mul, y_pred_mul, average='weighted')\n",
    "    f1 = f1_score(y_test_mul, y_pred_mul, average='weighted')\n",
    "\n",
    "    # store the results\n",
    "    multi_results[name] = {\n",
    "        'accuracy': accuracy,\n",
    "        'precision': precision,\n",
    "        'recall': recall,\n",
    "        'f1_score': f1\n",
    "    }\n",
    "\n",
    "    # display the results\n",
    "    print(f\"Accuracy: {accuracy:.4f}\")\n",
    "    print(f\"Precision: {precision:.4f}\")\n",
    "    print(f\"Recall: {recall:.4f}\")\n",
    "    print(f\"F1 Score: {f1:.4f}\")\n",
    "\n",
    "# create a DataFrame to display the results\n",
    "multi_results_df = pd.DataFrame(multi_results).T\n",
    "multi_results_df = multi_results_df.round(4)\n",
    "print(multi_results_df)\n",
    "\n",
    "# determine the best model based on f1 score\n",
    "best_multi_model = multi_results_df['f1_score'].idxmax()\n",
    "print(f\"\\nBest performing model: {best_multi_model}\")\n",
    "print(f\"Best f1 score: {multi_results_df.loc[best_multi_model, 'f1_score']:.4f}\")"
   ]
  },
  {
   "cell_type": "markdown",
   "id": "ffaf5648",
   "metadata": {},
   "source": [
    "#### **Model Performance Visualization**"
   ]
  },
  {
   "cell_type": "code",
   "execution_count": 61,
   "id": "e1593915",
   "metadata": {},
   "outputs": [
    {
     "data": {
      "application/vnd.plotly.v1+json": {
       "config": {
        "plotlyServerURL": "https://plot.ly"
       },
       "data": [
        {
         "marker": {
          "color": "#1f77b4"
         },
         "name": "Accuracy",
         "text": {
          "bdata": "JQaBlUOL5D83iUFg5dDiP6AaL90kBuU/XI/C9Shc4z8=",
          "dtype": "f8"
         },
         "textposition": "auto",
         "type": "bar",
         "x": [
          "Multi-Logistic Regression (base model)",
          "Multi-Random Forest",
          "Multi-Support Vector Machine",
          "Multi-Naive Bayes"
         ],
         "y": {
          "bdata": "6bevA+eM5D/7OnDOiNLiPxe30QDeAuU/toR80LNZ4z8=",
          "dtype": "f8"
         }
        },
        {
         "marker": {
          "color": "#ff7f0e"
         },
         "name": "Precision",
         "text": {
          "bdata": "okW28/3U5D+oxks3iUHkP05iEFg5tOQ/y6FFtvP95D8=",
          "dtype": "f8"
         },
         "textposition": "auto",
         "type": "bar",
         "x": [
          "Multi-Logistic Regression (base model)",
          "Multi-Random Forest",
          "Multi-Support Vector Machine",
          "Multi-Naive Bayes"
         ],
         "y": {
          "bdata": "KqkT0ETY5D8wKqkT0ETkP6hXyjLEseQ/cayL22gA5T8=",
          "dtype": "f8"
         }
        },
        {
         "marker": {
          "color": "#2ca02c"
         },
         "name": "Recall",
         "text": {
          "bdata": "JQaBlUOL5D83iUFg5dDiP6AaL90kBuU/XI/C9Shc4z8=",
          "dtype": "f8"
         },
         "textposition": "auto",
         "type": "bar",
         "x": [
          "Multi-Logistic Regression (base model)",
          "Multi-Random Forest",
          "Multi-Support Vector Machine",
          "Multi-Naive Bayes"
         ],
         "y": {
          "bdata": "6bevA+eM5D/7OnDOiNLiPxe30QDeAuU/toR80LNZ4z8=",
          "dtype": "f8"
         }
        },
        {
         "marker": {
          "color": "#d62728"
         },
         "name": "F1 Score",
         "text": {
          "bdata": "eekmMQis5D8zMzMzMzPjP83MzMzMzOQ/rkfhehSu4z8=",
          "dtype": "f8"
         },
         "textposition": "auto",
         "type": "bar",
         "x": [
          "Multi-Logistic Regression (base model)",
          "Multi-Random Forest",
          "Multi-Support Vector Machine",
          "Multi-Naive Bayes"
         ],
         "y": {
          "bdata": "H/RsVn2u5D+8lpAPejbjPzeJQWDl0OQ/kKD4Meau4z8=",
          "dtype": "f8"
         }
        }
       ],
       "layout": {
        "barmode": "group",
        "height": 800,
        "legend": {
         "orientation": "h",
         "x": 0.5,
         "xanchor": "center",
         "y": -0.2
        },
        "margin": {
         "b": 100,
         "t": 80
        },
        "template": {
         "data": {
          "bar": [
           {
            "error_x": {
             "color": "#2a3f5f"
            },
            "error_y": {
             "color": "#2a3f5f"
            },
            "marker": {
             "line": {
              "color": "#E5ECF6",
              "width": 0.5
             },
             "pattern": {
              "fillmode": "overlay",
              "size": 10,
              "solidity": 0.2
             }
            },
            "type": "bar"
           }
          ],
          "barpolar": [
           {
            "marker": {
             "line": {
              "color": "#E5ECF6",
              "width": 0.5
             },
             "pattern": {
              "fillmode": "overlay",
              "size": 10,
              "solidity": 0.2
             }
            },
            "type": "barpolar"
           }
          ],
          "carpet": [
           {
            "aaxis": {
             "endlinecolor": "#2a3f5f",
             "gridcolor": "white",
             "linecolor": "white",
             "minorgridcolor": "white",
             "startlinecolor": "#2a3f5f"
            },
            "baxis": {
             "endlinecolor": "#2a3f5f",
             "gridcolor": "white",
             "linecolor": "white",
             "minorgridcolor": "white",
             "startlinecolor": "#2a3f5f"
            },
            "type": "carpet"
           }
          ],
          "choropleth": [
           {
            "colorbar": {
             "outlinewidth": 0,
             "ticks": ""
            },
            "type": "choropleth"
           }
          ],
          "contour": [
           {
            "colorbar": {
             "outlinewidth": 0,
             "ticks": ""
            },
            "colorscale": [
             [
              0,
              "#0d0887"
             ],
             [
              0.1111111111111111,
              "#46039f"
             ],
             [
              0.2222222222222222,
              "#7201a8"
             ],
             [
              0.3333333333333333,
              "#9c179e"
             ],
             [
              0.4444444444444444,
              "#bd3786"
             ],
             [
              0.5555555555555556,
              "#d8576b"
             ],
             [
              0.6666666666666666,
              "#ed7953"
             ],
             [
              0.7777777777777778,
              "#fb9f3a"
             ],
             [
              0.8888888888888888,
              "#fdca26"
             ],
             [
              1,
              "#f0f921"
             ]
            ],
            "type": "contour"
           }
          ],
          "contourcarpet": [
           {
            "colorbar": {
             "outlinewidth": 0,
             "ticks": ""
            },
            "type": "contourcarpet"
           }
          ],
          "heatmap": [
           {
            "colorbar": {
             "outlinewidth": 0,
             "ticks": ""
            },
            "colorscale": [
             [
              0,
              "#0d0887"
             ],
             [
              0.1111111111111111,
              "#46039f"
             ],
             [
              0.2222222222222222,
              "#7201a8"
             ],
             [
              0.3333333333333333,
              "#9c179e"
             ],
             [
              0.4444444444444444,
              "#bd3786"
             ],
             [
              0.5555555555555556,
              "#d8576b"
             ],
             [
              0.6666666666666666,
              "#ed7953"
             ],
             [
              0.7777777777777778,
              "#fb9f3a"
             ],
             [
              0.8888888888888888,
              "#fdca26"
             ],
             [
              1,
              "#f0f921"
             ]
            ],
            "type": "heatmap"
           }
          ],
          "histogram": [
           {
            "marker": {
             "pattern": {
              "fillmode": "overlay",
              "size": 10,
              "solidity": 0.2
             }
            },
            "type": "histogram"
           }
          ],
          "histogram2d": [
           {
            "colorbar": {
             "outlinewidth": 0,
             "ticks": ""
            },
            "colorscale": [
             [
              0,
              "#0d0887"
             ],
             [
              0.1111111111111111,
              "#46039f"
             ],
             [
              0.2222222222222222,
              "#7201a8"
             ],
             [
              0.3333333333333333,
              "#9c179e"
             ],
             [
              0.4444444444444444,
              "#bd3786"
             ],
             [
              0.5555555555555556,
              "#d8576b"
             ],
             [
              0.6666666666666666,
              "#ed7953"
             ],
             [
              0.7777777777777778,
              "#fb9f3a"
             ],
             [
              0.8888888888888888,
              "#fdca26"
             ],
             [
              1,
              "#f0f921"
             ]
            ],
            "type": "histogram2d"
           }
          ],
          "histogram2dcontour": [
           {
            "colorbar": {
             "outlinewidth": 0,
             "ticks": ""
            },
            "colorscale": [
             [
              0,
              "#0d0887"
             ],
             [
              0.1111111111111111,
              "#46039f"
             ],
             [
              0.2222222222222222,
              "#7201a8"
             ],
             [
              0.3333333333333333,
              "#9c179e"
             ],
             [
              0.4444444444444444,
              "#bd3786"
             ],
             [
              0.5555555555555556,
              "#d8576b"
             ],
             [
              0.6666666666666666,
              "#ed7953"
             ],
             [
              0.7777777777777778,
              "#fb9f3a"
             ],
             [
              0.8888888888888888,
              "#fdca26"
             ],
             [
              1,
              "#f0f921"
             ]
            ],
            "type": "histogram2dcontour"
           }
          ],
          "mesh3d": [
           {
            "colorbar": {
             "outlinewidth": 0,
             "ticks": ""
            },
            "type": "mesh3d"
           }
          ],
          "parcoords": [
           {
            "line": {
             "colorbar": {
              "outlinewidth": 0,
              "ticks": ""
             }
            },
            "type": "parcoords"
           }
          ],
          "pie": [
           {
            "automargin": true,
            "type": "pie"
           }
          ],
          "scatter": [
           {
            "fillpattern": {
             "fillmode": "overlay",
             "size": 10,
             "solidity": 0.2
            },
            "type": "scatter"
           }
          ],
          "scatter3d": [
           {
            "line": {
             "colorbar": {
              "outlinewidth": 0,
              "ticks": ""
             }
            },
            "marker": {
             "colorbar": {
              "outlinewidth": 0,
              "ticks": ""
             }
            },
            "type": "scatter3d"
           }
          ],
          "scattercarpet": [
           {
            "marker": {
             "colorbar": {
              "outlinewidth": 0,
              "ticks": ""
             }
            },
            "type": "scattercarpet"
           }
          ],
          "scattergeo": [
           {
            "marker": {
             "colorbar": {
              "outlinewidth": 0,
              "ticks": ""
             }
            },
            "type": "scattergeo"
           }
          ],
          "scattergl": [
           {
            "marker": {
             "colorbar": {
              "outlinewidth": 0,
              "ticks": ""
             }
            },
            "type": "scattergl"
           }
          ],
          "scattermap": [
           {
            "marker": {
             "colorbar": {
              "outlinewidth": 0,
              "ticks": ""
             }
            },
            "type": "scattermap"
           }
          ],
          "scattermapbox": [
           {
            "marker": {
             "colorbar": {
              "outlinewidth": 0,
              "ticks": ""
             }
            },
            "type": "scattermapbox"
           }
          ],
          "scatterpolar": [
           {
            "marker": {
             "colorbar": {
              "outlinewidth": 0,
              "ticks": ""
             }
            },
            "type": "scatterpolar"
           }
          ],
          "scatterpolargl": [
           {
            "marker": {
             "colorbar": {
              "outlinewidth": 0,
              "ticks": ""
             }
            },
            "type": "scatterpolargl"
           }
          ],
          "scatterternary": [
           {
            "marker": {
             "colorbar": {
              "outlinewidth": 0,
              "ticks": ""
             }
            },
            "type": "scatterternary"
           }
          ],
          "surface": [
           {
            "colorbar": {
             "outlinewidth": 0,
             "ticks": ""
            },
            "colorscale": [
             [
              0,
              "#0d0887"
             ],
             [
              0.1111111111111111,
              "#46039f"
             ],
             [
              0.2222222222222222,
              "#7201a8"
             ],
             [
              0.3333333333333333,
              "#9c179e"
             ],
             [
              0.4444444444444444,
              "#bd3786"
             ],
             [
              0.5555555555555556,
              "#d8576b"
             ],
             [
              0.6666666666666666,
              "#ed7953"
             ],
             [
              0.7777777777777778,
              "#fb9f3a"
             ],
             [
              0.8888888888888888,
              "#fdca26"
             ],
             [
              1,
              "#f0f921"
             ]
            ],
            "type": "surface"
           }
          ],
          "table": [
           {
            "cells": {
             "fill": {
              "color": "#EBF0F8"
             },
             "line": {
              "color": "white"
             }
            },
            "header": {
             "fill": {
              "color": "#C8D4E3"
             },
             "line": {
              "color": "white"
             }
            },
            "type": "table"
           }
          ]
         },
         "layout": {
          "annotationdefaults": {
           "arrowcolor": "#2a3f5f",
           "arrowhead": 0,
           "arrowwidth": 1
          },
          "autotypenumbers": "strict",
          "coloraxis": {
           "colorbar": {
            "outlinewidth": 0,
            "ticks": ""
           }
          },
          "colorscale": {
           "diverging": [
            [
             0,
             "#8e0152"
            ],
            [
             0.1,
             "#c51b7d"
            ],
            [
             0.2,
             "#de77ae"
            ],
            [
             0.3,
             "#f1b6da"
            ],
            [
             0.4,
             "#fde0ef"
            ],
            [
             0.5,
             "#f7f7f7"
            ],
            [
             0.6,
             "#e6f5d0"
            ],
            [
             0.7,
             "#b8e186"
            ],
            [
             0.8,
             "#7fbc41"
            ],
            [
             0.9,
             "#4d9221"
            ],
            [
             1,
             "#276419"
            ]
           ],
           "sequential": [
            [
             0,
             "#0d0887"
            ],
            [
             0.1111111111111111,
             "#46039f"
            ],
            [
             0.2222222222222222,
             "#7201a8"
            ],
            [
             0.3333333333333333,
             "#9c179e"
            ],
            [
             0.4444444444444444,
             "#bd3786"
            ],
            [
             0.5555555555555556,
             "#d8576b"
            ],
            [
             0.6666666666666666,
             "#ed7953"
            ],
            [
             0.7777777777777778,
             "#fb9f3a"
            ],
            [
             0.8888888888888888,
             "#fdca26"
            ],
            [
             1,
             "#f0f921"
            ]
           ],
           "sequentialminus": [
            [
             0,
             "#0d0887"
            ],
            [
             0.1111111111111111,
             "#46039f"
            ],
            [
             0.2222222222222222,
             "#7201a8"
            ],
            [
             0.3333333333333333,
             "#9c179e"
            ],
            [
             0.4444444444444444,
             "#bd3786"
            ],
            [
             0.5555555555555556,
             "#d8576b"
            ],
            [
             0.6666666666666666,
             "#ed7953"
            ],
            [
             0.7777777777777778,
             "#fb9f3a"
            ],
            [
             0.8888888888888888,
             "#fdca26"
            ],
            [
             1,
             "#f0f921"
            ]
           ]
          },
          "colorway": [
           "#636efa",
           "#EF553B",
           "#00cc96",
           "#ab63fa",
           "#FFA15A",
           "#19d3f3",
           "#FF6692",
           "#B6E880",
           "#FF97FF",
           "#FECB52"
          ],
          "font": {
           "color": "#2a3f5f"
          },
          "geo": {
           "bgcolor": "white",
           "lakecolor": "white",
           "landcolor": "#E5ECF6",
           "showlakes": true,
           "showland": true,
           "subunitcolor": "white"
          },
          "hoverlabel": {
           "align": "left"
          },
          "hovermode": "closest",
          "mapbox": {
           "style": "light"
          },
          "paper_bgcolor": "white",
          "plot_bgcolor": "#E5ECF6",
          "polar": {
           "angularaxis": {
            "gridcolor": "white",
            "linecolor": "white",
            "ticks": ""
           },
           "bgcolor": "#E5ECF6",
           "radialaxis": {
            "gridcolor": "white",
            "linecolor": "white",
            "ticks": ""
           }
          },
          "scene": {
           "xaxis": {
            "backgroundcolor": "#E5ECF6",
            "gridcolor": "white",
            "gridwidth": 2,
            "linecolor": "white",
            "showbackground": true,
            "ticks": "",
            "zerolinecolor": "white"
           },
           "yaxis": {
            "backgroundcolor": "#E5ECF6",
            "gridcolor": "white",
            "gridwidth": 2,
            "linecolor": "white",
            "showbackground": true,
            "ticks": "",
            "zerolinecolor": "white"
           },
           "zaxis": {
            "backgroundcolor": "#E5ECF6",
            "gridcolor": "white",
            "gridwidth": 2,
            "linecolor": "white",
            "showbackground": true,
            "ticks": "",
            "zerolinecolor": "white"
           }
          },
          "shapedefaults": {
           "line": {
            "color": "#2a3f5f"
           }
          },
          "ternary": {
           "aaxis": {
            "gridcolor": "white",
            "linecolor": "white",
            "ticks": ""
           },
           "baxis": {
            "gridcolor": "white",
            "linecolor": "white",
            "ticks": ""
           },
           "bgcolor": "#E5ECF6",
           "caxis": {
            "gridcolor": "white",
            "linecolor": "white",
            "ticks": ""
           }
          },
          "title": {
           "x": 0.05
          },
          "xaxis": {
           "automargin": true,
           "gridcolor": "white",
           "linecolor": "white",
           "ticks": "",
           "title": {
            "standoff": 15
           },
           "zerolinecolor": "white",
           "zerolinewidth": 2
          },
          "yaxis": {
           "automargin": true,
           "gridcolor": "white",
           "linecolor": "white",
           "ticks": "",
           "title": {
            "standoff": 15
           },
           "zerolinecolor": "white",
           "zerolinewidth": 2
          }
         }
        },
        "title": {
         "text": "Multi-Model Performance Comparison"
        },
        "width": 1300,
        "xaxis": {
         "title": {
          "text": "Models"
         }
        },
        "yaxis": {
         "title": {
          "text": "Score"
         }
        }
       }
      }
     },
     "metadata": {},
     "output_type": "display_data"
    }
   ],
   "source": [
    "# Plot 1. Model performance comparison (interactive bar chart)\n",
    "fig_bar = go.Figure()\n",
    "\n",
    "metrics = ['accuracy', 'precision', 'recall', 'f1_score']\n",
    "colors = ['#1f77b4', '#ff7f0e', '#2ca02c', '#d62728']\n",
    "\n",
    "for i, metric in enumerate(metrics):\n",
    "    fig_bar.add_trace(\n",
    "        go.Bar(\n",
    "            x=multi_results_df.index,\n",
    "            y=multi_results_df[metric],\n",
    "            name=metric.replace('_', ' ').title(),\n",
    "            marker_color=colors[i],\n",
    "            text=multi_results_df[metric].round(3),\n",
    "            textposition='auto'\n",
    "        )\n",
    "    )\n",
    "\n",
    "fig_bar.update_layout(\n",
    "    title='Multi-Model Performance Comparison',\n",
    "    xaxis_title='Models',\n",
    "    yaxis_title='Score',\n",
    "    barmode='group',\n",
    "    height=800,\n",
    "    width=1300,\n",
    "    legend=dict(orientation=\"h\", x=0.5, xanchor=\"center\", y=-0.2),\n",
    "    margin=dict(t=80, b=100)\n",
    ")\n",
    "\n",
    "fig_bar.show()"
   ]
  },
  {
   "cell_type": "code",
   "execution_count": 65,
   "id": "910f12b8",
   "metadata": {},
   "outputs": [
    {
     "data": {
      "application/vnd.plotly.v1+json": {
       "config": {
        "plotlyServerURL": "https://plot.ly"
       },
       "data": [
        {
         "labels": [
          "Multi-Logistic Regression (base model)",
          "Multi-Random Forest",
          "Multi-Support Vector Machine",
          "Multi-Naive Bayes"
         ],
         "marker": {
          "colors": [
           "rgb(68, 1, 84)",
           "rgb(49, 104, 142)",
           "rgb(53, 183, 121)",
           "rgb(253, 231, 37)"
          ],
          "line": {
           "color": "white",
           "width": 2
          }
         },
         "textinfo": "label+percent+value",
         "texttemplate": "%{label}<br>%{value:.4f}<br>(%{percent})",
         "type": "pie",
         "values": {
          "bdata": "H/RsVn2u5D+8lpAPejbjPzeJQWDl0OQ/kKD4Meau4z8=",
          "dtype": "f8"
         }
        }
       ],
       "layout": {
        "height": 800,
        "template": {
         "data": {
          "bar": [
           {
            "error_x": {
             "color": "#2a3f5f"
            },
            "error_y": {
             "color": "#2a3f5f"
            },
            "marker": {
             "line": {
              "color": "#E5ECF6",
              "width": 0.5
             },
             "pattern": {
              "fillmode": "overlay",
              "size": 10,
              "solidity": 0.2
             }
            },
            "type": "bar"
           }
          ],
          "barpolar": [
           {
            "marker": {
             "line": {
              "color": "#E5ECF6",
              "width": 0.5
             },
             "pattern": {
              "fillmode": "overlay",
              "size": 10,
              "solidity": 0.2
             }
            },
            "type": "barpolar"
           }
          ],
          "carpet": [
           {
            "aaxis": {
             "endlinecolor": "#2a3f5f",
             "gridcolor": "white",
             "linecolor": "white",
             "minorgridcolor": "white",
             "startlinecolor": "#2a3f5f"
            },
            "baxis": {
             "endlinecolor": "#2a3f5f",
             "gridcolor": "white",
             "linecolor": "white",
             "minorgridcolor": "white",
             "startlinecolor": "#2a3f5f"
            },
            "type": "carpet"
           }
          ],
          "choropleth": [
           {
            "colorbar": {
             "outlinewidth": 0,
             "ticks": ""
            },
            "type": "choropleth"
           }
          ],
          "contour": [
           {
            "colorbar": {
             "outlinewidth": 0,
             "ticks": ""
            },
            "colorscale": [
             [
              0,
              "#0d0887"
             ],
             [
              0.1111111111111111,
              "#46039f"
             ],
             [
              0.2222222222222222,
              "#7201a8"
             ],
             [
              0.3333333333333333,
              "#9c179e"
             ],
             [
              0.4444444444444444,
              "#bd3786"
             ],
             [
              0.5555555555555556,
              "#d8576b"
             ],
             [
              0.6666666666666666,
              "#ed7953"
             ],
             [
              0.7777777777777778,
              "#fb9f3a"
             ],
             [
              0.8888888888888888,
              "#fdca26"
             ],
             [
              1,
              "#f0f921"
             ]
            ],
            "type": "contour"
           }
          ],
          "contourcarpet": [
           {
            "colorbar": {
             "outlinewidth": 0,
             "ticks": ""
            },
            "type": "contourcarpet"
           }
          ],
          "heatmap": [
           {
            "colorbar": {
             "outlinewidth": 0,
             "ticks": ""
            },
            "colorscale": [
             [
              0,
              "#0d0887"
             ],
             [
              0.1111111111111111,
              "#46039f"
             ],
             [
              0.2222222222222222,
              "#7201a8"
             ],
             [
              0.3333333333333333,
              "#9c179e"
             ],
             [
              0.4444444444444444,
              "#bd3786"
             ],
             [
              0.5555555555555556,
              "#d8576b"
             ],
             [
              0.6666666666666666,
              "#ed7953"
             ],
             [
              0.7777777777777778,
              "#fb9f3a"
             ],
             [
              0.8888888888888888,
              "#fdca26"
             ],
             [
              1,
              "#f0f921"
             ]
            ],
            "type": "heatmap"
           }
          ],
          "histogram": [
           {
            "marker": {
             "pattern": {
              "fillmode": "overlay",
              "size": 10,
              "solidity": 0.2
             }
            },
            "type": "histogram"
           }
          ],
          "histogram2d": [
           {
            "colorbar": {
             "outlinewidth": 0,
             "ticks": ""
            },
            "colorscale": [
             [
              0,
              "#0d0887"
             ],
             [
              0.1111111111111111,
              "#46039f"
             ],
             [
              0.2222222222222222,
              "#7201a8"
             ],
             [
              0.3333333333333333,
              "#9c179e"
             ],
             [
              0.4444444444444444,
              "#bd3786"
             ],
             [
              0.5555555555555556,
              "#d8576b"
             ],
             [
              0.6666666666666666,
              "#ed7953"
             ],
             [
              0.7777777777777778,
              "#fb9f3a"
             ],
             [
              0.8888888888888888,
              "#fdca26"
             ],
             [
              1,
              "#f0f921"
             ]
            ],
            "type": "histogram2d"
           }
          ],
          "histogram2dcontour": [
           {
            "colorbar": {
             "outlinewidth": 0,
             "ticks": ""
            },
            "colorscale": [
             [
              0,
              "#0d0887"
             ],
             [
              0.1111111111111111,
              "#46039f"
             ],
             [
              0.2222222222222222,
              "#7201a8"
             ],
             [
              0.3333333333333333,
              "#9c179e"
             ],
             [
              0.4444444444444444,
              "#bd3786"
             ],
             [
              0.5555555555555556,
              "#d8576b"
             ],
             [
              0.6666666666666666,
              "#ed7953"
             ],
             [
              0.7777777777777778,
              "#fb9f3a"
             ],
             [
              0.8888888888888888,
              "#fdca26"
             ],
             [
              1,
              "#f0f921"
             ]
            ],
            "type": "histogram2dcontour"
           }
          ],
          "mesh3d": [
           {
            "colorbar": {
             "outlinewidth": 0,
             "ticks": ""
            },
            "type": "mesh3d"
           }
          ],
          "parcoords": [
           {
            "line": {
             "colorbar": {
              "outlinewidth": 0,
              "ticks": ""
             }
            },
            "type": "parcoords"
           }
          ],
          "pie": [
           {
            "automargin": true,
            "type": "pie"
           }
          ],
          "scatter": [
           {
            "fillpattern": {
             "fillmode": "overlay",
             "size": 10,
             "solidity": 0.2
            },
            "type": "scatter"
           }
          ],
          "scatter3d": [
           {
            "line": {
             "colorbar": {
              "outlinewidth": 0,
              "ticks": ""
             }
            },
            "marker": {
             "colorbar": {
              "outlinewidth": 0,
              "ticks": ""
             }
            },
            "type": "scatter3d"
           }
          ],
          "scattercarpet": [
           {
            "marker": {
             "colorbar": {
              "outlinewidth": 0,
              "ticks": ""
             }
            },
            "type": "scattercarpet"
           }
          ],
          "scattergeo": [
           {
            "marker": {
             "colorbar": {
              "outlinewidth": 0,
              "ticks": ""
             }
            },
            "type": "scattergeo"
           }
          ],
          "scattergl": [
           {
            "marker": {
             "colorbar": {
              "outlinewidth": 0,
              "ticks": ""
             }
            },
            "type": "scattergl"
           }
          ],
          "scattermap": [
           {
            "marker": {
             "colorbar": {
              "outlinewidth": 0,
              "ticks": ""
             }
            },
            "type": "scattermap"
           }
          ],
          "scattermapbox": [
           {
            "marker": {
             "colorbar": {
              "outlinewidth": 0,
              "ticks": ""
             }
            },
            "type": "scattermapbox"
           }
          ],
          "scatterpolar": [
           {
            "marker": {
             "colorbar": {
              "outlinewidth": 0,
              "ticks": ""
             }
            },
            "type": "scatterpolar"
           }
          ],
          "scatterpolargl": [
           {
            "marker": {
             "colorbar": {
              "outlinewidth": 0,
              "ticks": ""
             }
            },
            "type": "scatterpolargl"
           }
          ],
          "scatterternary": [
           {
            "marker": {
             "colorbar": {
              "outlinewidth": 0,
              "ticks": ""
             }
            },
            "type": "scatterternary"
           }
          ],
          "surface": [
           {
            "colorbar": {
             "outlinewidth": 0,
             "ticks": ""
            },
            "colorscale": [
             [
              0,
              "#0d0887"
             ],
             [
              0.1111111111111111,
              "#46039f"
             ],
             [
              0.2222222222222222,
              "#7201a8"
             ],
             [
              0.3333333333333333,
              "#9c179e"
             ],
             [
              0.4444444444444444,
              "#bd3786"
             ],
             [
              0.5555555555555556,
              "#d8576b"
             ],
             [
              0.6666666666666666,
              "#ed7953"
             ],
             [
              0.7777777777777778,
              "#fb9f3a"
             ],
             [
              0.8888888888888888,
              "#fdca26"
             ],
             [
              1,
              "#f0f921"
             ]
            ],
            "type": "surface"
           }
          ],
          "table": [
           {
            "cells": {
             "fill": {
              "color": "#EBF0F8"
             },
             "line": {
              "color": "white"
             }
            },
            "header": {
             "fill": {
              "color": "#C8D4E3"
             },
             "line": {
              "color": "white"
             }
            },
            "type": "table"
           }
          ]
         },
         "layout": {
          "annotationdefaults": {
           "arrowcolor": "#2a3f5f",
           "arrowhead": 0,
           "arrowwidth": 1
          },
          "autotypenumbers": "strict",
          "coloraxis": {
           "colorbar": {
            "outlinewidth": 0,
            "ticks": ""
           }
          },
          "colorscale": {
           "diverging": [
            [
             0,
             "#8e0152"
            ],
            [
             0.1,
             "#c51b7d"
            ],
            [
             0.2,
             "#de77ae"
            ],
            [
             0.3,
             "#f1b6da"
            ],
            [
             0.4,
             "#fde0ef"
            ],
            [
             0.5,
             "#f7f7f7"
            ],
            [
             0.6,
             "#e6f5d0"
            ],
            [
             0.7,
             "#b8e186"
            ],
            [
             0.8,
             "#7fbc41"
            ],
            [
             0.9,
             "#4d9221"
            ],
            [
             1,
             "#276419"
            ]
           ],
           "sequential": [
            [
             0,
             "#0d0887"
            ],
            [
             0.1111111111111111,
             "#46039f"
            ],
            [
             0.2222222222222222,
             "#7201a8"
            ],
            [
             0.3333333333333333,
             "#9c179e"
            ],
            [
             0.4444444444444444,
             "#bd3786"
            ],
            [
             0.5555555555555556,
             "#d8576b"
            ],
            [
             0.6666666666666666,
             "#ed7953"
            ],
            [
             0.7777777777777778,
             "#fb9f3a"
            ],
            [
             0.8888888888888888,
             "#fdca26"
            ],
            [
             1,
             "#f0f921"
            ]
           ],
           "sequentialminus": [
            [
             0,
             "#0d0887"
            ],
            [
             0.1111111111111111,
             "#46039f"
            ],
            [
             0.2222222222222222,
             "#7201a8"
            ],
            [
             0.3333333333333333,
             "#9c179e"
            ],
            [
             0.4444444444444444,
             "#bd3786"
            ],
            [
             0.5555555555555556,
             "#d8576b"
            ],
            [
             0.6666666666666666,
             "#ed7953"
            ],
            [
             0.7777777777777778,
             "#fb9f3a"
            ],
            [
             0.8888888888888888,
             "#fdca26"
            ],
            [
             1,
             "#f0f921"
            ]
           ]
          },
          "colorway": [
           "#636efa",
           "#EF553B",
           "#00cc96",
           "#ab63fa",
           "#FFA15A",
           "#19d3f3",
           "#FF6692",
           "#B6E880",
           "#FF97FF",
           "#FECB52"
          ],
          "font": {
           "color": "#2a3f5f"
          },
          "geo": {
           "bgcolor": "white",
           "lakecolor": "white",
           "landcolor": "#E5ECF6",
           "showlakes": true,
           "showland": true,
           "subunitcolor": "white"
          },
          "hoverlabel": {
           "align": "left"
          },
          "hovermode": "closest",
          "mapbox": {
           "style": "light"
          },
          "paper_bgcolor": "white",
          "plot_bgcolor": "#E5ECF6",
          "polar": {
           "angularaxis": {
            "gridcolor": "white",
            "linecolor": "white",
            "ticks": ""
           },
           "bgcolor": "#E5ECF6",
           "radialaxis": {
            "gridcolor": "white",
            "linecolor": "white",
            "ticks": ""
           }
          },
          "scene": {
           "xaxis": {
            "backgroundcolor": "#E5ECF6",
            "gridcolor": "white",
            "gridwidth": 2,
            "linecolor": "white",
            "showbackground": true,
            "ticks": "",
            "zerolinecolor": "white"
           },
           "yaxis": {
            "backgroundcolor": "#E5ECF6",
            "gridcolor": "white",
            "gridwidth": 2,
            "linecolor": "white",
            "showbackground": true,
            "ticks": "",
            "zerolinecolor": "white"
           },
           "zaxis": {
            "backgroundcolor": "#E5ECF6",
            "gridcolor": "white",
            "gridwidth": 2,
            "linecolor": "white",
            "showbackground": true,
            "ticks": "",
            "zerolinecolor": "white"
           }
          },
          "shapedefaults": {
           "line": {
            "color": "#2a3f5f"
           }
          },
          "ternary": {
           "aaxis": {
            "gridcolor": "white",
            "linecolor": "white",
            "ticks": ""
           },
           "baxis": {
            "gridcolor": "white",
            "linecolor": "white",
            "ticks": ""
           },
           "bgcolor": "#E5ECF6",
           "caxis": {
            "gridcolor": "white",
            "linecolor": "white",
            "ticks": ""
           }
          },
          "title": {
           "x": 0.05
          },
          "xaxis": {
           "automargin": true,
           "gridcolor": "white",
           "linecolor": "white",
           "ticks": "",
           "title": {
            "standoff": 15
           },
           "zerolinecolor": "white",
           "zerolinewidth": 2
          },
          "yaxis": {
           "automargin": true,
           "gridcolor": "white",
           "linecolor": "white",
           "ticks": "",
           "title": {
            "standoff": 15
           },
           "zerolinecolor": "white",
           "zerolinewidth": 2
          }
         }
        },
        "title": {
         "text": "F1-Score Distribution by Model"
        },
        "width": 1100
       }
      }
     },
     "metadata": {},
     "output_type": "display_data"
    }
   ],
   "source": [
    "# Plot 2. F1-Score comparison (interactive pie chart)\n",
    "viridis_colors = pc.sample_colorscale('Viridis', [i / (len(multi_results_df) - 1) for i in range(len(multi_results_df))])\n",
    "\n",
    "fig_pie = go.Figure(\n",
    "    go.Pie(\n",
    "        labels=multi_results_df.index,\n",
    "        values=multi_results_df['f1_score'],\n",
    "        textinfo='label+percent+value',\n",
    "        texttemplate='%{label}<br>%{value:.4f}<br>(%{percent})',\n",
    "        marker=dict(colors=viridis_colors, line=dict(color='white', width=2))\n",
    "    )\n",
    ")\n",
    "\n",
    "fig_pie.update_layout(\n",
    "    title='F1-Score Distribution by Model',\n",
    "    height=800,\n",
    "    width=1100\n",
    ")\n",
    "\n",
    "fig_pie.show()"
   ]
  },
  {
   "cell_type": "code",
   "execution_count": 67,
   "id": "137938e0",
   "metadata": {},
   "outputs": [
    {
     "data": {
      "application/vnd.plotly.v1+json": {
       "config": {
        "plotlyServerURL": "https://plot.ly"
       },
       "data": [
        {
         "colorscale": [
          [
           0,
           "rgb(247,251,255)"
          ],
          [
           0.125,
           "rgb(222,235,247)"
          ],
          [
           0.25,
           "rgb(198,219,239)"
          ],
          [
           0.375,
           "rgb(158,202,225)"
          ],
          [
           0.5,
           "rgb(107,174,214)"
          ],
          [
           0.625,
           "rgb(66,146,198)"
          ],
          [
           0.75,
           "rgb(33,113,181)"
          ],
          [
           0.875,
           "rgb(8,81,156)"
          ],
          [
           1,
           "rgb(8,48,107)"
          ]
         ],
         "hovertemplate": "True: %{y}<br>Predicted: %{x}<br>Count: %{z}<extra></extra>",
         "showscale": false,
         "text": {
          "bdata": "HAAbADsAEQA1AQwBLADQAFYD",
          "dtype": "i2",
          "shape": "3, 3"
         },
         "textfont": {
          "size": 20
         },
         "texttemplate": "%{text}",
         "type": "heatmap",
         "x": [
          "Negative",
          "Positive",
          "Neutral"
         ],
         "y": [
          "Negative",
          "Positive",
          "Neutral"
         ],
         "z": {
          "bdata": "HAAbADsAEQA1AQwBLADQAFYD",
          "dtype": "i2",
          "shape": "3, 3"
         }
        }
       ],
       "layout": {
        "height": 800,
        "template": {
         "data": {
          "bar": [
           {
            "error_x": {
             "color": "#2a3f5f"
            },
            "error_y": {
             "color": "#2a3f5f"
            },
            "marker": {
             "line": {
              "color": "#E5ECF6",
              "width": 0.5
             },
             "pattern": {
              "fillmode": "overlay",
              "size": 10,
              "solidity": 0.2
             }
            },
            "type": "bar"
           }
          ],
          "barpolar": [
           {
            "marker": {
             "line": {
              "color": "#E5ECF6",
              "width": 0.5
             },
             "pattern": {
              "fillmode": "overlay",
              "size": 10,
              "solidity": 0.2
             }
            },
            "type": "barpolar"
           }
          ],
          "carpet": [
           {
            "aaxis": {
             "endlinecolor": "#2a3f5f",
             "gridcolor": "white",
             "linecolor": "white",
             "minorgridcolor": "white",
             "startlinecolor": "#2a3f5f"
            },
            "baxis": {
             "endlinecolor": "#2a3f5f",
             "gridcolor": "white",
             "linecolor": "white",
             "minorgridcolor": "white",
             "startlinecolor": "#2a3f5f"
            },
            "type": "carpet"
           }
          ],
          "choropleth": [
           {
            "colorbar": {
             "outlinewidth": 0,
             "ticks": ""
            },
            "type": "choropleth"
           }
          ],
          "contour": [
           {
            "colorbar": {
             "outlinewidth": 0,
             "ticks": ""
            },
            "colorscale": [
             [
              0,
              "#0d0887"
             ],
             [
              0.1111111111111111,
              "#46039f"
             ],
             [
              0.2222222222222222,
              "#7201a8"
             ],
             [
              0.3333333333333333,
              "#9c179e"
             ],
             [
              0.4444444444444444,
              "#bd3786"
             ],
             [
              0.5555555555555556,
              "#d8576b"
             ],
             [
              0.6666666666666666,
              "#ed7953"
             ],
             [
              0.7777777777777778,
              "#fb9f3a"
             ],
             [
              0.8888888888888888,
              "#fdca26"
             ],
             [
              1,
              "#f0f921"
             ]
            ],
            "type": "contour"
           }
          ],
          "contourcarpet": [
           {
            "colorbar": {
             "outlinewidth": 0,
             "ticks": ""
            },
            "type": "contourcarpet"
           }
          ],
          "heatmap": [
           {
            "colorbar": {
             "outlinewidth": 0,
             "ticks": ""
            },
            "colorscale": [
             [
              0,
              "#0d0887"
             ],
             [
              0.1111111111111111,
              "#46039f"
             ],
             [
              0.2222222222222222,
              "#7201a8"
             ],
             [
              0.3333333333333333,
              "#9c179e"
             ],
             [
              0.4444444444444444,
              "#bd3786"
             ],
             [
              0.5555555555555556,
              "#d8576b"
             ],
             [
              0.6666666666666666,
              "#ed7953"
             ],
             [
              0.7777777777777778,
              "#fb9f3a"
             ],
             [
              0.8888888888888888,
              "#fdca26"
             ],
             [
              1,
              "#f0f921"
             ]
            ],
            "type": "heatmap"
           }
          ],
          "histogram": [
           {
            "marker": {
             "pattern": {
              "fillmode": "overlay",
              "size": 10,
              "solidity": 0.2
             }
            },
            "type": "histogram"
           }
          ],
          "histogram2d": [
           {
            "colorbar": {
             "outlinewidth": 0,
             "ticks": ""
            },
            "colorscale": [
             [
              0,
              "#0d0887"
             ],
             [
              0.1111111111111111,
              "#46039f"
             ],
             [
              0.2222222222222222,
              "#7201a8"
             ],
             [
              0.3333333333333333,
              "#9c179e"
             ],
             [
              0.4444444444444444,
              "#bd3786"
             ],
             [
              0.5555555555555556,
              "#d8576b"
             ],
             [
              0.6666666666666666,
              "#ed7953"
             ],
             [
              0.7777777777777778,
              "#fb9f3a"
             ],
             [
              0.8888888888888888,
              "#fdca26"
             ],
             [
              1,
              "#f0f921"
             ]
            ],
            "type": "histogram2d"
           }
          ],
          "histogram2dcontour": [
           {
            "colorbar": {
             "outlinewidth": 0,
             "ticks": ""
            },
            "colorscale": [
             [
              0,
              "#0d0887"
             ],
             [
              0.1111111111111111,
              "#46039f"
             ],
             [
              0.2222222222222222,
              "#7201a8"
             ],
             [
              0.3333333333333333,
              "#9c179e"
             ],
             [
              0.4444444444444444,
              "#bd3786"
             ],
             [
              0.5555555555555556,
              "#d8576b"
             ],
             [
              0.6666666666666666,
              "#ed7953"
             ],
             [
              0.7777777777777778,
              "#fb9f3a"
             ],
             [
              0.8888888888888888,
              "#fdca26"
             ],
             [
              1,
              "#f0f921"
             ]
            ],
            "type": "histogram2dcontour"
           }
          ],
          "mesh3d": [
           {
            "colorbar": {
             "outlinewidth": 0,
             "ticks": ""
            },
            "type": "mesh3d"
           }
          ],
          "parcoords": [
           {
            "line": {
             "colorbar": {
              "outlinewidth": 0,
              "ticks": ""
             }
            },
            "type": "parcoords"
           }
          ],
          "pie": [
           {
            "automargin": true,
            "type": "pie"
           }
          ],
          "scatter": [
           {
            "fillpattern": {
             "fillmode": "overlay",
             "size": 10,
             "solidity": 0.2
            },
            "type": "scatter"
           }
          ],
          "scatter3d": [
           {
            "line": {
             "colorbar": {
              "outlinewidth": 0,
              "ticks": ""
             }
            },
            "marker": {
             "colorbar": {
              "outlinewidth": 0,
              "ticks": ""
             }
            },
            "type": "scatter3d"
           }
          ],
          "scattercarpet": [
           {
            "marker": {
             "colorbar": {
              "outlinewidth": 0,
              "ticks": ""
             }
            },
            "type": "scattercarpet"
           }
          ],
          "scattergeo": [
           {
            "marker": {
             "colorbar": {
              "outlinewidth": 0,
              "ticks": ""
             }
            },
            "type": "scattergeo"
           }
          ],
          "scattergl": [
           {
            "marker": {
             "colorbar": {
              "outlinewidth": 0,
              "ticks": ""
             }
            },
            "type": "scattergl"
           }
          ],
          "scattermap": [
           {
            "marker": {
             "colorbar": {
              "outlinewidth": 0,
              "ticks": ""
             }
            },
            "type": "scattermap"
           }
          ],
          "scattermapbox": [
           {
            "marker": {
             "colorbar": {
              "outlinewidth": 0,
              "ticks": ""
             }
            },
            "type": "scattermapbox"
           }
          ],
          "scatterpolar": [
           {
            "marker": {
             "colorbar": {
              "outlinewidth": 0,
              "ticks": ""
             }
            },
            "type": "scatterpolar"
           }
          ],
          "scatterpolargl": [
           {
            "marker": {
             "colorbar": {
              "outlinewidth": 0,
              "ticks": ""
             }
            },
            "type": "scatterpolargl"
           }
          ],
          "scatterternary": [
           {
            "marker": {
             "colorbar": {
              "outlinewidth": 0,
              "ticks": ""
             }
            },
            "type": "scatterternary"
           }
          ],
          "surface": [
           {
            "colorbar": {
             "outlinewidth": 0,
             "ticks": ""
            },
            "colorscale": [
             [
              0,
              "#0d0887"
             ],
             [
              0.1111111111111111,
              "#46039f"
             ],
             [
              0.2222222222222222,
              "#7201a8"
             ],
             [
              0.3333333333333333,
              "#9c179e"
             ],
             [
              0.4444444444444444,
              "#bd3786"
             ],
             [
              0.5555555555555556,
              "#d8576b"
             ],
             [
              0.6666666666666666,
              "#ed7953"
             ],
             [
              0.7777777777777778,
              "#fb9f3a"
             ],
             [
              0.8888888888888888,
              "#fdca26"
             ],
             [
              1,
              "#f0f921"
             ]
            ],
            "type": "surface"
           }
          ],
          "table": [
           {
            "cells": {
             "fill": {
              "color": "#EBF0F8"
             },
             "line": {
              "color": "white"
             }
            },
            "header": {
             "fill": {
              "color": "#C8D4E3"
             },
             "line": {
              "color": "white"
             }
            },
            "type": "table"
           }
          ]
         },
         "layout": {
          "annotationdefaults": {
           "arrowcolor": "#2a3f5f",
           "arrowhead": 0,
           "arrowwidth": 1
          },
          "autotypenumbers": "strict",
          "coloraxis": {
           "colorbar": {
            "outlinewidth": 0,
            "ticks": ""
           }
          },
          "colorscale": {
           "diverging": [
            [
             0,
             "#8e0152"
            ],
            [
             0.1,
             "#c51b7d"
            ],
            [
             0.2,
             "#de77ae"
            ],
            [
             0.3,
             "#f1b6da"
            ],
            [
             0.4,
             "#fde0ef"
            ],
            [
             0.5,
             "#f7f7f7"
            ],
            [
             0.6,
             "#e6f5d0"
            ],
            [
             0.7,
             "#b8e186"
            ],
            [
             0.8,
             "#7fbc41"
            ],
            [
             0.9,
             "#4d9221"
            ],
            [
             1,
             "#276419"
            ]
           ],
           "sequential": [
            [
             0,
             "#0d0887"
            ],
            [
             0.1111111111111111,
             "#46039f"
            ],
            [
             0.2222222222222222,
             "#7201a8"
            ],
            [
             0.3333333333333333,
             "#9c179e"
            ],
            [
             0.4444444444444444,
             "#bd3786"
            ],
            [
             0.5555555555555556,
             "#d8576b"
            ],
            [
             0.6666666666666666,
             "#ed7953"
            ],
            [
             0.7777777777777778,
             "#fb9f3a"
            ],
            [
             0.8888888888888888,
             "#fdca26"
            ],
            [
             1,
             "#f0f921"
            ]
           ],
           "sequentialminus": [
            [
             0,
             "#0d0887"
            ],
            [
             0.1111111111111111,
             "#46039f"
            ],
            [
             0.2222222222222222,
             "#7201a8"
            ],
            [
             0.3333333333333333,
             "#9c179e"
            ],
            [
             0.4444444444444444,
             "#bd3786"
            ],
            [
             0.5555555555555556,
             "#d8576b"
            ],
            [
             0.6666666666666666,
             "#ed7953"
            ],
            [
             0.7777777777777778,
             "#fb9f3a"
            ],
            [
             0.8888888888888888,
             "#fdca26"
            ],
            [
             1,
             "#f0f921"
            ]
           ]
          },
          "colorway": [
           "#636efa",
           "#EF553B",
           "#00cc96",
           "#ab63fa",
           "#FFA15A",
           "#19d3f3",
           "#FF6692",
           "#B6E880",
           "#FF97FF",
           "#FECB52"
          ],
          "font": {
           "color": "#2a3f5f"
          },
          "geo": {
           "bgcolor": "white",
           "lakecolor": "white",
           "landcolor": "#E5ECF6",
           "showlakes": true,
           "showland": true,
           "subunitcolor": "white"
          },
          "hoverlabel": {
           "align": "left"
          },
          "hovermode": "closest",
          "mapbox": {
           "style": "light"
          },
          "paper_bgcolor": "white",
          "plot_bgcolor": "#E5ECF6",
          "polar": {
           "angularaxis": {
            "gridcolor": "white",
            "linecolor": "white",
            "ticks": ""
           },
           "bgcolor": "#E5ECF6",
           "radialaxis": {
            "gridcolor": "white",
            "linecolor": "white",
            "ticks": ""
           }
          },
          "scene": {
           "xaxis": {
            "backgroundcolor": "#E5ECF6",
            "gridcolor": "white",
            "gridwidth": 2,
            "linecolor": "white",
            "showbackground": true,
            "ticks": "",
            "zerolinecolor": "white"
           },
           "yaxis": {
            "backgroundcolor": "#E5ECF6",
            "gridcolor": "white",
            "gridwidth": 2,
            "linecolor": "white",
            "showbackground": true,
            "ticks": "",
            "zerolinecolor": "white"
           },
           "zaxis": {
            "backgroundcolor": "#E5ECF6",
            "gridcolor": "white",
            "gridwidth": 2,
            "linecolor": "white",
            "showbackground": true,
            "ticks": "",
            "zerolinecolor": "white"
           }
          },
          "shapedefaults": {
           "line": {
            "color": "#2a3f5f"
           }
          },
          "ternary": {
           "aaxis": {
            "gridcolor": "white",
            "linecolor": "white",
            "ticks": ""
           },
           "baxis": {
            "gridcolor": "white",
            "linecolor": "white",
            "ticks": ""
           },
           "bgcolor": "#E5ECF6",
           "caxis": {
            "gridcolor": "white",
            "linecolor": "white",
            "ticks": ""
           }
          },
          "title": {
           "x": 0.05
          },
          "xaxis": {
           "automargin": true,
           "gridcolor": "white",
           "linecolor": "white",
           "ticks": "",
           "title": {
            "standoff": 15
           },
           "zerolinecolor": "white",
           "zerolinewidth": 2
          },
          "yaxis": {
           "automargin": true,
           "gridcolor": "white",
           "linecolor": "white",
           "ticks": "",
           "title": {
            "standoff": 15
           },
           "zerolinecolor": "white",
           "zerolinewidth": 2
          }
         }
        },
        "title": {
         "text": "Confusion Matrix - Multi-Support Vector Machine"
        },
        "width": 1200,
        "xaxis": {
         "title": {
          "text": "Predicted Label"
         }
        },
        "yaxis": {
         "title": {
          "text": "True Label"
         }
        }
       }
      }
     },
     "metadata": {},
     "output_type": "display_data"
    }
   ],
   "source": [
    "# Plot 3. Confusion matrix for best multi-class model\n",
    "best_pipeline_multi = multi_pipelines[best_multi_model]\n",
    "y_pred_best_mul = best_pipeline_multi.predict(X_test_mul)\n",
    "cm = confusion_matrix(y_test_mul, y_pred_best_mul)\n",
    "labels = ['Negative', 'Positive', 'Neutral']\n",
    "\n",
    "fig_cm = go.Figure(\n",
    "    go.Heatmap(\n",
    "        z=cm,\n",
    "        x=labels,\n",
    "        y=labels,\n",
    "        colorscale='Blues',\n",
    "        text=cm,\n",
    "        texttemplate=\"%{text}\",\n",
    "        textfont={\"size\": 20},\n",
    "        hovertemplate='True: %{y}<br>Predicted: %{x}<br>Count: %{z}<extra></extra>',\n",
    "        showscale=False\n",
    "    )\n",
    ")\n",
    "\n",
    "fig_cm.update_layout(\n",
    "    title=f'Confusion Matrix - {best_multi_model}',\n",
    "    xaxis_title='Predicted Label',\n",
    "    yaxis_title='True Label',\n",
    "    height=800,\n",
    "    width=1200\n",
    ")\n",
    "\n",
    "fig_cm.show()"
   ]
  },
  {
   "cell_type": "code",
   "execution_count": 72,
   "id": "8eb47f8d",
   "metadata": {},
   "outputs": [
    {
     "data": {
      "application/vnd.plotly.v1+json": {
       "config": {
        "plotlyServerURL": "https://plot.ly"
       },
       "data": [
        {
         "fill": "toself",
         "hovertemplate": "%{theta}<br>Score: %{r:.4f}<br>Model: Multi-Logistic Regression (base model)<extra></extra>",
         "name": "Multi-Logistic Regression (base model)",
         "r": [
          0.6422,
          0.6514,
          0.6422,
          0.6463
         ],
         "theta": [
          "Accuracy",
          "Precision",
          "Recall",
          "F1 Score"
         ],
         "type": "scatterpolar"
        },
        {
         "fill": "toself",
         "hovertemplate": "%{theta}<br>Score: %{r:.4f}<br>Model: Multi-Random Forest<extra></extra>",
         "name": "Multi-Random Forest",
         "r": [
          0.5882,
          0.6334,
          0.5882,
          0.6004
         ],
         "theta": [
          "Accuracy",
          "Precision",
          "Recall",
          "F1 Score"
         ],
         "type": "scatterpolar"
        },
        {
         "fill": "toself",
         "hovertemplate": "%{theta}<br>Score: %{r:.4f}<br>Model: Multi-Support Vector Machine<extra></extra>",
         "name": "Multi-Support Vector Machine",
         "r": [
          0.6566,
          0.6467,
          0.6566,
          0.6505
         ],
         "theta": [
          "Accuracy",
          "Precision",
          "Recall",
          "F1 Score"
         ],
         "type": "scatterpolar"
        },
        {
         "fill": "toself",
         "hovertemplate": "%{theta}<br>Score: %{r:.4f}<br>Model: Multi-Naive Bayes<extra></extra>",
         "name": "Multi-Naive Bayes",
         "r": [
          0.6047,
          0.6563,
          0.6047,
          0.6151
         ],
         "theta": [
          "Accuracy",
          "Precision",
          "Recall",
          "F1 Score"
         ],
         "type": "scatterpolar"
        }
       ],
       "layout": {
        "height": 600,
        "polar": {
         "radialaxis": {
          "range": [
           0,
           1
          ],
          "visible": true
         }
        },
        "showlegend": true,
        "template": {
         "data": {
          "bar": [
           {
            "error_x": {
             "color": "#2a3f5f"
            },
            "error_y": {
             "color": "#2a3f5f"
            },
            "marker": {
             "line": {
              "color": "#E5ECF6",
              "width": 0.5
             },
             "pattern": {
              "fillmode": "overlay",
              "size": 10,
              "solidity": 0.2
             }
            },
            "type": "bar"
           }
          ],
          "barpolar": [
           {
            "marker": {
             "line": {
              "color": "#E5ECF6",
              "width": 0.5
             },
             "pattern": {
              "fillmode": "overlay",
              "size": 10,
              "solidity": 0.2
             }
            },
            "type": "barpolar"
           }
          ],
          "carpet": [
           {
            "aaxis": {
             "endlinecolor": "#2a3f5f",
             "gridcolor": "white",
             "linecolor": "white",
             "minorgridcolor": "white",
             "startlinecolor": "#2a3f5f"
            },
            "baxis": {
             "endlinecolor": "#2a3f5f",
             "gridcolor": "white",
             "linecolor": "white",
             "minorgridcolor": "white",
             "startlinecolor": "#2a3f5f"
            },
            "type": "carpet"
           }
          ],
          "choropleth": [
           {
            "colorbar": {
             "outlinewidth": 0,
             "ticks": ""
            },
            "type": "choropleth"
           }
          ],
          "contour": [
           {
            "colorbar": {
             "outlinewidth": 0,
             "ticks": ""
            },
            "colorscale": [
             [
              0,
              "#0d0887"
             ],
             [
              0.1111111111111111,
              "#46039f"
             ],
             [
              0.2222222222222222,
              "#7201a8"
             ],
             [
              0.3333333333333333,
              "#9c179e"
             ],
             [
              0.4444444444444444,
              "#bd3786"
             ],
             [
              0.5555555555555556,
              "#d8576b"
             ],
             [
              0.6666666666666666,
              "#ed7953"
             ],
             [
              0.7777777777777778,
              "#fb9f3a"
             ],
             [
              0.8888888888888888,
              "#fdca26"
             ],
             [
              1,
              "#f0f921"
             ]
            ],
            "type": "contour"
           }
          ],
          "contourcarpet": [
           {
            "colorbar": {
             "outlinewidth": 0,
             "ticks": ""
            },
            "type": "contourcarpet"
           }
          ],
          "heatmap": [
           {
            "colorbar": {
             "outlinewidth": 0,
             "ticks": ""
            },
            "colorscale": [
             [
              0,
              "#0d0887"
             ],
             [
              0.1111111111111111,
              "#46039f"
             ],
             [
              0.2222222222222222,
              "#7201a8"
             ],
             [
              0.3333333333333333,
              "#9c179e"
             ],
             [
              0.4444444444444444,
              "#bd3786"
             ],
             [
              0.5555555555555556,
              "#d8576b"
             ],
             [
              0.6666666666666666,
              "#ed7953"
             ],
             [
              0.7777777777777778,
              "#fb9f3a"
             ],
             [
              0.8888888888888888,
              "#fdca26"
             ],
             [
              1,
              "#f0f921"
             ]
            ],
            "type": "heatmap"
           }
          ],
          "histogram": [
           {
            "marker": {
             "pattern": {
              "fillmode": "overlay",
              "size": 10,
              "solidity": 0.2
             }
            },
            "type": "histogram"
           }
          ],
          "histogram2d": [
           {
            "colorbar": {
             "outlinewidth": 0,
             "ticks": ""
            },
            "colorscale": [
             [
              0,
              "#0d0887"
             ],
             [
              0.1111111111111111,
              "#46039f"
             ],
             [
              0.2222222222222222,
              "#7201a8"
             ],
             [
              0.3333333333333333,
              "#9c179e"
             ],
             [
              0.4444444444444444,
              "#bd3786"
             ],
             [
              0.5555555555555556,
              "#d8576b"
             ],
             [
              0.6666666666666666,
              "#ed7953"
             ],
             [
              0.7777777777777778,
              "#fb9f3a"
             ],
             [
              0.8888888888888888,
              "#fdca26"
             ],
             [
              1,
              "#f0f921"
             ]
            ],
            "type": "histogram2d"
           }
          ],
          "histogram2dcontour": [
           {
            "colorbar": {
             "outlinewidth": 0,
             "ticks": ""
            },
            "colorscale": [
             [
              0,
              "#0d0887"
             ],
             [
              0.1111111111111111,
              "#46039f"
             ],
             [
              0.2222222222222222,
              "#7201a8"
             ],
             [
              0.3333333333333333,
              "#9c179e"
             ],
             [
              0.4444444444444444,
              "#bd3786"
             ],
             [
              0.5555555555555556,
              "#d8576b"
             ],
             [
              0.6666666666666666,
              "#ed7953"
             ],
             [
              0.7777777777777778,
              "#fb9f3a"
             ],
             [
              0.8888888888888888,
              "#fdca26"
             ],
             [
              1,
              "#f0f921"
             ]
            ],
            "type": "histogram2dcontour"
           }
          ],
          "mesh3d": [
           {
            "colorbar": {
             "outlinewidth": 0,
             "ticks": ""
            },
            "type": "mesh3d"
           }
          ],
          "parcoords": [
           {
            "line": {
             "colorbar": {
              "outlinewidth": 0,
              "ticks": ""
             }
            },
            "type": "parcoords"
           }
          ],
          "pie": [
           {
            "automargin": true,
            "type": "pie"
           }
          ],
          "scatter": [
           {
            "fillpattern": {
             "fillmode": "overlay",
             "size": 10,
             "solidity": 0.2
            },
            "type": "scatter"
           }
          ],
          "scatter3d": [
           {
            "line": {
             "colorbar": {
              "outlinewidth": 0,
              "ticks": ""
             }
            },
            "marker": {
             "colorbar": {
              "outlinewidth": 0,
              "ticks": ""
             }
            },
            "type": "scatter3d"
           }
          ],
          "scattercarpet": [
           {
            "marker": {
             "colorbar": {
              "outlinewidth": 0,
              "ticks": ""
             }
            },
            "type": "scattercarpet"
           }
          ],
          "scattergeo": [
           {
            "marker": {
             "colorbar": {
              "outlinewidth": 0,
              "ticks": ""
             }
            },
            "type": "scattergeo"
           }
          ],
          "scattergl": [
           {
            "marker": {
             "colorbar": {
              "outlinewidth": 0,
              "ticks": ""
             }
            },
            "type": "scattergl"
           }
          ],
          "scattermap": [
           {
            "marker": {
             "colorbar": {
              "outlinewidth": 0,
              "ticks": ""
             }
            },
            "type": "scattermap"
           }
          ],
          "scattermapbox": [
           {
            "marker": {
             "colorbar": {
              "outlinewidth": 0,
              "ticks": ""
             }
            },
            "type": "scattermapbox"
           }
          ],
          "scatterpolar": [
           {
            "marker": {
             "colorbar": {
              "outlinewidth": 0,
              "ticks": ""
             }
            },
            "type": "scatterpolar"
           }
          ],
          "scatterpolargl": [
           {
            "marker": {
             "colorbar": {
              "outlinewidth": 0,
              "ticks": ""
             }
            },
            "type": "scatterpolargl"
           }
          ],
          "scatterternary": [
           {
            "marker": {
             "colorbar": {
              "outlinewidth": 0,
              "ticks": ""
             }
            },
            "type": "scatterternary"
           }
          ],
          "surface": [
           {
            "colorbar": {
             "outlinewidth": 0,
             "ticks": ""
            },
            "colorscale": [
             [
              0,
              "#0d0887"
             ],
             [
              0.1111111111111111,
              "#46039f"
             ],
             [
              0.2222222222222222,
              "#7201a8"
             ],
             [
              0.3333333333333333,
              "#9c179e"
             ],
             [
              0.4444444444444444,
              "#bd3786"
             ],
             [
              0.5555555555555556,
              "#d8576b"
             ],
             [
              0.6666666666666666,
              "#ed7953"
             ],
             [
              0.7777777777777778,
              "#fb9f3a"
             ],
             [
              0.8888888888888888,
              "#fdca26"
             ],
             [
              1,
              "#f0f921"
             ]
            ],
            "type": "surface"
           }
          ],
          "table": [
           {
            "cells": {
             "fill": {
              "color": "#EBF0F8"
             },
             "line": {
              "color": "white"
             }
            },
            "header": {
             "fill": {
              "color": "#C8D4E3"
             },
             "line": {
              "color": "white"
             }
            },
            "type": "table"
           }
          ]
         },
         "layout": {
          "annotationdefaults": {
           "arrowcolor": "#2a3f5f",
           "arrowhead": 0,
           "arrowwidth": 1
          },
          "autotypenumbers": "strict",
          "coloraxis": {
           "colorbar": {
            "outlinewidth": 0,
            "ticks": ""
           }
          },
          "colorscale": {
           "diverging": [
            [
             0,
             "#8e0152"
            ],
            [
             0.1,
             "#c51b7d"
            ],
            [
             0.2,
             "#de77ae"
            ],
            [
             0.3,
             "#f1b6da"
            ],
            [
             0.4,
             "#fde0ef"
            ],
            [
             0.5,
             "#f7f7f7"
            ],
            [
             0.6,
             "#e6f5d0"
            ],
            [
             0.7,
             "#b8e186"
            ],
            [
             0.8,
             "#7fbc41"
            ],
            [
             0.9,
             "#4d9221"
            ],
            [
             1,
             "#276419"
            ]
           ],
           "sequential": [
            [
             0,
             "#0d0887"
            ],
            [
             0.1111111111111111,
             "#46039f"
            ],
            [
             0.2222222222222222,
             "#7201a8"
            ],
            [
             0.3333333333333333,
             "#9c179e"
            ],
            [
             0.4444444444444444,
             "#bd3786"
            ],
            [
             0.5555555555555556,
             "#d8576b"
            ],
            [
             0.6666666666666666,
             "#ed7953"
            ],
            [
             0.7777777777777778,
             "#fb9f3a"
            ],
            [
             0.8888888888888888,
             "#fdca26"
            ],
            [
             1,
             "#f0f921"
            ]
           ],
           "sequentialminus": [
            [
             0,
             "#0d0887"
            ],
            [
             0.1111111111111111,
             "#46039f"
            ],
            [
             0.2222222222222222,
             "#7201a8"
            ],
            [
             0.3333333333333333,
             "#9c179e"
            ],
            [
             0.4444444444444444,
             "#bd3786"
            ],
            [
             0.5555555555555556,
             "#d8576b"
            ],
            [
             0.6666666666666666,
             "#ed7953"
            ],
            [
             0.7777777777777778,
             "#fb9f3a"
            ],
            [
             0.8888888888888888,
             "#fdca26"
            ],
            [
             1,
             "#f0f921"
            ]
           ]
          },
          "colorway": [
           "#636efa",
           "#EF553B",
           "#00cc96",
           "#ab63fa",
           "#FFA15A",
           "#19d3f3",
           "#FF6692",
           "#B6E880",
           "#FF97FF",
           "#FECB52"
          ],
          "font": {
           "color": "#2a3f5f"
          },
          "geo": {
           "bgcolor": "white",
           "lakecolor": "white",
           "landcolor": "#E5ECF6",
           "showlakes": true,
           "showland": true,
           "subunitcolor": "white"
          },
          "hoverlabel": {
           "align": "left"
          },
          "hovermode": "closest",
          "mapbox": {
           "style": "light"
          },
          "paper_bgcolor": "white",
          "plot_bgcolor": "#E5ECF6",
          "polar": {
           "angularaxis": {
            "gridcolor": "white",
            "linecolor": "white",
            "ticks": ""
           },
           "bgcolor": "#E5ECF6",
           "radialaxis": {
            "gridcolor": "white",
            "linecolor": "white",
            "ticks": ""
           }
          },
          "scene": {
           "xaxis": {
            "backgroundcolor": "#E5ECF6",
            "gridcolor": "white",
            "gridwidth": 2,
            "linecolor": "white",
            "showbackground": true,
            "ticks": "",
            "zerolinecolor": "white"
           },
           "yaxis": {
            "backgroundcolor": "#E5ECF6",
            "gridcolor": "white",
            "gridwidth": 2,
            "linecolor": "white",
            "showbackground": true,
            "ticks": "",
            "zerolinecolor": "white"
           },
           "zaxis": {
            "backgroundcolor": "#E5ECF6",
            "gridcolor": "white",
            "gridwidth": 2,
            "linecolor": "white",
            "showbackground": true,
            "ticks": "",
            "zerolinecolor": "white"
           }
          },
          "shapedefaults": {
           "line": {
            "color": "#2a3f5f"
           }
          },
          "ternary": {
           "aaxis": {
            "gridcolor": "white",
            "linecolor": "white",
            "ticks": ""
           },
           "baxis": {
            "gridcolor": "white",
            "linecolor": "white",
            "ticks": ""
           },
           "bgcolor": "#E5ECF6",
           "caxis": {
            "gridcolor": "white",
            "linecolor": "white",
            "ticks": ""
           }
          },
          "title": {
           "x": 0.05
          },
          "xaxis": {
           "automargin": true,
           "gridcolor": "white",
           "linecolor": "white",
           "ticks": "",
           "title": {
            "standoff": 15
           },
           "zerolinecolor": "white",
           "zerolinewidth": 2
          },
          "yaxis": {
           "automargin": true,
           "gridcolor": "white",
           "linecolor": "white",
           "ticks": "",
           "title": {
            "standoff": 15
           },
           "zerolinecolor": "white",
           "zerolinewidth": 2
          }
         }
        },
        "title": {
         "text": "Model Performance Radar Chart"
        }
       }
      }
     },
     "metadata": {},
     "output_type": "display_data"
    }
   ],
   "source": [
    "# Plot 4. Radar chart for model comparison\n",
    "fig_radar = go.Figure()\n",
    "\n",
    "for model in multi_results_df.index:\n",
    "    fig_radar.add_trace(go.Scatterpolar(\n",
    "        r=[multi_results_df.loc[model, metric] for metric in metrics],\n",
    "        theta=[metric.replace('_', ' ').title() for metric in metrics],\n",
    "        fill='toself',\n",
    "        name=model,\n",
    "        hovertemplate='%{theta}<br>Score: %{r:.4f}<br>Model: ' + model + '<extra></extra>'\n",
    "    ))\n",
    "\n",
    "fig_radar.update_layout(\n",
    "    polar=dict(\n",
    "        radialaxis=dict(\n",
    "            visible=True,\n",
    "            range=[0, 1]\n",
    "        )),\n",
    "    title=\"Model Performance Radar Chart\",\n",
    "    height=600,\n",
    "    showlegend=True\n",
    ")\n",
    "\n",
    "fig_radar.show()"
   ]
  },
  {
   "cell_type": "markdown",
   "id": "39ab7c17",
   "metadata": {},
   "source": [
    "#### **Model Evaluation**"
   ]
  },
  {
   "cell_type": "code",
   "execution_count": null,
   "id": "72e84904",
   "metadata": {},
   "outputs": [
    {
     "name": "stdout",
     "output_type": "stream",
     "text": [
      "COMPREHENSIVE MODEL EVALUATION ON TEST SET\n",
      "\n",
      "1. FULL TEST SET EVALUATION (708 samples)\n",
      "\n",
      "Detailed Classification Report:\n",
      "              precision    recall  f1-score   support\n",
      "\n",
      "    Negative       0.31      0.25      0.28       114\n",
      "    Positive       0.57      0.52      0.54       594\n",
      "     Neutral       0.72      0.77      0.75      1106\n",
      "\n",
      "    accuracy                           0.66      1814\n",
      "   macro avg       0.54      0.51      0.52      1814\n",
      "weighted avg       0.65      0.66      0.65      1814\n",
      "\n",
      "\n",
      "2. SAMPLE PREDICTIONS FROM X_TEST (first 10 tweets)\n",
      "\n",
      "Tweet 1: #tech #Apple Opening Pop-Up Store in Austin for #SXSW Geekfest [Apple]...\n",
      "Predicted: Neutral (conf: 0.761) | True: Neutral correct\n",
      "\n",
      "Tweet 2: &quot;...by the law of averages, better than Buzz&quot; RT @mention &q...\n",
      "Predicted: Negative (conf: 0.610) | True: Positive incorrect\n",
      "\n",
      "Tweet 3: #SXSW 2011: Novelty of #iPad news apps fades fast among digital delega...\n",
      "Predicted: Negative (conf: 0.931) | True: Negative correct\n",
      "\n",
      "Tweet 4: RT @mention Historical photo mashup with Google maps at {link} #SXSW...\n",
      "Predicted: Neutral (conf: 0.675) | True: Neutral correct\n",
      "\n",
      "Tweet 5: You'll have to wait 4-5 weeks for an iPad 2, but not at the #AppleATXd...\n",
      "Predicted: Positive (conf: 0.579) | True: Negative incorrect\n",
      "\n",
      "Tweet 6: Just had my 1st 27&quot; LCD cinema display FaceTime to IPad 2 FaceTim...\n",
      "Predicted: Neutral (conf: 0.566) | True: Neutral correct\n",
      "\n",
      "Tweet 7: ÛÏ@mention At Google, 4 people do the work of 7 people rather than 7 ...\n",
      "Predicted: Positive (conf: 0.744) | True: Positive correct\n",
      "\n",
      "Tweet 8: Line a mile long outside. Lucky to get in just to sit on the floor -Yo...\n",
      "Predicted: Neutral (conf: 0.588) | True: Neutral correct\n",
      "\n",
      "Tweet 9: Headed to #Austin for #SXSW? Check out my map for newbies {link} @ment...\n",
      "Predicted: Neutral (conf: 0.832) | True: Neutral correct\n",
      "\n",
      "Tweet 10: Guy next to me is carefully studying the &quot;best parties at #SXSW 1...\n",
      "Predicted: Neutral (conf: 0.703) | True: Neutral correct\n",
      "\n",
      "3. MISCLASSIFIED EXAMPLES\n",
      "Total misclassified: 623 out of 1814\n",
      "\n",
      "First 5 misclassified examples:\n",
      "\n",
      "Misclassified 1:\n",
      "Tweet: &quot;...by the law of averages, better than Buzz&quot; RT @mention &quot;Google...\n",
      "True: Positive | Predicted: Negative (conf: 0.610)\n",
      "\n",
      "Misclassified 2:\n",
      "Tweet: You'll have to wait 4-5 weeks for an iPad 2, but not at the #AppleATXdt pop-up! ...\n",
      "True: Negative | Predicted: Positive (conf: 0.579)\n",
      "\n",
      "Misclassified 3:\n",
      "Tweet: The queue starts early at the #sxsw Apple pop-up shop: {link}...\n",
      "True: Neutral | Predicted: Positive (conf: 0.648)\n",
      "\n",
      "Misclassified 4:\n",
      "Tweet: RT @mention Hmm....only 9? #SXSW right-brain #mwrc11 left-brain?? :) RT @mention...\n",
      "True: Neutral | Predicted: Positive (conf: 0.842)\n",
      "\n",
      "Misclassified 5:\n",
      "Tweet: RT @mention Selfishness as seen through brands: Mac versus Apple. Apple wins: th...\n",
      "True: Neutral | Predicted: Positive (conf: 0.794)\n",
      "\n",
      "4. TESTING WITH THE LAST 5 TWEETS FROM X_TEST\n",
      "\n",
      "Predicting sentiment for sample tweets from X_test:\n",
      "\n",
      "Tweet 1: Time Warner Cable to roll iPad app with live TV on March 15 ...\n",
      "Prediction: Positive (confidence: 0.629)\n",
      "Probabilities: Neg=0.011, Pos=0.629\n",
      "\n",
      "Tweet 2: RT @mention The #SXSW iPhone app is mocking me. Like I have ...\n",
      "Prediction: Negative (confidence: 0.627)\n",
      "Probabilities: Neg=0.627, Pos=0.293\n",
      "\n",
      "Tweet 3: RT @mention RT @mention #Google to Launch Major New Social N...\n",
      "Prediction: Neutral (confidence: 0.780)\n",
      "Probabilities: Neg=0.018, Pos=0.202\n",
      "\n",
      "Tweet 4: hahahahah that's funny RT @mention Never seen so many heads ...\n",
      "Prediction: Neutral (confidence: 0.641)\n",
      "Probabilities: Neg=0.018, Pos=0.342\n",
      "\n",
      "Tweet 5: RT @mention Hey Austin, know a little about #iPhone or #Andr...\n",
      "Prediction: Neutral (confidence: 0.876)\n",
      "Probabilities: Neg=0.006, Pos=0.119\n"
     ]
    }
   ],
   "source": [
    "# save the best model pipeline\n",
    "best_model_name = 'Multi-Support Vector Machine'\n",
    "best_pipeline_final = multi_pipelines[best_model_name]\n",
    "joblib.dump(best_pipeline_final, 'models/multi_nlp_model.pkl')\n",
    "\n",
    "# load the saved model for implementation\n",
    "multi_loaded_model = joblib.load('models/multi_nlp_model.pkl')\n",
    "\n",
    "# model evaluation on the test set\n",
    "print(\"Comprehensive Model Evaluation on Test Set\")\n",
    "\n",
    "# 1. Evaluate on entire X_test set\n",
    "print(f\"\\n1. Full Test set evaluation ({len(X_test)} samples)\")\n",
    "\n",
    "# Make predictions on entire test set\n",
    "test_predictions_mul = multi_loaded_model.predict(X_test_mul)\n",
    "test_probabilities_mul = multi_loaded_model.predict_proba(X_test_mul)\n",
    "\n",
    "# Show classification report\n",
    "print(f\"\\nDetailed Classification Report:\")\n",
    "print(classification_report(y_test_mul, test_predictions_mul, \n",
    "                          target_names=['Negative', 'Positive', 'Neutral']))\n",
    "\n",
    "# 2. Sample predictions from X_test\n",
    "print(f\"\\n2. Sample predictions from X_test_mul (first 10 tweets)\")\n",
    "for i in range(min(10, len(X_test_mul))):\n",
    "    tweet_text = X_test_mul.iloc[i]['tweet']\n",
    "    prediction = test_predictions_mul[i]\n",
    "    prob = test_probabilities_mul[i]\n",
    "    true_label = y_test_mul.iloc[i]\n",
    "\n",
    "    pred_sentiment = \"Positive\" if prediction == 1 else \"Negative\" if prediction == 0 else \"Neutral\"\n",
    "    true_sentiment = \"Positive\" if true_label == 1 else \"Negative\" if true_label == 0 else \"Neutral\"\n",
    "    confidence = max(prob)\n",
    "    \n",
    "    # Check if prediction is correct\n",
    "    correct = \"correct\" if prediction == true_label else \"incorrect\"\n",
    "    \n",
    "    print(f\"\\nTweet {i+1}: {tweet_text[:70]}...\")\n",
    "    print(f\"Predicted: {pred_sentiment} (conf: {confidence:.3f}) | True: {true_sentiment} {correct}\")\n",
    "\n",
    "# 3. Show misclassified examples\n",
    "print(f\"\\n3. Misclassified Examples\")\n",
    "misclassified_indices = np.where(test_predictions_mul != y_test_mul.values)[0]\n",
    "print(f\"Total misclassified: {len(misclassified_indices)} out of {len(X_test_mul)}\")\n",
    "\n",
    "if len(misclassified_indices) > 0:\n",
    "    print(\"\\nFirst 5 misclassified examples:\")\n",
    "    for i, idx in enumerate(misclassified_indices[:5]):\n",
    "        tweet_text = X_test_mul.iloc[idx]['tweet']\n",
    "        prediction = test_predictions_mul[idx]\n",
    "        prob = test_probabilities_mul[idx]\n",
    "        true_label = y_test_mul.iloc[idx]\n",
    "\n",
    "        pred_sentiment = \"Positive\" if prediction == 1 else \"Negative\" if prediction == 0 else \"Neutral\"\n",
    "        true_sentiment = \"Positive\" if true_label == 1 else \"Negative\" if true_label == 0 else \"Neutral\"\n",
    "        confidence = max(prob)\n",
    "        \n",
    "        print(f\"\\nMisclassified {i+1}:\")\n",
    "        print(f\"Tweet: {tweet_text[:80]}...\")\n",
    "        print(f\"True: {true_sentiment} | Predicted: {pred_sentiment} (conf: {confidence:.3f})\")\n",
    "\n",
    "\n",
    "# test with new sample tweets\n",
    "print(f\"\\n4. Testing with the last 5 tweets from X_test_mul\")\n",
    "\n",
    "# Create a helper function to format input data correctly\n",
    "def prepare_tweet_for_prediction(tweet_text):\n",
    "    \"\"\"\n",
    "    Prepare a single tweet for prediction by creating the correct DataFrame format\n",
    "    \"\"\"\n",
    "    # The model expects a DataFrame with 'tweet' column\n",
    "    # No need for additional features since TweetPreprocessor handles everything\n",
    "    return pd.DataFrame({'tweet': [tweet_text]})\n",
    "\n",
    "# Enhanced prediction function (implement the loaded multi-class model)\n",
    "def predict_sentiment(text, model=multi_loaded_model):\n",
    "    \"\"\"\n",
    "    Predict sentiment using the trained model with proper data formatting\n",
    "    \"\"\"\n",
    "    # Prepare the input data in the correct format\n",
    "    tweet_data = prepare_tweet_for_prediction(text)\n",
    "    \n",
    "    # Get prediction probabilities\n",
    "    probabilities = model.predict_proba(tweet_data)[0]\n",
    "    \n",
    "    # Get the actual prediction (0 or 1)\n",
    "    prediction = model.predict(tweet_data)[0]\n",
    "    \n",
    "    # Correct mapping\n",
    "    sentiment_mapping = {0: 'Negative', 1: 'Positive', 2: 'Neutral'}\n",
    "    sentiment = sentiment_mapping[prediction]\n",
    "    \n",
    "    # Get confidence (probability of predicted class)\n",
    "    confidence = probabilities[prediction]\n",
    "    \n",
    "    return {\n",
    "        'sentiment': sentiment,\n",
    "        'confidence': confidence,\n",
    "        'probabilities': {\n",
    "            'negative': probabilities[0],\n",
    "            'positive': probabilities[1],\n",
    "            'neutral': probabilities[2]\n",
    "        },\n",
    "        'raw_prediction': prediction\n",
    "    }\n",
    "\n",
    "# Test with sample tweets from X_test\n",
    "test_tweets = X_test_mul['tweet'].tail(5).tolist()\n",
    "\n",
    "print(\"\\nPredicting sentiment for sample tweets from X_test_mul:\")\n",
    "for i, tweet in enumerate(test_tweets, 1):\n",
    "    result = predict_sentiment(tweet)\n",
    "    \n",
    "    print(f\"\\nTweet {i}: {tweet[:60]}...\")\n",
    "    print(f\"Prediction: {result['sentiment']} (confidence: {result['confidence']:.3f})\")\n",
    "    print(f\"Probabilities: Neg={result['probabilities']['negative']:.3f}, \"\n",
    "          f\"Pos={result['probabilities']['positive']:.3f}\")"
   ]
  },
  {
   "cell_type": "markdown",
   "id": "e92d2acb",
   "metadata": {},
   "source": [
    "The multi-class classification section extends the sentiment analysis task to predict three sentiment classes: **Positive**, **Negative**, and **Neutral**. The following steps were performed:\n",
    "\n",
    "- **Data Preparation:**  \n",
    "  The dataset was prepared by including all three sentiment classes and encoding them numerically (`0` for Negative, `1` for Positive, `2` for Neutral). The data was then split into training and testing sets using stratified sampling to maintain class distribution.\n",
    "\n",
    "- **Pipeline Construction:**  \n",
    "  Multiple machine learning pipelines were defined using the `imblearn` Pipeline, each combining the custom `TweetPreprocessor` (for text cleaning and vectorization), SMOTE (to address class imbalance), and the different classification algorithms.\n",
    "\n",
    "- **Model Training & Evaluation:**  \n",
    "  Each pipeline was trained on the training set and evaluated on the test set. Key metrics—accuracy, precision, recall, and F1-score—were computed for each model and summarized in a results table.\n",
    "\n",
    "- **Visualization:**  \n",
    "  Model performance was visualized using interactive Plotly charts, including grouped bar charts, pie charts for F1-score comparison, confusion matrices, and radar charts for metric comparison.\n",
    "\n",
    "- **Confusion Matrix Analysis:**  \n",
    "  The confusion matrix for the best-performing model was analyzed to understand the distribution of correct and incorrect predictions across all sentiment classes.\n",
    "\n",
    "- **Sample Predictions & Error Analysis:**  \n",
    "  The best model was used to make predictions on sample tweets, and misclassified examples were reviewed to identify areas for improvement."
   ]
  },
  {
   "cell_type": "markdown",
   "id": "e3f33060",
   "metadata": {},
   "source": [
    "From the model evaluation section, we can note the following:\n",
    "- In the classification report for the Multi-Support Vector Machine (Best model):\n",
    "    - The neutral class dominates performance, both in frequency and in prediction accuracy\n",
    "\n",
    "    - The negative class is performing poorly: recall is only 25%, which implies that most negative tweets are not being captured correctly\n",
    "\n",
    "    - The positive class is performing moderately, but it is not higly reliable\n",
    "\n",
    "- Class distriution imbalance:\n",
    "    - The neutral tweets are almost double of the count of the other classes, which strongly biases the model\n",
    "\n",
    "    - This explains why many positive and negative tweets are incorrectly predicted as neutral\n",
    "\n",
    "- From the 10 example tweets:\n",
    "    - 7/10 predictions were correct, which seems promising\n",
    "\n",
    "    - Misclassified examples mostly occur between positive/negative or neutral/positive, indicaing the model struggles to detect tone differences\n",
    "\n",
    "- Misclassification trends:\n",
    "    - Neutral predictions seem to be the \"safe defaults\", probably due to the class dominance"
   ]
  },
  {
   "cell_type": "markdown",
   "id": "90151794",
   "metadata": {},
   "source": [
    "## **5. Model Predictions Interpretation**\n",
    "In this section, we will use LIME (Local Interpretable Model-Agnostic Explanations) for explaining individual predictions. It basically attempts to understand the model by perusing through the input of data samples, and understanding how the predictions change.\n",
    "\n",
    "We will first start with implementing LIME in the Naive Bayes binary classifier model."
   ]
  },
  {
   "cell_type": "code",
   "execution_count": 44,
   "id": "de3899e3",
   "metadata": {},
   "outputs": [
    {
     "name": "stdout",
     "output_type": "stream",
     "text": [
      "Sample Tweet: iPhone version of flipboard hopefully out this summer #sxflip #sxsw\n",
      "True Label: Positive\n",
      "Intercept 0.7551710077085136\n",
      "Prediction_local [0.58548641]\n",
      "Right: 0.6\n",
      "\n",
      "LIME Explanation:\n",
      "Words contributing to the prediction:\n",
      "'iPhone': -0.3682 (NEGATIVE)\n",
      "'sxflip': 0.1650 (POSITIVE)\n",
      "'sxsw': -0.0943 (NEGATIVE)\n",
      "'flipboard': 0.0766 (POSITIVE)\n",
      "'version': 0.0700 (POSITIVE)\n",
      "'summer': -0.0109 (NEGATIVE)\n",
      "'hopefully': -0.0068 (NEGATIVE)\n",
      "'of': 0.0020 (POSITIVE)\n",
      "'out': -0.0016 (NEGATIVE)\n",
      "'this': -0.0015 (NEGATIVE)\n"
     ]
    }
   ],
   "source": [
    "# create the LIME explainer for the best binary model\n",
    "explainer = lime.lime_text.LimeTextExplainer(\n",
    "    class_names=['Negative', 'Positive'],\n",
    "    # mode='classification',\n",
    "    verbose=True\n",
    ")\n",
    "\n",
    "# Create a wrapper function for the model prediction\n",
    "def model_predict_wrapper(texts):\n",
    "    \"\"\"\n",
    "    Wrapper function to make predictions compatible with LIME\n",
    "    LIME expects a function that takes a list of text strings and returns probabilities\n",
    "    \"\"\"\n",
    "    # Convert texts to the correct DataFrame format\n",
    "    text_df = pd.DataFrame({'tweet': texts})\n",
    "    \n",
    "    # Get predictions using the trained pipeline\n",
    "    probabilities = best_pipeline_obj.predict_proba(text_df)\n",
    "    \n",
    "    return probabilities\n",
    "\n",
    "# Choose a sample tweet from the test set for explanation\n",
    "sample_idx = 10\n",
    "sample_tweet = X_test['tweet'].iloc[sample_idx]\n",
    "true_label = y_test.iloc[sample_idx]\n",
    "\n",
    "print(f\"Sample Tweet: {sample_tweet}\")\n",
    "print(f\"True Label: {'Positive' if true_label == 1 else 'Negative'}\")\n",
    "\n",
    "# Generate explanation for the sample tweet\n",
    "exp = explainer.explain_instance(\n",
    "    sample_tweet,\n",
    "    model_predict_wrapper,\n",
    "    num_features=10,  # Show top 10 most important words\n",
    "    num_samples=5000  # Number of perturbed samples for explanation\n",
    ")\n",
    "\n",
    "# Display the explanation\n",
    "print(\"\\nLIME Explanation:\")\n",
    "print(\"Words contributing to the prediction:\")\n",
    "for feature, weight in exp.as_list():\n",
    "    direction = \"POSITIVE\" if weight > 0 else \"NEGATIVE\"\n",
    "    print(f\"'{feature}': {weight:.4f} ({direction})\")\n",
    "\n",
    "# Show the explanation as HTML (for Jupyter notebooks)\n",
    "exp.save_to_file('LIME_files/binary_lime_explanation.html')\n"
   ]
  },
  {
   "cell_type": "markdown",
   "id": "8eaf395a",
   "metadata": {},
   "source": [
    "Next, we will perform LIME for the Multi-class model (Support Vector Machine)"
   ]
  },
  {
   "cell_type": "code",
   "execution_count": 47,
   "id": "97b8f636",
   "metadata": {},
   "outputs": [
    {
     "name": "stdout",
     "output_type": "stream",
     "text": [
      "Sample Tweet: @mention saw a man drop his iphone in a gutter last year. #SXSW\n",
      "True Label: Neutral\n",
      "Intercept -0.034545363780034755\n",
      "Prediction_local [0.3997838]\n",
      "Right: 0.39119475197368286\n",
      "\n",
      "LIME Explanation:\n",
      "Words contributing to the prediction:\n",
      "'SXSW': 0.1460 (POSITIVE)\n",
      "'saw': 0.1206 (POSITIVE)\n",
      "'drop': 0.0680 (POSITIVE)\n",
      "'year': 0.0519 (POSITIVE)\n",
      "'man': 0.0449 (POSITIVE)\n",
      "'iphone': -0.0035 (NEGATIVE)\n",
      "'mention': 0.0021 (POSITIVE)\n",
      "'a': 0.0015 (POSITIVE)\n",
      "'last': 0.0014 (POSITIVE)\n",
      "'his': 0.0012 (POSITIVE)\n"
     ]
    }
   ],
   "source": [
    "# create the LIME explainer for the best multi-class model\n",
    "explainer = lime.lime_text.LimeTextExplainer(\n",
    "    class_names=['Negative', 'Positive', 'Neutral'],\n",
    "    verbose=True\n",
    ")\n",
    "\n",
    "# Create a wrapper function for the model prediction\n",
    "def model_predict_wrapper(texts):\n",
    "    \"\"\"\n",
    "    Wrapper function to make predictions compatible with LIME\n",
    "    LIME expects a function that takes a list of text strings and returns probabilities\n",
    "    \"\"\"\n",
    "    # Convert texts to the correct DataFrame format\n",
    "    text_df = pd.DataFrame({'tweet': texts})\n",
    "    \n",
    "    # Get predictions using the trained pipeline\n",
    "    probabilities = best_pipeline_multi.predict_proba(text_df)\n",
    "    \n",
    "    return probabilities\n",
    "\n",
    "# Choose a sample tweet from the test set for explanation\n",
    "sample_idx = 30\n",
    "sample_tweet = X_test_mul['tweet'].iloc[sample_idx]\n",
    "true_label = y_test_mul.iloc[sample_idx]\n",
    "\n",
    "print(f\"Sample Tweet: {sample_tweet}\")\n",
    "print(f\"True Label: {'Positive' if true_label == 1 else 'Negative' if true_label == 0 else 'Neutral'}\")\n",
    "\n",
    "# Generate explanation for the sample tweet\n",
    "exp = explainer.explain_instance(\n",
    "    sample_tweet,\n",
    "    model_predict_wrapper,\n",
    "    num_features=10,  # Show top 10 most important words\n",
    "    num_samples=5000  # Number of perturbed samples for explanation\n",
    ")\n",
    "\n",
    "# Display the explanation\n",
    "print(\"\\nLIME Explanation:\")\n",
    "print(\"Words contributing to the prediction:\")\n",
    "for feature, weight in exp.as_list():\n",
    "    direction = \"POSITIVE\" if weight > 0 else \"NEGATIVE\" if weight < 0 else \"NEUTRAL\"\n",
    "    print(f\"'{feature}': {weight:.4f} ({direction})\")\n",
    "\n",
    "# Show the explanation as HTML (for Jupyter notebooks)\n",
    "exp.save_to_file('LIME_files/multi_lime_explanation.html')"
   ]
  },
  {
   "cell_type": "markdown",
   "id": "dcc314cb",
   "metadata": {},
   "source": [
    "#### **LIME Interpretation Results**\n",
    "\n",
    "##### **1. Binary Classification LIME Explanation**\n",
    "\n",
    "- **Model:** Random Forest (Binary: Positive vs Negative)\n",
    "- **Sample Tweet:**  \n",
    "    The LIME explainer highlights the top words in the tweet that most influenced the model's prediction toward either \"Positive\" or \"Negative\".\n",
    "- **Interpretation:**  \n",
    "    - Words with **positive weights** contributed to a \"Positive\" prediction.\n",
    "    - Words with **negative weights** contributed to a \"Negative\" prediction.\n",
    "    - The explanation shows which specific terms (e.g., product names, adjectives, hashtags) the model associates with positive or negative sentiment.\n",
    "- This helps understand why the model classified a tweet as positive or negative.\n",
    "\n",
    "##### **2. Multi-Class Classification LIME Explanation**\n",
    "\n",
    "- **Model:** Support Vector Machine (Multi-class: Positive, Negative, Neutral)\n",
    "- **Sample Tweet:**  \n",
    "    LIME identifies the top words that influenced the prediction toward \"Positive\", \"Negative\", or \"Neutral\".\n",
    "- **Interpretation:**  \n",
    "    - Words with **strong positive weights** push the prediction toward \"Positive\".\n",
    "    - Words with **strong negative weights** push toward \"Negative\".\n",
    "    - Words with weights close to zero or mixed influence may indicate \"Neutral\" sentiment or ambiguity.\n",
    "    - The explanation helps visualize how the model distinguishes between all three classes based on tweet content.\n",
    "\n",
    "**Summary:**  \n",
    "LIME explanations offer actionable insights into model behavior by showing which words in a tweet most affect sentiment predictions. This improves interpretability, supports debugging, and builds trust in automated sentiment analysis systems."
   ]
  },
  {
   "cell_type": "markdown",
   "id": "d3ea0b50",
   "metadata": {},
   "source": [
    "## **6. Conclusion**\n",
    "\n",
    "This comprehensive Twitter sentiment analysis project has provided valuable insights into the challenges and opportunities of automated sentiment classification for Apple and Google products. The analysis encompassed both binary and multi-class classification approaches, revealing important patterns about social media sentiment and model performance.\n",
    "\n",
    "##### **Binary Classification Performance**\n",
    "The binary classification models (positive vs. negative) achieved strong performance:\n",
    "\n",
    "- **Best Model**: Naive Bayes with **87.6% accuracy** and **87.2% F1-score**\n",
    "- **Consistent Performance**: All models achieved F1-scores above 81%, indicating robust sentiment detection capabilities\n",
    "- **Effective Class Balance**: SMOTE oversampling successfully addressed the class imbalance issue.\n",
    "\n",
    "| Model | Accuracy | Precision | Recall | F1-Score |\n",
    "|-------|----------|-----------|--------|----------|\n",
    "| **Naive Bayes** | **87.6%** | **87.0%** | **87.6%** | **87.2%** |\n",
    "| XGBoost | 86.0% | 84.3% | 86.0% | 84.6% |\n",
    "| Logistic Regression | 84.6% | 86.1% | 84.6% | 85.2% |\n",
    "| Random Forest | 80.1% | 84.1% | 80.1% | 81.6% |\n",
    "\n",
    "##### **Multi-Class Classification Challenges**\n",
    "The extension to three-class classification (positive, negative, neutral) revealed significant challenges:\n",
    "\n",
    "- **Reduced Performance**: Best model (SVM) achieved only **65.7% accuracy** and **65.1% F1-score**\n",
    "- **Class Imbalance Impact**: The dominance of neutral tweets (60.98%) created prediction bias\n",
    "- **Poor Negative Detection**: Negative sentiment recall dropped to only 25% from the classification report, indicating most negative tweets were misclassified\n",
    "\n",
    "| Model | Accuracy | Precision | Recall | F1-Score |\n",
    "|-------|----------|-----------|--------|----------|\n",
    "| **Multi-SVM** | **65.7%** | **64.7%** | **65.7%** | **65.1%** |\n",
    "| Multi-Logistic Regression | 64.2% | 65.1% | 64.2% | 64.6% |\n",
    "| Multi-Naive Bayes | 60.5% | 65.6% | 60.5% | 61.5% |\n",
    "| Multi-Random Forest | 58.8% | 63.3% | 58.8% | 60.0% |\n",
    "\n",
    "##### **Model Behavior Patterns**\n",
    "- **Naive Bayes**: Excelled in binary classification due to its probabilistic nature and text-friendly assumptions\n",
    "- **SVM**: Performed best in multi-class scenarios but struggled with neutral class dominance\n",
    "- **Ensemble Methods**: Random Forest and XGBoost showed consistent but not exceptional performance\n",
    "\n",
    "#### **6.1. Business Implications**\n",
    "\n",
    "##### **Brand Sentiment Insights**\n",
    "- **Apple Products**: Consistently received more positive sentiment (>80%) across iPad, iPhone, and general Apple mentions\n",
    "- **Google Performance**: Maintained strong positive sentiment (~80%) but with slightly higher negative proportions\n",
    "- **Product-Specific Patterns**: Directed tweets showed more emotional engagement than general brand mentions\n",
    "\n",
    "##### **Market Intelligence Opportunities**\n",
    "- **Real-time Monitoring**: Binary classification models are production-ready for positive/negative sentiment tracking\n",
    "- **Competitive Analysis**: Clear differentiation in sentiment patterns between Apple and Google products\n",
    "- **Product Development**: Negative sentiment analysis can guide improvement priorities\n",
    "\n",
    "#### **6.2. Limitations and Challenges**\n",
    "- **Neutral Class Dominance**: 61% neutral tweets created overwhelming bias toward safe predictions\n",
    "- **Imbalanced Distribution**: Severe underrepresentation of negative sentiment (6.27%), and overrepresentation of neutral sentiment (60.98%)\n",
    "\n",
    "#### **6.3. Recommendations**\n",
    "- **Deploy Binary Models**: Implement Naive Bayes for reliable positive/negative sentiment monitoring\n",
    "- **Continuous Learning**: Implement feedback loops to improve model accuracy over time\n",
    "- **Balanced Sampling**: Collect more negative sentiment examples to balance the dataset\n",
    "- **Ensemble Approaches**: Combine binary and multi-class models for hybrid predictions\n",
    "- **Crisis Detection**: Use negative sentiment models for early warning systems\n",
    "- **Product Feedback**: Implement sentiment analysis in product review pipelines"
   ]
  },
  {
   "cell_type": "markdown",
   "id": "b0f5a8d8",
   "metadata": {},
   "source": [
    "## **7. Next Steps**\n",
    "- **Implement Deep Learning Models**: Implement a deep learning model with custom Dense layers for sentiment predictions\n",
    "- **Leverage Transfer Learning**: Utilize pre-trained sentiment models such as distilBERT or roBERTa for improved performance\n",
    "- **Feature Engineering**: Incorporate emoji analysis and user metadata for an enriched dataset\n",
    "- **Model Deployment**: Deploy the binary saved model using FastAPI, Streamlit, or Gradio for real-time sentiment feedback\n",
    "\n",
    "## **8. Final Assessment**\n",
    "This sentiment analysis project successfully demonstrates that:\n",
    "- **Binary sentiment classification is highly effective** for social media monitoring with 87%+ accuracy\n",
    "- **Multi-class classification requires specialized approaches** to handle neutral sentiment dominance"
   ]
  },
  {
   "cell_type": "markdown",
   "id": "2be2da3b",
   "metadata": {},
   "source": []
  }
 ],
 "metadata": {
  "kernelspec": {
   "display_name": "venv",
   "language": "python",
   "name": "python3"
  },
  "language_info": {
   "codemirror_mode": {
    "name": "ipython",
    "version": 3
   },
   "file_extension": ".py",
   "mimetype": "text/x-python",
   "name": "python",
   "nbconvert_exporter": "python",
   "pygments_lexer": "ipython3",
   "version": "3.12.3"
  }
 },
 "nbformat": 4,
 "nbformat_minor": 5
}
