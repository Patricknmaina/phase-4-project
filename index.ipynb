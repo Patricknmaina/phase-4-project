{
 "cells": [
  {
   "attachments": {},
   "cell_type": "markdown",
   "metadata": {},
   "source": [
    "#        Twitter Sentiment Analysis(Natural Language Processing)\n",
    "\n"
   ]
  },
  {
   "cell_type": "markdown",
   "metadata": {},
   "source": [
    "# Business Understanding\n",
    "\n",
    "## Introduction\n",
    "Understanding customer sentiment is key to maintaining a competitive edge in the tech industry, where perception can drive product success or failure. By leveraging Twitter data, businesses can monitor trends, assess satisfaction, and adapt to customer expectations. This project aims to construct a sentiment analysis model capable of classifying tweets about Apple and Google products into positive or negative sentiments"
   ]
  },
  {
   "cell_type": "markdown",
   "metadata": {},
   "source": [
    "## Problem Statement\n",
    "Apple and Google have built their reputations as industry leaders by cultivating strong customer trust and positive public perception. Today, as consumers turn to social media platforms like Twitter to voice their thoughts, it has become vital for these companies to understand and respond to customer sentiment. To meet this challenge, algorithms capable of detecting and classifying user sentiments have become an essential tool for brand and product strategies."
   ]
  },
  {
   "cell_type": "markdown",
   "metadata": {},
   "source": [
    "## Objectives\n",
    "- To apply **text preprocessing and vectorization** techniques to prepare the Twitter data for effective model training.\n",
    "\n",
    "- To develop a **binary sentiment** classifier to distinguish between positive and negative tweets, as a baseline.\n",
    "- To evaluate classifier performance using appropriate metrics such as F1-score, precision and recall, particularly for imbalanced classes.\n",
    "\n",
    "- To provide actionable data-driven insights and recommendations."
   ]
  },
  {
   "cell_type": "markdown",
   "metadata": {},
   "source": [
    "## Data understanding\n",
    "This step involves conducting an exploratory data analysis (EDA) to understand the dataset’s characteristics. Using key Python libraries such as pandas, numpy, and matplotlib, I examine the available features, assess their data types, and check for missing values or anomalies. This process provides valuable insights into the dataset’s quality and structure, ensuring it is well-understood before moving on to the subsequent stages of cleaning, preprocessing, and vectorization.\n",
    "\n",
    "The dataset provides three main features:\n",
    "\n",
    "- `tweet_text`: The core content of the tweet, which serves as the text input for sentiment classification.\n",
    "\n",
    "- `emotion_in_tweet_is_directed_at`: Identifies the target entity (e.g., Apple, Google) of the emotion expressed in the tweet.\n",
    "\n",
    "- `is_there_an_emotion_directed_at_a_brand_or_product`: A binary label indicating whether the tweet conveys an emotion toward a brand or product, used as the classification target.\n"
   ]
  },
  {
   "cell_type": "code",
   "execution_count": 1,
   "metadata": {},
   "outputs": [
    {
     "name": "stderr",
     "output_type": "stream",
     "text": [
      "[nltk_data] Downloading package punkt_tab to\n",
      "[nltk_data]     C:\\Users\\user\\AppData\\Roaming\\nltk_data...\n",
      "[nltk_data]   Package punkt_tab is already up-to-date!\n",
      "[nltk_data] Downloading package wordnet to\n",
      "[nltk_data]     C:\\Users\\user\\AppData\\Roaming\\nltk_data...\n",
      "[nltk_data]   Package wordnet is already up-to-date!\n"
     ]
    },
    {
     "data": {
      "text/plain": [
       "True"
      ]
     },
     "execution_count": 1,
     "metadata": {},
     "output_type": "execute_result"
    }
   ],
   "source": [
    "#import libraries\n",
    "import nltk\n",
    "import pandas as pd\n",
    "import re\n",
    "from sklearn.feature_extraction.text import TfidfVectorizer\n",
    "from sklearn.model_selection import train_test_split\n",
    "from sklearn.linear_model import LogisticRegression\n",
    "from sklearn.ensemble import RandomForestClassifier\n",
    "from sklearn.metrics import classification_report, confusion_matrix\n",
    "nltk.download('punkt_tab')\n",
    "nltk.download('wordnet')"
   ]
  },
  {
   "cell_type": "markdown",
   "metadata": {},
   "source": [
    "## Data loading and inspection"
   ]
  },
  {
   "cell_type": "markdown",
   "metadata": {},
   "source": [
    "This stage will involve loading the csv dataset and interact with it by getting to know the info,summarry statistics,missing values and handling them."
   ]
  },
  {
   "cell_type": "code",
   "execution_count": 2,
   "metadata": {},
   "outputs": [
    {
     "name": "stdout",
     "output_type": "stream",
     "text": [
      "index.ipynb\n",
      "judge-1377884607_tweet_product_company.csv\n"
     ]
    }
   ],
   "source": [
    "!ls"
   ]
  },
  {
   "cell_type": "code",
   "execution_count": 3,
   "metadata": {},
   "outputs": [
    {
     "data": {
      "text/html": [
       "<div>\n",
       "<style scoped>\n",
       "    .dataframe tbody tr th:only-of-type {\n",
       "        vertical-align: middle;\n",
       "    }\n",
       "\n",
       "    .dataframe tbody tr th {\n",
       "        vertical-align: top;\n",
       "    }\n",
       "\n",
       "    .dataframe thead th {\n",
       "        text-align: right;\n",
       "    }\n",
       "</style>\n",
       "<table border=\"1\" class=\"dataframe\">\n",
       "  <thead>\n",
       "    <tr style=\"text-align: right;\">\n",
       "      <th></th>\n",
       "      <th>tweet_text</th>\n",
       "      <th>emotion_in_tweet_is_directed_at</th>\n",
       "      <th>is_there_an_emotion_directed_at_a_brand_or_product</th>\n",
       "    </tr>\n",
       "  </thead>\n",
       "  <tbody>\n",
       "    <tr>\n",
       "      <th>0</th>\n",
       "      <td>.@wesley83 I have a 3G iPhone. After 3 hrs twe...</td>\n",
       "      <td>iPhone</td>\n",
       "      <td>Negative emotion</td>\n",
       "    </tr>\n",
       "    <tr>\n",
       "      <th>1</th>\n",
       "      <td>@jessedee Know about @fludapp ? Awesome iPad/i...</td>\n",
       "      <td>iPad or iPhone App</td>\n",
       "      <td>Positive emotion</td>\n",
       "    </tr>\n",
       "    <tr>\n",
       "      <th>2</th>\n",
       "      <td>@swonderlin Can not wait for #iPad 2 also. The...</td>\n",
       "      <td>iPad</td>\n",
       "      <td>Positive emotion</td>\n",
       "    </tr>\n",
       "    <tr>\n",
       "      <th>3</th>\n",
       "      <td>@sxsw I hope this year's festival isn't as cra...</td>\n",
       "      <td>iPad or iPhone App</td>\n",
       "      <td>Negative emotion</td>\n",
       "    </tr>\n",
       "    <tr>\n",
       "      <th>4</th>\n",
       "      <td>@sxtxstate great stuff on Fri #SXSW: Marissa M...</td>\n",
       "      <td>Google</td>\n",
       "      <td>Positive emotion</td>\n",
       "    </tr>\n",
       "  </tbody>\n",
       "</table>\n",
       "</div>"
      ],
      "text/plain": [
       "                                          tweet_text  \\\n",
       "0  .@wesley83 I have a 3G iPhone. After 3 hrs twe...   \n",
       "1  @jessedee Know about @fludapp ? Awesome iPad/i...   \n",
       "2  @swonderlin Can not wait for #iPad 2 also. The...   \n",
       "3  @sxsw I hope this year's festival isn't as cra...   \n",
       "4  @sxtxstate great stuff on Fri #SXSW: Marissa M...   \n",
       "\n",
       "  emotion_in_tweet_is_directed_at  \\\n",
       "0                          iPhone   \n",
       "1              iPad or iPhone App   \n",
       "2                            iPad   \n",
       "3              iPad or iPhone App   \n",
       "4                          Google   \n",
       "\n",
       "  is_there_an_emotion_directed_at_a_brand_or_product  \n",
       "0                                   Negative emotion  \n",
       "1                                   Positive emotion  \n",
       "2                                   Positive emotion  \n",
       "3                                   Negative emotion  \n",
       "4                                   Positive emotion  "
      ]
     },
     "execution_count": 3,
     "metadata": {},
     "output_type": "execute_result"
    }
   ],
   "source": [
    "#load the datset and check the first 5 rows\n",
    "df=pd.read_csv('judge-1377884607_tweet_product_company.csv',encoding=\"latin-1\")\n",
    "df.head()"
   ]
  },
  {
   "cell_type": "code",
   "execution_count": 4,
   "metadata": {},
   "outputs": [
    {
     "data": {
      "text/html": [
       "<div>\n",
       "<style scoped>\n",
       "    .dataframe tbody tr th:only-of-type {\n",
       "        vertical-align: middle;\n",
       "    }\n",
       "\n",
       "    .dataframe tbody tr th {\n",
       "        vertical-align: top;\n",
       "    }\n",
       "\n",
       "    .dataframe thead th {\n",
       "        text-align: right;\n",
       "    }\n",
       "</style>\n",
       "<table border=\"1\" class=\"dataframe\">\n",
       "  <thead>\n",
       "    <tr style=\"text-align: right;\">\n",
       "      <th></th>\n",
       "      <th>tweet_text</th>\n",
       "      <th>emotion_in_tweet_is_directed_at</th>\n",
       "      <th>is_there_an_emotion_directed_at_a_brand_or_product</th>\n",
       "    </tr>\n",
       "  </thead>\n",
       "  <tbody>\n",
       "    <tr>\n",
       "      <th>count</th>\n",
       "      <td>9092</td>\n",
       "      <td>3291</td>\n",
       "      <td>9093</td>\n",
       "    </tr>\n",
       "    <tr>\n",
       "      <th>unique</th>\n",
       "      <td>9065</td>\n",
       "      <td>9</td>\n",
       "      <td>4</td>\n",
       "    </tr>\n",
       "    <tr>\n",
       "      <th>top</th>\n",
       "      <td>RT @mention Marissa Mayer: Google Will Connect...</td>\n",
       "      <td>iPad</td>\n",
       "      <td>No emotion toward brand or product</td>\n",
       "    </tr>\n",
       "    <tr>\n",
       "      <th>freq</th>\n",
       "      <td>5</td>\n",
       "      <td>946</td>\n",
       "      <td>5389</td>\n",
       "    </tr>\n",
       "  </tbody>\n",
       "</table>\n",
       "</div>"
      ],
      "text/plain": [
       "                                               tweet_text  \\\n",
       "count                                                9092   \n",
       "unique                                               9065   \n",
       "top     RT @mention Marissa Mayer: Google Will Connect...   \n",
       "freq                                                    5   \n",
       "\n",
       "       emotion_in_tweet_is_directed_at  \\\n",
       "count                             3291   \n",
       "unique                               9   \n",
       "top                               iPad   \n",
       "freq                               946   \n",
       "\n",
       "       is_there_an_emotion_directed_at_a_brand_or_product  \n",
       "count                                                9093  \n",
       "unique                                                  4  \n",
       "top                    No emotion toward brand or product  \n",
       "freq                                                 5389  "
      ]
     },
     "execution_count": 4,
     "metadata": {},
     "output_type": "execute_result"
    }
   ],
   "source": [
    "#summary statistics\n",
    "df.describe()"
   ]
  },
  {
   "cell_type": "code",
   "execution_count": 5,
   "metadata": {
    "scrolled": true
   },
   "outputs": [
    {
     "name": "stdout",
     "output_type": "stream",
     "text": [
      "<class 'pandas.core.frame.DataFrame'>\n",
      "RangeIndex: 9093 entries, 0 to 9092\n",
      "Data columns (total 3 columns):\n",
      " #   Column                                              Non-Null Count  Dtype \n",
      "---  ------                                              --------------  ----- \n",
      " 0   tweet_text                                          9092 non-null   object\n",
      " 1   emotion_in_tweet_is_directed_at                     3291 non-null   object\n",
      " 2   is_there_an_emotion_directed_at_a_brand_or_product  9093 non-null   object\n",
      "dtypes: object(3)\n",
      "memory usage: 213.2+ KB\n"
     ]
    }
   ],
   "source": [
    "#checking info \n",
    "df.info()"
   ]
  },
  {
   "cell_type": "markdown",
   "metadata": {},
   "source": [
    "From the above output we can see that their are 3 features with 9093 total entries but feature with index id 1 has some missing values which will go ahead and drop them"
   ]
  },
  {
   "cell_type": "markdown",
   "metadata": {},
   "source": [
    "Let us rename the columns for easy readability and understanding"
   ]
  },
  {
   "cell_type": "code",
   "execution_count": 6,
   "metadata": {},
   "outputs": [],
   "source": [
    "#renaming columns names\n",
    "df.rename(columns={\n",
    "    'tweet_text': 'tweet',\n",
    "    'emotion_in_tweet_is_directed_at': 'brand_target',\n",
    "    'is_there_an_emotion_directed_at_a_brand_or_product': 'emotion_flag'\n",
    "}, inplace=True)\n"
   ]
  },
  {
   "cell_type": "code",
   "execution_count": 7,
   "metadata": {},
   "outputs": [
    {
     "data": {
      "text/plain": [
       "No emotion toward brand or product    5389\n",
       "Positive emotion                      2978\n",
       "Negative emotion                       570\n",
       "I can't tell                           156\n",
       "Name: emotion_flag, dtype: int64"
      ]
     },
     "execution_count": 7,
     "metadata": {},
     "output_type": "execute_result"
    }
   ],
   "source": [
    "## checking unique counts\n",
    "df['emotion_flag'].value_counts()"
   ]
  },
  {
   "cell_type": "markdown",
   "metadata": {},
   "source": [
    "From the above output its clear that we have four classes,for our binary classification we will focus on postive and negative emotion"
   ]
  },
  {
   "cell_type": "code",
   "execution_count": 8,
   "metadata": {},
   "outputs": [],
   "source": [
    "def clean_data(df):\n",
    "    # Check for missing values\n",
    "    print(\"Missing values before dropping:\")\n",
    "    print(df.isnull().sum())\n",
    "    print(f\"Total missing values: {df.isnull().sum().sum()}\")\n",
    "    print(\"-\" * 50)\n",
    "\n",
    "    # Drop missing values\n",
    "    df_clean = df.dropna()\n",
    "    print(\"Missing values dropped.\")\n",
    "    print(f\"Remaining missing values: {df_clean.isnull().sum().sum()}\")\n",
    "    print(\"-\" * 50)\n",
    "\n",
    "    # Check for duplicates\n",
    "    num_duplicates = df_clean.duplicated().sum()\n",
    "    print(f\"Duplicate rows before dropping: {num_duplicates}\")\n",
    "\n",
    "    # Drop duplicates\n",
    "    df_clean = df_clean.drop_duplicates()\n",
    "    print(\"Duplicates dropped.\")\n",
    "    print(f\"Remaining duplicate rows: {df_clean.duplicated().sum()}\")\n",
    "    print(\"-\" * 50)\n",
    "\n",
    "    return df_clean\n"
   ]
  },
  {
   "cell_type": "code",
   "execution_count": 9,
   "metadata": {},
   "outputs": [
    {
     "name": "stdout",
     "output_type": "stream",
     "text": [
      "Missing values before dropping:\n",
      "tweet              1\n",
      "brand_target    5802\n",
      "emotion_flag       0\n",
      "dtype: int64\n",
      "Total missing values: 5803\n",
      "--------------------------------------------------\n",
      "Missing values dropped.\n",
      "Remaining missing values: 0\n",
      "--------------------------------------------------\n",
      "Duplicate rows before dropping: 9\n",
      "Duplicates dropped.\n",
      "Remaining duplicate rows: 0\n",
      "--------------------------------------------------\n"
     ]
    },
    {
     "data": {
      "text/html": [
       "<div>\n",
       "<style scoped>\n",
       "    .dataframe tbody tr th:only-of-type {\n",
       "        vertical-align: middle;\n",
       "    }\n",
       "\n",
       "    .dataframe tbody tr th {\n",
       "        vertical-align: top;\n",
       "    }\n",
       "\n",
       "    .dataframe thead th {\n",
       "        text-align: right;\n",
       "    }\n",
       "</style>\n",
       "<table border=\"1\" class=\"dataframe\">\n",
       "  <thead>\n",
       "    <tr style=\"text-align: right;\">\n",
       "      <th></th>\n",
       "      <th>tweet</th>\n",
       "      <th>brand_target</th>\n",
       "      <th>emotion_flag</th>\n",
       "    </tr>\n",
       "  </thead>\n",
       "  <tbody>\n",
       "    <tr>\n",
       "      <th>0</th>\n",
       "      <td>.@wesley83 I have a 3G iPhone. After 3 hrs twe...</td>\n",
       "      <td>iPhone</td>\n",
       "      <td>Negative emotion</td>\n",
       "    </tr>\n",
       "    <tr>\n",
       "      <th>1</th>\n",
       "      <td>@jessedee Know about @fludapp ? Awesome iPad/i...</td>\n",
       "      <td>iPad or iPhone App</td>\n",
       "      <td>Positive emotion</td>\n",
       "    </tr>\n",
       "    <tr>\n",
       "      <th>2</th>\n",
       "      <td>@swonderlin Can not wait for #iPad 2 also. The...</td>\n",
       "      <td>iPad</td>\n",
       "      <td>Positive emotion</td>\n",
       "    </tr>\n",
       "    <tr>\n",
       "      <th>3</th>\n",
       "      <td>@sxsw I hope this year's festival isn't as cra...</td>\n",
       "      <td>iPad or iPhone App</td>\n",
       "      <td>Negative emotion</td>\n",
       "    </tr>\n",
       "    <tr>\n",
       "      <th>4</th>\n",
       "      <td>@sxtxstate great stuff on Fri #SXSW: Marissa M...</td>\n",
       "      <td>Google</td>\n",
       "      <td>Positive emotion</td>\n",
       "    </tr>\n",
       "    <tr>\n",
       "      <th>...</th>\n",
       "      <td>...</td>\n",
       "      <td>...</td>\n",
       "      <td>...</td>\n",
       "    </tr>\n",
       "    <tr>\n",
       "      <th>9077</th>\n",
       "      <td>@mention your PR guy just convinced me to swit...</td>\n",
       "      <td>iPhone</td>\n",
       "      <td>Positive emotion</td>\n",
       "    </tr>\n",
       "    <tr>\n",
       "      <th>9079</th>\n",
       "      <td>&amp;quot;papyrus...sort of like the ipad&amp;quot; - ...</td>\n",
       "      <td>iPad</td>\n",
       "      <td>Positive emotion</td>\n",
       "    </tr>\n",
       "    <tr>\n",
       "      <th>9080</th>\n",
       "      <td>Diller says Google TV &amp;quot;might be run over ...</td>\n",
       "      <td>Other Google product or service</td>\n",
       "      <td>Negative emotion</td>\n",
       "    </tr>\n",
       "    <tr>\n",
       "      <th>9085</th>\n",
       "      <td>I've always used Camera+ for my iPhone b/c it ...</td>\n",
       "      <td>iPad or iPhone App</td>\n",
       "      <td>Positive emotion</td>\n",
       "    </tr>\n",
       "    <tr>\n",
       "      <th>9088</th>\n",
       "      <td>Ipad everywhere. #SXSW {link}</td>\n",
       "      <td>iPad</td>\n",
       "      <td>Positive emotion</td>\n",
       "    </tr>\n",
       "  </tbody>\n",
       "</table>\n",
       "<p>3282 rows × 3 columns</p>\n",
       "</div>"
      ],
      "text/plain": [
       "                                                  tweet  \\\n",
       "0     .@wesley83 I have a 3G iPhone. After 3 hrs twe...   \n",
       "1     @jessedee Know about @fludapp ? Awesome iPad/i...   \n",
       "2     @swonderlin Can not wait for #iPad 2 also. The...   \n",
       "3     @sxsw I hope this year's festival isn't as cra...   \n",
       "4     @sxtxstate great stuff on Fri #SXSW: Marissa M...   \n",
       "...                                                 ...   \n",
       "9077  @mention your PR guy just convinced me to swit...   \n",
       "9079  &quot;papyrus...sort of like the ipad&quot; - ...   \n",
       "9080  Diller says Google TV &quot;might be run over ...   \n",
       "9085  I've always used Camera+ for my iPhone b/c it ...   \n",
       "9088                      Ipad everywhere. #SXSW {link}   \n",
       "\n",
       "                         brand_target      emotion_flag  \n",
       "0                              iPhone  Negative emotion  \n",
       "1                  iPad or iPhone App  Positive emotion  \n",
       "2                                iPad  Positive emotion  \n",
       "3                  iPad or iPhone App  Negative emotion  \n",
       "4                              Google  Positive emotion  \n",
       "...                               ...               ...  \n",
       "9077                           iPhone  Positive emotion  \n",
       "9079                             iPad  Positive emotion  \n",
       "9080  Other Google product or service  Negative emotion  \n",
       "9085               iPad or iPhone App  Positive emotion  \n",
       "9088                             iPad  Positive emotion  \n",
       "\n",
       "[3282 rows x 3 columns]"
      ]
     },
     "execution_count": 9,
     "metadata": {},
     "output_type": "execute_result"
    }
   ],
   "source": [
    "df = clean_data(df)\n",
    "df\n"
   ]
  },
  {
   "cell_type": "markdown",
   "metadata": {},
   "source": [
    "## Exploratory Data Analysis"
   ]
  },
  {
   "cell_type": "markdown",
   "metadata": {},
   "source": [
    "In this stage we will undertake the following steps:\n",
    "\n",
    " i)Check for distribution of tweet lengths by visualzing number of characters in a tweet and also through a data frame.\n",
    " \n",
    " ii)Check for frequency and proportion of each emotion to check for class imbalances which is useful in modeling.\n",
    " \n",
    " iii)Check for emotion distribution by brand\n",
    " \n",
    " iv)Number of times brand has been mentioned/Brand frequency in descending order\n"
   ]
  },
  {
   "cell_type": "markdown",
   "metadata": {},
   "source": [
    "#### i)checking for distribution of tweet length"
   ]
  },
  {
   "cell_type": "code",
   "execution_count": 10,
   "metadata": {},
   "outputs": [
    {
     "data": {
      "text/html": [
       "<div>\n",
       "<style scoped>\n",
       "    .dataframe tbody tr th:only-of-type {\n",
       "        vertical-align: middle;\n",
       "    }\n",
       "\n",
       "    .dataframe tbody tr th {\n",
       "        vertical-align: top;\n",
       "    }\n",
       "\n",
       "    .dataframe thead th {\n",
       "        text-align: right;\n",
       "    }\n",
       "</style>\n",
       "<table border=\"1\" class=\"dataframe\">\n",
       "  <thead>\n",
       "    <tr style=\"text-align: right;\">\n",
       "      <th></th>\n",
       "      <th>tweet</th>\n",
       "      <th>brand_target</th>\n",
       "      <th>emotion_flag</th>\n",
       "      <th>chars</th>\n",
       "      <th>words</th>\n",
       "      <th>sentences</th>\n",
       "    </tr>\n",
       "  </thead>\n",
       "  <tbody>\n",
       "    <tr>\n",
       "      <th>0</th>\n",
       "      <td>.@wesley83 I have a 3G iPhone. After 3 hrs twe...</td>\n",
       "      <td>iPhone</td>\n",
       "      <td>Negative emotion</td>\n",
       "      <td>127</td>\n",
       "      <td>32</td>\n",
       "      <td>5</td>\n",
       "    </tr>\n",
       "    <tr>\n",
       "      <th>1</th>\n",
       "      <td>@jessedee Know about @fludapp ? Awesome iPad/i...</td>\n",
       "      <td>iPad or iPhone App</td>\n",
       "      <td>Positive emotion</td>\n",
       "      <td>139</td>\n",
       "      <td>29</td>\n",
       "      <td>3</td>\n",
       "    </tr>\n",
       "    <tr>\n",
       "      <th>2</th>\n",
       "      <td>@swonderlin Can not wait for #iPad 2 also. The...</td>\n",
       "      <td>iPad</td>\n",
       "      <td>Positive emotion</td>\n",
       "      <td>79</td>\n",
       "      <td>20</td>\n",
       "      <td>2</td>\n",
       "    </tr>\n",
       "    <tr>\n",
       "      <th>3</th>\n",
       "      <td>@sxsw I hope this year's festival isn't as cra...</td>\n",
       "      <td>iPad or iPhone App</td>\n",
       "      <td>Negative emotion</td>\n",
       "      <td>82</td>\n",
       "      <td>21</td>\n",
       "      <td>2</td>\n",
       "    </tr>\n",
       "    <tr>\n",
       "      <th>4</th>\n",
       "      <td>@sxtxstate great stuff on Fri #SXSW: Marissa M...</td>\n",
       "      <td>Google</td>\n",
       "      <td>Positive emotion</td>\n",
       "      <td>131</td>\n",
       "      <td>29</td>\n",
       "      <td>1</td>\n",
       "    </tr>\n",
       "  </tbody>\n",
       "</table>\n",
       "</div>"
      ],
      "text/plain": [
       "                                               tweet        brand_target  \\\n",
       "0  .@wesley83 I have a 3G iPhone. After 3 hrs twe...              iPhone   \n",
       "1  @jessedee Know about @fludapp ? Awesome iPad/i...  iPad or iPhone App   \n",
       "2  @swonderlin Can not wait for #iPad 2 also. The...                iPad   \n",
       "3  @sxsw I hope this year's festival isn't as cra...  iPad or iPhone App   \n",
       "4  @sxtxstate great stuff on Fri #SXSW: Marissa M...              Google   \n",
       "\n",
       "       emotion_flag  chars  words  sentences  \n",
       "0  Negative emotion    127     32          5  \n",
       "1  Positive emotion    139     29          3  \n",
       "2  Positive emotion     79     20          2  \n",
       "3  Negative emotion     82     21          2  \n",
       "4  Positive emotion    131     29          1  "
      ]
     },
     "execution_count": 10,
     "metadata": {},
     "output_type": "execute_result"
    }
   ],
   "source": [
    "def generate_columns(df):\n",
    "    df['chars'] = df['tweet'].apply(len)\n",
    "    df['words'] = df['tweet'].apply(lambda x: len(nltk.word_tokenize(x)))\n",
    "    df['sentences'] = df['tweet'].apply(lambda x: len(nltk.sent_tokenize(x)))\n",
    "    return df\n",
    "\n",
    "# apply to df\n",
    "df = generate_columns(df)\n",
    "\n",
    "# show first 10 rows\n",
    "df.head()\n"
   ]
  },
  {
   "cell_type": "markdown",
   "metadata": {},
   "source": [
    "The above code defines and applies a function called generate_columns that adds three new features to the dataset based on the text of the tweets.\n",
    "\n",
    "What the function does:\n",
    "\n",
    "-`chars`: Counts the number of characters in each tweet.\n",
    "\n",
    "-`words`: Counts the number of words in each tweet using NLTK’s word_tokenize.\n",
    "\n",
    "-`sentences`: Counts the number of sentences in each tweet using NLTK’s sent_tokenize.\n",
    "\n",
    "These features help describe the structure and length of the tweets,let us visualize below"
   ]
  },
  {
   "cell_type": "code",
   "execution_count": 11,
   "metadata": {},
   "outputs": [
    {
     "data": {
      "image/png": "[encoded data removed]",
      "text/plain": [
       "<Figure size 432x288 with 1 Axes>"
      ]
     },
     "metadata": {
      "needs_background": "light"
     },
     "output_type": "display_data"
    }
   ],
   "source": [
    "import matplotlib.pyplot as plt\n",
    "\n",
    "df['tweet'].apply(len).hist()\n",
    "plt.xlabel(\"Number of characters in tweet\")\n",
    "plt.ylabel(\"Frequency\")\n",
    "plt.title(\"Distribution of Tweet Lengths (in characters)\")\n",
    "plt.show()\n",
    "\n"
   ]
  },
  {
   "cell_type": "markdown",
   "metadata": {},
   "source": [
    "The above histogram shows that the data is roughly normally distributed but positively skewed to the right as its tail is longer than the left.The peak mode is around the middle right of the x axis range.(peak 120 characters in a tweet)"
   ]
  },
  {
   "cell_type": "markdown",
   "metadata": {},
   "source": [
    "#### ii) Checking for frequency and proportion of each emotion"
   ]
  },
  {
   "cell_type": "code",
   "execution_count": 12,
   "metadata": {},
   "outputs": [
    {
     "data": {
      "text/plain": [
       "<AxesSubplot:>"
      ]
     },
     "execution_count": 12,
     "metadata": {},
     "output_type": "execute_result"
    },
    {
     "data": {
      "image/png": "[encoded data removed]",
      "text/plain": [
       "<Figure size 432x288 with 1 Axes>"
      ]
     },
     "metadata": {
      "needs_background": "light"
     },
     "output_type": "display_data"
    }
   ],
   "source": [
    "df['emotion_flag'].value_counts(normalize=True).plot(kind='bar')\n"
   ]
  },
  {
   "cell_type": "markdown",
   "metadata": {},
   "source": [
    "From the above output we can see that most tweets are those that contain positive emotion we will later check to see how these different emotions are directed towards google and apple products.From the output also we can see their some class imbalances."
   ]
  },
  {
   "cell_type": "markdown",
   "metadata": {},
   "source": [
    "#### iii) Emotions Distribution by brand\n",
    "We have already checked the overall emotion distribution now lets check,emotional distribution towards different brands using a stacked bar chart"
   ]
  },
  {
   "cell_type": "code",
   "execution_count": 13,
   "metadata": {},
   "outputs": [
    {
     "data": {
      "image/png": "[encoded data removed]",
      "text/plain": [
       "<Figure size 576x432 with 1 Axes>"
      ]
     },
     "metadata": {
      "needs_background": "light"
     },
     "output_type": "display_data"
    }
   ],
   "source": [
    "import pandas as pd\n",
    "import matplotlib.pyplot as plt\n",
    "\n",
    "# compute counts of emotion per brand\n",
    "ct = pd.crosstab(df['brand_target'], df['emotion_flag'])\n",
    "\n",
    "# plot\n",
    "ct.plot(kind='bar', stacked=True, figsize=(8,6))\n",
    "plt.xlabel(\"Brand\")\n",
    "plt.ylabel(\"Number of Tweets\")\n",
    "plt.title(\"Emotion Distribution by Brand\")\n",
    "plt.legend(title=\"Emotion\")\n",
    "plt.show()\n"
   ]
  },
  {
   "cell_type": "markdown",
   "metadata": {},
   "source": [
    "#### iv) Brand frequency in descending order\n",
    "This checks the number of times the brand of item has been mentioned overall in this dataset, we will also visualize the output in terms of average brand mentions in the cells following below"
   ]
  },
  {
   "cell_type": "code",
   "execution_count": 14,
   "metadata": {},
   "outputs": [],
   "source": [
    "brand_counts = df['brand_target'].value_counts().to_dict()\n",
    "df['brand_freq'] = df['brand_target'].map(brand_counts)\n"
   ]
  },
  {
   "cell_type": "code",
   "execution_count": 15,
   "metadata": {},
   "outputs": [
    {
     "data": {
      "text/plain": [
       "brand_target\n",
       "iPad                               945\n",
       "Apple                              659\n",
       "iPad or iPhone App                 469\n",
       "Google                             428\n",
       "iPhone                             296\n",
       "Other Google product or service    293\n",
       "Android App                         80\n",
       "Android                             77\n",
       "Other Apple product or service      35\n",
       "Name: brand_freq, dtype: int64"
      ]
     },
     "execution_count": 15,
     "metadata": {},
     "output_type": "execute_result"
    }
   ],
   "source": [
    "df.groupby('brand_target')['brand_freq'].mean().sort_values(ascending=False)"
   ]
  },
  {
   "cell_type": "code",
   "execution_count": 16,
   "metadata": {},
   "outputs": [
    {
     "data": {
      "image/png": "[encoded data removed]",
      "text/plain": [
       "<Figure size 720x432 with 1 Axes>"
      ]
     },
     "metadata": {
      "needs_background": "light"
     },
     "output_type": "display_data"
    }
   ],
   "source": [
    "import matplotlib.pyplot as plt\n",
    "\n",
    "# Prepare data\n",
    "brand_freq_means = df.groupby('brand_target')['brand_freq'].mean().sort_values(ascending=False)\n",
    "\n",
    "# Plot histogram\n",
    "plt.figure(figsize=(10,6))\n",
    "brand_freq_means.plot(kind='bar', color='teal')\n",
    "plt.title('Average Brand Mention Frequency')\n",
    "plt.xlabel('Brand')\n",
    "plt.ylabel('Frequency')\n",
    "plt.xticks(rotation=45)\n",
    "plt.tight_layout()\n",
    "plt.show()\n"
   ]
  },
  {
   "cell_type": "markdown",
   "metadata": {},
   "source": [
    "## Data cleaning and Preprocessing"
   ]
  },
  {
   "cell_type": "markdown",
   "metadata": {},
   "source": [
    "With the help of the function below i will perform several cleaning and preprocessing steps:\n",
    "\n",
    "* Remove URLs: Removes links (e.g., http://... or www...) from the text.\n",
    "\n",
    "* Remove mentions & hashtags: Removes usernames (e.g., @user) and hashtags (e.g., #topic).\n",
    "\n",
    "* Remove punctuation & numbers: Keeps only alphabetic characters and spaces.\n",
    "\n",
    "* Lowercase text: Converts all characters to lowercase for consistency.\n",
    "\n",
    "* Remove extra spaces: Replaces multiple spaces with a single space and strips leading/trailing spaces.\n",
    "\n",
    "* Expand contractions: Converts common contractions (e.g., can’t → cannot, don’t → do not).\n",
    "\n",
    "* Remove stopwords: Eliminates common English stopwords (e.g., the, is, and, at) which may not add value to sentiment prediction.\n",
    "\n",
    "* Lemmatize words: Reduces words to their base form (e.g., running → run, better → good).\n"
   ]
  },
  {
   "cell_type": "code",
   "execution_count": 17,
   "metadata": {},
   "outputs": [],
   "source": [
    "from nltk.corpus import stopwords\n",
    "from nltk.stem import WordNetLemmatizer\n",
    "\n",
    "# data cleaning function\n",
    "def clean_data(text):\n",
    "    text = re.sub(r'http\\S+|www.\\S+', '', text)          # Remove URLs\n",
    "    text = re.sub(r'@\\w+|#\\w+', '', text)                # Remove mentions/hashtags\n",
    "    text = re.sub(r'[^A-Za-z\\s]', '', text)              # Fix regex range\n",
    "    text = text.lower()\n",
    "    text = re.sub(r'\\s+', ' ', text).strip()\n",
    "\n",
    "    # Contraction handling\n",
    "    text = re.sub(r\"can't\", \"cannot\", text)\n",
    "    text = re.sub(r\"n't\", \" not\", text)\n",
    "    text = re.sub(r\"'re\", \" are\", text)\n",
    "\n",
    "    # Remove stopwords\n",
    "    stop_words = set(stopwords.words('english'))\n",
    "    text = ' '.join([word for word in text.split() if word not in stop_words])\n",
    "\n",
    "    # Lemmatize\n",
    "    lemmatizer = WordNetLemmatizer()\n",
    "    text = ' '.join([lemmatizer.lemmatize(word) for word in text.split()])\n",
    "    \n",
    "    return text\n"
   ]
  },
  {
   "cell_type": "code",
   "execution_count": 18,
   "metadata": {},
   "outputs": [],
   "source": [
    "df['tweet_cleaned'] = df['tweet'].apply(clean_data)\n"
   ]
  },
  {
   "cell_type": "markdown",
   "metadata": {},
   "source": [
    "### label encoding"
   ]
  },
  {
   "cell_type": "markdown",
   "metadata": {},
   "source": [
    "Here i seek to convert the sentiment label,\"emotional_flag\" into numerical values for binary classification by:\n",
    "* Filtering the dataset and Keeping only rows where emotion_flag is either 'Positive emotion' or 'Negative emotion'.\n",
    "* Encoding the label and  mapping;\n",
    "      Positive emotion=1\n",
    "      Negative emotion=2\n",
    "\n",
    "\n",
    "\n"
   ]
  },
  {
   "cell_type": "code",
   "execution_count": 19,
   "metadata": {},
   "outputs": [],
   "source": [
    "#label encoding the emotion_flag target\n",
    "df = df[df['emotion_flag'].isin(['Positive emotion', 'Negative emotion'])].copy()\n",
    "df['label'] = df['emotion_flag'].map({'Positive emotion': 1, 'Negative emotion': 0})\n"
   ]
  },
  {
   "cell_type": "markdown",
   "metadata": {},
   "source": [
    "#### Splitting data into training and testing\n",
    "We going to split the data into training and testing sets to prepare for model training and evaluation by using the cleaned tweets  as the input data and the newly created label and uses a random state of 42 for reproducibility"
   ]
  },
  {
   "cell_type": "code",
   "execution_count": 20,
   "metadata": {},
   "outputs": [],
   "source": [
    "X_train, X_test, y_train, y_test = train_test_split(\n",
    "    df['tweet_cleaned'], df['label'],\n",
    "    test_size=0.2, stratify=df['label'], random_state=42\n",
    ")\n"
   ]
  },
  {
   "cell_type": "code",
   "execution_count": 21,
   "metadata": {},
   "outputs": [
    {
     "name": "stdout",
     "output_type": "stream",
     "text": [
      "X_train shape: (2545,)\n",
      "X_test shape: (637,)\n",
      "y_train shape: (2545,)\n",
      "y_test shape: (637,)\n"
     ]
    }
   ],
   "source": [
    "#checking the shape \n",
    "print(\"X_train shape:\", X_train.shape)\n",
    "print(\"X_test shape:\", X_test.shape)\n",
    "print(\"y_train shape:\", y_train.shape)\n",
    "print(\"y_test shape:\", y_test.shape)\n"
   ]
  },
  {
   "cell_type": "code",
   "execution_count": 22,
   "metadata": {},
   "outputs": [
    {
     "name": "stdout",
     "output_type": "stream",
     "text": [
      "Training set class distribution:\n",
      "1    0.837328\n",
      "0    0.162672\n",
      "Name: label, dtype: float64\n",
      "\n",
      "Test set class distribution:\n",
      "1    0.836735\n",
      "0    0.163265\n",
      "Name: label, dtype: float64\n"
     ]
    }
   ],
   "source": [
    "#checking proportions of classes\n",
    "print(\"Training set class distribution:\")\n",
    "print(y_train.value_counts(normalize=True))\n",
    "\n",
    "print(\"\\nTest set class distribution:\")\n",
    "print(y_test.value_counts(normalize=True))\n"
   ]
  },
  {
   "cell_type": "markdown",
   "metadata": {},
   "source": [
    "#### Performing vectorization \n",
    "We are going to convert the cleaned tweet text into numerical feature using the TF-IDF (Term Frequency–Inverse Document Frequency) technique, which captures the importance of words and word combinations in the tweets.\n",
    "\n",
    "The code below\n",
    "\n",
    "* Learns the vocabulary and term weights from the training data (fit_transform).\n",
    "\n",
    "* Applies the same transformation to the test data (transform) without leaking test information into training.\n",
    "\n",
    "*  Includes unigrams and bigrams (because of ngram_range=(1,2)) to capture more context.\n",
    "\n",
    "*  Limits to the top 5000 features to avoid overfitting and reduce computation.\n",
    "\n",
    "*  Removes common English stopwords which do not add meaningful information."
   ]
  },
  {
   "cell_type": "code",
   "execution_count": 23,
   "metadata": {},
   "outputs": [],
   "source": [
    "#TF-IDF on text on training data then tranform both sets\n",
    "vectorizer = TfidfVectorizer(ngram_range=(1,2), max_features=5000, stop_words='english')\n",
    "X_train_vec = vectorizer.fit_transform(X_train)\n",
    "X_test_vec = vectorizer.transform(X_test)\n",
    "\n",
    "\n"
   ]
  },
  {
   "cell_type": "markdown",
   "metadata": {},
   "source": [
    "## Modeling\n",
    "In modeling i am going to build a logistic regression model as our baseline model and there after try other models in a pipeline"
   ]
  },
  {
   "cell_type": "code",
   "execution_count": 29,
   "metadata": {},
   "outputs": [
    {
     "name": "stdout",
     "output_type": "stream",
     "text": [
      "              precision    recall  f1-score   support\n",
      "\n",
      "           0       0.47      0.62      0.54       104\n",
      "           1       0.92      0.86      0.89       533\n",
      "\n",
      "    accuracy                           0.83       637\n",
      "   macro avg       0.70      0.74      0.72       637\n",
      "weighted avg       0.85      0.83      0.83       637\n",
      "\n",
      "[[ 65  39]\n",
      " [ 72 461]]\n"
     ]
    }
   ],
   "source": [
    "from sklearn.pipeline import Pipeline\n",
    "from sklearn.linear_model import LogisticRegression\n",
    "from sklearn.metrics import classification_report, confusion_matrix\n",
    "\n",
    "# Pipeline with only classifier\n",
    "text_clf = Pipeline([\n",
    "    ('clf', LogisticRegression(\n",
    "        solver='liblinear', \n",
    "        random_state=42,\n",
    "        class_weight='balanced'\n",
    "    ))\n",
    "])\n",
    "\n",
    "# Fit the pipeline on already-vectorized data\n",
    "text_clf.fit(X_train_vec, y_train)\n",
    "\n",
    "# Predict\n",
    "y_pred = text_clf.predict(X_test_vec)\n",
    "\n",
    "# Evaluate\n",
    "print(classification_report(y_test, y_pred))\n",
    "print(confusion_matrix(y_test, y_pred))\n",
    "\n"
   ]
  },
  {
   "cell_type": "markdown",
   "metadata": {},
   "source": [
    "From the above output our logistic regression gathers an accuracy of 83% but favours class 1 you can tell by the higher precision of 92%.The F1 Score is 89 % for class 1 and 54% for class 0\n",
    "\n",
    "     *True Negatives (TN): 65\n",
    "\n",
    "     * False Positives (FP): 39\n",
    "\n",
    "     *False Negatives (FN): 72\n",
    "\n",
    "     *True Positives (TP): 461"
   ]
  },
  {
   "cell_type": "markdown",
   "metadata": {},
   "source": [
    "### Hyperparameter Tuning with Grid Search\n",
    "\n",
    "To optimize the Logistic Regression model, we performed hyperparameter tuning using GridSearchCV.  \n",
    "We tested different values of the regularization parameter `C` and the `class_weight` setting to find the combination that maximizes the F1-score as shown below\n",
    "\n",
    "The Grid Search evaluated the following hyperparameters:\n",
    "- `C`: Controls the strength of regularization (smaller values → stronger regularization). We tested values like 0.01, 0.1, 1, 10.\n",
    "- `class_weight`: Balances the classes to account for imbalances in the dataset. We tested both `None` and `'balanced'`.\n",
    "\n",
    "After evaluating all combinations using 5-fold cross-validation and F1-score as the metric, the best configuration found was:\n",
    "- **Best parameters:** `C=10`, `class_weight=None`\n",
    "- **Best cross-validated F1-score:** ~0.931\n",
    "\n",
    "This indicates that the model performed best without adjusting the class weights and with a relatively high `C` (less regularization), suggesting that the data does not require strong regularization and class balancing in this case.\n"
   ]
  },
  {
   "cell_type": "code",
   "execution_count": 28,
   "metadata": {},
   "outputs": [
    {
     "name": "stdout",
     "output_type": "stream",
     "text": [
      "Best parameters: {'C': 10, 'class_weight': None}\n",
      "Best F1-score: 0.9314508041739373\n"
     ]
    }
   ],
   "source": [
    "from sklearn.linear_model import LogisticRegression\n",
    "from sklearn.model_selection import GridSearchCV\n",
    "\n",
    "# Define the base model\n",
    "lr = LogisticRegression(max_iter=1000)\n",
    "\n",
    "# Define the parameter grid\n",
    "param_grid = {\n",
    "    'C': [0.01, 0.1, 1, 10],\n",
    "    'class_weight': [None, 'balanced']\n",
    "}\n",
    "\n",
    "# Create GridSearchCV\n",
    "grid = GridSearchCV(\n",
    "    estimator=lr,\n",
    "    param_grid=param_grid,\n",
    "    scoring='f1',\n",
    "    cv=5,\n",
    "    n_jobs=-1\n",
    ")\n",
    "\n",
    "# Fit to training data\n",
    "grid.fit(X_train_vec, y_train)\n",
    "\n",
    "# Best results\n",
    "print(\"Best parameters:\", grid.best_params_)\n",
    "print(\"Best F1-score:\", grid.best_score_)\n"
   ]
  },
  {
   "cell_type": "code",
   "execution_count": 30,
   "metadata": {},
   "outputs": [],
   "source": [
    "from sklearn.pipeline import Pipeline\n",
    "from sklearn.ensemble import RandomForestClassifier\n",
    "from sklearn.naive_bayes import MultinomialNB\n",
    "from xgboost import XGBClassifier\n",
    "from sklearn.feature_extraction.text import TfidfVectorizer\n",
    "\n",
    "# Shared vectorizer\n",
    "tfidf = TfidfVectorizer(preprocessor=clean_data,\n",
    "                        ngram_range=(1, 2),\n",
    "                        max_features=5000,\n",
    "                        stop_words='english')\n",
    "\n",
    "# Pipelines\n",
    "pipelines = {\n",
    "    'Random Forest': Pipeline([\n",
    "        ('tfidf', tfidf),\n",
    "        ('clf', RandomForestClassifier(n_estimators=100, class_weight='balanced', random_state=42))\n",
    "    ]),\n",
    "    'Naive Bayes': Pipeline([\n",
    "        ('tfidf', tfidf),\n",
    "        ('clf', MultinomialNB())\n",
    "    ]),\n",
    "    'XGBoost': Pipeline([\n",
    "        ('tfidf', tfidf),\n",
    "        ('clf', XGBClassifier(n_estimators=100, random_state=42, \n",
    "                              use_label_encoder=False, eval_metric='logloss'))\n",
    "    ])\n",
    "}\n"
   ]
  },
  {
   "cell_type": "code",
   "execution_count": 31,
   "metadata": {},
   "outputs": [
    {
     "name": "stdout",
     "output_type": "stream",
     "text": [
      "\n",
      "=== Random Forest ===\n"
     ]
    },
    {
     "name": "stderr",
     "output_type": "stream",
     "text": [
      "c:\\Users\\user\\anaconda3\\envs\\learn-env\\lib\\site-packages\\sklearn\\feature_extraction\\text.py:396: UserWarning: Your stop_words may be inconsistent with your preprocessing. Tokenizing the stop words generated tokens ['le'] not in stop_words.\n",
      "  warnings.warn(\n"
     ]
    },
    {
     "name": "stdout",
     "output_type": "stream",
     "text": [
      "              precision    recall  f1-score   support\n",
      "\n",
      "           0       0.79      0.26      0.39       104\n",
      "           1       0.87      0.99      0.93       533\n",
      "\n",
      "    accuracy                           0.87       637\n",
      "   macro avg       0.83      0.62      0.66       637\n",
      "weighted avg       0.86      0.87      0.84       637\n",
      "\n",
      "[[ 27  77]\n",
      " [  7 526]]\n",
      "\n",
      "=== Naive Bayes ===\n",
      "              precision    recall  f1-score   support\n",
      "\n",
      "           0       0.92      0.12      0.21       104\n",
      "           1       0.85      1.00      0.92       533\n",
      "\n",
      "    accuracy                           0.85       637\n",
      "   macro avg       0.89      0.56      0.56       637\n",
      "weighted avg       0.86      0.85      0.80       637\n",
      "\n",
      "[[ 12  92]\n",
      " [  1 532]]\n",
      "\n",
      "=== XGBoost ===\n",
      "[20:16:57] WARNING: C:\\Users\\Administrator\\workspace\\xgboost-win64_release_1.2.0\\src\\learner.cc:516: \n",
      "Parameters: { use_label_encoder } might not be used.\n",
      "\n",
      "  This may not be accurate due to some parameters are only used in language bindings but\n",
      "  passed down to XGBoost core.  Or some parameters are not used but slip through this\n",
      "  verification. Please open an issue if you find above cases.\n",
      "\n",
      "\n",
      "              precision    recall  f1-score   support\n",
      "\n",
      "           0       0.46      0.17      0.25       104\n",
      "           1       0.86      0.96      0.91       533\n",
      "\n",
      "    accuracy                           0.83       637\n",
      "   macro avg       0.66      0.57      0.58       637\n",
      "weighted avg       0.79      0.83      0.80       637\n",
      "\n",
      "[[ 18  86]\n",
      " [ 21 512]]\n"
     ]
    }
   ],
   "source": [
    "from sklearn.metrics import classification_report, confusion_matrix\n",
    "\n",
    "for name, pipeline in pipelines.items():\n",
    "    print(f\"\\n=== {name} ===\")\n",
    "    pipeline.fit(X_train, y_train)\n",
    "    y_pred = pipeline.predict(X_test)\n",
    "\n",
    "    print(classification_report(y_test, y_pred))\n",
    "    print(confusion_matrix(y_test, y_pred))"
   ]
  },
  {
   "cell_type": "markdown",
   "metadata": {},
   "source": [
    "### Model Comparison Results\n",
    "\n",
    "We compared three classifiers (Random Forest, Naive Bayes, XGBoost) for sentiment classification.  \n",
    "Below are their performances on the test set:\n",
    "\n",
    "| Model           | Accuracy | F1-score (class 0) | F1-score (class 1) |\n",
    "|-----------------|----------|--------------------|--------------------|\n",
    "| Random Forest   | 0.87     | 0.39               | 0.93               |\n",
    "| Naive Bayes     | 0.85     | 0.21               | 0.92               |\n",
    "| XGBoost         | 0.83     | 0.25               | 0.91               |\n",
    "\n",
    "**Observations:**\n",
    "- All models performed well in identifying class 1 (positive sentiment), with high recall and F1-scores.\n",
    "- Performance on class 0 (negative sentiment) was poor across all models, likely due to class imbalance.\n",
    "- Random Forest achieved the highest overall accuracy (87%) and best balance between precision & recall.\n",
    "\n",
    "**Next Steps:**\n",
    "- Explore techniques to address class imbalance, such as resampling or adjusting class weights.\n",
    "- Perform hyperparameter tuning to improve performance, particularly on class 0.\n",
    "\n"
   ]
  },
  {
   "cell_type": "markdown",
   "metadata": {},
   "source": [
    "## using grid search and hyperparameter tuning the 3 models"
   ]
  },
  {
   "cell_type": "code",
   "execution_count": 33,
   "metadata": {},
   "outputs": [
    {
     "name": "stdout",
     "output_type": "stream",
     "text": [
      "\n",
      " Tuning Random Forest...\n",
      "Fitting 5 folds for each of 48 candidates, totalling 240 fits\n",
      " Best RF params: {'class_weight': 'balanced', 'max_depth': 20, 'min_samples_leaf': 1, 'min_samples_split': 5, 'n_estimators': 100}\n",
      " Best RF F1 (class 0): 0.4892415252696556\n",
      "\n",
      " Tuning Naive Bayes...\n",
      "Fitting 5 folds for each of 3 candidates, totalling 15 fits\n",
      " Best NB params: {'alpha': 0.5}\n",
      " Best NB F1 (class 0): 0.3851099001409954\n",
      "\n",
      " Tuning XGBoost...\n",
      "Fitting 5 folds for each of 36 candidates, totalling 180 fits\n",
      "[20:34:45] WARNING: C:\\Users\\Administrator\\workspace\\xgboost-win64_release_1.2.0\\src\\learner.cc:516: \n",
      "Parameters: { use_label_encoder } might not be used.\n",
      "\n",
      "  This may not be accurate due to some parameters are only used in language bindings but\n",
      "  passed down to XGBoost core.  Or some parameters are not used but slip through this\n",
      "  verification. Please open an issue if you find above cases.\n",
      "\n",
      "\n",
      " Best XGB params: {'learning_rate': 0.1, 'max_depth': 10, 'n_estimators': 200, 'scale_pos_weight': 1}\n",
      " Best XGB F1 (class 0): 0.33130510903550636\n"
     ]
    }
   ],
   "source": [
    "from sklearn.model_selection import GridSearchCV\n",
    "from sklearn.metrics import f1_score, make_scorer\n",
    "from sklearn.ensemble import RandomForestClassifier\n",
    "from sklearn.naive_bayes import MultinomialNB\n",
    "from xgboost import XGBClassifier\n",
    "\n",
    "# Define scorer that focuses on class 0\n",
    "f1_class0 = make_scorer(f1_score, pos_label=0)\n",
    "\n",
    "# ==============================\n",
    "#  Random Forest\n",
    "# ==============================\n",
    "rf_param_grid = {\n",
    "    'n_estimators': [100, 200],\n",
    "    'max_depth': [None, 10, 20],\n",
    "    'min_samples_split': [2, 5],\n",
    "    'min_samples_leaf': [1, 2],\n",
    "    'class_weight': ['balanced', None]\n",
    "}\n",
    "\n",
    "rf_grid = GridSearchCV(\n",
    "    estimator=RandomForestClassifier(random_state=42),\n",
    "    param_grid=rf_param_grid,\n",
    "    scoring=f1_class0,\n",
    "    cv=5,\n",
    "    n_jobs=-1,\n",
    "    verbose=2\n",
    ")\n",
    "\n",
    "print(\"\\n Tuning Random Forest...\")\n",
    "rf_grid.fit(X_train_vec, y_train)\n",
    "print(\" Best RF params:\", rf_grid.best_params_)\n",
    "print(\" Best RF F1 (class 0):\", rf_grid.best_score_)\n",
    "\n",
    "\n",
    "# ==============================\n",
    "#  Naive Bayes\n",
    "# ==============================\n",
    "nb_param_grid = {\n",
    "    'alpha': [0.5, 1.0, 1.5]  # smoothing parameter\n",
    "}\n",
    "\n",
    "nb_grid = GridSearchCV(\n",
    "    estimator=MultinomialNB(),\n",
    "    param_grid=nb_param_grid,\n",
    "    scoring=f1_class0,\n",
    "    cv=5,\n",
    "    n_jobs=-1,\n",
    "    verbose=2\n",
    ")\n",
    "\n",
    "print(\"\\n Tuning Naive Bayes...\")\n",
    "nb_grid.fit(X_train_vec, y_train)\n",
    "print(\" Best NB params:\", nb_grid.best_params_)\n",
    "print(\" Best NB F1 (class 0):\", nb_grid.best_score_)\n",
    "\n",
    "\n",
    "# ==============================\n",
    "#  XGBoost\n",
    "# ==============================\n",
    "xgb_param_grid = {\n",
    "    'n_estimators': [100, 200],\n",
    "    'max_depth': [3, 6, 10],\n",
    "    'learning_rate': [0.01, 0.1],\n",
    "    'scale_pos_weight': [1, 5, 10]\n",
    "}\n",
    "\n",
    "xgb_grid = GridSearchCV(\n",
    "    estimator=XGBClassifier(use_label_encoder=False, eval_metric='logloss', random_state=42),\n",
    "    param_grid=xgb_param_grid,\n",
    "    scoring=f1_class0,\n",
    "    cv=5,\n",
    "    n_jobs=-1,\n",
    "    verbose=2\n",
    ")\n",
    "\n",
    "print(\"\\n Tuning XGBoost...\")\n",
    "xgb_grid.fit(X_train_vec, y_train)\n",
    "print(\" Best XGB params:\", xgb_grid.best_params_)\n",
    "print(\" Best XGB F1 (class 0):\", xgb_grid.best_score_)\n"
   ]
  },
  {
   "cell_type": "code",
   "execution_count": null,
   "metadata": {},
   "outputs": [],
   "source": []
  }
 ],
 "metadata": {
  "kernelspec": {
   "display_name": "learn-env",
   "language": "python",
   "name": "python3"
  },
  "language_info": {
   "codemirror_mode": {
    "name": "ipython",
    "version": 3
   },
   "file_extension": ".py",
   "mimetype": "text/x-python",
   "name": "python",
   "nbconvert_exporter": "python",
   "pygments_lexer": "ipython3",
   "version": "3.8.5"
  }
 },
 "nbformat": 4,
 "nbformat_minor": 4
}
